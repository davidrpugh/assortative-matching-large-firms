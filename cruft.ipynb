{
 "cells": [
  {
   "cell_type": "code",
   "execution_count": 1,
   "metadata": {
    "collapsed": false
   },
   "outputs": [],
   "source": [
    "%matplotlib inline"
   ]
  },
  {
   "cell_type": "code",
   "execution_count": 2,
   "metadata": {
    "collapsed": false
   },
   "outputs": [],
   "source": [
    "import matplotlib.pyplot as plt\n",
    "import numpy as np\n",
    "import sympy as sym\n",
    "\n",
    "import pycollocation\n",
    "\n",
    "import inputs\n",
    "import models\n",
    "import shooting"
   ]
  },
  {
   "cell_type": "markdown",
   "metadata": {},
   "source": [
    "Make sure working with version `0.2.3a0` of `pycollocation`..."
   ]
  },
  {
   "cell_type": "code",
   "execution_count": 13,
   "metadata": {
    "collapsed": false
   },
   "outputs": [
    {
     "data": {
      "text/plain": [
       "'0.2.3a0'"
      ]
     },
     "execution_count": 13,
     "metadata": {},
     "output_type": "execute_result"
    }
   ],
   "source": [
    "pycollocation.__version__"
   ]
  },
  {
   "cell_type": "markdown",
   "metadata": {},
   "source": [
    "## Worker skill and firm productivity are $\\sim U[a, b]$..."
   ]
  },
  {
   "cell_type": "code",
   "execution_count": 3,
   "metadata": {
    "collapsed": false
   },
   "outputs": [],
   "source": [
    "# define some workers skill\n",
    "x, a, b = sym.var('x, a, b')\n",
    "skill_cdf = (x - a) / (b - a)\n",
    "skill_params = {'a': 1.0, 'b': 2.0}\n",
    "skill_bounds = [skill_params['a'], skill_params['b']]\n",
    "\n",
    "workers = inputs.Input(var=x,\n",
    "                       cdf=skill_cdf,\n",
    "                       params=skill_params,\n",
    "                       bounds=skill_bounds,\n",
    "                       )\n",
    "\n",
    "# define some firms\n",
    "y = sym.var('y')\n",
    "productivity_cdf = (y - a) / (b - a)\n",
    "productivity_params = skill_params\n",
    "productivity_bounds = skill_bounds\n",
    "\n",
    "firms = inputs.Input(var=y,\n",
    "                     cdf=productivity_cdf,\n",
    "                     params=productivity_params,\n",
    "                     bounds=productivity_bounds,\n",
    "                     )"
   ]
  },
  {
   "cell_type": "markdown",
   "metadata": {},
   "source": [
    "## ...and production function is multiplicatively separable.\n",
    "A particularly attractive case arises under multiplicative separability of the form\n",
    "\n",
    "$$F(x, y, l, r) = A(x, y)B(l, r)$$\n",
    "\n",
    "In this case the condition for positive assortative matching can be written as \n",
    "\n",
    "$$\\frac{AA_{xy}}{A_xA_y}\\frac{BB_{lr}}{B_lB_r} \\ge 1$$\n",
    "\n",
    "If $B$ has constant elasticity of substitution form, then we obtain an even simpler condition\n",
    "\n",
    "$$\\frac{AA_{xy}}{A_xA_y} \\frac{1}{\\sigma_{lr}}\\ge 1$$\n",
    "\n",
    "where $\\sigma_{lr}$ is the elasticity of substitution between $l$ and $r$. \n",
    "\n",
    "Finally, if $A$ also has constant elasticity of substitution form, then we obtain an even simpler condition\n",
    "\n",
    "$$\\frac{1}{\\sigma_{xy}\\sigma_{lr}}\\ge 1 \\iff \\sigma_{xy}\\sigma_{lr} \\le 1$$\n",
    "\n",
    "where $\\sigma_{xy}$ is the elasticity of substitution between $x$ and $y$."
   ]
  },
  {
   "cell_type": "code",
   "execution_count": 4,
   "metadata": {
    "collapsed": false
   },
   "outputs": [],
   "source": [
    "# define symbolic expression for CES between x and y\n",
    "omega_A, sigma_A = sym.var('omega_A, sigma_A')\n",
    "A = ((omega_A * x**((sigma_A - 1) / sigma_A) + \n",
    "     (1 - omega_A) * y**((sigma_A - 1) / sigma_A))**(sigma_A / (sigma_A - 1))) \n",
    "\n",
    "# define symbolic expression for Cobb-Douglas between l and r\n",
    "l, r, omega_B, sigma_B = sym.var('l, r, omega_B, sigma_B')\n",
    "B = l**omega_B * r**(1 - omega_B)\n",
    "\n",
    "F = A * B"
   ]
  },
  {
   "cell_type": "markdown",
   "metadata": {},
   "source": [
    "# Example:\n",
    "\n",
    "More sophisticated production function that is not multiplicatively separable..."
   ]
  },
  {
   "cell_type": "code",
   "execution_count": 106,
   "metadata": {
    "collapsed": false
   },
   "outputs": [],
   "source": [
    "# define some workers skill\n",
    "x, mu1, sigma1 = sym.var('x, mu1, sigma1')\n",
    "skill_cdf = 0.5 + 0.5 * sym.erf((sym.log(x) - mu1) / sym.sqrt(2 * sigma1**2))\n",
    "skill_params = {'mu1': 0.0, 'sigma1': 1e0}\n",
    "skill_bounds = [1e-3, 50.0]\n",
    "\n",
    "workers = inputs.Input(var=x,\n",
    "                       cdf=skill_cdf,\n",
    "                       params=skill_params,\n",
    "                       bounds=skill_bounds,\n",
    "                       )\n",
    "\n",
    "# define some firms\n",
    "y, mu2, sigma2 = sym.var('y, mu2, sigma2')\n",
    "productivity_cdf = 0.5 + 0.5 * sym.erf((sym.log(y) - mu2) / sym.sqrt(2 * sigma2**2))\n",
    "productivity_params = {'mu2': 0.0, 'sigma2': 1e0}\n",
    "productivity_bounds = [1e-3, 50.0]\n",
    "\n",
    "firms = inputs.Input(var=y,\n",
    "                     cdf=productivity_cdf,\n",
    "                     params=productivity_params,\n",
    "                     bounds=productivity_bounds,\n",
    "                     )\n",
    "\n",
    "# define some valid model params\n",
    "F_params = {'eta': 0.89, 'kappa': 1.0, 'gamma': 0.54, 'rho': 0.24, 'A': 1.0, 'k': 1.0}\n",
    "\n",
    "# define a valid production function\n",
    "A, k, kappa, eta, rho, l, gamma, r = sym.var('A, k, kappa, eta, rho, l, gamma, r')\n",
    "F = r * A * kappa * eta * ((k * x)**rho + (1 - eta) * (y * (l / r))**rho)**(gamma / rho)\n",
    "\n",
    "model = models.Model('negative',\n",
    "                     workers=workers,\n",
    "                     firms=firms,\n",
    "                     production=F,\n",
    "                     params=F_params)"
   ]
  },
  {
   "cell_type": "code",
   "execution_count": 108,
   "metadata": {
    "collapsed": false
   },
   "outputs": [],
   "source": [
    "solver = solvers.ShootingSolver(model=model)"
   ]
  },
  {
   "cell_type": "code",
   "execution_count": 109,
   "metadata": {
    "collapsed": false
   },
   "outputs": [
    {
     "name": "stdout",
     "output_type": "stream",
     "text": [
      "Exhausted firms: initial guess of 0.5 for firm size is too low.\n"
     ]
    }
   ],
   "source": [
    "solver.solve(1e0, tol=1e-4, number_knots=10000, integrator='vode',\n",
    "             atol=1e-9, rtol=1e-6, check=True)"
   ]
  },
  {
   "cell_type": "code",
   "execution_count": 110,
   "metadata": {
    "collapsed": false
   },
   "outputs": [
    {
     "data": {
      "text/plain": [
       "False"
      ]
     },
     "execution_count": 110,
     "metadata": {},
     "output_type": "execute_result"
    }
   ],
   "source": [
    "solver.integrator.successful()"
   ]
  },
  {
   "cell_type": "code",
   "execution_count": 111,
   "metadata": {
    "collapsed": false
   },
   "outputs": [
    {
     "data": {
      "text/plain": [
       "array([[  1.00000000e-03,   5.00000000e+01,   7.50000000e-01,\n",
       "          6.25292214e-02,   1.02985470e-01],\n",
       "       [  6.00040004e-03,   4.91355141e+01,   2.93698995e-02,\n",
       "          6.50895813e-01,   1.02614135e-01],\n",
       "       [  1.10008001e-02,   1.87728995e+01,   6.10881218e-04,\n",
       "          8.73207163e+00,   9.34543423e-02],\n",
       "       [  1.34286568e-02,   2.61227847e+06,   1.98653860e+04,\n",
       "          1.04151668e-01,   1.79568793e+03]])"
      ]
     },
     "execution_count": 111,
     "metadata": {},
     "output_type": "execute_result"
    }
   ],
   "source": [
    "solver._solution"
   ]
  },
  {
   "cell_type": "code",
   "execution_count": 46,
   "metadata": {
    "collapsed": false
   },
   "outputs": [
    {
     "data": {
      "text/plain": [
       "50.0"
      ]
     },
     "execution_count": 46,
     "metadata": {},
     "output_type": "execute_result"
    }
   ],
   "source": [
    "integrat"
   ]
  },
  {
   "cell_type": "code",
   "execution_count": null,
   "metadata": {
    "collapsed": false
   },
   "outputs": [],
   "source": []
  }
 ],
 "metadata": {
  "kernelspec": {
   "display_name": "Python 2",
   "language": "python",
   "name": "python2"
  },
  "language_info": {
   "codemirror_mode": {
    "name": "ipython",
    "version": 2
   },
   "file_extension": ".py",
   "mimetype": "text/x-python",
   "name": "python",
   "nbconvert_exporter": "python",
   "pygments_lexer": "ipython2",
   "version": "2.7.9"
  }
 },
 "nbformat": 4,
 "nbformat_minor": 0
}
