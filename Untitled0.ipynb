{
 "metadata": {
  "name": ""
 },
 "nbformat": 3,
 "nbformat_minor": 0,
 "worksheets": [
  {
   "cells": [
    {
     "cell_type": "code",
     "collapsed": false,
     "input": [
      "%pylab inline"
     ],
     "language": "python",
     "metadata": {},
     "outputs": [
      {
       "output_type": "stream",
       "stream": "stdout",
       "text": [
        "Populating the interactive namespace from numpy and matplotlib\n"
       ]
      }
     ],
     "prompt_number": 8
    },
    {
     "cell_type": "code",
     "collapsed": false,
     "input": [
      "%load_ext autoreload\n",
      "%autoreload 2"
     ],
     "language": "python",
     "metadata": {},
     "outputs": [
      {
       "output_type": "stream",
       "stream": "stdout",
       "text": [
        "The autoreload extension is already loaded. To reload it, use:\n",
        "  %reload_ext autoreload\n"
       ]
      }
     ],
     "prompt_number": 9
    },
    {
     "cell_type": "code",
     "collapsed": false,
     "input": [
      "import sympy as sp\n",
      "import numpy as np\n",
      "import pandas as pd\n",
      "from scipy import integrate, interpolate, stats\n",
      "import matplotlib as mpl\n",
      "import matplotlib.pyplot as plt\n",
      "from mpl_toolkits.mplot3d import Axes3D\n",
      "import scikits.bvp_solver\n",
      "\n",
      "import eeckhout_kircher_2013\n",
      "\n",
      "# set print options\n",
      "np.set_printoptions(linewidth=180)\n",
      "pd.set_option('display.max_rows', 1000)"
     ],
     "language": "python",
     "metadata": {},
     "outputs": [],
     "prompt_number": 10
    },
    {
     "cell_type": "code",
     "collapsed": false,
     "input": [
      "def A(x, vec, params):\n",
      "    \"\"\"Inner production function.\"\"\" \n",
      "    sigma_A = params['sigma_A']\n",
      "    omega_A = params['omega_A']\n",
      "    \n",
      "    out = ((omega_A * x**((sigma_A - 1) / sigma_A) + \n",
      "           (1 - omega_A) * vec[0]**((sigma_A - 1) / sigma_A))**(sigma_A / (sigma_A - 1))) \n",
      "    return out\n",
      "\n",
      "def Ax(x, vec, params):\n",
      "    \"\"\"Partial derivative of A(x,y) with respect to worker skill, x.\"\"\" \n",
      "    sigma_A = params['sigma_A']\n",
      "    omega_A = params['omega_A']\n",
      "    \n",
      "    out = (omega_A * x**(-1 / sigma_A) * (omega_A * x**((sigma_A - 1) / sigma_A) + \n",
      "          (1 - omega_A) * vec[0]**((sigma_A - 1) / sigma_A))**(1 / (sigma_A - 1))) \n",
      "    \n",
      "    return out\n",
      "\n",
      "def Ay(x, vec, params):\n",
      "    \"\"\"Partial derivative of A(x,y) with respect to firm productivity, y.\"\"\" \n",
      "    sigma_A = params['sigma_A']\n",
      "    omega_A = params['omega_A']\n",
      "    \n",
      "    out = ((1 - omega_A) * vec[0]**(-1 / sigma_A) * (omega_A * x**((sigma_A - 1) / sigma_A) + \n",
      "          (1 - omega_A) * vec[0]**((sigma_A - 1) / sigma_A))**(1 / (sigma_A - 1))) \n",
      "    \n",
      "    return out\n",
      "\n",
      "def Axy(x, vec, params):\n",
      "    \"\"\"Cross partial of Ax with respect to y.\"\"\"\n",
      "    sigma_A = params['sigma_A']\n",
      "    omega_A = params['omega_A']\n",
      "    \n",
      "    out = ((1 / sigma_A) * omega_A * (1 - omega_A) * (x * vec[0])**(-1 / sigma_A) * \n",
      "           ((omega_A * x**((sigma_A - 1) / sigma_A) + (1 - omega_A) * vec[1]**((sigma_A - 1) / sigma_A))**((1 / (sigma_A - 1)) - 1))) \n",
      "    \n",
      "    return out"
     ],
     "language": "python",
     "metadata": {},
     "outputs": [],
     "prompt_number": 11
    },
    {
     "cell_type": "code",
     "collapsed": false,
     "input": [
      "def B(x, vec, params):\n",
      "    \"\"\"Inner production function.\"\"\" \n",
      "    omega_B = params['omega_B']\n",
      "    \n",
      "    out = vec[1]**omega_B \n",
      "    \n",
      "    return out\n",
      "\n",
      "def Bl(x, vec, params):\n",
      "    \"\"\"Partial derivative of B(l, r) with respect to quantity of labor, l.\"\"\" \n",
      "    omega_B = params['omega_B']\n",
      "    \n",
      "    out = omega_B * vec[1]**(omega_B - 1)\n",
      "    \n",
      "    return out\n",
      "\n",
      "def Bltheta(x, vec, params):\n",
      "    \"\"\"Derivative of Bl(theta). Part of Jacobian.\"\"\"\n",
      "    omega_B = params['omega_B']\n",
      "    \n",
      "    out = omega_B * (omega_B - 1) * vec[1]**(omega_B - 2)\n",
      "    \n",
      "    return out\n",
      "\n",
      "def Br(x, vec, params):\n",
      "    \"\"\"Partial derivative of B(l, r) with respect to firm resources, r.\"\"\" \n",
      "    omega_B = params['omega_B']\n",
      "    \n",
      "    out = (1 - omega_B) * vec[1]**omega_B\n",
      "    \n",
      "    return out\n",
      "\n",
      "def Brtheta(x, vec, params):\n",
      "    \"\"\"Derivative of Br(theta). Part of Jacobian.\"\"\" \n",
      "    omega_B = params['omega_B']\n",
      "    \n",
      "    out = omega * (1 - omega_B) * vec[1]**(omega_B - 1)\n",
      "    \n",
      "    return out\n",
      "\n",
      "def Blr(x, vec, params):\n",
      "    \"\"\"Cross partial derivative of Bl(x, vec, params) with respect to r.\"\"\"\n",
      "    omega_B = params['omega_B']\n",
      "    \n",
      "    out = -omega_B * (omega_B - 1) * vec[1]**(omega_B - 1)\n",
      "    \n",
      "    return out\n"
     ],
     "language": "python",
     "metadata": {},
     "outputs": [],
     "prompt_number": 12
    },
    {
     "cell_type": "code",
     "collapsed": false,
     "input": [
      "def F(x, vec, params):\n",
      "    \"\"\"Multiplicitively separable production technology.\"\"\"\n",
      "    return A(x, vec, params) * B(x, vec, params)\n",
      "\n",
      "def Fyl(x, vec, params):\n",
      "    \"\"\"Span-of-control complementarity.\"\"\"\n",
      "    out = Ay(x, vec, params) * Bl(x, vec, params)\n",
      "    return out\n",
      "\n",
      "def Fxr(x, vec, params):\n",
      "    \"\"\"Managerial resources complementarity.\"\"\"\n",
      "    out = Ax(x, vec, params) * Br(x, vec, params)\n",
      "    return out\n",
      "\n",
      "def Flr(x, vec, params):\n",
      "    \"\"\"Workers resources complementarity.\"\"\"\n",
      "    out = A(x, vec, params) * Blr(x, vec, params) \n",
      "    return out\n",
      "\n",
      "def Fxy(x, vec, params):\n",
      "    \"\"\"Type complementarity.\"\"\"\n",
      "    out = Axy(x, vec, params) * B(x, vec, params)\n",
      "    return out\n",
      "\n",
      "def ftheta(x, vec, params):\n",
      "    \"\"\"Marginal product of labor using the intensive form of F.\"\"\"\n",
      "    out = A(x, vec, params) * Bl(x, vec, params)\n",
      "    return out"
     ],
     "language": "python",
     "metadata": {},
     "outputs": [],
     "prompt_number": 13
    },
    {
     "cell_type": "code",
     "collapsed": false,
     "input": [
      "# construct dictionary of cross-partial derivatives\n",
      "derivative_dict ={'Fyl':Fyl, 'Fxr':Fxr, 'Flr':Flr, 'ftheta':ftheta}"
     ],
     "language": "python",
     "metadata": {},
     "outputs": [],
     "prompt_number": 14
    },
    {
     "cell_type": "code",
     "collapsed": false,
     "input": [
      "# distribution of worker types\n",
      "x_lower, x_upper, x_measure = 1.0, 5.0, 1.0\n",
      "worker_types = stats.uniform(x_lower, x_upper - x_lower) \n",
      "workers = eeckhout_kircher_2013.Workers(worker_types, x_lower, x_upper, x_measure)\n",
      "\n",
      "# distribution of firm productivity\n",
      "y_lower, y_upper, y_measure = 1.0, 5.0, 1.0\n",
      "firm_prods = stats.uniform(y_lower, y_upper - y_lower)\n",
      "firms = eeckhout_kircher_2013.Firms(firm_prods, y_lower, y_upper, y_measure)"
     ],
     "language": "python",
     "metadata": {},
     "outputs": [],
     "prompt_number": 15
    },
    {
     "cell_type": "code",
     "collapsed": false,
     "input": [
      "# model parameters\n",
      "params = {'omega_A':0.5, 'omega_B':0.5, 'sigma_A':0.5, 'sigma_B':1.0}"
     ],
     "language": "python",
     "metadata": {},
     "outputs": [],
     "prompt_number": 16
    },
    {
     "cell_type": "code",
     "collapsed": false,
     "input": [
      "model = eeckhout_kircher_2013.Model(params, workers, firms, F, derivative_dict, True)"
     ],
     "language": "python",
     "metadata": {},
     "outputs": [],
     "prompt_number": 17
    },
    {
     "cell_type": "code",
     "collapsed": false,
     "input": [
      "def R(g0, y0, t0, h, T, integrator, **kwargs):\n",
      "    \"\"\"Terminal condition for PAM equilibrium where all workers and firms are matched.\"\"\"\n",
      "    traj = model.integrate(t0, [y0, g0], h, T, integrator=integrator, **kwargs)\n",
      "    \n",
      "    return np.array([traj[-1,1] - y_lower])"
     ],
     "language": "python",
     "metadata": {},
     "outputs": [],
     "prompt_number": 40
    },
    {
     "cell_type": "code",
     "collapsed": false,
     "input": [
      "model.solve_generic_shooting??"
     ],
     "language": "python",
     "metadata": {},
     "outputs": [],
     "prompt_number": 32
    },
    {
     "cell_type": "code",
     "collapsed": false,
     "input": [
      "R_args = (y_upper, x_upper, -1e-3, x_lower, 'lsoda')\n",
      "traj = model.solve_generic_shooting(x_upper, y_upper, 5.0, R, R_args, method='hybr', h=-1e-1, T=x_lower, integrator='lsoda')"
     ],
     "language": "python",
     "metadata": {},
     "outputs": [],
     "prompt_number": 43
    },
    {
     "cell_type": "code",
     "collapsed": false,
     "input": [
      "traj"
     ],
     "language": "python",
     "metadata": {},
     "outputs": [
      {
       "metadata": {},
       "output_type": "pyout",
       "prompt_number": 44,
       "text": [
        "[  status: 5\n",
        " success: False\n",
        "     qtf: array([-3.52949056])\n",
        "    nfev: 13\n",
        "       r: array([ nan])\n",
        "     fun: array([ 3.52949056])\n",
        "       x: array([ 5.])\n",
        " message: 'The iteration is not making good progress, as measured by the \\n  improvement from the last ten iterations.'\n",
        "    fjac: array([[-1.]]),\n",
        " None]"
       ]
      }
     ],
     "prompt_number": 44
    },
    {
     "cell_type": "code",
     "collapsed": false,
     "input": [
      "traj = model.integrate(x_upper, [5.0,  1.0], h=-1e-2, T=x_lower)"
     ],
     "language": "python",
     "metadata": {},
     "outputs": [],
     "prompt_number": 20
    },
    {
     "cell_type": "code",
     "collapsed": false,
     "input": [
      "traj"
     ],
     "language": "python",
     "metadata": {},
     "outputs": [
      {
       "metadata": {},
       "output_type": "pyout",
       "prompt_number": 21,
       "text": [
        "array([[ 5.  ,  5.  ,  1.  ],\n",
        "       [ 4.99,  4.99,  1.  ],\n",
        "       [ 4.98,  4.98,  1.  ],\n",
        "       ..., \n",
        "       [ 1.01,  1.01,  1.  ],\n",
        "       [ 1.  ,  1.  ,  1.  ],\n",
        "       [ 1.  ,  1.  ,  1.  ]])"
       ]
      }
     ],
     "prompt_number": 21
    },
    {
     "cell_type": "code",
     "collapsed": false,
     "input": [
      "model.get_equilibrium_profits(traj[:,0], traj[:,1:].flatten(), model.args)"
     ],
     "language": "python",
     "metadata": {},
     "outputs": [
      {
       "output_type": "pyout",
       "prompt_number": 98,
       "text": [
        "array([ 3.6749723 ,  3.67122633,  3.66733239,  3.66328153,  3.65906408,  3.65466955,  3.65008653,  3.64530265,  3.64030439,  3.63507701,  3.62960441,  3.62386889,  3.61785106,\n",
        "        3.61152953,  3.60488074,  3.59787857,  3.59049411,  3.58269515,  3.5744458 ,  3.56570587,  3.55643027,  3.54656819,  3.53606219,  3.52484708,  3.51284855,  3.49998156,\n",
        "        3.48614826,  3.47123557,  3.45511201,  3.43762386,  3.41859024,  3.39779681,  3.37498768,  3.34985482,  3.32202405,  3.29103635,  3.25632224,  3.21716656,  3.17265861,\n",
        "        3.12162048,  3.06250445])"
       ]
      }
     ],
     "prompt_number": 98
    },
    {
     "cell_type": "code",
     "collapsed": false,
     "input": [
      "model.get_equilibrium_wages(traj[:,0], , model.args)"
     ],
     "language": "python",
     "metadata": {},
     "outputs": [
      {
       "ename": "ValueError",
       "evalue": "operands could not be broadcast together with shapes (41) (1,2) ",
       "output_type": "pyerr",
       "traceback": [
        "\u001b[0;31m---------------------------------------------------------------------------\u001b[0m\n\u001b[0;31mValueError\u001b[0m                                Traceback (most recent call last)",
        "\u001b[0;32m<ipython-input-105-b1bf9155bbf7>\u001b[0m in \u001b[0;36m<module>\u001b[0;34m()\u001b[0m\n\u001b[0;32m----> 1\u001b[0;31m \u001b[0mmodel\u001b[0m\u001b[0;34m.\u001b[0m\u001b[0mget_equilibrium_wages\u001b[0m\u001b[0;34m(\u001b[0m\u001b[0mtraj\u001b[0m\u001b[0;34m[\u001b[0m\u001b[0;34m:\u001b[0m\u001b[0;34m,\u001b[0m\u001b[0;36m0\u001b[0m\u001b[0;34m]\u001b[0m\u001b[0;34m,\u001b[0m \u001b[0mtraj\u001b[0m\u001b[0;34m[\u001b[0m\u001b[0;34m:\u001b[0m\u001b[0;34m,\u001b[0m\u001b[0;36m1\u001b[0m\u001b[0;34m:\u001b[0m\u001b[0;34m]\u001b[0m\u001b[0;34m.\u001b[0m\u001b[0mreshape\u001b[0m\u001b[0;34m(\u001b[0m\u001b[0;34m(\u001b[0m\u001b[0mlen\u001b[0m\u001b[0;34m(\u001b[0m\u001b[0mtraj\u001b[0m\u001b[0;34m)\u001b[0m\u001b[0;34m,\u001b[0m \u001b[0;36m1\u001b[0m\u001b[0;34m,\u001b[0m \u001b[0;36m2\u001b[0m\u001b[0;34m)\u001b[0m\u001b[0;34m)\u001b[0m\u001b[0;34m,\u001b[0m \u001b[0mmodel\u001b[0m\u001b[0;34m.\u001b[0m\u001b[0margs\u001b[0m\u001b[0;34m)\u001b[0m\u001b[0;34m\u001b[0m\u001b[0m\n\u001b[0m",
        "\u001b[0;32m/Users/clarissasweet/Dropbox/eeckhout-and-kircher-2013/eeckhout_kircher_2013.py\u001b[0m in \u001b[0;36mget_equilibrium_wages\u001b[0;34m(self, xn, vec, params)\u001b[0m\n\u001b[1;32m    287\u001b[0m         \"\"\"\n\u001b[1;32m    288\u001b[0m         \u001b[0;31m# labor is paid its marginal product\u001b[0m\u001b[0;34m\u001b[0m\u001b[0;34m\u001b[0m\u001b[0m\n\u001b[0;32m--> 289\u001b[0;31m         \u001b[0mftheta\u001b[0m \u001b[0;34m=\u001b[0m \u001b[0mself\u001b[0m\u001b[0;34m.\u001b[0m\u001b[0mderivatives\u001b[0m\u001b[0;34m[\u001b[0m\u001b[0;34m'ftheta'\u001b[0m\u001b[0;34m]\u001b[0m\u001b[0;34m(\u001b[0m\u001b[0mxn\u001b[0m\u001b[0;34m,\u001b[0m \u001b[0mvec\u001b[0m\u001b[0;34m,\u001b[0m \u001b[0mparams\u001b[0m\u001b[0;34m)\u001b[0m\u001b[0;34m\u001b[0m\u001b[0m\n\u001b[0m\u001b[1;32m    290\u001b[0m \u001b[0;34m\u001b[0m\u001b[0m\n\u001b[1;32m    291\u001b[0m         \u001b[0;32mreturn\u001b[0m \u001b[0mftheta\u001b[0m\u001b[0;34m\u001b[0m\u001b[0m\n",
        "\u001b[0;32m<ipython-input-73-94179a4003a6>\u001b[0m in \u001b[0;36mftheta\u001b[0;34m(x, vec, params)\u001b[0m\n\u001b[1;32m     25\u001b[0m \u001b[0;32mdef\u001b[0m \u001b[0mftheta\u001b[0m\u001b[0;34m(\u001b[0m\u001b[0mx\u001b[0m\u001b[0;34m,\u001b[0m \u001b[0mvec\u001b[0m\u001b[0;34m,\u001b[0m \u001b[0mparams\u001b[0m\u001b[0;34m)\u001b[0m\u001b[0;34m:\u001b[0m\u001b[0;34m\u001b[0m\u001b[0m\n\u001b[1;32m     26\u001b[0m     \u001b[0;34m\"\"\"Marginal product of labor using the intensive form of F.\"\"\"\u001b[0m\u001b[0;34m\u001b[0m\u001b[0m\n\u001b[0;32m---> 27\u001b[0;31m     \u001b[0mout\u001b[0m \u001b[0;34m=\u001b[0m \u001b[0mA\u001b[0m\u001b[0;34m(\u001b[0m\u001b[0mx\u001b[0m\u001b[0;34m,\u001b[0m \u001b[0mvec\u001b[0m\u001b[0;34m,\u001b[0m \u001b[0mparams\u001b[0m\u001b[0;34m)\u001b[0m \u001b[0;34m*\u001b[0m \u001b[0mBl\u001b[0m\u001b[0;34m(\u001b[0m\u001b[0mx\u001b[0m\u001b[0;34m,\u001b[0m \u001b[0mvec\u001b[0m\u001b[0;34m,\u001b[0m \u001b[0mparams\u001b[0m\u001b[0;34m)\u001b[0m\u001b[0;34m\u001b[0m\u001b[0m\n\u001b[0m\u001b[1;32m     28\u001b[0m     \u001b[0;32mreturn\u001b[0m \u001b[0mout\u001b[0m\u001b[0;34m\u001b[0m\u001b[0m\n",
        "\u001b[0;32m<ipython-input-4-7f6ea9602fd4>\u001b[0m in \u001b[0;36mA\u001b[0;34m(x, vec, params)\u001b[0m\n\u001b[1;32m      5\u001b[0m \u001b[0;34m\u001b[0m\u001b[0m\n\u001b[1;32m      6\u001b[0m     out = ((omega_A * x**((sigma_A - 1) / sigma_A) + \n\u001b[0;32m----> 7\u001b[0;31m            (1 - omega_A) * vec[0]**((sigma_A - 1) / sigma_A))**(sigma_A / (sigma_A - 1))) \n\u001b[0m\u001b[1;32m      8\u001b[0m     \u001b[0;32mreturn\u001b[0m \u001b[0mout\u001b[0m\u001b[0;34m\u001b[0m\u001b[0m\n\u001b[1;32m      9\u001b[0m \u001b[0;34m\u001b[0m\u001b[0m\n",
        "\u001b[0;31mValueError\u001b[0m: operands could not be broadcast together with shapes (41) (1,2) "
       ]
      }
     ],
     "prompt_number": 105
    },
    {
     "cell_type": "code",
     "collapsed": false,
     "input": [
      "[model.get_equilibrium_profits(traj[i,0], traj[i,1:], model.args) for i in range(len(traj))]"
     ],
     "language": "python",
     "metadata": {},
     "outputs": [
      {
       "output_type": "pyout",
       "prompt_number": 102,
       "text": [
        "[3.6749723011284807,\n",
        " 3.6101294552787988,\n",
        " 3.5448390657151632,\n",
        " 3.479087003304647,\n",
        " 3.4128582811153589,\n",
        " 3.3461369749586192,\n",
        " 3.278906133902213,\n",
        " 3.211147679139454,\n",
        " 3.1428422892802725,\n",
        " 3.07396926973707,\n",
        " 3.0045064033894691,\n",
        " 2.9344297791007876,\n",
        " 2.8637135938896479,\n",
        " 2.7923299235842669,\n",
        " 2.7202484555398674,\n",
        " 2.6474361753927838,\n",
        " 2.5738569977361632,\n",
        " 2.499471327861662,\n",
        " 2.4242355380794005,\n",
        " 2.3481013372621051,\n",
        " 2.2710150056626137,\n",
        " 2.1929164579973701,\n",
        " 2.1137380851819851,\n",
        " 2.0334033072906581,\n",
        " 1.9518247447178776,\n",
        " 1.8689018770751002,\n",
        " 1.7845180034492005,\n",
        " 1.6985362322787347,\n",
        " 1.6107940953929121,\n",
        " 1.5210961652344743,\n",
        " 1.4292036953017304,\n",
        " 1.3348196827842476,\n",
        " 1.2375666291268699,\n",
        " 1.1369521327238983,\n",
        " 1.0323130956327917,\n",
        " 0.92271975193512268,\n",
        " 0.80679741998959575,\n",
        " 0.68235894670527109,\n",
        " 0.54552153406340409,\n",
        " 0.38797556618078677,\n",
        " 0.18227354216075869]"
       ]
      }
     ],
     "prompt_number": 102
    },
    {
     "cell_type": "code",
     "collapsed": false,
     "input": [
      "traj[:,1:].flatten()"
     ],
     "language": "python",
     "metadata": {},
     "outputs": [
      {
       "output_type": "pyout",
       "prompt_number": 99,
       "text": [
        "array([ 4.99974935,  2.16107326,  4.95311069,  2.12725756,  4.90572155,  2.09316407,  4.85755084,  2.05878246,  4.8085653 ,  2.02410175,  4.75872929,  1.98911014,  4.70800463,\n",
        "        1.95379501,  4.65635021,  1.91814278,  4.60372178,  1.88213881,  4.55007156,  1.84576731,  4.49534782,  1.80901116,  4.43949443,  1.77185182,  4.38245033,  1.73426908,\n",
        "        4.32414886,  1.69624086,  4.26451709,  1.65774302,  4.2034749 ,  1.61874898,  4.14093398,  1.57922947,  4.07679658,  1.53915202,  4.01095411,  1.49848056,  3.94328532,\n",
        "        1.45717476,  3.87365415,  1.41518937,  3.8019071 ,  1.37247326,  3.7278699 ,  1.3289684 ,  3.65134342,  1.28460849,  3.57209837,  1.2393172 ,  3.48986854,  1.19300601,\n",
        "        3.40434193,  1.14557139,  3.31514896,  1.09689106,  3.22184648,  1.04681905,  3.12389564,  0.99517895,  3.02063041,  0.9417546 ,  2.91121153,  0.88627674,  2.79455684,\n",
        "        0.82840352,  2.66923111,  0.76769079,  2.5332632 ,  0.70354488,  2.38382179,  0.63514315,  2.21659061,  0.56128979,  2.02441833,  0.48012584,  1.79386687,  0.38844946,\n",
        "        1.49354561,  0.27966114,  1.        ,  0.13289451])"
       ]
      }
     ],
     "prompt_number": 99
    },
    {
     "cell_type": "code",
     "collapsed": false,
     "input": [
      "Flr(x_upper, np.array([2.0, y_upper]), params)"
     ],
     "language": "python",
     "metadata": {},
     "outputs": [
      {
       "output_type": "pyout",
       "prompt_number": 58,
       "text": [
        "array([-0.2,  0.5])"
       ]
      }
     ],
     "prompt_number": 58
    },
    {
     "cell_type": "code",
     "collapsed": false,
     "input": [
      "(4.9 - 5.0) * PAM(x_upper, [2.0, y_upper], params)"
     ],
     "language": "python",
     "metadata": {},
     "outputs": [
      {
       "output_type": "pyout",
       "prompt_number": 59,
       "text": [
        "array([ 0.02, -0.05])"
       ]
      }
     ],
     "prompt_number": 59
    },
    {
     "cell_type": "code",
     "collapsed": false,
     "input": [
      "# describe the workers\n",
      "mu, sigma = 0, 1\n",
      "worker_types = stats.lognorm(sigma, 0.0, np.exp(mu)) \n",
      "x_lower, x_upper, x_measure = worker_types.ppf(0.01), worker_types.ppf(0.99), 1\n",
      "workers = eeckhout_kircher_2013.Workers(worker_types, x_lower, x_upper, x_measure)\n",
      "\n",
      "# describe the firms\n",
      "firm_prods = stats.lognorm(sigma, 0.0, np.exp(mu)) \n",
      "y_lower, y_upper, y_measure = firm_prods.ppf(0.01), firm_prods.ppf(0.99), 1\n",
      "firms = eeckhout_kircher_2013.Firms(firm_prods, y_lower, y_upper, y_measure)\n"
     ],
     "language": "python",
     "metadata": {},
     "outputs": [],
     "prompt_number": 107
    },
    {
     "cell_type": "code",
     "collapsed": false,
     "input": [
      "# model parameters\n",
      "params = {'omega_A':0.05, 'omega_B':0.5, 'sigma_A':0.5, 'sigma_B':1.0}"
     ],
     "language": "python",
     "metadata": {},
     "outputs": [],
     "prompt_number": 117
    },
    {
     "cell_type": "code",
     "collapsed": false,
     "input": [
      "model = eeckhout_kircher_2013.Model(params, workers, firms, F, derivative_dict, True)"
     ],
     "language": "python",
     "metadata": {},
     "outputs": [],
     "prompt_number": 118
    },
    {
     "cell_type": "code",
     "collapsed": false,
     "input": [
      "R_args = (x_upper, -1e-1, x_lower, 'dopri5')\n",
      "res, traj = model.solve_generic_shooting(x_upper, [y_upper, 1.0], R, R_args, \n",
      "                                         method='hybr', h=-1e-1, T=x_lower, \n",
      "                                         integrator='dopri5')"
     ],
     "language": "python",
     "metadata": {},
     "outputs": [],
     "prompt_number": 119
    },
    {
     "cell_type": "code",
     "collapsed": false,
     "input": [
      "res"
     ],
     "language": "python",
     "metadata": {},
     "outputs": [
      {
       "output_type": "pyout",
       "prompt_number": 120,
       "text": [
        "  status: 5\n",
        " success: False\n",
        "     qtf: array([-0.00044403,  0.09599415])\n",
        "    nfev: 45\n",
        "       r: array([-1.2879588 ,  1.05934017,  0.00304832])\n",
        "     fun: array([-0.00014325, -0.09599459])\n",
        "       x: array([ 14.81623837,  16.11975886])\n",
        " message: 'The iteration is not making good progress, as measured by the \\n  improvement from the last ten iterations.'\n",
        "    fjac: array([[-0.99999817,  0.00191311],\n",
        "       [-0.00191311, -0.99999817]])"
       ]
      }
     ],
     "prompt_number": 120
    },
    {
     "cell_type": "code",
     "collapsed": false,
     "input": [
      "theta_h = 10.9085321426\n",
      "theta_l = 10.9085083008\n",
      "theta_0 = 0.5 * (theta_h + theta_l)\n",
      "print theta_0\n",
      "model.integrate(x_upper, [y_upper, theta_0], h=-1e-2, T=x_lower, integrator='erk3')"
     ],
     "language": "python",
     "metadata": {},
     "outputs": [
      {
       "output_type": "stream",
       "stream": "stdout",
       "text": [
        "10.9085202217\n"
       ]
      },
      {
       "output_type": "pyout",
       "prompt_number": 159,
       "text": [
        "array([[ 10.24047366,  10.24047366,  10.90852022],\n",
        "       [ 10.23047366,  10.23955555,  10.90772822],\n",
        "       [ 10.22047366,  10.23863467,  10.90693251],\n",
        "       ..., \n",
        "       [  0.11047366,          inf,          nan],\n",
        "       [  0.10047366,          nan,          nan],\n",
        "       [  0.09047366,          nan,          nan]])"
       ]
      }
     ],
     "prompt_number": 159
    },
    {
     "cell_type": "code",
     "collapsed": false,
     "input": [
      "model.ode.successful()"
     ],
     "language": "python",
     "metadata": {},
     "outputs": [
      {
       "output_type": "pyout",
       "prompt_number": 137,
       "text": [
        "False"
       ]
      }
     ],
     "prompt_number": 137
    },
    {
     "cell_type": "code",
     "collapsed": false,
     "input": [
      "x_lower"
     ],
     "language": "python",
     "metadata": {},
     "outputs": [
      {
       "output_type": "pyout",
       "prompt_number": 138,
       "text": [
        "0.097651733070335991"
       ]
      }
     ],
     "prompt_number": 138
    },
    {
     "cell_type": "code",
     "collapsed": false,
     "input": [],
     "language": "python",
     "metadata": {},
     "outputs": []
    }
   ],
   "metadata": {}
  }
 ]
}