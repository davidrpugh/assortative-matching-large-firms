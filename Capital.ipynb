{
 "metadata": {
  "name": "",
  "signature": "sha256:b584be91d4a02179463ccba1582b26e0308eeabfb931deba0cd4c0f711eac25c"
 },
 "nbformat": 3,
 "nbformat_minor": 0,
 "worksheets": [
  {
   "cells": [
    {
     "cell_type": "code",
     "collapsed": false,
     "input": [
      "from __future__ import division\n",
      "import numpy as np\n",
      "import sympy as sym\n",
      "import matplotlib as mpl\n",
      "import matplotlib.pyplot as plt"
     ],
     "language": "python",
     "metadata": {},
     "outputs": [],
     "prompt_number": 4
    },
    {
     "cell_type": "code",
     "collapsed": false,
     "input": [
      "## Setting the parameters of the model (calibrated values)\n",
      "R = 0.13099\n",
      "rho = 0.24\n",
      "gamma = 0.54\n",
      "eta = 0.89\n",
      "L = 4.2\n",
      "A = 1\n",
      "kapa = 1"
     ],
     "language": "python",
     "metadata": {},
     "outputs": [],
     "prompt_number": 5
    },
    {
     "cell_type": "code",
     "collapsed": false,
     "input": [
      "### Defining variables ###\n",
      "k, x, y, theta = sym.var('k, x, y, theta ')\n",
      "\n",
      "### Defining production function ###\n",
      "gamma = 0.5\n",
      "rho = 0.25\n",
      "f = A*kapa*(eta*(k*x)**rho + (1- eta)*(y*theta)**rho)**(gamma/rho) - k*R"
     ],
     "language": "python",
     "metadata": {},
     "outputs": [],
     "prompt_number": 6
    },
    {
     "cell_type": "code",
     "collapsed": false,
     "input": [
      "# Derivating wrt k\n",
      "f.diff(k).simplify()"
     ],
     "language": "python",
     "metadata": {},
     "outputs": [
      {
       "metadata": {},
       "output_type": "pyout",
       "prompt_number": 8,
       "text": [
        "-0.13099 + 0.445*(k*x)**0.25*(0.89*(k*x)**0.25 + 0.11*(theta*y)**0.25)**1.0/k"
       ]
      }
     ],
     "prompt_number": 8
    },
    {
     "cell_type": "code",
     "collapsed": false,
     "input": [
      "# Solving doesn't work\n",
      "sym.solve(f.diff(k), k, set=True)"
     ],
     "language": "python",
     "metadata": {},
     "outputs": [
      {
       "metadata": {},
       "output_type": "pyout",
       "prompt_number": 9,
       "text": [
        "([], set())"
       ]
      }
     ],
     "prompt_number": 9
    },
    {
     "cell_type": "code",
     "collapsed": false,
     "input": [
      "# So let's try to solve for the polinomial p(k) = a*k**3 + c*k + d = 0\n",
      "## Defining auxiliary functions a, c, d\n",
      "a = 2*R\n",
      "c = -A*kapa*(eta**2)*x**0.5\n",
      "d = -A*kapa*eta*(1-eta)*(x*y*theta)**0.25\n",
      "pol_k = k**3*a + k*c + d"
     ],
     "language": "python",
     "metadata": {},
     "outputs": [],
     "prompt_number": 10
    },
    {
     "cell_type": "code",
     "collapsed": false,
     "input": [
      "# Still unable to solve\n",
      "sym.solve(pol_k, k, set=True)"
     ],
     "language": "python",
     "metadata": {},
     "outputs": [
      {
       "metadata": {},
       "output_type": "pyout",
       "prompt_number": 11,
       "text": [
        "([], set())"
       ]
      }
     ],
     "prompt_number": 11
    },
    {
     "cell_type": "code",
     "collapsed": false,
     "input": [
      "### THe system has only one real rool when the function delta below is negative:\n",
      "delta = 4*A*kapa*eta**4*x - 54*R*((1-eta)**2)*((y*theta)**(1/2))\n",
      "\n",
      "# If it is indeed negative, then the solution can be obtained by solving k_star:\n",
      "# (Auxiliary function C)\n",
      "C = (0.5*(27*a*d+(-27*a**2*delta**0.5))**(1/3))\n",
      "# k_star\n",
      "k_star = k - (1/(3*a))*(C+((-3*a*c)/C))"
     ],
     "language": "python",
     "metadata": {},
     "outputs": [],
     "prompt_number": 12
    },
    {
     "cell_type": "code",
     "collapsed": false,
     "input": [
      "k_star.simplify()"
     ],
     "language": "python",
     "metadata": {},
     "outputs": [
      {
       "metadata": {},
       "output_type": "pyout",
       "prompt_number": 15,
       "text": [
        "k - 1.5842*x**0.5*(-0.692491734*(theta*x*y)**0.25 - 1.8531050508*(2.50968964*x - 0.085588866*(theta*y)**0.5)**0.5)**(-0.333333333333333) - 0.636180878947502*(-0.692491734*(theta*x*y)**0.25 - 1.8531050508*(2.50968964*x - 0.085588866*(theta*y)**0.5)**0.5)**0.333333333333333"
       ]
      }
     ],
     "prompt_number": 15
    },
    {
     "cell_type": "code",
     "collapsed": false,
     "input": [
      "# And this expression is solvable\n",
      "final_k = sym.solve(k_star, k)[0]\n",
      "final_k"
     ],
     "language": "python",
     "metadata": {},
     "outputs": [
      {
       "metadata": {},
       "output_type": "pyout",
       "prompt_number": 14,
       "text": [
        "3.13767754187226e-23*(2.72987483189409e+25*sqrt(x) + 3.75e+19*(-109455527.498615*(theta*x*y)**0.25 - 13099.0*(1254844820.0*x - 42794433.0*(theta*y)**0.5)**0.5)**(2/3))/(-109455527.498615*(theta*x*y)**0.25 - 13099.0*(1254844820.0*x - 42794433.0*(theta*y)**0.5)**0.5)**(1/3)"
       ]
      }
     ],
     "prompt_number": 14
    },
    {
     "cell_type": "code",
     "collapsed": false,
     "input": [
      "# However evaluating the lambdify version of this has some problems when raising numbers to negative powers.\n",
      "# To solve this, I split the problem in three pieces and rearrage thr order in which powers are taken:\n",
      "piece1 = (2.72987483189409e+25*x**0.5 + 3.75e+19*((-109455527.498615*(theta*x*y)**0.25 - 13099.0*(1254844820.0*x - 42794433.0*(theta*y)**0.5)**0.5)**(2))**(1/3))\n",
      "piece2 = (abs(109455527.498615*(theta*x*y)**0.25 - 13099.0*(1254844820.0*x - 42794433.0*(theta*y)**0.5)**0.5))**(1/3)\n",
      "# Then I paste the peices together\n",
      "k_eval = 3.13767754187226e-23*(-piece1)/(-piece2)"
     ],
     "language": "python",
     "metadata": {},
     "outputs": [],
     "prompt_number": 16
    },
    {
     "cell_type": "code",
     "collapsed": false,
     "input": [
      "# and now the lambdified version works!\n",
      "k_num = sym.lambdify((x,y,theta), k_eval)\n",
      "k_num(10,10,1)"
     ],
     "language": "python",
     "metadata": {},
     "outputs": [
      {
       "metadata": {},
       "output_type": "pyout",
       "prompt_number": 17,
       "text": [
        "4.296813867202011"
       ]
      }
     ],
     "prompt_number": 17
    },
    {
     "cell_type": "code",
     "collapsed": false,
     "input": [
      "### This little program uses that lambdified expression to check for which combiantions of x, r, theta capital is possitive ###\n",
      "\n",
      "# In this particular case:\n",
      "#              I assume that PAM works and workers and firms have the same distribution,%%!\n",
      "#              so mu(x)=x, and fixed the number of workers to 10\n",
      "\n",
      "xs = ys = np.arange(0.001,10,0.001)\n",
      "ls = np.arange(1,100,1)\n",
      "good = 0\n",
      "bad = 0\n",
      "badies = []\n",
      "k_range = []\n",
      "for i in xs:\n",
      "    val = k_num(i,i,10)\n",
      "    k_range.append(val)\n",
      "    if val>0:\n",
      "        good += 1\n",
      "    else:\n",
      "        bad += 1\n",
      "        badies.append(i)\n",
      "print \"Good: \", good\n",
      "print \"Bad: \", bad\n",
      "if badies == []:\n",
      "    print \"Hurray!\"\n",
      "else:\n",
      "    print \"Who did it? \", badies"
     ],
     "language": "python",
     "metadata": {},
     "outputs": [
      {
       "output_type": "stream",
       "stream": "stdout",
       "text": [
        "Good:  9988\n",
        "Bad:  11\n",
        "Who did it?  [0.001, 0.002, 0.0030000000000000001, 0.0040000000000000001, 0.0050000000000000001, 0.0060000000000000001, 0.0070000000000000001, 0.0080000000000000002, 0.0090000000000000011, 0.010000000000000002, 0.010999999999999999]\n"
       ]
      },
      {
       "output_type": "stream",
       "stream": "stderr",
       "text": [
        "C:\\Users\\s1254888\\Canopy\\Environment\\User\\lib\\site-packages\\numpy\\__init__.py:1: RuntimeWarning: invalid value encountered in double_scalars\n",
        "  \"\"\"\n"
       ]
      }
     ],
     "prompt_number": 18
    },
    {
     "cell_type": "code",
     "collapsed": false,
     "input": [
      "# now I check that my symbolic solution final_k is differentiable and the derivative has no imaginary parts:\n",
      "# dk / dx\n",
      "final_k.diff(x).simplify()"
     ],
     "language": "python",
     "metadata": {},
     "outputs": [
      {
       "metadata": {},
       "output_type": "pyout",
       "prompt_number": 20,
       "text": [
        "(1254844820.0*x - 42794433.0*(theta*y)**0.5)**(-0.5)*(3.13767754187226e-23*x**(3/2)*(2.72987483189409e+25*sqrt(x) + 3.75e+19*(-109455527.498615*(theta*x*y)**0.25 - 13099.0*(1254844820.0*x - 42794433.0*(theta*y)**0.5)**0.5)**(2/3))*(2739535382863.33*x + 9121293.95821789*(theta*x*y)**0.25*(1254844820.0*x - 42794433.0*(theta*y)**0.5)**0.5) + x*(-sqrt(x)*(6446833984.48102*x + 21464.7594041365*(theta*x*y)**0.25*(1254844820.0*x - 42794433.0*(theta*y)**0.5)**0.5) + 428.27334760782*x*(1254844820.0*x - 42794433.0*(theta*y)**0.5)**0.5*(-109455527.498615*(theta*x*y)**0.25 - 13099.0*(1254844820.0*x - 42794433.0*(theta*y)**0.5)**0.5)**(1/3))*(-109455527.498615*(theta*x*y)**0.25 - 13099.0*(1254844820.0*x - 42794433.0*(theta*y)**0.5)**0.5)**(2/3))/(x**(5/2)*(-109455527.498615*(theta*x*y)**0.25 - 13099.0*(1254844820.0*x - 42794433.0*(theta*y)**0.5)**0.5)**(4/3))"
       ]
      }
     ],
     "prompt_number": 20
    },
    {
     "cell_type": "code",
     "collapsed": false,
     "input": [
      "# dk / dy\n",
      "final_k.diff(y).simplify()"
     ],
     "language": "python",
     "metadata": {},
     "outputs": [
      {
       "metadata": {},
       "output_type": "pyout",
       "prompt_number": 21,
       "text": [
        "(1254844820.0*x - 42794433.0*(theta*y)**0.5)**(-0.5)*(-3.13767754187226e-23*(2.72987483189409e+25*sqrt(x) + 3.75e+19*(-109455527.498615*(theta*x*y)**0.25 - 13099.0*(1254844820.0*x - 42794433.0*(theta*y)**0.5)**0.5)**(2/3))*(46713689822.25*(theta*y)**0.5 - 9121293.95821789*(theta*x*y)**0.25*(1254844820.0*x - 42794433.0*(theta*y)**0.5)**0.5) + (109929371.589945*(theta*y)**0.5 - 21464.7594041366*(theta*x*y)**0.25*(1254844820.0*x - 42794433.0*(theta*y)**0.5)**0.5)*(-109455527.498615*(theta*x*y)**0.25 - 13099.0*(1254844820.0*x - 42794433.0*(theta*y)**0.5)**0.5)**(2/3))/(y*(-109455527.498615*(theta*x*y)**0.25 - 13099.0*(1254844820.0*x - 42794433.0*(theta*y)**0.5)**0.5)**(4/3))"
       ]
      }
     ],
     "prompt_number": 21
    },
    {
     "cell_type": "code",
     "collapsed": false,
     "input": [
      "# dk / dtheta\n",
      "final_k.diff(theta).simplify()"
     ],
     "language": "python",
     "metadata": {},
     "outputs": [
      {
       "metadata": {},
       "output_type": "pyout",
       "prompt_number": 24,
       "text": [
        "(1254844820.0*x - 42794433.0*(theta*y)**0.5)**(-0.5)*(-3.13767754187226e-23*(2.72987483189409e+25*sqrt(x) + 3.75e+19*(-109455527.498615*(theta*x*y)**0.25 - 13099.0*(1254844820.0*x - 42794433.0*(theta*y)**0.5)**0.5)**(2/3))*(46713689822.25*(theta*y)**0.5 - 9121293.95821789*(theta*x*y)**0.25*(1254844820.0*x - 42794433.0*(theta*y)**0.5)**0.5) + (109929371.589945*(theta*y)**0.5 - 21464.7594041366*(theta*x*y)**0.25*(1254844820.0*x - 42794433.0*(theta*y)**0.5)**0.5)*(-109455527.498615*(theta*x*y)**0.25 - 13099.0*(1254844820.0*x - 42794433.0*(theta*y)**0.5)**0.5)**(2/3))/(theta*(-109455527.498615*(theta*x*y)**0.25 - 13099.0*(1254844820.0*x - 42794433.0*(theta*y)**0.5)**0.5)**(4/3))"
       ]
      }
     ],
     "prompt_number": 24
    },
    {
     "cell_type": "code",
     "collapsed": false,
     "input": [
      "# d2k / dy dtheta\n",
      "final_k.diff(y, theta).simplify()"
     ],
     "language": "python",
     "metadata": {},
     "outputs": [
      {
       "metadata": {},
       "output_type": "pyout",
       "prompt_number": 23,
       "text": [
        "(1254844820.0*x - 42794433.0*(theta*y)**0.5)**(-6.0)*(54964685.7949727*(theta*y)**0.5*(1254844820.0*x - 42794433.0*(theta*y)**0.5)**5.5*(-109455527.498615*(theta*x*y)**0.25 - 13099.0*(1254844820.0*x - 42794433.0*(theta*y)**0.5)**0.5)**(5/3) + 1.17609128180951e+15*(theta*y)**1.0*(1254844820.0*x - 42794433.0*(theta*y)**0.5)**4.5*(-109455527.498615*(theta*x*y)**0.25 - 13099.0*(1254844820.0*x - 42794433.0*(theta*y)**0.5)**0.5)**(5/3) - 5366.18985103414*(theta*x*y)**0.25*(1254844820.0*x - 42794433.0*(theta*y)**0.5)**6.0*(-109455527.498615*(theta*x*y)**0.25 - 13099.0*(1254844820.0*x - 42794433.0*(theta*y)**0.5)**0.5)**(5/3) + 3.13767754187226e-23*(2.72987483189409e+25*sqrt(x) + 3.75e+19*(-109455527.498615*(theta*x*y)**0.25 - 13099.0*(1254844820.0*x - 42794433.0*(theta*y)**0.5)**0.5)**(2/3))*(1254844820.0*x - 42794433.0*(theta*y)**0.5)**4.0*(109455527.498615*(theta*x*y)**0.25 + 13099.0*(1254844820.0*x - 42794433.0*(theta*y)**0.5)**0.5)*(23356844911.125*(theta*y)**0.5*(1254844820.0*x - 42794433.0*(theta*y)**0.5)**1.5 + 4.99771467320265e+17*(theta*y)**1.0*(1254844820.0*x - 42794433.0*(theta*y)**0.5)**0.5 - 2280323.48955447*(theta*x*y)**0.25*(1254844820.0*x - 42794433.0*(theta*y)**0.5)**2.0) + 3.13767754187226e-23*(2.72987483189409e+25*sqrt(x) + 3.75e+19*(-109455527.498615*(theta*x*y)**0.25 - 13099.0*(1254844820.0*x - 42794433.0*(theta*y)**0.5)**0.5)**(2/3))*(1254844820.0*x - 42794433.0*(theta*y)**0.5)**5.0*(46713689822.25*(theta*y)**0.5 - 9121293.95821789*(theta*x*y)**0.25*(1254844820.0*x - 42794433.0*(theta*y)**0.5)**0.5)*(186854759289.0*(theta*y)**0.5 - 36485175.8328716*(theta*x*y)**0.25*(1254844820.0*x - 42794433.0*(theta*y)**0.5)**0.5) - (1254844820.0*x - 42794433.0*(theta*y)**0.5)**5.0*(109929371.589945*(theta*y)**0.5 - 21464.7594041366*(theta*x*y)**0.25*(1254844820.0*x - 42794433.0*(theta*y)**0.5)**0.5)*(140141069466.75*(theta*y)**0.5 - 27363881.8746537*(theta*x*y)**0.25*(1254844820.0*x - 42794433.0*(theta*y)**0.5)**0.5)*(-109455527.498615*(theta*x*y)**0.25 - 13099.0*(1254844820.0*x - 42794433.0*(theta*y)**0.5)**0.5)**(2/3))/(theta*y*(-109455527.498615*(theta*x*y)**0.25 - 13099.0*(1254844820.0*x - 42794433.0*(theta*y)**0.5)**0.5)**(7/3))"
       ]
      }
     ],
     "prompt_number": 23
    },
    {
     "cell_type": "code",
     "collapsed": false,
     "input": [],
     "language": "python",
     "metadata": {},
     "outputs": []
    }
   ],
   "metadata": {}
  }
 ]
}