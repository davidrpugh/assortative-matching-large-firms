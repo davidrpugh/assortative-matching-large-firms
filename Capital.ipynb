{
 "metadata": {
  "name": "",
  "signature": "sha256:587fb89aeab0a6c5ed4d30f596e0abf5d2eb3efa401842fb640a784d5f8c1dc6"
 },
 "nbformat": 3,
 "nbformat_minor": 0,
 "worksheets": [
  {
   "cells": [
    {
     "cell_type": "code",
     "collapsed": false,
     "input": [
      "from __future__ import division\n",
      "import numpy as np\n",
      "import sympy as sym\n",
      "import matplotlib as mpl\n",
      "import matplotlib.pyplot as plt"
     ],
     "language": "python",
     "metadata": {},
     "outputs": [],
     "prompt_number": 15
    },
    {
     "cell_type": "code",
     "collapsed": false,
     "input": [
      "## Setting the parameters of the model (calibrated values)\n",
      "R, rho, gamma, eta, L, A, kapa = sym.var('R, rho, gamma, eta, L, A, kapa')"
     ],
     "language": "python",
     "metadata": {},
     "outputs": [],
     "prompt_number": 16
    },
    {
     "cell_type": "code",
     "collapsed": false,
     "input": [
      "### Defining variables ###\n",
      "k, x, y, l, r = sym.var('k, x, y, l, r')\n",
      "\n",
      "### Defining production function ###\n",
      "gamma = 0.5\n",
      "rho = 0.25\n",
      "f = A*kapa*(eta*(k*x)**rho + (1- eta)*(y*(l/r))**rho)**(gamma/rho) - k*R"
     ],
     "language": "python",
     "metadata": {},
     "outputs": [],
     "prompt_number": 17
    },
    {
     "cell_type": "code",
     "collapsed": false,
     "input": [
      "# Solving doesn't work\n",
      "sym.solve(f.diff(k), k, set=True)"
     ],
     "language": "python",
     "metadata": {},
     "outputs": [
      {
       "metadata": {},
       "output_type": "pyout",
       "prompt_number": 18,
       "text": [
        "([], set())"
       ]
      }
     ],
     "prompt_number": 18
    },
    {
     "cell_type": "code",
     "collapsed": false,
     "input": [
      "# So let's try to solve for the polinomial p(k) = a*k**3 + c*k + d = 0\n",
      "## Defining auxiliary functions a, c, d\n",
      "a = 2*R\n",
      "c = -A*kapa*(eta**2)*x**0.5\n",
      "d = -A*kapa*eta*(1-eta)*(x*y*(l/r))**0.25\n",
      "pol_k = k**3*a + k*c + d"
     ],
     "language": "python",
     "metadata": {},
     "outputs": [],
     "prompt_number": 19
    },
    {
     "cell_type": "code",
     "collapsed": false,
     "input": [
      "# Still unable to solve\n",
      "sym.solve(pol_k, k, set=True)"
     ],
     "language": "python",
     "metadata": {},
     "outputs": [
      {
       "metadata": {},
       "output_type": "pyout",
       "prompt_number": 20,
       "text": [
        "([], set())"
       ]
      }
     ],
     "prompt_number": 20
    },
    {
     "cell_type": "code",
     "collapsed": false,
     "input": [
      "### THe system has only one real rool when the function delta below is negative:\n",
      "delta = 4*A*kapa*eta**4*x - 54*R*((1-eta)**2)*((y*(l/r))**(1/2))\n",
      "\n",
      "# If it is indeed negative, then the solution can be obtained by solving k_star:\n",
      "# (Auxiliary function C)\n",
      "C = (0.5*(27*a*d+(-27*a**2*delta**0.5))**(1/3))\n",
      "# k_star\n",
      "k_star = k - (1/(3*a))*(C+((-3*a*c)/C))"
     ],
     "language": "python",
     "metadata": {},
     "outputs": [],
     "prompt_number": 21
    },
    {
     "cell_type": "code",
     "collapsed": false,
     "input": [
      "k_star.simplify()"
     ],
     "language": "python",
     "metadata": {},
     "outputs": [
      {
       "metadata": {},
       "output_type": "pyout",
       "prompt_number": 22,
       "text": [
        "-2.0*54**(-0.333333333333333)*A*eta**2*kapa*x**0.5*(A*R*eta**2*kapa*(l*x*y/r)**0.25 - A*R*eta*kapa*(l*x*y/r)**0.25 - 2*2**0.5*R**2*(2*A*eta**4*kapa*x - 27*R*(l*y/r)**0.5*(eta - 1)**2)**0.5)**(-0.333333333333333) + k - 0.0833333333333333*54**0.333333333333333*(A*R*eta**2*kapa*(l*x*y/r)**0.25 - A*R*eta*kapa*(l*x*y/r)**0.25 - 2*2**0.5*R**2*(2*A*eta**4*kapa*x - 27*R*(l*y/r)**0.5*(eta - 1)**2)**0.5)**0.333333333333333/R"
       ]
      }
     ],
     "prompt_number": 22
    },
    {
     "cell_type": "code",
     "collapsed": false,
     "input": [
      "# Checking that there is only one solution\n",
      "solution_k = sym.solve(k_star, k, set=True)\n",
      "solution_k"
     ],
     "language": "python",
     "metadata": {},
     "outputs": [
      {
       "metadata": {},
       "output_type": "pyout",
       "prompt_number": 23,
       "text": [
        "([k],\n",
        " {(1.5874010519682*(0.333333333333333*A*R*eta**2*kapa*sqrt(x) + 0.198425131496025*(R*(A*eta**2*kapa*(l*x*y/r)**0.25 - A*eta*kapa*(l*x*y/r)**0.25 - 2.82842712474619*R*(2.0*A*eta**4*kapa*x - 27.0*R*(l*y/r)**0.5*(eta - 1.0)**2)**0.5))**(2/3))/(R*(R*(A*eta**2*kapa*(l*x*y/r)**0.25 - A*eta*kapa*(l*x*y/r)**0.25 - 2.82842712474619*R*(2.0*A*eta**4*kapa*x - 27.0*R*(l*y/r)**0.5*(eta - 1.0)**2)**0.5))**(1/3)),)})"
       ]
      }
     ],
     "prompt_number": 23
    },
    {
     "cell_type": "code",
     "collapsed": false,
     "input": [
      "# And this expression is solvable\n",
      "final_k = sym.solve(k_star, k)[0]\n",
      "final_k.simplify()"
     ],
     "language": "python",
     "metadata": {},
     "outputs": [
      {
       "metadata": {},
       "output_type": "pyout",
       "prompt_number": 24,
       "text": [
        "(0.5291336839894*A*R*eta**2*kapa*sqrt(x) + 0.314980262473718*(-R*(-A*eta**2*kapa*(l*x*y/r)**0.25 + A*eta*kapa*(l*x*y/r)**0.25 + 2.82842712474619*R*(2.0*A*eta**4*kapa*x - 27.0*R*(l*y/r)**0.5*(eta - 1.0)**2)**0.5))**(2/3))/(R*(-R*(-A*eta**2*kapa*(l*x*y/r)**0.25 + A*eta*kapa*(l*x*y/r)**0.25 + 2.82842712474619*R*(2.0*A*eta**4*kapa*x - 27.0*R*(l*y/r)**0.5*(eta - 1.0)**2)**0.5))**(1/3))"
       ]
      }
     ],
     "prompt_number": 24
    },
    {
     "cell_type": "code",
     "collapsed": false,
     "input": [],
     "language": "python",
     "metadata": {},
     "outputs": []
    }
   ],
   "metadata": {}
  }
 ]
}