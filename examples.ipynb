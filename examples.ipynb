{
 "metadata": {
  "name": "",
  "signature": "sha256:1d97f809b6b86cb39893d7c8302891eba888ec7e2f74af60d84a98e73af8e69a"
 },
 "nbformat": 3,
 "nbformat_minor": 0,
 "worksheets": [
  {
   "cells": [
    {
     "cell_type": "code",
     "collapsed": false,
     "input": [
      "%load_ext autoreload"
     ],
     "language": "python",
     "metadata": {},
     "outputs": [],
     "prompt_number": 1
    },
    {
     "cell_type": "code",
     "collapsed": false,
     "input": [
      "autoreload 2"
     ],
     "language": "python",
     "metadata": {},
     "outputs": [],
     "prompt_number": 2
    },
    {
     "cell_type": "code",
     "collapsed": false,
     "input": [
      "%matplotlib inline"
     ],
     "language": "python",
     "metadata": {},
     "outputs": [],
     "prompt_number": 3
    },
    {
     "cell_type": "code",
     "collapsed": true,
     "input": [
      "import numpy as np\n",
      "import sympy as sym\n",
      "\n",
      "import inputs\n",
      "import models\n",
      "import solvers"
     ],
     "language": "python",
     "metadata": {},
     "outputs": [],
     "prompt_number": 4
    },
    {
     "cell_type": "markdown",
     "metadata": {},
     "source": [
      "# Example: \n",
      "\n",
      "## Worker skill and firm productivity are $\\sim U[a, b]$..."
     ]
    },
    {
     "cell_type": "code",
     "collapsed": false,
     "input": [
      "# define some workers skill\n",
      "x, a, b = sym.var('x, a, b')\n",
      "skill_cdf = (x - a) / (b - a)\n",
      "skill_params = {'a': 1.0, 'b': 2.0}\n",
      "skill_bounds = [skill_params['a'], skill_params['b']]\n",
      "\n",
      "workers = inputs.Input(var=x,\n",
      "                       cdf=skill_cdf,\n",
      "                       params=skill_params,\n",
      "                       bounds=skill_bounds,\n",
      "                       )\n",
      "\n",
      "# define some firms\n",
      "y = sym.var('y')\n",
      "productivity_cdf = (y - a) / (b - a)\n",
      "productivity_params = skill_params\n",
      "productivity_bounds = skill_bounds\n",
      "\n",
      "firms = inputs.Input(var=y,\n",
      "                     cdf=productivity_cdf,\n",
      "                     params=productivity_params,\n",
      "                     bounds=productivity_bounds,\n",
      "                     )"
     ],
     "language": "python",
     "metadata": {},
     "outputs": [],
     "prompt_number": 109
    },
    {
     "cell_type": "markdown",
     "metadata": {},
     "source": [
      "## ...and production function is multiplicatively separable.\n",
      "A particularly attractive case arises under multiplicative separability of the form\n",
      "\n",
      "$$F(x, y, l, r) = A(x, y)B(l, r)$$\n",
      "\n",
      "In this case the condition for positive assortative matching can be written as \n",
      "\n",
      "$$\\frac{AA_{xy}}{A_xA_y}\\frac{BB_{lr}}{B_lB_r} \\ge 1$$\n",
      "\n",
      "If $B$ has constant elasticity of substitution form, then we obtain an even simpler condition\n",
      "\n",
      "$$\\frac{AA_{xy}}{A_xA_y} \\frac{1}{\\sigma_{lr}}\\ge 1$$\n",
      "\n",
      "where $\\sigma_{lr}$ is the elasticity of substitution between $l$ and $r$. \n",
      "\n",
      "Finally, if $A$ also has constant elasticity of substitution form, then we obtain an even simpler condition\n",
      "\n",
      "$$\\frac{1}{\\sigma_{xy}\\sigma_{lr}}\\ge 1 \\iff \\sigma_{xy}\\sigma_{lr} \\le 1$$\n",
      "\n",
      "where $\\sigma_{xy}$ is the elasticity of substitution between $x$ and $y$."
     ]
    },
    {
     "cell_type": "code",
     "collapsed": false,
     "input": [
      "# define symbolic expression for CES between x and y\n",
      "omega_A, sigma_A = sym.var('omega_A, sigma_A')\n",
      "A = ((omega_A * x**((sigma_A - 1) / sigma_A) + \n",
      "     (1 - omega_A) * y**((sigma_A - 1) / sigma_A))**(sigma_A / (sigma_A - 1))) \n",
      "\n",
      "# define symbolic expression for Cobb-Douglas between l and r\n",
      "l, r, omega_B, sigma_B = sym.var('l, r, omega_B, sigma_B')\n",
      "B = l**omega_B * r**(1 - omega_B)\n",
      "\n",
      "F = A * B"
     ],
     "language": "python",
     "metadata": {},
     "outputs": [],
     "prompt_number": 110
    },
    {
     "cell_type": "markdown",
     "metadata": {},
     "source": [
      "Create an instance of the `models.Model` class and an instance of the `solvers.ShootingSolver` class..."
     ]
    },
    {
     "cell_type": "markdown",
     "metadata": {},
     "source": [
      "### Positive assortative matching"
     ]
    },
    {
     "cell_type": "code",
     "collapsed": false,
     "input": [
      "F_params = {'omega_A':0.5, 'omega_B':0.45, 'sigma_A':0.95, 'sigma_B':1.0}\n",
      "\n",
      "model = models.Model(assortativity='positive',\n",
      "                     workers=workers,\n",
      "                     firms=firms,\n",
      "                     production=F,\n",
      "                     params=F_params)\n",
      "\n",
      "solver = solvers.ShootingSolver(model=model)"
     ],
     "language": "python",
     "metadata": {},
     "outputs": [],
     "prompt_number": 117
    },
    {
     "cell_type": "code",
     "collapsed": false,
     "input": [
      "solver.solve(1e1, tol=1e-6, number_knots=100, atol=1e-15, rtol=1e-12)"
     ],
     "language": "python",
     "metadata": {},
     "outputs": [
      {
       "output_type": "stream",
       "stream": "stdout",
       "text": [
        "Exhausted workers: initial guess of 5.0 for firm size is too high!\n",
        "Exhausted workers: initial guess of 2.5 for firm size is too high!\n",
        "Exhausted workers: initial guess of 1.25 for firm size is too high!\n",
        "Exhausted firms: initial guess of 0.625 for firm size is too low."
       ]
      },
      {
       "output_type": "stream",
       "stream": "stdout",
       "text": [
        "\n",
        "Exhausted firms: initial guess of 0.9375 for firm size is too low.\n",
        "Exhausted workers: initial guess of 1.09375 for firm size is too high!"
       ]
      },
      {
       "output_type": "stream",
       "stream": "stdout",
       "text": [
        "\n",
        "Exhausted workers: initial guess of 1.015625 for firm size is too high!\n",
        "Exhausted workers: initial guess of 0.9765625 for firm size is too high!"
       ]
      },
      {
       "output_type": "stream",
       "stream": "stdout",
       "text": [
        "\n",
        "Exhausted workers: initial guess of 0.95703125 for firm size is too high!\n",
        "Exhausted firms: Initial guess of 0.947265625 for firm size was too low!"
       ]
      },
      {
       "output_type": "stream",
       "stream": "stdout",
       "text": [
        "\n",
        "Exhausted workers: initial guess of 0.9521484375 for firm size is too high!\n",
        "Exhausted workers: initial guess of 0.94970703125 for firm size is too high!"
       ]
      },
      {
       "output_type": "stream",
       "stream": "stdout",
       "text": [
        "\n",
        "Exhausted workers: initial guess of 0.948486328125 for firm size is too high!\n",
        "Exhausted workers: initial guess of 0.947875976562 for firm size is too high!"
       ]
      },
      {
       "output_type": "stream",
       "stream": "stdout",
       "text": [
        "\n",
        "Exhausted workers: initial guess of 0.947570800781 for firm size is too high!\n",
        "Exhausted workers: initial guess of 0.947418212891 for firm size is too high!"
       ]
      },
      {
       "output_type": "stream",
       "stream": "stdout",
       "text": [
        "\n",
        "Exhausted workers: initial guess of 0.947341918945 for firm size is too high!\n",
        "Exhausted workers: initial guess of 0.947303771973 for firm size is too high!"
       ]
      },
      {
       "output_type": "stream",
       "stream": "stdout",
       "text": [
        "\n",
        "Exhausted workers: initial guess of 0.947284698486 for firm size is too high!\n",
        "Exhausted firms: Initial guess of 0.947275161743 for firm size was too low!"
       ]
      },
      {
       "output_type": "stream",
       "stream": "stdout",
       "text": [
        "\n",
        "Exhausted workers: initial guess of 0.947279930115 for firm size is too high!\n",
        "Exhausted firms: Initial guess of 0.947277545929 for firm size was too low!"
       ]
      },
      {
       "output_type": "stream",
       "stream": "stdout",
       "text": [
        "\n",
        "Success! All workers and firms are matched\n"
       ]
      }
     ],
     "prompt_number": 118
    },
    {
     "cell_type": "code",
     "collapsed": false,
     "input": [
      "# examine the solution attribute\n",
      "solver.solution"
     ],
     "language": "python",
     "metadata": {},
     "outputs": [
      {
       "metadata": {},
       "output_type": "pyout",
       "prompt_number": 119,
       "text": [
        "array([[ 2.        ,  2.        ,  0.94727874,  0.92721346,  1.07351395],\n",
        "       [ 1.98989899,  1.9893409 ,  0.94800639,  0.92201172,  1.06831144],\n",
        "       [ 1.97979798,  1.97869002,  0.9487405 ,  0.91681295,  1.06311037],\n",
        "       [ 1.96969697,  1.96804741,  0.94948119,  0.91161717,  1.05791077],\n",
        "       [ 1.95959596,  1.95741313,  0.95022857,  0.90642439,  1.05271264],\n",
        "       [ 1.94949495,  1.94678726,  0.95098275,  0.90123461,  1.04751602],\n",
        "       [ 1.93939394,  1.93616984,  0.95174384,  0.89604786,  1.04232093],\n",
        "       [ 1.92929293,  1.92556096,  0.95251198,  0.89086415,  1.03712738],\n",
        "       [ 1.91919192,  1.91496066,  0.95328727,  0.88568348,  1.03193541],\n",
        "       [ 1.90909091,  1.90436903,  0.95406985,  0.88050588,  1.02674503],\n",
        "       [ 1.8989899 ,  1.89378611,  0.95485984,  0.87533136,  1.02155627],\n",
        "       [ 1.88888889,  1.883212  ,  0.95565738,  0.87015993,  1.01636915],\n",
        "       [ 1.87878788,  1.87264674,  0.9564626 ,  0.8649916 ,  1.0111837 ],\n",
        "       [ 1.86868687,  1.86209042,  0.95727564,  0.85982639,  1.00599995],\n",
        "       [ 1.85858586,  1.8515431 ,  0.95809665,  0.85466432,  1.00081791],\n",
        "       [ 1.84848485,  1.84100487,  0.95892575,  0.8495054 ,  0.99563763],\n",
        "       [ 1.83838384,  1.83047578,  0.95976312,  0.84434964,  0.99045911],\n",
        "       [ 1.82828283,  1.81995593,  0.96060889,  0.83919705,  0.9852824 ],\n",
        "       [ 1.81818182,  1.80944538,  0.96146322,  0.83404766,  0.98010752],\n",
        "       [ 1.80808081,  1.79894421,  0.96232629,  0.82890148,  0.9749345 ],\n",
        "       [ 1.7979798 ,  1.7884525 ,  0.96319824,  0.82375852,  0.96976337],\n",
        "       [ 1.78787879,  1.77797034,  0.96407926,  0.81861879,  0.96459415],\n",
        "       [ 1.77777778,  1.7674978 ,  0.9649695 ,  0.81348233,  0.95942689],\n",
        "       [ 1.76767677,  1.75703497,  0.96586917,  0.80834913,  0.95426161],\n",
        "       [ 1.75757576,  1.74658193,  0.96677843,  0.80321921,  0.94909834],\n",
        "       [ 1.74747475,  1.73613877,  0.96769747,  0.7980926 ,  0.94393712],\n",
        "       [ 1.73737374,  1.72570558,  0.96862649,  0.7929693 ,  0.93877797],\n",
        "       [ 1.72727273,  1.71528245,  0.96956568,  0.78784934,  0.93362095],\n",
        "       [ 1.71717172,  1.70486946,  0.97051526,  0.78273273,  0.92846607],\n",
        "       [ 1.70707071,  1.69446671,  0.97147543,  0.77761948,  0.92331338],\n",
        "       [ 1.6969697 ,  1.6840743 ,  0.9724464 ,  0.77250962,  0.91816291],\n",
        "       [ 1.68686869,  1.67369231,  0.9734284 ,  0.76740316,  0.9130147 ],\n",
        "       [ 1.67676768,  1.66332086,  0.97442165,  0.76230011,  0.90786878],\n",
        "       [ 1.66666667,  1.65296003,  0.97542639,  0.7572005 ,  0.90272521],\n",
        "       [ 1.65656566,  1.64260993,  0.97644286,  0.75210435,  0.89758401],\n",
        "       [ 1.64646465,  1.63227066,  0.97747131,  0.74701166,  0.89244523],\n",
        "       [ 1.63636364,  1.62194233,  0.97851198,  0.74192247,  0.88730892],\n",
        "       [ 1.62626263,  1.61162504,  0.97956516,  0.73683678,  0.8821751 ],\n",
        "       [ 1.61616162,  1.60131891,  0.98063109,  0.73175461,  0.87704384],\n",
        "       [ 1.60606061,  1.59102404,  0.98171007,  0.72667599,  0.87191517],\n",
        "       [ 1.5959596 ,  1.58074055,  0.98280237,  0.72160093,  0.86678913],\n",
        "       [ 1.58585859,  1.57046855,  0.9839083 ,  0.71652946,  0.86166579],\n",
        "       [ 1.57575758,  1.56020816,  0.98502815,  0.71146158,  0.85654517],\n",
        "       [ 1.56565657,  1.54995951,  0.98616224,  0.70639733,  0.85142735],\n",
        "       [ 1.55555556,  1.53972271,  0.98731089,  0.70133672,  0.84631235],\n",
        "       [ 1.54545455,  1.52949789,  0.98847444,  0.69627976,  0.84120025],\n",
        "       [ 1.53535354,  1.51928518,  0.98965322,  0.69122649,  0.83609108],\n",
        "       [ 1.52525253,  1.50908471,  0.99084759,  0.68617692,  0.83098491],\n",
        "       [ 1.51515152,  1.4988966 ,  0.99205791,  0.68113106,  0.82588178],\n",
        "       [ 1.50505051,  1.488721  ,  0.99328456,  0.67608896,  0.82078177],\n",
        "       [ 1.49494949,  1.47855804,  0.99452792,  0.67105061,  0.81568492],\n",
        "       [ 1.48484848,  1.46840787,  0.9957884 ,  0.66601605,  0.8105913 ],\n",
        "       [ 1.47474747,  1.45827063,  0.99706641,  0.6609853 ,  0.80550096],\n",
        "       [ 1.46464646,  1.44814646,  0.99836238,  0.65595837,  0.80041398],\n",
        "       [ 1.45454545,  1.43803552,  0.99967674,  0.6509353 ,  0.79533041],\n",
        "       [ 1.44444444,  1.42793796,  1.00100995,  0.6459161 ,  0.79025032],\n",
        "       [ 1.43434343,  1.41785394,  1.00236248,  0.6409008 ,  0.78517378],\n",
        "       [ 1.42424242,  1.40778361,  1.00373481,  0.63588942,  0.78010086],\n",
        "       [ 1.41414141,  1.39772714,  1.00512746,  0.63088197,  0.77503164],\n",
        "       [ 1.4040404 ,  1.3876847 ,  1.00654093,  0.6258785 ,  0.76996618],\n",
        "       [ 1.39393939,  1.37765646,  1.00797576,  0.62087902,  0.76490456],\n",
        "       [ 1.38383838,  1.36764259,  1.00943252,  0.61588355,  0.75984685],\n",
        "       [ 1.37373737,  1.35764328,  1.01091176,  0.61089212,  0.75479315],\n",
        "       [ 1.36363636,  1.34765869,  1.0124141 ,  0.60590475,  0.74974352],\n",
        "       [ 1.35353535,  1.33768903,  1.01394014,  0.60092148,  0.74469806],\n",
        "       [ 1.34343434,  1.32773449,  1.01549052,  0.59594232,  0.73965684],\n",
        "       [ 1.33333333,  1.31779525,  1.01706591,  0.5909673 ,  0.73461997],\n",
        "       [ 1.32323232,  1.30787151,  1.01866698,  0.58599645,  0.72958752],\n",
        "       [ 1.31313131,  1.29796349,  1.02029445,  0.5810298 ,  0.72455959],\n",
        "       [ 1.3030303 ,  1.2880714 ,  1.02194905,  0.57606737,  0.71953628],\n",
        "       [ 1.29292929,  1.27819544,  1.02363155,  0.57110918,  0.71451768],\n",
        "       [ 1.28282828,  1.26833584,  1.02534273,  0.56615528,  0.7095039 ],\n",
        "       [ 1.27272727,  1.25849281,  1.02708341,  0.56120568,  0.70449505],\n",
        "       [ 1.26262626,  1.2486666 ,  1.02885445,  0.55626041,  0.69949122],\n",
        "       [ 1.25252525,  1.23885744,  1.03065673,  0.55131951,  0.69449253],\n",
        "       [ 1.24242424,  1.22906557,  1.03249118,  0.54638299,  0.68949909],\n",
        "       [ 1.23232323,  1.21929124,  1.03435873,  0.54145091,  0.68451102],\n",
        "       [ 1.22222222,  1.2095347 ,  1.03626039,  0.53652327,  0.67952844],\n",
        "       [ 1.21212121,  1.19979621,  1.03819718,  0.53160012,  0.67455146],\n",
        "       [ 1.2020202 ,  1.19007604,  1.04017018,  0.52668148,  0.66958023],\n",
        "       [ 1.19191919,  1.18037446,  1.04218049,  0.52176739,  0.66461486],\n",
        "       [ 1.18181818,  1.17069175,  1.04422929,  0.51685788,  0.6596555 ],\n",
        "       [ 1.17171717,  1.16102821,  1.04631777,  0.51195298,  0.65470228],\n",
        "       [ 1.16161616,  1.15138412,  1.04844719,  0.50705273,  0.64975534],\n",
        "       [ 1.15151515,  1.1417598 ,  1.05061885,  0.50215715,  0.64481483],\n",
        "       [ 1.14141414,  1.13215554,  1.05283413,  0.49726629,  0.63988091],\n",
        "       [ 1.13131313,  1.12257168,  1.05509444,  0.49238018,  0.63495372],\n",
        "       [ 1.12121212,  1.11300853,  1.05740125,  0.48749885,  0.63003343],\n",
        "       [ 1.11111111,  1.10346644,  1.05975613,  0.48262234,  0.6251202 ],\n",
        "       [ 1.1010101 ,  1.09394575,  1.06216067,  0.47775069,  0.62021421],\n",
        "       [ 1.09090909,  1.08444682,  1.06461656,  0.47288393,  0.61531563],\n",
        "       [ 1.08080808,  1.07497001,  1.06712555,  0.4680221 ,  0.61042464],\n",
        "       [ 1.07070707,  1.0655157 ,  1.06968947,  0.46316524,  0.60554143],\n",
        "       [ 1.06060606,  1.05608427,  1.07231025,  0.45831339,  0.60066618],\n",
        "       [ 1.05050505,  1.04667612,  1.07498989,  0.45346659,  0.59579911],\n",
        "       [ 1.04040404,  1.03729165,  1.07773047,  0.44862488,  0.59094042],\n",
        "       [ 1.03030303,  1.02793129,  1.08053419,  0.4437883 ,  0.58609031],\n",
        "       [ 1.02020202,  1.01859547,  1.08340335,  0.43895689,  0.581249  ],\n",
        "       [ 1.01010101,  1.00928463,  1.08634034,  0.4341307 ,  0.57641673],\n",
        "       [ 1.        ,  0.99999923,  1.08934768,  0.42930976,  0.57159372]])"
       ]
      }
     ],
     "prompt_number": 119
    },
    {
     "cell_type": "markdown",
     "metadata": {},
     "source": [
      "### Negative assortative matching"
     ]
    },
    {
     "cell_type": "code",
     "collapsed": false,
     "input": [
      "# negative assortativity requires that sigma_A * sigma_B > 1\n",
      "F_params = {'omega_A':0.25, 'omega_B':0.5, 'sigma_A':1.5, 'sigma_B':1.0}"
     ],
     "language": "python",
     "metadata": {},
     "outputs": [],
     "prompt_number": 120
    },
    {
     "cell_type": "code",
     "collapsed": false,
     "input": [
      "model = models.Model(assortativity='negative',\n",
      "                     workers=workers,\n",
      "                     firms=firms,\n",
      "                     production=F,\n",
      "                     params=F_params)\n",
      "\n",
      "solver = solvers.ShootingSolver(model=model)"
     ],
     "language": "python",
     "metadata": {},
     "outputs": [],
     "prompt_number": 121
    },
    {
     "cell_type": "code",
     "collapsed": false,
     "input": [
      "solver.solve(2e0, tol=1e-6, number_knots=100, atol=1e-15, rtol=1e-12)"
     ],
     "language": "python",
     "metadata": {},
     "outputs": [
      {
       "output_type": "stream",
       "stream": "stdout",
       "text": [
        "Exhausted firms: initial guess of 1.0 for firm size is too low.\n",
        "Exhausted firms: initial guess of 1.5 for firm size is too low.\n",
        "Exhausted firms: initial guess of 1.75 for firm size is too low."
       ]
      },
      {
       "output_type": "stream",
       "stream": "stdout",
       "text": [
        "\n",
        "Exhausted workers: initial guess of 1.875 for firm size is too high!\n",
        "Exhausted firms: Initial guess of 1.8125 for firm size was too low!"
       ]
      },
      {
       "output_type": "stream",
       "stream": "stdout",
       "text": [
        "\n",
        "Exhausted workers: initial guess of 1.84375 for firm size is too high!\n",
        "Exhausted firms: Initial guess of 1.828125 for firm size was too low!"
       ]
      },
      {
       "output_type": "stream",
       "stream": "stdout",
       "text": [
        "\n",
        "Exhausted workers: initial guess of 1.8359375 for firm size is too high!\n",
        "Exhausted workers: initial guess of 1.83203125 for firm size is too high!"
       ]
      },
      {
       "output_type": "stream",
       "stream": "stdout",
       "text": [
        "\n",
        "Exhausted workers: initial guess of 1.830078125 for firm size is too high!\n",
        "Exhausted firms: Initial guess of 1.8291015625 for firm size was too low!"
       ]
      },
      {
       "output_type": "stream",
       "stream": "stdout",
       "text": [
        "\n",
        "Exhausted firms: Initial guess of 1.82958984375 for firm size was too low!\n",
        "Exhausted workers: initial guess of 1.82983398438 for firm size is too high!"
       ]
      },
      {
       "output_type": "stream",
       "stream": "stdout",
       "text": [
        "\n",
        "Exhausted workers: initial guess of 1.82971191406 for firm size is too high!\n",
        "Exhausted workers: initial guess of 1.82965087891 for firm size is too high!"
       ]
      },
      {
       "output_type": "stream",
       "stream": "stdout",
       "text": [
        "\n",
        "Exhausted firms: Initial guess of 1.82962036133 for firm size was too low!\n",
        "Exhausted firms: Initial guess of 1.82963562012 for firm size was too low!"
       ]
      },
      {
       "output_type": "stream",
       "stream": "stdout",
       "text": [
        "\n",
        "Exhausted workers: initial guess of 1.82964324951 for firm size is too high!\n",
        "Success! All workers and firms are matched"
       ]
      },
      {
       "output_type": "stream",
       "stream": "stdout",
       "text": [
        "\n"
       ]
      }
     ],
     "prompt_number": 122
    },
    {
     "cell_type": "code",
     "collapsed": false,
     "input": [
      "solver.solution"
     ],
     "language": "python",
     "metadata": {},
     "outputs": [
      {
       "metadata": {},
       "output_type": "pyout",
       "prompt_number": 123,
       "text": [
        "array([[ 1.        ,  2.        ,  1.82963943,  0.63070519,  1.15396309],\n",
        "       [ 1.01010101,  1.99445543,  1.8139699 ,  0.63336763,  1.14890981],\n",
        "       [ 1.02020202,  1.98886292,  1.79840128,  0.63602359,  1.14382564],\n",
        "       [ 1.03030303,  1.98322193,  1.78293105,  0.63867324,  1.13871035],\n",
        "       [ 1.04040404,  1.97753195,  1.7675568 ,  0.64131672,  1.13356372],\n",
        "       [ 1.05050505,  1.9717924 ,  1.75227613,  0.64395417,  1.12838552],\n",
        "       [ 1.06060606,  1.96600274,  1.73708673,  0.64658573,  1.12317549],\n",
        "       [ 1.07070707,  1.96016238,  1.72198631,  0.64921155,  1.11793341],\n",
        "       [ 1.08080808,  1.95427073,  1.70697267,  0.65183176,  1.11265901],\n",
        "       [ 1.09090909,  1.94832717,  1.69204363,  0.6544465 ,  1.10735203],\n",
        "       [ 1.1010101 ,  1.94233109,  1.67719706,  0.65705589,  1.1020122 ],\n",
        "       [ 1.11111111,  1.93628185,  1.66243087,  0.65966006,  1.09663925],\n",
        "       [ 1.12121212,  1.93017878,  1.64774303,  0.66225916,  1.0912329 ],\n",
        "       [ 1.13131313,  1.9240212 ,  1.63313152,  0.66485329,  1.08579286],\n",
        "       [ 1.14141414,  1.91780843,  1.6185944 ,  0.66744258,  1.08031882],\n",
        "       [ 1.15151515,  1.91153975,  1.60412973,  0.67002716,  1.07481048],\n",
        "       [ 1.16161616,  1.90521442,  1.58973562,  0.67260714,  1.06926753],\n",
        "       [ 1.17171717,  1.89883171,  1.57541021,  0.67518265,  1.06368964],\n",
        "       [ 1.18181818,  1.89239082,  1.56115168,  0.67775379,  1.05807647],\n",
        "       [ 1.19191919,  1.88589098,  1.54695821,  0.68032069,  1.05242768],\n",
        "       [ 1.2020202 ,  1.87933136,  1.53282805,  0.68288346,  1.04674293],\n",
        "       [ 1.21212121,  1.87271112,  1.51875945,  0.68544221,  1.04102184],\n",
        "       [ 1.22222222,  1.86602941,  1.5047507 ,  0.68799706,  1.03526405],\n",
        "       [ 1.23232323,  1.85928533,  1.49080009,  0.6905481 ,  1.02946917],\n",
        "       [ 1.24242424,  1.85247797,  1.47690596,  0.69309546,  1.02363682],\n",
        "       [ 1.25252525,  1.8456064 ,  1.46306666,  0.69563924,  1.01776657],\n",
        "       [ 1.26262626,  1.83866965,  1.44928056,  0.69817954,  1.01185803],\n",
        "       [ 1.27272727,  1.83166672,  1.43554604,  0.70071647,  1.00591076],\n",
        "       [ 1.28282828,  1.8245966 ,  1.42186151,  0.70325014,  0.99992431],\n",
        "       [ 1.29292929,  1.81745822,  1.4082254 ,  0.70578065,  0.99389824],\n",
        "       [ 1.3030303 ,  1.8102505 ,  1.39463613,  0.7083081 ,  0.98783207],\n",
        "       [ 1.31313131,  1.80297232,  1.38109216,  0.7108326 ,  0.98172534],\n",
        "       [ 1.32323232,  1.79562254,  1.36759195,  0.71335425,  0.97557753],\n",
        "       [ 1.33333333,  1.78819996,  1.35413396,  0.71587315,  0.96938815],\n",
        "       [ 1.34343434,  1.78070335,  1.34071669,  0.7183894 ,  0.96315666],\n",
        "       [ 1.35353535,  1.77313145,  1.32733862,  0.7209031 ,  0.95688253],\n",
        "       [ 1.36363636,  1.76548296,  1.31399825,  0.72341436,  0.9505652 ],\n",
        "       [ 1.37373737,  1.75775653,  1.30069407,  0.72592326,  0.94420409],\n",
        "       [ 1.38383838,  1.74995077,  1.2874246 ,  0.72842992,  0.93779861],\n",
        "       [ 1.39393939,  1.74206424,  1.27418835,  0.73093443,  0.93134814],\n",
        "       [ 1.4040404 ,  1.73409545,  1.26098383,  0.73343689,  0.92485206],\n",
        "       [ 1.41414141,  1.72604288,  1.24780954,  0.73593741,  0.91830972],\n",
        "       [ 1.42424242,  1.71790493,  1.23466401,  0.73843607,  0.91172044],\n",
        "       [ 1.43434343,  1.70967996,  1.22154574,  0.74093298,  0.90508353],\n",
        "       [ 1.44444444,  1.70136627,  1.20845323,  0.74342825,  0.89839827],\n",
        "       [ 1.45454545,  1.69296211,  1.19538499,  0.74592196,  0.89166391],\n",
        "       [ 1.46464646,  1.68446564,  1.1823395 ,  0.74841423,  0.8848797 ],\n",
        "       [ 1.47474747,  1.67587499,  1.16931526,  0.75090514,  0.87804484],\n",
        "       [ 1.48484848,  1.66718818,  1.15631073,  0.75339482,  0.87115851],\n",
        "       [ 1.49494949,  1.6584032 ,  1.14332438,  0.75588334,  0.86421986],\n",
        "       [ 1.50505051,  1.64951792,  1.13035466,  0.75837083,  0.857228  ],\n",
        "       [ 1.51515152,  1.64053017,  1.1174    ,  0.76085738,  0.85018204],\n",
        "       [ 1.52525253,  1.63143766,  1.10445882,  0.7633431 ,  0.84308102],\n",
        "       [ 1.53535354,  1.62223803,  1.09152952,  0.76582809,  0.83592397],\n",
        "       [ 1.54545455,  1.61292883,  1.07861047,  0.76831246,  0.82870986],\n",
        "       [ 1.55555556,  1.60350749,  1.06570002,  0.77079632,  0.82143766],\n",
        "       [ 1.56565657,  1.59397135,  1.05279651,  0.77327977,  0.81410625],\n",
        "       [ 1.57575758,  1.58431763,  1.03989823,  0.77576294,  0.8067145 ],\n",
        "       [ 1.58585859,  1.57454345,  1.02700344,  0.77824592,  0.79926124],\n",
        "       [ 1.5959596 ,  1.56464577,  1.01411038,  0.78072883,  0.79174522],\n",
        "       [ 1.60606061,  1.55462144,  1.00121726,  0.7832118 ,  0.78416517],\n",
        "       [ 1.61616162,  1.54446719,  0.98832221,  0.78569493,  0.77651975],\n",
        "       [ 1.62626263,  1.53417955,  0.97542336,  0.78817835,  0.76880757],\n",
        "       [ 1.63636364,  1.52375493,  0.96251878,  0.79066217,  0.76102719],\n",
        "       [ 1.64646465,  1.51318956,  0.94960647,  0.79314653,  0.75317708],\n",
        "       [ 1.65656566,  1.50247948,  0.9366844 ,  0.79563155,  0.74525566],\n",
        "       [ 1.66666667,  1.49162056,  0.92375047,  0.79811736,  0.73726129],\n",
        "       [ 1.67676768,  1.48060843,  0.91080252,  0.80060409,  0.72919223],\n",
        "       [ 1.68686869,  1.46943854,  0.89783831,  0.80309188,  0.72104666],\n",
        "       [ 1.6969697 ,  1.45810606,  0.88485554,  0.80558087,  0.7128227 ],\n",
        "       [ 1.70707071,  1.44660594,  0.87185182,  0.80807121,  0.70451835],\n",
        "       [ 1.71717172,  1.43493284,  0.85882466,  0.81056303,  0.69613152],\n",
        "       [ 1.72727273,  1.42308114,  0.84577149,  0.8130565 ,  0.68766001],\n",
        "       [ 1.73737374,  1.4110449 ,  0.83268965,  0.81555176,  0.67910151],\n",
        "       [ 1.74747475,  1.39881782,  0.81957633,  0.818049  ,  0.67045359],\n",
        "       [ 1.75757576,  1.38639327,  0.80642863,  0.82054836,  0.66171369],\n",
        "       [ 1.76767677,  1.37376418,  0.79324351,  0.82305002,  0.65287909],\n",
        "       [ 1.77777778,  1.36092308,  0.78001778,  0.82555417,  0.64394693],\n",
        "       [ 1.78787879,  1.34786201,  0.76674808,  0.82806099,  0.63491418],\n",
        "       [ 1.7979798 ,  1.33457251,  0.75343092,  0.83057067,  0.62577763],\n",
        "       [ 1.80808081,  1.32104554,  0.74006258,  0.83308343,  0.61653387],\n",
        "       [ 1.81818182,  1.30727147,  0.72663915,  0.83559946,  0.60717929],\n",
        "       [ 1.82828283,  1.29323999,  0.71315651,  0.838119  ,  0.59771002],\n",
        "       [ 1.83838384,  1.27894004,  0.69961027,  0.84064227,  0.58812196],\n",
        "       [ 1.84848485,  1.26435978,  0.68599577,  0.84316952,  0.57841073],\n",
        "       [ 1.85858586,  1.24948644,  0.67230807,  0.845701  ,  0.56857161],\n",
        "       [ 1.86868687,  1.23430627,  0.65854188,  0.84823698,  0.55859958],\n",
        "       [ 1.87878788,  1.2188044 ,  0.64469153,  0.85077776,  0.54848922],\n",
        "       [ 1.88888889,  1.20296473,  0.63075097,  0.85332362,  0.5382347 ],\n",
        "       [ 1.8989899 ,  1.1867698 ,  0.61671366,  0.85587489,  0.52782973],\n",
        "       [ 1.90909091,  1.17020058,  0.60257255,  0.85843191,  0.51726751],\n",
        "       [ 1.91919192,  1.15323628,  0.58832003,  0.86099505,  0.50654064],\n",
        "       [ 1.92929293,  1.13585415,  0.57394783,  0.86356468,  0.49564108],\n",
        "       [ 1.93939394,  1.11802918,  0.55944692,  0.86614124,  0.48456005],\n",
        "       [ 1.94949495,  1.09973379,  0.54480745,  0.86872516,  0.47328794],\n",
        "       [ 1.95959596,  1.08093744,  0.53001859,  0.87131693,  0.46181417],\n",
        "       [ 1.96969697,  1.06160617,  0.51506841,  0.87391708,  0.45012708],\n",
        "       [ 1.97979798,  1.04170206,  0.4999437 ,  0.87652617,  0.43821374],\n",
        "       [ 1.98989899,  1.02118254,  0.48462974,  0.87914484,  0.42605973],\n",
        "       [ 2.        ,  0.99999956,  0.46911007,  0.88177376,  0.41364895]])"
       ]
      }
     ],
     "prompt_number": 123
    },
    {
     "cell_type": "markdown",
     "metadata": {},
     "source": [
      "# Example:\n",
      "\n",
      "Multiplicative separability with log-normal worker skill and firm productivity distributions..."
     ]
    },
    {
     "cell_type": "code",
     "collapsed": false,
     "input": [
      "# define some workers skill\n",
      "mu1, sigma1 = sym.var('mu1, sigma1')\n",
      "skill_cdf = 0.5 + 0.5 * sym.erf((sym.log(x) - mu1) / sym.sqrt(2 * sigma1**2))\n",
      "skill_params = {'mu1': 0.0, 'sigma1': 1.0}\n",
      "skill_bounds = [1e-3, 5e1]\n",
      "\n",
      "workers = inputs.Input(var=x,\n",
      "                       cdf=skill_cdf,\n",
      "                       params=skill_params,\n",
      "                       bounds=skill_bounds,\n",
      "                       )\n",
      "\n",
      "# define some firms\n",
      "mu2, sigma2 = sym.var('mu2, sigma2')\n",
      "productivity_cdf = 0.5 + 0.5 * sym.erf((sym.log(y) - mu2) / sym.sqrt(2 * sigma2**2))\n",
      "productivity_params = {'mu2': 0.0, 'sigma2': 1.0}\n",
      "productivity_bounds = [1e-3, 5e1]\n",
      "\n",
      "firms = inputs.Input(var=y,\n",
      "                     cdf=productivity_cdf,\n",
      "                     params=productivity_params,\n",
      "                     bounds=productivity_bounds,\n",
      "                     )\n"
     ],
     "language": "python",
     "metadata": {},
     "outputs": [],
     "prompt_number": 124
    },
    {
     "cell_type": "markdown",
     "metadata": {},
     "source": [
      "### Positive assortative matching"
     ]
    },
    {
     "cell_type": "code",
     "collapsed": false,
     "input": [
      "F_params = {'omega_A':0.5, 'omega_B':0.45, 'sigma_A':0.95, 'sigma_B':1.0}\n",
      "\n",
      "model = models.Model('positive',\n",
      "                     workers=workers,\n",
      "                     firms=firms,\n",
      "                     production=F,\n",
      "                     params=F_params)\n",
      "\n",
      "solver = solvers.ShootingSolver(model=model)"
     ],
     "language": "python",
     "metadata": {},
     "outputs": [],
     "prompt_number": 125
    },
    {
     "cell_type": "code",
     "collapsed": false,
     "input": [
      "solver.solve(1e0, tol=1e-4, number_knots=1000, integrator='lsoda',\n",
      "             with_jacobian=True, atol=1e-9, rtol=1e-6)"
     ],
     "language": "python",
     "metadata": {},
     "outputs": [
      {
       "output_type": "stream",
       "stream": "stdout",
       "text": [
        "Exhausted firms: initial guess of 0.5 for firm size is too low.\n",
        "Exhausted workers: initial guess of 0.75 for firm size is too high!"
       ]
      },
      {
       "output_type": "stream",
       "stream": "stdout",
       "text": [
        "\n",
        "Exhausted workers: initial guess of 0.625 for firm size is too high!"
       ]
      },
      {
       "output_type": "stream",
       "stream": "stdout",
       "text": [
        "\n",
        "Exhausted firms: initial guess of 0.5625 for firm size is too low."
       ]
      },
      {
       "output_type": "stream",
       "stream": "stdout",
       "text": [
        "\n",
        "Exhausted workers: initial guess of 0.59375 for firm size is too high!"
       ]
      },
      {
       "output_type": "stream",
       "stream": "stdout",
       "text": [
        "\n",
        "Exhausted workers: initial guess of 0.578125 for firm size is too high!"
       ]
      },
      {
       "output_type": "stream",
       "stream": "stdout",
       "text": [
        "\n",
        "Exhausted workers: initial guess of 0.5703125 for firm size is too high!"
       ]
      },
      {
       "output_type": "stream",
       "stream": "stdout",
       "text": [
        "\n",
        "Exhausted firms: initial guess of 0.56640625 for firm size is too low."
       ]
      },
      {
       "output_type": "stream",
       "stream": "stdout",
       "text": [
        "\n",
        "Exhausted firms: initial guess of 0.568359375 for firm size is too low."
       ]
      },
      {
       "output_type": "stream",
       "stream": "stdout",
       "text": [
        "\n",
        "Exhausted firms: initial guess of 0.5693359375 for firm size is too low."
       ]
      },
      {
       "output_type": "stream",
       "stream": "stdout",
       "text": [
        "\n",
        "Exhausted firms: initial guess of 0.56982421875 for firm size is too low."
       ]
      },
      {
       "output_type": "stream",
       "stream": "stdout",
       "text": [
        "\n",
        "Exhausted firms: initial guess of 0.570068359375 for firm size is too low."
       ]
      },
      {
       "output_type": "stream",
       "stream": "stdout",
       "text": [
        "\n",
        "Exhausted workers: initial guess of 0.570190429688 for firm size is too high!"
       ]
      },
      {
       "output_type": "stream",
       "stream": "stdout",
       "text": [
        "\n",
        "Exhausted firms: initial guess of 0.570129394531 for firm size is too low."
       ]
      },
      {
       "output_type": "stream",
       "stream": "stdout",
       "text": [
        "\n",
        "Exhausted workers: initial guess of 0.570159912109 for firm size is too high!"
       ]
      },
      {
       "output_type": "stream",
       "stream": "stdout",
       "text": [
        "\n",
        "Exhausted workers: initial guess of 0.57014465332 for firm size is too high!"
       ]
      },
      {
       "output_type": "stream",
       "stream": "stdout",
       "text": [
        "\n",
        "Exhausted workers: initial guess of 0.570137023926 for firm size is too high!"
       ]
      },
      {
       "output_type": "stream",
       "stream": "stdout",
       "text": [
        "\n",
        "Exhausted workers: initial guess of 0.570133209229 for firm size is too high!"
       ]
      },
      {
       "output_type": "stream",
       "stream": "stdout",
       "text": [
        "\n",
        "Exhausted workers: initial guess of 0.57013130188 for firm size is too high!"
       ]
      },
      {
       "output_type": "stream",
       "stream": "stdout",
       "text": [
        "\n",
        "Exhausted workers: initial guess of 0.570130348206 for firm size is too high!"
       ]
      },
      {
       "output_type": "stream",
       "stream": "stdout",
       "text": [
        "\n",
        "Exhausted firms: initial guess of 0.570129871368 for firm size is too low."
       ]
      },
      {
       "output_type": "stream",
       "stream": "stdout",
       "text": [
        "\n",
        "Exhausted firms: initial guess of 0.570130109787 for firm size is too low."
       ]
      },
      {
       "output_type": "stream",
       "stream": "stdout",
       "text": [
        "\n",
        "Exhausted firms: initial guess of 0.570130228996 for firm size is too low."
       ]
      },
      {
       "output_type": "stream",
       "stream": "stdout",
       "text": [
        "\n",
        "Exhausted firms: initial guess of 0.570130288601 for firm size is too low."
       ]
      },
      {
       "output_type": "stream",
       "stream": "stdout",
       "text": [
        "\n",
        "Exhausted workers: initial guess of 0.570130318403 for firm size is too high!"
       ]
      },
      {
       "output_type": "stream",
       "stream": "stdout",
       "text": [
        "\n",
        "Exhausted firms: initial guess of 0.570130303502 for firm size is too low."
       ]
      },
      {
       "output_type": "stream",
       "stream": "stdout",
       "text": [
        "\n",
        "Exhausted workers: initial guess of 0.570130310953 for firm size is too high!"
       ]
      },
      {
       "output_type": "stream",
       "stream": "stdout",
       "text": [
        "\n",
        "Exhausted firms: initial guess of 0.570130307227 for firm size is too low."
       ]
      },
      {
       "output_type": "stream",
       "stream": "stdout",
       "text": [
        "\n",
        "Exhausted firms: initial guess of 0.57013030909 for firm size is too low."
       ]
      },
      {
       "output_type": "stream",
       "stream": "stdout",
       "text": [
        "\n",
        "Exhausted workers: initial guess of 0.570130310021 for firm size is too high!"
       ]
      },
      {
       "output_type": "stream",
       "stream": "stdout",
       "text": [
        "\n",
        "Exhausted workers: initial guess of 0.570130309556 for firm size is too high!"
       ]
      },
      {
       "output_type": "stream",
       "stream": "stdout",
       "text": [
        "\n",
        "Exhausted workers: initial guess of 0.570130309323 for firm size is too high!"
       ]
      },
      {
       "output_type": "stream",
       "stream": "stdout",
       "text": [
        "\n",
        "Exhausted firms: initial guess of 0.570130309206 for firm size is too low."
       ]
      },
      {
       "output_type": "stream",
       "stream": "stdout",
       "text": [
        "\n",
        "Exhausted workers: initial guess of 0.570130309265 for firm size is too high!"
       ]
      },
      {
       "output_type": "stream",
       "stream": "stdout",
       "text": [
        "\n",
        "Exhausted firms: initial guess of 0.570130309236 for firm size is too low."
       ]
      },
      {
       "output_type": "stream",
       "stream": "stdout",
       "text": [
        "\n",
        "Exhausted firms: initial guess of 0.57013030925 for firm size is too low."
       ]
      },
      {
       "output_type": "stream",
       "stream": "stdout",
       "text": [
        "\n",
        "Exhausted firms: initial guess of 0.570130309257 for firm size is too low."
       ]
      },
      {
       "output_type": "stream",
       "stream": "stdout",
       "text": [
        "\n",
        "Exhausted workers: initial guess of 0.570130309261 for firm size is too high!"
       ]
      },
      {
       "output_type": "stream",
       "stream": "stdout",
       "text": [
        "\n",
        "Exhausted firms: initial guess of 0.570130309259 for firm size is too low."
       ]
      },
      {
       "output_type": "stream",
       "stream": "stdout",
       "text": [
        "\n",
        "Exhausted firms: initial guess of 0.57013030926 for firm size is too low."
       ]
      },
      {
       "output_type": "stream",
       "stream": "stdout",
       "text": [
        "\n",
        "Exhausted firms: initial guess of 0.570130309261 for firm size is too low."
       ]
      },
      {
       "output_type": "stream",
       "stream": "stdout",
       "text": [
        "\n",
        "Exhausted firms: initial guess of 0.570130309261 for firm size is too low."
       ]
      },
      {
       "output_type": "stream",
       "stream": "stdout",
       "text": [
        "\n",
        "Exhausted firms: initial guess of 0.570130309261 for firm size is too low."
       ]
      },
      {
       "output_type": "stream",
       "stream": "stdout",
       "text": [
        "\n",
        "Exhausted workers: initial guess of 0.570130309261 for firm size is too high!"
       ]
      },
      {
       "output_type": "stream",
       "stream": "stdout",
       "text": [
        "\n",
        "Exhausted firms: initial guess of 0.570130309261 for firm size is too low."
       ]
      },
      {
       "output_type": "stream",
       "stream": "stdout",
       "text": [
        "\n",
        "Exhausted firms: initial guess of 0.570130309261 for firm size is too low."
       ]
      },
      {
       "output_type": "stream",
       "stream": "stdout",
       "text": [
        "\n",
        "Exhausted workers: initial guess of 0.570130309261 for firm size is too high!"
       ]
      },
      {
       "output_type": "stream",
       "stream": "stdout",
       "text": [
        "\n",
        "Exhausted workers: initial guess of 0.570130309261 for firm size is too high!"
       ]
      },
      {
       "output_type": "stream",
       "stream": "stdout",
       "text": [
        "\n",
        "Exhausted firms: initial guess of 0.570130309261 for firm size is too low."
       ]
      },
      {
       "output_type": "stream",
       "stream": "stdout",
       "text": [
        "\n",
        "Exhausted workers: initial guess of 0.570130309261 for firm size is too high!"
       ]
      },
      {
       "output_type": "stream",
       "stream": "stdout",
       "text": [
        "\n",
        "Success! All workers and firms are matched"
       ]
      },
      {
       "output_type": "stream",
       "stream": "stdout",
       "text": [
        "\n"
       ]
      }
     ],
     "prompt_number": 126
    },
    {
     "cell_type": "markdown",
     "metadata": {},
     "source": [
      "### Negative assortative matching"
     ]
    },
    {
     "cell_type": "code",
     "collapsed": false,
     "input": [
      "F_params = {'omega_A':0.5, 'omega_B':0.45, 'sigma_A':1.5, 'sigma_B':1.0}\n",
      "\n",
      "model = models.Model('negative',\n",
      "                     workers=workers,\n",
      "                     firms=firms,\n",
      "                     production=F,\n",
      "                     params=F_params)\n",
      "\n",
      "solver = solvers.ShootingSolver(model=model)"
     ],
     "language": "python",
     "metadata": {},
     "outputs": [],
     "prompt_number": 127
    },
    {
     "cell_type": "code",
     "collapsed": false,
     "input": [
      "solver.solve(1e3, tol=1e-4, number_knots=1000, atol=1e-9, rtol=1e-6)"
     ],
     "language": "python",
     "metadata": {},
     "outputs": [
      {
       "output_type": "stream",
       "stream": "stdout",
       "text": [
        "Exhausted firms: initial guess of 500.0 for firm size is too low.\n",
        "Exhausted workers: initial guess of 750.0 for firm size is too high!"
       ]
      },
      {
       "output_type": "stream",
       "stream": "stdout",
       "text": [
        "\n",
        "Exhausted firms: initial guess of 625.0 for firm size is too low."
       ]
      },
      {
       "output_type": "stream",
       "stream": "stdout",
       "text": [
        "\n",
        "Exhausted workers: initial guess of 687.5 for firm size is too high!"
       ]
      },
      {
       "output_type": "stream",
       "stream": "stdout",
       "text": [
        "\n",
        "Exhausted workers: initial guess of 656.25 for firm size is too high!"
       ]
      },
      {
       "output_type": "stream",
       "stream": "stdout",
       "text": [
        "\n",
        "Exhausted workers: initial guess of 640.625 for firm size is too high!"
       ]
      },
      {
       "output_type": "stream",
       "stream": "stdout",
       "text": [
        "\n",
        "Exhausted workers: initial guess of 632.8125 for firm size is too high!"
       ]
      },
      {
       "output_type": "stream",
       "stream": "stdout",
       "text": [
        "\n",
        "Exhausted firms: initial guess of 628.90625 for firm size is too low."
       ]
      },
      {
       "output_type": "stream",
       "stream": "stdout",
       "text": [
        "\n",
        "Exhausted firms: initial guess of 630.859375 for firm size is too low."
       ]
      },
      {
       "output_type": "stream",
       "stream": "stdout",
       "text": [
        "\n",
        "Exhausted workers: initial guess of 631.8359375 for firm size is too high!"
       ]
      },
      {
       "output_type": "stream",
       "stream": "stdout",
       "text": [
        "\n",
        "Exhausted firms: initial guess of 631.34765625 for firm size is too low."
       ]
      },
      {
       "output_type": "stream",
       "stream": "stdout",
       "text": [
        "\n",
        "Exhausted firms: initial guess of 631.591796875 for firm size is too low."
       ]
      },
      {
       "output_type": "stream",
       "stream": "stdout",
       "text": [
        "\n",
        "Exhausted firms: initial guess of 631.713867188 for firm size is too low."
       ]
      },
      {
       "output_type": "stream",
       "stream": "stdout",
       "text": [
        "\n",
        "Exhausted firms: initial guess of 631.774902344 for firm size is too low."
       ]
      },
      {
       "output_type": "stream",
       "stream": "stdout",
       "text": [
        "\n",
        "Exhausted firms: initial guess of 631.805419922 for firm size is too low."
       ]
      },
      {
       "output_type": "stream",
       "stream": "stdout",
       "text": [
        "\n",
        "Exhausted workers: initial guess of 631.820678711 for firm size is too high!"
       ]
      },
      {
       "output_type": "stream",
       "stream": "stdout",
       "text": [
        "\n",
        "Exhausted workers: initial guess of 631.813049316 for firm size is too high!"
       ]
      },
      {
       "output_type": "stream",
       "stream": "stdout",
       "text": [
        "\n",
        "Exhausted workers: initial guess of 631.809234619 for firm size is too high!"
       ]
      },
      {
       "output_type": "stream",
       "stream": "stdout",
       "text": [
        "\n",
        "Exhausted firms: initial guess of 631.807327271 for firm size is too low."
       ]
      },
      {
       "output_type": "stream",
       "stream": "stdout",
       "text": [
        "\n",
        "Exhausted workers: initial guess of 631.808280945 for firm size is too high!"
       ]
      },
      {
       "output_type": "stream",
       "stream": "stdout",
       "text": [
        "\n",
        "Exhausted firms: initial guess of 631.807804108 for firm size is too low."
       ]
      },
      {
       "output_type": "stream",
       "stream": "stdout",
       "text": [
        "\n",
        "Exhausted workers: initial guess of 631.808042526 for firm size is too high!"
       ]
      },
      {
       "output_type": "stream",
       "stream": "stdout",
       "text": [
        "\n",
        "Exhausted firms: initial guess of 631.807923317 for firm size is too low."
       ]
      },
      {
       "output_type": "stream",
       "stream": "stdout",
       "text": [
        "\n",
        "Exhausted workers: initial guess of 631.807982922 for firm size is too high!"
       ]
      },
      {
       "output_type": "stream",
       "stream": "stdout",
       "text": [
        "\n",
        "Exhausted firms: Initial guess of 631.807953119 for firm size was too low!"
       ]
      },
      {
       "output_type": "stream",
       "stream": "stdout",
       "text": [
        "\n",
        "Exhausted workers: initial guess of 631.80796802 for firm size is too high!"
       ]
      },
      {
       "output_type": "stream",
       "stream": "stdout",
       "text": [
        "\n",
        "Exhausted firms: Initial guess of 631.80796057 for firm size was too low!"
       ]
      },
      {
       "output_type": "stream",
       "stream": "stdout",
       "text": [
        "\n",
        "Exhausted workers: initial guess of 631.807964295 for firm size is too high!"
       ]
      },
      {
       "output_type": "stream",
       "stream": "stdout",
       "text": [
        "\n",
        "Exhausted firms: Initial guess of 631.807962433 for firm size was too low!"
       ]
      },
      {
       "output_type": "stream",
       "stream": "stdout",
       "text": [
        "\n",
        "Exhausted workers: initial guess of 631.807963364 for firm size is too high!"
       ]
      },
      {
       "output_type": "stream",
       "stream": "stdout",
       "text": [
        "\n",
        "Exhausted firms: Initial guess of 631.807962898 for firm size was too low!"
       ]
      },
      {
       "output_type": "stream",
       "stream": "stdout",
       "text": [
        "\n",
        "Exhausted workers: initial guess of 631.807963131 for firm size is too high!"
       ]
      },
      {
       "output_type": "stream",
       "stream": "stdout",
       "text": [
        "\n",
        "Exhausted firms: Initial guess of 631.807963015 for firm size was too low!"
       ]
      },
      {
       "output_type": "stream",
       "stream": "stdout",
       "text": [
        "\n",
        "Exhausted firms: Initial guess of 631.807963073 for firm size was too low!"
       ]
      },
      {
       "output_type": "stream",
       "stream": "stdout",
       "text": [
        "\n",
        "Exhausted workers: initial guess of 631.807963102 for firm size is too high!"
       ]
      },
      {
       "output_type": "stream",
       "stream": "stdout",
       "text": [
        "\n",
        "Exhausted firms: Initial guess of 631.807963087 for firm size was too low!"
       ]
      },
      {
       "output_type": "stream",
       "stream": "stdout",
       "text": [
        "\n",
        "Exhausted workers: initial guess of 631.807963095 for firm size is too high!"
       ]
      },
      {
       "output_type": "stream",
       "stream": "stdout",
       "text": [
        "\n",
        "Exhausted workers: initial guess of 631.807963091 for firm size is too high!"
       ]
      },
      {
       "output_type": "stream",
       "stream": "stdout",
       "text": [
        "\n",
        "Exhausted firms: Initial guess of 631.807963089 for firm size was too low!"
       ]
      },
      {
       "output_type": "stream",
       "stream": "stdout",
       "text": [
        "\n",
        "Exhausted workers: initial guess of 631.80796309 for firm size is too high!"
       ]
      },
      {
       "output_type": "stream",
       "stream": "stdout",
       "text": [
        "\n",
        "Success! All workers and firms are matched"
       ]
      },
      {
       "output_type": "stream",
       "stream": "stdout",
       "text": [
        "\n"
       ]
      }
     ],
     "prompt_number": 128
    },
    {
     "cell_type": "markdown",
     "metadata": {},
     "source": [
      "# Example:\n",
      "\n",
      "More sophisticated production function that is not multiplicatively separable..."
     ]
    },
    {
     "cell_type": "code",
     "collapsed": false,
     "input": [
      "# define some workers skill\n",
      "x, mu1, sigma1 = sym.var('x, mu1, sigma1')\n",
      "skill_cdf = 0.5 + 0.5 * sym.erf((sym.log(x) - mu1) / sym.sqrt(2 * sigma1**2))\n",
      "skill_params = {'mu1': 0.0, 'sigma1': 1.0}\n",
      "skill_bounds = [1e-3, 5e1]\n",
      "\n",
      "workers = inputs.Input(var=x,\n",
      "                       cdf=skill_cdf,\n",
      "                       params=skill_params,\n",
      "                       bounds=skill_bounds,\n",
      "                       )\n",
      "\n",
      "# define some firms\n",
      "y, mu2, sigma2 = sym.var('y, mu2, sigma2')\n",
      "productivity_cdf = 0.5 + 0.5 * sym.erf((sym.log(y) - mu2) / sym.sqrt(2 * sigma2**2))\n",
      "productivity_params = {'mu2': 0.0, 'sigma2': 1.0}\n",
      "productivity_bounds = [1e-3, 5e1]\n",
      "\n",
      "firms = inputs.Input(var=y,\n",
      "                     cdf=productivity_cdf,\n",
      "                     params=productivity_params,\n",
      "                     bounds=productivity_bounds,\n",
      "                     )\n",
      "\n",
      "# define some valid model params\n",
      "F_params = {'nu': 0.89, 'kappa': 1.0, 'gamma': 0.54, 'rho': 0.24, 'A': 1.0}\n",
      "\n",
      "# define a valid production function\n",
      "A, kappa, nu, rho, l, gamma, r = sym.var('A, kappa, nu, rho, l, gamma, r')\n",
      "F = r * A * kappa * (nu * x**rho + (1 - nu) * (y * (l / r))**rho)**(gamma / rho)\n",
      "\n",
      "model = models.Model('positive',\n",
      "                     workers=workers,\n",
      "                     firms=firms,\n",
      "                     production=F,\n",
      "                     params=F_params)"
     ],
     "language": "python",
     "metadata": {},
     "outputs": [],
     "prompt_number": 137
    },
    {
     "cell_type": "markdown",
     "metadata": {},
     "source": [
      "### Positive assortative matching"
     ]
    },
    {
     "cell_type": "code",
     "collapsed": false,
     "input": [
      "solver = solvers.ShootingSolver(model=model)"
     ],
     "language": "python",
     "metadata": {},
     "outputs": [],
     "prompt_number": 138
    },
    {
     "cell_type": "code",
     "collapsed": false,
     "input": [
      "solver.solve(1e3, tol=1e-6, number_knots=2000, integrator='vode',\n",
      "             atol=1e-9, rtol=1e-6)"
     ],
     "language": "python",
     "metadata": {},
     "outputs": [
      {
       "ename": "AssertionError",
       "evalue": "",
       "output_type": "pyerr",
       "traceback": [
        "\u001b[0;31m---------------------------------------------------------------------------\u001b[0m\n\u001b[0;31mAssertionError\u001b[0m                            Traceback (most recent call last)",
        "\u001b[0;32m<ipython-input-139-693d21e2c64c>\u001b[0m in \u001b[0;36m<module>\u001b[0;34m()\u001b[0m\n\u001b[1;32m      1\u001b[0m solver.solve(1e3, tol=1e-6, number_knots=2000, integrator='vode',\n\u001b[0;32m----> 2\u001b[0;31m              atol=1e-9, rtol=1e-6)\n\u001b[0m",
        "\u001b[0;32m/Users/drpugh/Research/assortative-matching-large-firms/solvers.py\u001b[0m in \u001b[0;36msolve\u001b[0;34m(self, guess_firm_size_upper, tol, number_knots, integrator, **kwargs)\u001b[0m\n\u001b[1;32m    706\u001b[0m                 \u001b[0;32mbreak\u001b[0m\u001b[0;34m\u001b[0m\u001b[0m\n\u001b[1;32m    707\u001b[0m \u001b[0;34m\u001b[0m\u001b[0m\n\u001b[0;32m--> 708\u001b[0;31m             \u001b[0mself\u001b[0m\u001b[0;34m.\u001b[0m\u001b[0m_update_solution\u001b[0m\u001b[0;34m(\u001b[0m\u001b[0mstep_size\u001b[0m\u001b[0;34m)\u001b[0m\u001b[0;34m\u001b[0m\u001b[0m\n\u001b[0m\u001b[1;32m    709\u001b[0m \u001b[0;34m\u001b[0m\u001b[0m\n\u001b[1;32m    710\u001b[0m             \u001b[0;32mif\u001b[0m \u001b[0mself\u001b[0m\u001b[0;34m.\u001b[0m\u001b[0m_converged_workers\u001b[0m\u001b[0;34m(\u001b[0m\u001b[0mtol\u001b[0m\u001b[0;34m)\u001b[0m \u001b[0;32mand\u001b[0m \u001b[0mself\u001b[0m\u001b[0;34m.\u001b[0m\u001b[0m_converged_firms\u001b[0m\u001b[0;34m(\u001b[0m\u001b[0mtol\u001b[0m\u001b[0;34m)\u001b[0m\u001b[0;34m:\u001b[0m\u001b[0;34m\u001b[0m\u001b[0m\n",
        "\u001b[0;32m/Users/drpugh/Research/assortative-matching-large-firms/solvers.py\u001b[0m in \u001b[0;36m_update_solution\u001b[0;34m(self, step_size)\u001b[0m\n\u001b[1;32m    483\u001b[0m             \u001b[0mself\u001b[0m\u001b[0;34m.\u001b[0m\u001b[0mintegrator\u001b[0m\u001b[0;34m.\u001b[0m\u001b[0mintegrate\u001b[0m\u001b[0;34m(\u001b[0m\u001b[0mself\u001b[0m\u001b[0;34m.\u001b[0m\u001b[0mintegrator\u001b[0m\u001b[0;34m.\u001b[0m\u001b[0mt\u001b[0m \u001b[0;34m-\u001b[0m \u001b[0mstep_size\u001b[0m\u001b[0;34m)\u001b[0m\u001b[0;34m\u001b[0m\u001b[0m\n\u001b[1;32m    484\u001b[0m             \u001b[0mx\u001b[0m\u001b[0;34m,\u001b[0m \u001b[0mV\u001b[0m \u001b[0;34m=\u001b[0m \u001b[0mself\u001b[0m\u001b[0;34m.\u001b[0m\u001b[0mintegrator\u001b[0m\u001b[0;34m.\u001b[0m\u001b[0mt\u001b[0m\u001b[0;34m,\u001b[0m \u001b[0mself\u001b[0m\u001b[0;34m.\u001b[0m\u001b[0mintegrator\u001b[0m\u001b[0;34m.\u001b[0m\u001b[0my\u001b[0m\u001b[0;34m\u001b[0m\u001b[0m\n\u001b[0;32m--> 485\u001b[0;31m             \u001b[0;32massert\u001b[0m \u001b[0mself\u001b[0m\u001b[0;34m.\u001b[0m\u001b[0m_check_positive_assortative_matching\u001b[0m\u001b[0;34m(\u001b[0m\u001b[0mx\u001b[0m\u001b[0;34m,\u001b[0m \u001b[0mV\u001b[0m\u001b[0;34m)\u001b[0m\u001b[0;34m\u001b[0m\u001b[0m\n\u001b[0m\u001b[1;32m    486\u001b[0m         \u001b[0;32melse\u001b[0m\u001b[0;34m:\u001b[0m\u001b[0;34m\u001b[0m\u001b[0m\n\u001b[1;32m    487\u001b[0m             \u001b[0mself\u001b[0m\u001b[0;34m.\u001b[0m\u001b[0mintegrator\u001b[0m\u001b[0;34m.\u001b[0m\u001b[0mintegrate\u001b[0m\u001b[0;34m(\u001b[0m\u001b[0mself\u001b[0m\u001b[0;34m.\u001b[0m\u001b[0mintegrator\u001b[0m\u001b[0;34m.\u001b[0m\u001b[0mt\u001b[0m \u001b[0;34m+\u001b[0m \u001b[0mstep_size\u001b[0m\u001b[0;34m)\u001b[0m\u001b[0;34m\u001b[0m\u001b[0m\n",
        "\u001b[0;31mAssertionError\u001b[0m: "
       ]
      }
     ],
     "prompt_number": 139
    },
    {
     "cell_type": "code",
     "collapsed": false,
     "input": [
      "solver.solution"
     ],
     "language": "python",
     "metadata": {},
     "outputs": [
      {
       "metadata": {},
       "output_type": "pyout",
       "prompt_number": 140,
       "text": [
        "array([  5.00000000e+01,   5.00000000e+01,   5.00000000e+02,\n",
        "         6.52222789e-03,   1.37735303e+01])"
       ]
      }
     ],
     "prompt_number": 140
    },
    {
     "cell_type": "code",
     "collapsed": false,
     "input": [],
     "language": "python",
     "metadata": {},
     "outputs": []
    }
   ],
   "metadata": {}
  }
 ]
}