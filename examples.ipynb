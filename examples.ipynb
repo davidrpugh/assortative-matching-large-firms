{
 "metadata": {
  "name": "",
<<<<<<< HEAD
  "signature": "sha256:92f0e4d2df91b1d6e540faf27df84637591ba1c3fd67d7197fb7286a63370c62"
=======
  "signature": "sha256:5819aca53a83292559d4de98e56d097e75c3e910424b78aa83fffd1c9116e842"
>>>>>>> hot-fix-shooting-solver
 },
 "nbformat": 3,
 "nbformat_minor": 0,
 "worksheets": [
  {
   "cells": [
    {
     "cell_type": "code",
     "collapsed": false,
     "input": [
      "%load_ext autoreload"
     ],
     "language": "python",
     "metadata": {},
     "outputs": [],
     "prompt_number": 1
    },
    {
     "cell_type": "code",
     "collapsed": false,
     "input": [
      "autoreload 2"
     ],
     "language": "python",
     "metadata": {},
     "outputs": [],
     "prompt_number": 2
    },
    {
     "cell_type": "code",
     "collapsed": false,
     "input": [
      "%matplotlib inline"
     ],
     "language": "python",
     "metadata": {},
     "outputs": [],
     "prompt_number": 3
    },
    {
     "cell_type": "code",
     "collapsed": true,
     "input": [
      "import matplotlib.pyplot as plt\n",
      "import numpy as np\n",
      "import sympy as sym\n",
      "\n",
      "import inputs\n",
      "import models\n",
      "import solvers"
     ],
     "language": "python",
     "metadata": {},
     "outputs": [],
     "prompt_number": 4
    },
    {
     "cell_type": "markdown",
     "metadata": {},
     "source": [
      "# Example: \n",
      "\n",
      "## Worker skill and firm productivity are $\\sim U[a, b]$..."
     ]
    },
    {
     "cell_type": "code",
     "collapsed": false,
     "input": [
      "# define some workers skill\n",
      "x, a, b = sym.var('x, a, b')\n",
      "skill_cdf = (x - a) / (b - a)\n",
      "skill_params = {'a': 1.0, 'b': 2.0}\n",
      "skill_bounds = [skill_params['a'], skill_params['b']]\n",
      "\n",
      "workers = inputs.Input(var=x,\n",
      "                       cdf=skill_cdf,\n",
      "                       params=skill_params,\n",
      "                       bounds=skill_bounds,\n",
      "                       )\n",
      "\n",
      "# define some firms\n",
      "y = sym.var('y')\n",
      "productivity_cdf = (y - a) / (b - a)\n",
      "productivity_params = skill_params\n",
      "productivity_bounds = skill_bounds\n",
      "\n",
      "firms = inputs.Input(var=y,\n",
      "                     cdf=productivity_cdf,\n",
      "                     params=productivity_params,\n",
      "                     bounds=productivity_bounds,\n",
      "                     )"
     ],
     "language": "python",
     "metadata": {},
     "outputs": [],
     "prompt_number": 6
    },
    {
     "cell_type": "markdown",
     "metadata": {},
     "source": [
      "## ...and production function is multiplicatively separable.\n",
      "A particularly attractive case arises under multiplicative separability of the form\n",
      "\n",
      "$$F(x, y, l, r) = A(x, y)B(l, r)$$\n",
      "\n",
      "In this case the condition for positive assortative matching can be written as \n",
      "\n",
      "$$\\frac{AA_{xy}}{A_xA_y}\\frac{BB_{lr}}{B_lB_r} \\ge 1$$\n",
      "\n",
      "If $B$ has constant elasticity of substitution form, then we obtain an even simpler condition\n",
      "\n",
      "$$\\frac{AA_{xy}}{A_xA_y} \\frac{1}{\\sigma_{lr}}\\ge 1$$\n",
      "\n",
      "where $\\sigma_{lr}$ is the elasticity of substitution between $l$ and $r$. \n",
      "\n",
      "Finally, if $A$ also has constant elasticity of substitution form, then we obtain an even simpler condition\n",
      "\n",
      "$$\\frac{1}{\\sigma_{xy}\\sigma_{lr}}\\ge 1 \\iff \\sigma_{xy}\\sigma_{lr} \\le 1$$\n",
      "\n",
      "where $\\sigma_{xy}$ is the elasticity of substitution between $x$ and $y$."
     ]
    },
    {
     "cell_type": "code",
     "collapsed": false,
     "input": [
      "# define symbolic expression for CES between x and y\n",
      "omega_A, sigma_A = sym.var('omega_A, sigma_A')\n",
      "A = ((omega_A * x**((sigma_A - 1) / sigma_A) + \n",
      "     (1 - omega_A) * y**((sigma_A - 1) / sigma_A))**(sigma_A / (sigma_A - 1))) \n",
      "\n",
      "# define symbolic expression for Cobb-Douglas between l and r\n",
      "l, r, omega_B, sigma_B = sym.var('l, r, omega_B, sigma_B')\n",
      "B = l**omega_B * r**(1 - omega_B)\n",
      "\n",
      "F = A * B"
     ],
     "language": "python",
     "metadata": {},
     "outputs": [],
     "prompt_number": 7
    },
    {
     "cell_type": "markdown",
     "metadata": {},
     "source": [
      "Create an instance of the `models.Model` class and an instance of the `solvers.ShootingSolver` class..."
     ]
    },
    {
     "cell_type": "markdown",
     "metadata": {},
     "source": [
      "### Positive assortative matching"
     ]
    },
    {
     "cell_type": "code",
     "collapsed": false,
     "input": [
      "F_params = {'omega_A':0.5, 'omega_B':0.45, 'sigma_A':0.95, 'sigma_B':1.0}\n",
      "\n",
      "model = models.Model(assortativity='positive',\n",
      "                     workers=workers,\n",
      "                     firms=firms,\n",
      "                     production=F,\n",
      "                     params=F_params)\n",
      "\n",
      "solver = solvers.ShootingSolver(model=model)"
     ],
     "language": "python",
     "metadata": {},
     "outputs": [],
     "prompt_number": 7
    },
    {
     "cell_type": "code",
     "collapsed": false,
     "input": [
      "solver.solve(1e1, tol=1e-6, number_knots=100, atol=1e-15, rtol=1e-12)"
     ],
     "language": "python",
     "metadata": {},
     "outputs": [
      {
       "output_type": "stream",
       "stream": "stdout",
       "text": [
        "Success! All workers and firms are matched\n"
       ]
      }
     ],
     "prompt_number": 8
    },
    {
     "cell_type": "code",
     "collapsed": false,
     "input": [
      "# examine the solution attribute\n",
      "solver.solution"
     ],
     "language": "python",
     "metadata": {},
     "outputs": [
      {
       "html": [
        "<div style=\"max-height:1000px;max-width:1500px;overflow:auto;\">\n",
        "<table border=\"1\" class=\"dataframe\">\n",
        "  <thead>\n",
        "    <tr style=\"text-align: right;\">\n",
        "      <th></th>\n",
        "      <th>firm productivity</th>\n",
        "      <th>firm size</th>\n",
        "      <th>wage</th>\n",
        "      <th>profit</th>\n",
        "    </tr>\n",
        "    <tr>\n",
        "      <th>x</th>\n",
        "      <th></th>\n",
        "      <th></th>\n",
        "      <th></th>\n",
        "      <th></th>\n",
        "    </tr>\n",
        "  </thead>\n",
        "  <tbody>\n",
        "    <tr>\n",
        "      <th>1.000000</th>\n",
        "      <td> 0.999999</td>\n",
        "      <td> 1.089348</td>\n",
        "      <td> 0.429310</td>\n",
        "      <td> 0.571594</td>\n",
        "    </tr>\n",
        "    <tr>\n",
        "      <th>1.010101</th>\n",
        "      <td> 1.009285</td>\n",
        "      <td> 1.086340</td>\n",
        "      <td> 0.434131</td>\n",
        "      <td> 0.576417</td>\n",
        "    </tr>\n",
        "    <tr>\n",
        "      <th>1.020202</th>\n",
        "      <td> 1.018595</td>\n",
        "      <td> 1.083403</td>\n",
        "      <td> 0.438957</td>\n",
        "      <td> 0.581249</td>\n",
        "    </tr>\n",
        "    <tr>\n",
        "      <th>1.030303</th>\n",
        "      <td> 1.027931</td>\n",
        "      <td> 1.080534</td>\n",
        "      <td> 0.443788</td>\n",
        "      <td> 0.586090</td>\n",
        "    </tr>\n",
        "    <tr>\n",
        "      <th>1.040404</th>\n",
        "      <td> 1.037292</td>\n",
        "      <td> 1.077730</td>\n",
        "      <td> 0.448625</td>\n",
        "      <td> 0.590940</td>\n",
        "    </tr>\n",
        "    <tr>\n",
        "      <th>1.050505</th>\n",
        "      <td> 1.046676</td>\n",
        "      <td> 1.074990</td>\n",
        "      <td> 0.453467</td>\n",
        "      <td> 0.595799</td>\n",
        "    </tr>\n",
        "    <tr>\n",
        "      <th>1.060606</th>\n",
        "      <td> 1.056084</td>\n",
        "      <td> 1.072310</td>\n",
        "      <td> 0.458313</td>\n",
        "      <td> 0.600666</td>\n",
        "    </tr>\n",
        "    <tr>\n",
        "      <th>1.070707</th>\n",
        "      <td> 1.065516</td>\n",
        "      <td> 1.069689</td>\n",
        "      <td> 0.463165</td>\n",
        "      <td> 0.605541</td>\n",
        "    </tr>\n",
        "    <tr>\n",
        "      <th>1.080808</th>\n",
        "      <td> 1.074970</td>\n",
        "      <td> 1.067126</td>\n",
        "      <td> 0.468022</td>\n",
        "      <td> 0.610425</td>\n",
        "    </tr>\n",
        "    <tr>\n",
        "      <th>1.090909</th>\n",
        "      <td> 1.084447</td>\n",
        "      <td> 1.064617</td>\n",
        "      <td> 0.472884</td>\n",
        "      <td> 0.615316</td>\n",
        "    </tr>\n",
        "    <tr>\n",
        "      <th>1.101010</th>\n",
        "      <td> 1.093946</td>\n",
        "      <td> 1.062161</td>\n",
        "      <td> 0.477751</td>\n",
        "      <td> 0.620214</td>\n",
        "    </tr>\n",
        "    <tr>\n",
        "      <th>1.111111</th>\n",
        "      <td> 1.103466</td>\n",
        "      <td> 1.059756</td>\n",
        "      <td> 0.482622</td>\n",
        "      <td> 0.625120</td>\n",
        "    </tr>\n",
        "    <tr>\n",
        "      <th>1.121212</th>\n",
        "      <td> 1.113009</td>\n",
        "      <td> 1.057401</td>\n",
        "      <td> 0.487499</td>\n",
        "      <td> 0.630033</td>\n",
        "    </tr>\n",
        "    <tr>\n",
        "      <th>1.131313</th>\n",
        "      <td> 1.122572</td>\n",
        "      <td> 1.055094</td>\n",
        "      <td> 0.492380</td>\n",
        "      <td> 0.634954</td>\n",
        "    </tr>\n",
        "    <tr>\n",
        "      <th>1.141414</th>\n",
        "      <td> 1.132156</td>\n",
        "      <td> 1.052834</td>\n",
        "      <td> 0.497266</td>\n",
        "      <td> 0.639881</td>\n",
        "    </tr>\n",
        "    <tr>\n",
        "      <th>1.151515</th>\n",
        "      <td> 1.141760</td>\n",
        "      <td> 1.050619</td>\n",
        "      <td> 0.502157</td>\n",
        "      <td> 0.644815</td>\n",
        "    </tr>\n",
        "    <tr>\n",
        "      <th>1.161616</th>\n",
        "      <td> 1.151384</td>\n",
        "      <td> 1.048447</td>\n",
        "      <td> 0.507053</td>\n",
        "      <td> 0.649755</td>\n",
        "    </tr>\n",
        "    <tr>\n",
        "      <th>1.171717</th>\n",
        "      <td> 1.161028</td>\n",
        "      <td> 1.046318</td>\n",
        "      <td> 0.511953</td>\n",
        "      <td> 0.654702</td>\n",
        "    </tr>\n",
        "    <tr>\n",
        "      <th>1.181818</th>\n",
        "      <td> 1.170692</td>\n",
        "      <td> 1.044229</td>\n",
        "      <td> 0.516858</td>\n",
        "      <td> 0.659656</td>\n",
        "    </tr>\n",
        "    <tr>\n",
        "      <th>1.191919</th>\n",
        "      <td> 1.180374</td>\n",
        "      <td> 1.042180</td>\n",
        "      <td> 0.521767</td>\n",
        "      <td> 0.664615</td>\n",
        "    </tr>\n",
        "    <tr>\n",
        "      <th>1.202020</th>\n",
        "      <td> 1.190076</td>\n",
        "      <td> 1.040170</td>\n",
        "      <td> 0.526681</td>\n",
        "      <td> 0.669580</td>\n",
        "    </tr>\n",
        "    <tr>\n",
        "      <th>1.212121</th>\n",
        "      <td> 1.199796</td>\n",
        "      <td> 1.038197</td>\n",
        "      <td> 0.531600</td>\n",
        "      <td> 0.674551</td>\n",
        "    </tr>\n",
        "    <tr>\n",
        "      <th>1.222222</th>\n",
        "      <td> 1.209535</td>\n",
        "      <td> 1.036260</td>\n",
        "      <td> 0.536523</td>\n",
        "      <td> 0.679528</td>\n",
        "    </tr>\n",
        "    <tr>\n",
        "      <th>1.232323</th>\n",
        "      <td> 1.219291</td>\n",
        "      <td> 1.034359</td>\n",
        "      <td> 0.541451</td>\n",
        "      <td> 0.684511</td>\n",
        "    </tr>\n",
        "    <tr>\n",
        "      <th>1.242424</th>\n",
        "      <td> 1.229066</td>\n",
        "      <td> 1.032491</td>\n",
        "      <td> 0.546383</td>\n",
        "      <td> 0.689499</td>\n",
        "    </tr>\n",
        "    <tr>\n",
        "      <th>1.252525</th>\n",
        "      <td> 1.238857</td>\n",
        "      <td> 1.030657</td>\n",
        "      <td> 0.551320</td>\n",
        "      <td> 0.694493</td>\n",
        "    </tr>\n",
        "    <tr>\n",
        "      <th>1.262626</th>\n",
        "      <td> 1.248667</td>\n",
        "      <td> 1.028854</td>\n",
        "      <td> 0.556260</td>\n",
        "      <td> 0.699491</td>\n",
        "    </tr>\n",
        "    <tr>\n",
        "      <th>1.272727</th>\n",
        "      <td> 1.258493</td>\n",
        "      <td> 1.027083</td>\n",
        "      <td> 0.561206</td>\n",
        "      <td> 0.704495</td>\n",
        "    </tr>\n",
        "    <tr>\n",
        "      <th>1.282828</th>\n",
        "      <td> 1.268336</td>\n",
        "      <td> 1.025343</td>\n",
        "      <td> 0.566155</td>\n",
        "      <td> 0.709504</td>\n",
        "    </tr>\n",
        "    <tr>\n",
        "      <th>1.292929</th>\n",
        "      <td> 1.278195</td>\n",
        "      <td> 1.023632</td>\n",
        "      <td> 0.571109</td>\n",
        "      <td> 0.714518</td>\n",
        "    </tr>\n",
        "    <tr>\n",
        "      <th>...</th>\n",
        "      <td>...</td>\n",
        "      <td>...</td>\n",
        "      <td>...</td>\n",
        "      <td>...</td>\n",
        "    </tr>\n",
        "    <tr>\n",
        "      <th>1.707071</th>\n",
        "      <td> 1.694467</td>\n",
        "      <td> 0.971475</td>\n",
        "      <td> 0.777619</td>\n",
        "      <td> 0.923313</td>\n",
        "    </tr>\n",
        "    <tr>\n",
        "      <th>1.717172</th>\n",
        "      <td> 1.704869</td>\n",
        "      <td> 0.970515</td>\n",
        "      <td> 0.782733</td>\n",
        "      <td> 0.928466</td>\n",
        "    </tr>\n",
        "    <tr>\n",
        "      <th>1.727273</th>\n",
        "      <td> 1.715282</td>\n",
        "      <td> 0.969566</td>\n",
        "      <td> 0.787849</td>\n",
        "      <td> 0.933621</td>\n",
        "    </tr>\n",
        "    <tr>\n",
        "      <th>1.737374</th>\n",
        "      <td> 1.725706</td>\n",
        "      <td> 0.968626</td>\n",
        "      <td> 0.792969</td>\n",
        "      <td> 0.938778</td>\n",
        "    </tr>\n",
        "    <tr>\n",
        "      <th>1.747475</th>\n",
        "      <td> 1.736139</td>\n",
        "      <td> 0.967697</td>\n",
        "      <td> 0.798093</td>\n",
        "      <td> 0.943937</td>\n",
        "    </tr>\n",
        "    <tr>\n",
        "      <th>1.757576</th>\n",
        "      <td> 1.746582</td>\n",
        "      <td> 0.966778</td>\n",
        "      <td> 0.803219</td>\n",
        "      <td> 0.949098</td>\n",
        "    </tr>\n",
        "    <tr>\n",
        "      <th>1.767677</th>\n",
        "      <td> 1.757035</td>\n",
        "      <td> 0.965869</td>\n",
        "      <td> 0.808349</td>\n",
        "      <td> 0.954262</td>\n",
        "    </tr>\n",
        "    <tr>\n",
        "      <th>1.777778</th>\n",
        "      <td> 1.767498</td>\n",
        "      <td> 0.964970</td>\n",
        "      <td> 0.813482</td>\n",
        "      <td> 0.959427</td>\n",
        "    </tr>\n",
        "    <tr>\n",
        "      <th>1.787879</th>\n",
        "      <td> 1.777970</td>\n",
        "      <td> 0.964079</td>\n",
        "      <td> 0.818619</td>\n",
        "      <td> 0.964594</td>\n",
        "    </tr>\n",
        "    <tr>\n",
        "      <th>1.797980</th>\n",
        "      <td> 1.788453</td>\n",
        "      <td> 0.963198</td>\n",
        "      <td> 0.823759</td>\n",
        "      <td> 0.969763</td>\n",
        "    </tr>\n",
        "    <tr>\n",
        "      <th>1.808081</th>\n",
        "      <td> 1.798944</td>\n",
        "      <td> 0.962326</td>\n",
        "      <td> 0.828901</td>\n",
        "      <td> 0.974934</td>\n",
        "    </tr>\n",
        "    <tr>\n",
        "      <th>1.818182</th>\n",
        "      <td> 1.809445</td>\n",
        "      <td> 0.961463</td>\n",
        "      <td> 0.834048</td>\n",
        "      <td> 0.980108</td>\n",
        "    </tr>\n",
        "    <tr>\n",
        "      <th>1.828283</th>\n",
        "      <td> 1.819956</td>\n",
        "      <td> 0.960609</td>\n",
        "      <td> 0.839197</td>\n",
        "      <td> 0.985282</td>\n",
        "    </tr>\n",
        "    <tr>\n",
        "      <th>1.838384</th>\n",
        "      <td> 1.830476</td>\n",
        "      <td> 0.959763</td>\n",
        "      <td> 0.844350</td>\n",
        "      <td> 0.990459</td>\n",
        "    </tr>\n",
        "    <tr>\n",
        "      <th>1.848485</th>\n",
        "      <td> 1.841005</td>\n",
        "      <td> 0.958926</td>\n",
        "      <td> 0.849505</td>\n",
        "      <td> 0.995638</td>\n",
        "    </tr>\n",
        "    <tr>\n",
        "      <th>1.858586</th>\n",
        "      <td> 1.851543</td>\n",
        "      <td> 0.958097</td>\n",
        "      <td> 0.854664</td>\n",
        "      <td> 1.000818</td>\n",
        "    </tr>\n",
        "    <tr>\n",
        "      <th>1.868687</th>\n",
        "      <td> 1.862090</td>\n",
        "      <td> 0.957276</td>\n",
        "      <td> 0.859826</td>\n",
        "      <td> 1.006000</td>\n",
        "    </tr>\n",
        "    <tr>\n",
        "      <th>1.878788</th>\n",
        "      <td> 1.872647</td>\n",
        "      <td> 0.956463</td>\n",
        "      <td> 0.864992</td>\n",
        "      <td> 1.011184</td>\n",
        "    </tr>\n",
        "    <tr>\n",
        "      <th>1.888889</th>\n",
        "      <td> 1.883212</td>\n",
        "      <td> 0.955657</td>\n",
        "      <td> 0.870160</td>\n",
        "      <td> 1.016369</td>\n",
        "    </tr>\n",
        "    <tr>\n",
        "      <th>1.898990</th>\n",
        "      <td> 1.893786</td>\n",
        "      <td> 0.954860</td>\n",
        "      <td> 0.875331</td>\n",
        "      <td> 1.021556</td>\n",
        "    </tr>\n",
        "    <tr>\n",
        "      <th>1.909091</th>\n",
        "      <td> 1.904369</td>\n",
        "      <td> 0.954070</td>\n",
        "      <td> 0.880506</td>\n",
        "      <td> 1.026745</td>\n",
        "    </tr>\n",
        "    <tr>\n",
        "      <th>1.919192</th>\n",
        "      <td> 1.914961</td>\n",
        "      <td> 0.953287</td>\n",
        "      <td> 0.885683</td>\n",
        "      <td> 1.031935</td>\n",
        "    </tr>\n",
        "    <tr>\n",
        "      <th>1.929293</th>\n",
        "      <td> 1.925561</td>\n",
        "      <td> 0.952512</td>\n",
        "      <td> 0.890864</td>\n",
        "      <td> 1.037127</td>\n",
        "    </tr>\n",
        "    <tr>\n",
        "      <th>1.939394</th>\n",
        "      <td> 1.936170</td>\n",
        "      <td> 0.951744</td>\n",
        "      <td> 0.896048</td>\n",
        "      <td> 1.042321</td>\n",
        "    </tr>\n",
        "    <tr>\n",
        "      <th>1.949495</th>\n",
        "      <td> 1.946787</td>\n",
        "      <td> 0.950983</td>\n",
        "      <td> 0.901235</td>\n",
        "      <td> 1.047516</td>\n",
        "    </tr>\n",
        "    <tr>\n",
        "      <th>1.959596</th>\n",
        "      <td> 1.957413</td>\n",
        "      <td> 0.950229</td>\n",
        "      <td> 0.906424</td>\n",
        "      <td> 1.052713</td>\n",
        "    </tr>\n",
        "    <tr>\n",
        "      <th>1.969697</th>\n",
        "      <td> 1.968047</td>\n",
        "      <td> 0.949481</td>\n",
        "      <td> 0.911617</td>\n",
        "      <td> 1.057911</td>\n",
        "    </tr>\n",
        "    <tr>\n",
        "      <th>1.979798</th>\n",
        "      <td> 1.978690</td>\n",
        "      <td> 0.948740</td>\n",
        "      <td> 0.916813</td>\n",
        "      <td> 1.063110</td>\n",
        "    </tr>\n",
        "    <tr>\n",
        "      <th>1.989899</th>\n",
        "      <td> 1.989341</td>\n",
        "      <td> 0.948006</td>\n",
        "      <td> 0.922012</td>\n",
        "      <td> 1.068311</td>\n",
        "    </tr>\n",
        "    <tr>\n",
        "      <th>2.000000</th>\n",
        "      <td> 2.000000</td>\n",
        "      <td> 0.947279</td>\n",
        "      <td> 0.927213</td>\n",
        "      <td> 1.073514</td>\n",
        "    </tr>\n",
        "  </tbody>\n",
        "</table>\n",
        "<p>100 rows \u00d7 4 columns</p>\n",
        "</div>"
       ],
       "metadata": {},
       "output_type": "pyout",
       "prompt_number": 9,
       "text": [
        "          firm productivity  firm size      wage    profit\n",
        "x                                                         \n",
        "1.000000           0.999999   1.089348  0.429310  0.571594\n",
        "1.010101           1.009285   1.086340  0.434131  0.576417\n",
        "1.020202           1.018595   1.083403  0.438957  0.581249\n",
        "1.030303           1.027931   1.080534  0.443788  0.586090\n",
        "1.040404           1.037292   1.077730  0.448625  0.590940\n",
        "1.050505           1.046676   1.074990  0.453467  0.595799\n",
        "1.060606           1.056084   1.072310  0.458313  0.600666\n",
        "1.070707           1.065516   1.069689  0.463165  0.605541\n",
        "1.080808           1.074970   1.067126  0.468022  0.610425\n",
        "1.090909           1.084447   1.064617  0.472884  0.615316\n",
        "1.101010           1.093946   1.062161  0.477751  0.620214\n",
        "1.111111           1.103466   1.059756  0.482622  0.625120\n",
        "1.121212           1.113009   1.057401  0.487499  0.630033\n",
        "1.131313           1.122572   1.055094  0.492380  0.634954\n",
        "1.141414           1.132156   1.052834  0.497266  0.639881\n",
        "1.151515           1.141760   1.050619  0.502157  0.644815\n",
        "1.161616           1.151384   1.048447  0.507053  0.649755\n",
        "1.171717           1.161028   1.046318  0.511953  0.654702\n",
        "1.181818           1.170692   1.044229  0.516858  0.659656\n",
        "1.191919           1.180374   1.042180  0.521767  0.664615\n",
        "1.202020           1.190076   1.040170  0.526681  0.669580\n",
        "1.212121           1.199796   1.038197  0.531600  0.674551\n",
        "1.222222           1.209535   1.036260  0.536523  0.679528\n",
        "1.232323           1.219291   1.034359  0.541451  0.684511\n",
        "1.242424           1.229066   1.032491  0.546383  0.689499\n",
        "1.252525           1.238857   1.030657  0.551320  0.694493\n",
        "1.262626           1.248667   1.028854  0.556260  0.699491\n",
        "1.272727           1.258493   1.027083  0.561206  0.704495\n",
        "1.282828           1.268336   1.025343  0.566155  0.709504\n",
        "1.292929           1.278195   1.023632  0.571109  0.714518\n",
        "...                     ...        ...       ...       ...\n",
        "1.707071           1.694467   0.971475  0.777619  0.923313\n",
        "1.717172           1.704869   0.970515  0.782733  0.928466\n",
        "1.727273           1.715282   0.969566  0.787849  0.933621\n",
        "1.737374           1.725706   0.968626  0.792969  0.938778\n",
        "1.747475           1.736139   0.967697  0.798093  0.943937\n",
        "1.757576           1.746582   0.966778  0.803219  0.949098\n",
        "1.767677           1.757035   0.965869  0.808349  0.954262\n",
        "1.777778           1.767498   0.964970  0.813482  0.959427\n",
        "1.787879           1.777970   0.964079  0.818619  0.964594\n",
        "1.797980           1.788453   0.963198  0.823759  0.969763\n",
        "1.808081           1.798944   0.962326  0.828901  0.974934\n",
        "1.818182           1.809445   0.961463  0.834048  0.980108\n",
        "1.828283           1.819956   0.960609  0.839197  0.985282\n",
        "1.838384           1.830476   0.959763  0.844350  0.990459\n",
        "1.848485           1.841005   0.958926  0.849505  0.995638\n",
        "1.858586           1.851543   0.958097  0.854664  1.000818\n",
        "1.868687           1.862090   0.957276  0.859826  1.006000\n",
        "1.878788           1.872647   0.956463  0.864992  1.011184\n",
        "1.888889           1.883212   0.955657  0.870160  1.016369\n",
        "1.898990           1.893786   0.954860  0.875331  1.021556\n",
        "1.909091           1.904369   0.954070  0.880506  1.026745\n",
        "1.919192           1.914961   0.953287  0.885683  1.031935\n",
        "1.929293           1.925561   0.952512  0.890864  1.037127\n",
        "1.939394           1.936170   0.951744  0.896048  1.042321\n",
        "1.949495           1.946787   0.950983  0.901235  1.047516\n",
        "1.959596           1.957413   0.950229  0.906424  1.052713\n",
        "1.969697           1.968047   0.949481  0.911617  1.057911\n",
        "1.979798           1.978690   0.948740  0.916813  1.063110\n",
        "1.989899           1.989341   0.948006  0.922012  1.068311\n",
        "2.000000           2.000000   0.947279  0.927213  1.073514\n",
        "\n",
        "[100 rows x 4 columns]"
       ]
      }
     ],
     "prompt_number": 9
    },
    {
     "cell_type": "markdown",
     "metadata": {},
     "source": [
      "### Negative assortative matching"
     ]
    },
    {
     "cell_type": "code",
     "collapsed": false,
     "input": [
      "# negative assortativity requires that sigma_A * sigma_B > 1\n",
      "F_params = {'omega_A':0.25, 'omega_B':0.5, 'sigma_A':1.5, 'sigma_B':1.0}"
     ],
     "language": "python",
     "metadata": {},
     "outputs": [],
     "prompt_number": 10
    },
    {
     "cell_type": "code",
     "collapsed": false,
     "input": [
      "model = models.Model(assortativity='negative',\n",
      "                     workers=workers,\n",
      "                     firms=firms,\n",
      "                     production=F,\n",
      "                     params=F_params)\n",
      "\n",
      "solver = solvers.ShootingSolver(model=model)"
     ],
     "language": "python",
     "metadata": {},
     "outputs": [],
     "prompt_number": 11
    },
    {
     "cell_type": "code",
     "collapsed": false,
     "input": [
      "solver.solve(2e0, tol=1e-6, number_knots=100, atol=1e-15, rtol=1e-12)"
     ],
     "language": "python",
     "metadata": {},
     "outputs": [
      {
       "output_type": "stream",
       "stream": "stdout",
       "text": [
        "Success! All workers and firms are matched\n"
       ]
      }
     ],
     "prompt_number": 12
    },
    {
     "cell_type": "code",
     "collapsed": false,
     "input": [
      "solver.solution"
     ],
     "language": "python",
     "metadata": {},
     "outputs": [
      {
       "html": [
        "<div style=\"max-height:1000px;max-width:1500px;overflow:auto;\">\n",
        "<table border=\"1\" class=\"dataframe\">\n",
        "  <thead>\n",
        "    <tr style=\"text-align: right;\">\n",
        "      <th></th>\n",
        "      <th>firm productivity</th>\n",
        "      <th>firm size</th>\n",
        "      <th>wage</th>\n",
        "      <th>profit</th>\n",
        "    </tr>\n",
        "    <tr>\n",
        "      <th>x</th>\n",
        "      <th></th>\n",
        "      <th></th>\n",
        "      <th></th>\n",
        "      <th></th>\n",
        "    </tr>\n",
        "  </thead>\n",
        "  <tbody>\n",
        "    <tr>\n",
        "      <th>1.000000</th>\n",
        "      <td> 2.000000</td>\n",
        "      <td> 1.829639</td>\n",
        "      <td> 0.630705</td>\n",
        "      <td> 1.153963</td>\n",
        "    </tr>\n",
        "    <tr>\n",
        "      <th>1.010101</th>\n",
        "      <td> 1.994455</td>\n",
        "      <td> 1.813970</td>\n",
        "      <td> 0.633368</td>\n",
        "      <td> 1.148910</td>\n",
        "    </tr>\n",
        "    <tr>\n",
        "      <th>1.020202</th>\n",
        "      <td> 1.988863</td>\n",
        "      <td> 1.798401</td>\n",
        "      <td> 0.636024</td>\n",
        "      <td> 1.143826</td>\n",
        "    </tr>\n",
        "    <tr>\n",
        "      <th>1.030303</th>\n",
        "      <td> 1.983222</td>\n",
        "      <td> 1.782931</td>\n",
        "      <td> 0.638673</td>\n",
        "      <td> 1.138710</td>\n",
        "    </tr>\n",
        "    <tr>\n",
        "      <th>1.040404</th>\n",
        "      <td> 1.977532</td>\n",
        "      <td> 1.767557</td>\n",
        "      <td> 0.641317</td>\n",
        "      <td> 1.133564</td>\n",
        "    </tr>\n",
        "    <tr>\n",
        "      <th>1.050505</th>\n",
        "      <td> 1.971792</td>\n",
        "      <td> 1.752276</td>\n",
        "      <td> 0.643954</td>\n",
        "      <td> 1.128386</td>\n",
        "    </tr>\n",
        "    <tr>\n",
        "      <th>1.060606</th>\n",
        "      <td> 1.966003</td>\n",
        "      <td> 1.737087</td>\n",
        "      <td> 0.646586</td>\n",
        "      <td> 1.123175</td>\n",
        "    </tr>\n",
        "    <tr>\n",
        "      <th>1.070707</th>\n",
        "      <td> 1.960162</td>\n",
        "      <td> 1.721986</td>\n",
        "      <td> 0.649212</td>\n",
        "      <td> 1.117933</td>\n",
        "    </tr>\n",
        "    <tr>\n",
        "      <th>1.080808</th>\n",
        "      <td> 1.954271</td>\n",
        "      <td> 1.706973</td>\n",
        "      <td> 0.651832</td>\n",
        "      <td> 1.112659</td>\n",
        "    </tr>\n",
        "    <tr>\n",
        "      <th>1.090909</th>\n",
        "      <td> 1.948327</td>\n",
        "      <td> 1.692044</td>\n",
        "      <td> 0.654446</td>\n",
        "      <td> 1.107352</td>\n",
        "    </tr>\n",
        "    <tr>\n",
        "      <th>1.101010</th>\n",
        "      <td> 1.942331</td>\n",
        "      <td> 1.677197</td>\n",
        "      <td> 0.657056</td>\n",
        "      <td> 1.102012</td>\n",
        "    </tr>\n",
        "    <tr>\n",
        "      <th>1.111111</th>\n",
        "      <td> 1.936282</td>\n",
        "      <td> 1.662431</td>\n",
        "      <td> 0.659660</td>\n",
        "      <td> 1.096639</td>\n",
        "    </tr>\n",
        "    <tr>\n",
        "      <th>1.121212</th>\n",
        "      <td> 1.930179</td>\n",
        "      <td> 1.647743</td>\n",
        "      <td> 0.662259</td>\n",
        "      <td> 1.091233</td>\n",
        "    </tr>\n",
        "    <tr>\n",
        "      <th>1.131313</th>\n",
        "      <td> 1.924021</td>\n",
        "      <td> 1.633132</td>\n",
        "      <td> 0.664853</td>\n",
        "      <td> 1.085793</td>\n",
        "    </tr>\n",
        "    <tr>\n",
        "      <th>1.141414</th>\n",
        "      <td> 1.917808</td>\n",
        "      <td> 1.618594</td>\n",
        "      <td> 0.667443</td>\n",
        "      <td> 1.080319</td>\n",
        "    </tr>\n",
        "    <tr>\n",
        "      <th>1.151515</th>\n",
        "      <td> 1.911540</td>\n",
        "      <td> 1.604130</td>\n",
        "      <td> 0.670027</td>\n",
        "      <td> 1.074810</td>\n",
        "    </tr>\n",
        "    <tr>\n",
        "      <th>1.161616</th>\n",
        "      <td> 1.905214</td>\n",
        "      <td> 1.589736</td>\n",
        "      <td> 0.672607</td>\n",
        "      <td> 1.069268</td>\n",
        "    </tr>\n",
        "    <tr>\n",
        "      <th>1.171717</th>\n",
        "      <td> 1.898832</td>\n",
        "      <td> 1.575410</td>\n",
        "      <td> 0.675183</td>\n",
        "      <td> 1.063690</td>\n",
        "    </tr>\n",
        "    <tr>\n",
        "      <th>1.181818</th>\n",
        "      <td> 1.892391</td>\n",
        "      <td> 1.561152</td>\n",
        "      <td> 0.677754</td>\n",
        "      <td> 1.058076</td>\n",
        "    </tr>\n",
        "    <tr>\n",
        "      <th>1.191919</th>\n",
        "      <td> 1.885891</td>\n",
        "      <td> 1.546958</td>\n",
        "      <td> 0.680321</td>\n",
        "      <td> 1.052428</td>\n",
        "    </tr>\n",
        "    <tr>\n",
        "      <th>1.202020</th>\n",
        "      <td> 1.879331</td>\n",
        "      <td> 1.532828</td>\n",
        "      <td> 0.682883</td>\n",
        "      <td> 1.046743</td>\n",
        "    </tr>\n",
        "    <tr>\n",
        "      <th>1.212121</th>\n",
        "      <td> 1.872711</td>\n",
        "      <td> 1.518759</td>\n",
        "      <td> 0.685442</td>\n",
        "      <td> 1.041022</td>\n",
        "    </tr>\n",
        "    <tr>\n",
        "      <th>1.222222</th>\n",
        "      <td> 1.866029</td>\n",
        "      <td> 1.504751</td>\n",
        "      <td> 0.687997</td>\n",
        "      <td> 1.035264</td>\n",
        "    </tr>\n",
        "    <tr>\n",
        "      <th>1.232323</th>\n",
        "      <td> 1.859285</td>\n",
        "      <td> 1.490800</td>\n",
        "      <td> 0.690548</td>\n",
        "      <td> 1.029469</td>\n",
        "    </tr>\n",
        "    <tr>\n",
        "      <th>1.242424</th>\n",
        "      <td> 1.852478</td>\n",
        "      <td> 1.476906</td>\n",
        "      <td> 0.693095</td>\n",
        "      <td> 1.023637</td>\n",
        "    </tr>\n",
        "    <tr>\n",
        "      <th>1.252525</th>\n",
        "      <td> 1.845606</td>\n",
        "      <td> 1.463067</td>\n",
        "      <td> 0.695639</td>\n",
        "      <td> 1.017767</td>\n",
        "    </tr>\n",
        "    <tr>\n",
        "      <th>1.262626</th>\n",
        "      <td> 1.838670</td>\n",
        "      <td> 1.449281</td>\n",
        "      <td> 0.698180</td>\n",
        "      <td> 1.011858</td>\n",
        "    </tr>\n",
        "    <tr>\n",
        "      <th>1.272727</th>\n",
        "      <td> 1.831667</td>\n",
        "      <td> 1.435546</td>\n",
        "      <td> 0.700716</td>\n",
        "      <td> 1.005911</td>\n",
        "    </tr>\n",
        "    <tr>\n",
        "      <th>1.282828</th>\n",
        "      <td> 1.824597</td>\n",
        "      <td> 1.421862</td>\n",
        "      <td> 0.703250</td>\n",
        "      <td> 0.999924</td>\n",
        "    </tr>\n",
        "    <tr>\n",
        "      <th>1.292929</th>\n",
        "      <td> 1.817458</td>\n",
        "      <td> 1.408225</td>\n",
        "      <td> 0.705781</td>\n",
        "      <td> 0.993898</td>\n",
        "    </tr>\n",
        "    <tr>\n",
        "      <th>...</th>\n",
        "      <td>...</td>\n",
        "      <td>...</td>\n",
        "      <td>...</td>\n",
        "      <td>...</td>\n",
        "    </tr>\n",
        "    <tr>\n",
        "      <th>1.707071</th>\n",
        "      <td> 1.446606</td>\n",
        "      <td> 0.871852</td>\n",
        "      <td> 0.808071</td>\n",
        "      <td> 0.704518</td>\n",
        "    </tr>\n",
        "    <tr>\n",
        "      <th>1.717172</th>\n",
        "      <td> 1.434933</td>\n",
        "      <td> 0.858825</td>\n",
        "      <td> 0.810563</td>\n",
        "      <td> 0.696132</td>\n",
        "    </tr>\n",
        "    <tr>\n",
        "      <th>1.727273</th>\n",
        "      <td> 1.423081</td>\n",
        "      <td> 0.845771</td>\n",
        "      <td> 0.813056</td>\n",
        "      <td> 0.687660</td>\n",
        "    </tr>\n",
        "    <tr>\n",
        "      <th>1.737374</th>\n",
        "      <td> 1.411045</td>\n",
        "      <td> 0.832690</td>\n",
        "      <td> 0.815552</td>\n",
        "      <td> 0.679102</td>\n",
        "    </tr>\n",
        "    <tr>\n",
        "      <th>1.747475</th>\n",
        "      <td> 1.398818</td>\n",
        "      <td> 0.819576</td>\n",
        "      <td> 0.818049</td>\n",
        "      <td> 0.670454</td>\n",
        "    </tr>\n",
        "    <tr>\n",
        "      <th>1.757576</th>\n",
        "      <td> 1.386393</td>\n",
        "      <td> 0.806429</td>\n",
        "      <td> 0.820548</td>\n",
        "      <td> 0.661714</td>\n",
        "    </tr>\n",
        "    <tr>\n",
        "      <th>1.767677</th>\n",
        "      <td> 1.373764</td>\n",
        "      <td> 0.793244</td>\n",
        "      <td> 0.823050</td>\n",
        "      <td> 0.652879</td>\n",
        "    </tr>\n",
        "    <tr>\n",
        "      <th>1.777778</th>\n",
        "      <td> 1.360923</td>\n",
        "      <td> 0.780018</td>\n",
        "      <td> 0.825554</td>\n",
        "      <td> 0.643947</td>\n",
        "    </tr>\n",
        "    <tr>\n",
        "      <th>1.787879</th>\n",
        "      <td> 1.347862</td>\n",
        "      <td> 0.766748</td>\n",
        "      <td> 0.828061</td>\n",
        "      <td> 0.634914</td>\n",
        "    </tr>\n",
        "    <tr>\n",
        "      <th>1.797980</th>\n",
        "      <td> 1.334573</td>\n",
        "      <td> 0.753431</td>\n",
        "      <td> 0.830571</td>\n",
        "      <td> 0.625778</td>\n",
        "    </tr>\n",
        "    <tr>\n",
        "      <th>1.808081</th>\n",
        "      <td> 1.321046</td>\n",
        "      <td> 0.740063</td>\n",
        "      <td> 0.833083</td>\n",
        "      <td> 0.616534</td>\n",
        "    </tr>\n",
        "    <tr>\n",
        "      <th>1.818182</th>\n",
        "      <td> 1.307271</td>\n",
        "      <td> 0.726639</td>\n",
        "      <td> 0.835599</td>\n",
        "      <td> 0.607179</td>\n",
        "    </tr>\n",
        "    <tr>\n",
        "      <th>1.828283</th>\n",
        "      <td> 1.293240</td>\n",
        "      <td> 0.713157</td>\n",
        "      <td> 0.838119</td>\n",
        "      <td> 0.597710</td>\n",
        "    </tr>\n",
        "    <tr>\n",
        "      <th>1.838384</th>\n",
        "      <td> 1.278940</td>\n",
        "      <td> 0.699610</td>\n",
        "      <td> 0.840642</td>\n",
        "      <td> 0.588122</td>\n",
        "    </tr>\n",
        "    <tr>\n",
        "      <th>1.848485</th>\n",
        "      <td> 1.264360</td>\n",
        "      <td> 0.685996</td>\n",
        "      <td> 0.843170</td>\n",
        "      <td> 0.578411</td>\n",
        "    </tr>\n",
        "    <tr>\n",
        "      <th>1.858586</th>\n",
        "      <td> 1.249486</td>\n",
        "      <td> 0.672308</td>\n",
        "      <td> 0.845701</td>\n",
        "      <td> 0.568572</td>\n",
        "    </tr>\n",
        "    <tr>\n",
        "      <th>1.868687</th>\n",
        "      <td> 1.234306</td>\n",
        "      <td> 0.658542</td>\n",
        "      <td> 0.848237</td>\n",
        "      <td> 0.558600</td>\n",
        "    </tr>\n",
        "    <tr>\n",
        "      <th>1.878788</th>\n",
        "      <td> 1.218804</td>\n",
        "      <td> 0.644692</td>\n",
        "      <td> 0.850778</td>\n",
        "      <td> 0.548489</td>\n",
        "    </tr>\n",
        "    <tr>\n",
        "      <th>1.888889</th>\n",
        "      <td> 1.202965</td>\n",
        "      <td> 0.630751</td>\n",
        "      <td> 0.853324</td>\n",
        "      <td> 0.538235</td>\n",
        "    </tr>\n",
        "    <tr>\n",
        "      <th>1.898990</th>\n",
        "      <td> 1.186770</td>\n",
        "      <td> 0.616714</td>\n",
        "      <td> 0.855875</td>\n",
        "      <td> 0.527830</td>\n",
        "    </tr>\n",
        "    <tr>\n",
        "      <th>1.909091</th>\n",
        "      <td> 1.170201</td>\n",
        "      <td> 0.602573</td>\n",
        "      <td> 0.858432</td>\n",
        "      <td> 0.517268</td>\n",
        "    </tr>\n",
        "    <tr>\n",
        "      <th>1.919192</th>\n",
        "      <td> 1.153236</td>\n",
        "      <td> 0.588320</td>\n",
        "      <td> 0.860995</td>\n",
        "      <td> 0.506541</td>\n",
        "    </tr>\n",
        "    <tr>\n",
        "      <th>1.929293</th>\n",
        "      <td> 1.135854</td>\n",
        "      <td> 0.573948</td>\n",
        "      <td> 0.863565</td>\n",
        "      <td> 0.495641</td>\n",
        "    </tr>\n",
        "    <tr>\n",
        "      <th>1.939394</th>\n",
        "      <td> 1.118029</td>\n",
        "      <td> 0.559447</td>\n",
        "      <td> 0.866141</td>\n",
        "      <td> 0.484560</td>\n",
        "    </tr>\n",
        "    <tr>\n",
        "      <th>1.949495</th>\n",
        "      <td> 1.099734</td>\n",
        "      <td> 0.544807</td>\n",
        "      <td> 0.868725</td>\n",
        "      <td> 0.473288</td>\n",
        "    </tr>\n",
        "    <tr>\n",
        "      <th>1.959596</th>\n",
        "      <td> 1.080937</td>\n",
        "      <td> 0.530019</td>\n",
        "      <td> 0.871317</td>\n",
        "      <td> 0.461814</td>\n",
        "    </tr>\n",
        "    <tr>\n",
        "      <th>1.969697</th>\n",
        "      <td> 1.061606</td>\n",
        "      <td> 0.515068</td>\n",
        "      <td> 0.873917</td>\n",
        "      <td> 0.450127</td>\n",
        "    </tr>\n",
        "    <tr>\n",
        "      <th>1.979798</th>\n",
        "      <td> 1.041702</td>\n",
        "      <td> 0.499944</td>\n",
        "      <td> 0.876526</td>\n",
        "      <td> 0.438214</td>\n",
        "    </tr>\n",
        "    <tr>\n",
        "      <th>1.989899</th>\n",
        "      <td> 1.021183</td>\n",
        "      <td> 0.484630</td>\n",
        "      <td> 0.879145</td>\n",
        "      <td> 0.426060</td>\n",
        "    </tr>\n",
        "    <tr>\n",
        "      <th>2.000000</th>\n",
        "      <td> 1.000000</td>\n",
        "      <td> 0.469110</td>\n",
        "      <td> 0.881774</td>\n",
        "      <td> 0.413649</td>\n",
        "    </tr>\n",
        "  </tbody>\n",
        "</table>\n",
        "<p>100 rows \u00d7 4 columns</p>\n",
        "</div>"
       ],
       "metadata": {},
       "output_type": "pyout",
       "prompt_number": 13,
       "text": [
        "          firm productivity  firm size      wage    profit\n",
        "x                                                         \n",
        "1.000000           2.000000   1.829639  0.630705  1.153963\n",
        "1.010101           1.994455   1.813970  0.633368  1.148910\n",
        "1.020202           1.988863   1.798401  0.636024  1.143826\n",
        "1.030303           1.983222   1.782931  0.638673  1.138710\n",
        "1.040404           1.977532   1.767557  0.641317  1.133564\n",
        "1.050505           1.971792   1.752276  0.643954  1.128386\n",
        "1.060606           1.966003   1.737087  0.646586  1.123175\n",
        "1.070707           1.960162   1.721986  0.649212  1.117933\n",
        "1.080808           1.954271   1.706973  0.651832  1.112659\n",
        "1.090909           1.948327   1.692044  0.654446  1.107352\n",
        "1.101010           1.942331   1.677197  0.657056  1.102012\n",
        "1.111111           1.936282   1.662431  0.659660  1.096639\n",
        "1.121212           1.930179   1.647743  0.662259  1.091233\n",
        "1.131313           1.924021   1.633132  0.664853  1.085793\n",
        "1.141414           1.917808   1.618594  0.667443  1.080319\n",
        "1.151515           1.911540   1.604130  0.670027  1.074810\n",
        "1.161616           1.905214   1.589736  0.672607  1.069268\n",
        "1.171717           1.898832   1.575410  0.675183  1.063690\n",
        "1.181818           1.892391   1.561152  0.677754  1.058076\n",
        "1.191919           1.885891   1.546958  0.680321  1.052428\n",
        "1.202020           1.879331   1.532828  0.682883  1.046743\n",
        "1.212121           1.872711   1.518759  0.685442  1.041022\n",
        "1.222222           1.866029   1.504751  0.687997  1.035264\n",
        "1.232323           1.859285   1.490800  0.690548  1.029469\n",
        "1.242424           1.852478   1.476906  0.693095  1.023637\n",
        "1.252525           1.845606   1.463067  0.695639  1.017767\n",
        "1.262626           1.838670   1.449281  0.698180  1.011858\n",
        "1.272727           1.831667   1.435546  0.700716  1.005911\n",
        "1.282828           1.824597   1.421862  0.703250  0.999924\n",
        "1.292929           1.817458   1.408225  0.705781  0.993898\n",
        "...                     ...        ...       ...       ...\n",
        "1.707071           1.446606   0.871852  0.808071  0.704518\n",
        "1.717172           1.434933   0.858825  0.810563  0.696132\n",
        "1.727273           1.423081   0.845771  0.813056  0.687660\n",
        "1.737374           1.411045   0.832690  0.815552  0.679102\n",
        "1.747475           1.398818   0.819576  0.818049  0.670454\n",
        "1.757576           1.386393   0.806429  0.820548  0.661714\n",
        "1.767677           1.373764   0.793244  0.823050  0.652879\n",
        "1.777778           1.360923   0.780018  0.825554  0.643947\n",
        "1.787879           1.347862   0.766748  0.828061  0.634914\n",
        "1.797980           1.334573   0.753431  0.830571  0.625778\n",
        "1.808081           1.321046   0.740063  0.833083  0.616534\n",
        "1.818182           1.307271   0.726639  0.835599  0.607179\n",
        "1.828283           1.293240   0.713157  0.838119  0.597710\n",
        "1.838384           1.278940   0.699610  0.840642  0.588122\n",
        "1.848485           1.264360   0.685996  0.843170  0.578411\n",
        "1.858586           1.249486   0.672308  0.845701  0.568572\n",
        "1.868687           1.234306   0.658542  0.848237  0.558600\n",
        "1.878788           1.218804   0.644692  0.850778  0.548489\n",
        "1.888889           1.202965   0.630751  0.853324  0.538235\n",
        "1.898990           1.186770   0.616714  0.855875  0.527830\n",
        "1.909091           1.170201   0.602573  0.858432  0.517268\n",
        "1.919192           1.153236   0.588320  0.860995  0.506541\n",
        "1.929293           1.135854   0.573948  0.863565  0.495641\n",
        "1.939394           1.118029   0.559447  0.866141  0.484560\n",
        "1.949495           1.099734   0.544807  0.868725  0.473288\n",
        "1.959596           1.080937   0.530019  0.871317  0.461814\n",
        "1.969697           1.061606   0.515068  0.873917  0.450127\n",
        "1.979798           1.041702   0.499944  0.876526  0.438214\n",
        "1.989899           1.021183   0.484630  0.879145  0.426060\n",
        "2.000000           1.000000   0.469110  0.881774  0.413649\n",
        "\n",
        "[100 rows x 4 columns]"
       ]
      }
     ],
     "prompt_number": 13
    },
    {
     "cell_type": "markdown",
     "metadata": {},
     "source": [
      "Now we can do all the cool things that one can do with Pandas..."
     ]
    },
    {
     "cell_type": "code",
     "collapsed": false,
     "input": [
      "solver.solution['firm size'].plot()"
     ],
     "language": "python",
     "metadata": {},
     "outputs": [
      {
       "metadata": {},
       "output_type": "pyout",
       "prompt_number": 16,
       "text": [
        "<matplotlib.axes._subplots.AxesSubplot at 0x111c78a90>"
       ]
      },
      {
       "metadata": {},
       "output_type": "display_data",
       "png": "iVBORw0KGgoAAAANSUhEUgAAAXcAAAEPCAYAAAC5sYRSAAAABHNCSVQICAgIfAhkiAAAAAlwSFlz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\nYII=\n",
       "text": [
        "<matplotlib.figure.Figure at 0x109f3b190>"
       ]
      }
     ],
     "prompt_number": 16
    },
    {
     "cell_type": "code",
     "collapsed": false,
     "input": [
      "from scipy import stats"
     ],
     "language": "python",
     "metadata": {},
     "outputs": [],
     "prompt_number": 28
    },
    {
     "cell_type": "code",
     "collapsed": false,
     "input": [
      "stats.distributions.lognorm.ppf(0.99, s=1)"
     ],
     "language": "python",
     "metadata": {},
     "outputs": [
      {
       "metadata": {},
       "output_type": "pyout",
       "prompt_number": 38,
       "text": [
        "10.240473656312131"
       ]
      }
     ],
     "prompt_number": 38
    },
    {
     "cell_type": "code",
     "collapsed": false,
     "input": [],
     "language": "python",
     "metadata": {},
     "outputs": []
    },
    {
     "cell_type": "markdown",
     "metadata": {},
     "source": [
      "# Example:\n",
      "\n",
      "Multiplicative separability with log-normal worker skill and firm productivity distributions..."
     ]
    },
    {
     "cell_type": "code",
     "collapsed": false,
     "input": [
      "# define some workers skill\n",
      "x, mu1, sigma1 = sym.var('x, mu1, sigma1')\n",
      "skill_cdf = 0.5 + 0.5 * sym.erf((sym.log(x) - mu1) / sym.sqrt(2 * sigma1**2))\n",
      "skill_params = {'mu1': 0.0, 'sigma1': 1.0}\n",
      "skill_bounds = [1e-2, 1e1]\n",
      "\n",
      "workers = inputs.Input(var=x,\n",
      "                       cdf=skill_cdf,\n",
      "                       params=skill_params,\n",
      "                       bounds=skill_bounds,\n",
      "                       )\n",
      "\n",
      "# define some firms\n",
      "y, mu2, sigma2 = sym.var('y, mu2, sigma2')\n",
      "productivity_cdf = 0.5 + 0.5 * sym.erf((sym.log(y) - mu2) / sym.sqrt(2 * sigma2**2))\n",
      "productivity_params = {'mu2': 0.0, 'sigma2': 1.0}\n",
      "productivity_bounds = [1e-2, 1e1]\n",
      "\n",
      "firms = inputs.Input(var=y,\n",
      "                     cdf=productivity_cdf,\n",
      "                     params=productivity_params,\n",
      "                     bounds=productivity_bounds,\n",
      "                     )"
     ],
     "language": "python",
     "metadata": {},
     "outputs": [],
     "prompt_number": 39
    },
    {
     "cell_type": "markdown",
     "metadata": {},
     "source": [
      "### Positive assortative matching"
     ]
    },
    {
     "cell_type": "code",
     "collapsed": false,
     "input": [
      "# define symbolic expression for CES between x and y\n",
      "omega_A, sigma_A = sym.var('omega_A, sigma_A')\n",
      "A = ((omega_A * x**((sigma_A - 1) / sigma_A) + \n",
      "     (1 - omega_A) * y**((sigma_A - 1) / sigma_A))**(sigma_A / (sigma_A - 1))) \n",
      "\n",
      "# define symbolic expression for Cobb-Douglas between l and r\n",
      "l, r, omega_B, sigma_B = sym.var('l, r, omega_B, sigma_B')\n",
      "B = l**omega_B * r**(1 - omega_B)\n",
      "\n",
      "F = A * B\n",
      "\n",
      "F_params = {'omega_A':0.25, 'omega_B':0.45, 'sigma_A':0.95, 'sigma_B':1.0}\n",
      "\n",
      "model = models.Model('positive',\n",
      "                     workers=workers,\n",
      "                     firms=firms,\n",
      "                     production=F,\n",
      "                     params=F_params)\n",
      "\n",
      "solver = solvers.ShootingSolver(model=model)"
     ],
     "language": "python",
     "metadata": {},
     "outputs": [],
     "prompt_number": 44
    },
    {
     "cell_type": "code",
     "collapsed": false,
     "input": [
      "solver.solve(2e2, tol=1e-6, number_knots=1000, integrator='dopri5',\n",
      "             atol=1e-9, rtol=1e-6, message=True)"
     ],
     "language": "python",
     "metadata": {},
     "outputs": [
      {
       "output_type": "stream",
       "stream": "stdout",
       "text": [
        "Exhausted workers: initial guess of 100.0 for firm size is too high!\n",
        "Exhausted workers: initial guess of 50.0 for firm size is too high!"
       ]
      },
      {
       "output_type": "stream",
       "stream": "stdout",
       "text": [
        "\n",
        "Exhausted workers: initial guess of 25.0 for firm size is too high!"
       ]
      },
      {
       "output_type": "stream",
       "stream": "stdout",
       "text": [
        "\n",
        "Exhausted workers: initial guess of 12.5 for firm size is too high!"
<<<<<<< HEAD
       ]
      },
      {
       "output_type": "stream",
       "stream": "stdout",
       "text": [
        "\n",
        "Exhausted workers: initial guess of 6.25 for firm size is too high!"
       ]
      },
      {
       "output_type": "stream",
       "stream": "stdout",
       "text": [
        "\n",
        "Exhausted firms: initial guess of 3.125 for firm size is too low."
       ]
      },
      {
       "output_type": "stream",
       "stream": "stdout",
       "text": [
        "\n",
        "Exhausted workers: initial guess of 4.6875 for firm size is too high!"
=======
>>>>>>> hot-fix-shooting-solver
       ]
      },
      {
       "output_type": "stream",
       "stream": "stdout",
       "text": [
        "\n",
<<<<<<< HEAD
=======
        "Exhausted workers: initial guess of 6.25 for firm size is too high!"
       ]
      },
      {
       "output_type": "stream",
       "stream": "stdout",
       "text": [
        "\n",
        "Exhausted firms: initial guess of 3.125 for firm size is too low."
       ]
      },
      {
       "output_type": "stream",
       "stream": "stdout",
       "text": [
        "\n",
        "Exhausted workers: initial guess of 4.6875 for firm size is too high!"
       ]
      },
      {
       "output_type": "stream",
       "stream": "stdout",
       "text": [
        "\n",
>>>>>>> hot-fix-shooting-solver
        "Exhausted workers: initial guess of 3.90625 for firm size is too high!"
       ]
      },
      {
       "output_type": "stream",
       "stream": "stdout",
       "text": [
        "\n",
        "Exhausted workers: initial guess of 3.515625 for firm size is too high!"
       ]
      },
      {
       "output_type": "stream",
       "stream": "stdout",
       "text": [
        "\n",
        "Exhausted firms: initial guess of 3.3203125 for firm size is too low."
       ]
      },
      {
       "output_type": "stream",
       "stream": "stdout",
       "text": [
        "\n",
        "Exhausted workers: initial guess of 3.41796875 for firm size is too high!"
       ]
      },
      {
       "output_type": "stream",
       "stream": "stdout",
       "text": [
        "\n",
        "Exhausted workers: initial guess of 3.369140625 for firm size is too high!"
       ]
      },
      {
       "output_type": "stream",
       "stream": "stdout",
       "text": [
        "\n",
        "Exhausted workers: initial guess of 3.3447265625 for firm size is too high!"
       ]
      },
      {
       "output_type": "stream",
       "stream": "stdout",
       "text": [
        "\n",
        "Exhausted firms: initial guess of 3.33251953125 for firm size is too low."
       ]
      },
      {
       "output_type": "stream",
       "stream": "stdout",
       "text": [
        "\n",
        "Exhausted firms: initial guess of 3.33862304688 for firm size is too low."
       ]
      },
      {
       "output_type": "stream",
       "stream": "stdout",
       "text": [
        "\n",
        "Exhausted firms: initial guess of 3.34167480469 for firm size is too low."
       ]
      },
      {
       "output_type": "stream",
       "stream": "stdout",
       "text": [
        "\n",
        "Exhausted workers: initial guess of 3.34320068359 for firm size is too high!"
       ]
      },
      {
       "output_type": "stream",
       "stream": "stdout",
       "text": [
        "\n",
        "Exhausted workers: initial guess of 3.34243774414 for firm size is too high!"
       ]
      },
      {
       "output_type": "stream",
       "stream": "stdout",
       "text": [
        "\n",
        "Exhausted workers: initial guess of 3.34205627441 for firm size is too high!"
       ]
      },
      {
       "output_type": "stream",
       "stream": "stdout",
       "text": [
        "\n",
        "Exhausted workers: initial guess of 3.34186553955 for firm size is too high!"
       ]
      },
      {
       "output_type": "stream",
       "stream": "stdout",
       "text": [
        "\n",
        "Exhausted workers: initial guess of 3.34177017212 for firm size is too high!"
       ]
      },
      {
       "output_type": "stream",
       "stream": "stdout",
       "text": [
        "\n",
        "Exhausted firms: initial guess of 3.3417224884 for firm size is too low."
       ]
      },
      {
       "output_type": "stream",
       "stream": "stdout",
       "text": [
        "\n",
        "Exhausted firms: initial guess of 3.34174633026 for firm size is too low."
       ]
      },
      {
       "output_type": "stream",
       "stream": "stdout",
       "text": [
        "\n",
        "Exhausted firms: initial guess of 3.34175825119 for firm size is too low."
       ]
      },
      {
       "output_type": "stream",
       "stream": "stdout",
       "text": [
        "\n",
        "Exhausted firms: initial guess of 3.34176421165 for firm size is too low."
       ]
      },
      {
       "output_type": "stream",
       "stream": "stdout",
       "text": [
        "\n",
        "Exhausted workers: initial guess of 3.34176719189 for firm size is too high!"
       ]
      },
      {
       "output_type": "stream",
       "stream": "stdout",
       "text": [
        "\n",
        "Exhausted firms: initial guess of 3.34176570177 for firm size is too low."
       ]
      },
      {
       "output_type": "stream",
       "stream": "stdout",
       "text": [
        "\n",
        "Exhausted workers: initial guess of 3.34176644683 for firm size is too high!"
       ]
      },
      {
       "output_type": "stream",
       "stream": "stdout",
       "text": [
        "\n",
        "Exhausted workers: initial guess of 3.3417660743 for firm size is too high!"
       ]
      },
      {
       "output_type": "stream",
       "stream": "stdout",
       "text": [
        "\n",
        "Exhausted workers: initial guess of 3.34176588804 for firm size is too high!"
       ]
      },
      {
       "output_type": "stream",
       "stream": "stdout",
       "text": [
        "\n",
        "Exhausted workers: initial guess of 3.3417657949 for firm size is too high!"
       ]
      },
      {
       "output_type": "stream",
       "stream": "stdout",
       "text": [
        "\n",
        "Exhausted firms: initial guess of 3.34176574834 for firm size is too low."
       ]
      },
      {
       "output_type": "stream",
       "stream": "stdout",
       "text": [
        "\n",
        "Exhausted workers: initial guess of 3.34176577162 for firm size is too high!"
       ]
      },
      {
       "output_type": "stream",
       "stream": "stdout",
       "text": [
        "\n",
        "Exhausted workers: initial guess of 3.34176575998 for firm size is too high!"
       ]
      },
      {
       "output_type": "stream",
       "stream": "stdout",
       "text": [
        "\n",
        "Exhausted firms: initial guess of 3.34176575416 for firm size was too low!"
       ]
      },
      {
       "output_type": "stream",
       "stream": "stdout",
       "text": [
        "\n",
        "Exhausted workers: initial guess of 3.34176575707 for firm size is too high!"
       ]
      },
      {
       "output_type": "stream",
       "stream": "stdout",
       "text": [
        "\n",
        "Exhausted workers: initial guess of 3.34176575561 for firm size is too high!"
       ]
      },
      {
       "output_type": "stream",
       "stream": "stdout",
       "text": [
        "\n",
        "Exhausted firms: initial guess of 3.34176575489 for firm size was too low!"
       ]
      },
      {
       "output_type": "stream",
       "stream": "stdout",
       "text": [
        "\n",
        "Exhausted firms: initial guess of 3.34176575525 for firm size was too low!"
       ]
      },
      {
       "output_type": "stream",
       "stream": "stdout",
       "text": [
        "\n",
        "Exhausted workers: initial guess of 3.34176575543 for firm size is too high!"
       ]
      },
      {
       "output_type": "stream",
       "stream": "stdout",
       "text": [
        "\n",
        "Exhausted firms: initial guess of 3.34176575534 for firm size was too low!"
       ]
      },
      {
       "output_type": "stream",
       "stream": "stdout",
       "text": [
        "\n",
        "Exhausted firms: initial guess of 3.34176575539 for firm size was too low!"
       ]
      },
      {
       "output_type": "stream",
       "stream": "stdout",
       "text": [
        "\n",
        "Exhausted workers: initial guess of 3.34176575541 for firm size is too high!"
       ]
      },
      {
       "output_type": "stream",
       "stream": "stdout",
       "text": [
        "\n",
        "Exhausted firms: initial guess of 3.3417657554 for firm size was too low!"
<<<<<<< HEAD
       ]
      },
      {
       "output_type": "stream",
       "stream": "stdout",
       "text": [
        "\n",
        "Success! All workers and firms are matched"
       ]
      },
      {
       "output_type": "stream",
       "stream": "stdout",
       "text": [
        "\n"
       ]
      }
     ],
     "prompt_number": 46
=======
       ]
      }
     ]
>>>>>>> hot-fix-shooting-solver
    },
    {
     "cell_type": "code",
     "collapsed": false,
     "input": [
      "solver.solution"
     ],
     "language": "python",
     "metadata": {},
     "outputs": [
      {
       "html": [
        "<div style=\"max-height:1000px;max-width:1500px;overflow:auto;\">\n",
        "<table border=\"1\" class=\"dataframe\">\n",
        "  <thead>\n",
        "    <tr style=\"text-align: right;\">\n",
        "      <th></th>\n",
        "      <th>firm productivity</th>\n",
        "      <th>firm size</th>\n",
        "      <th>wage</th>\n",
        "      <th>profit</th>\n",
        "    </tr>\n",
        "    <tr>\n",
        "      <th>x</th>\n",
        "      <th></th>\n",
        "      <th></th>\n",
        "      <th></th>\n",
        "      <th></th>\n",
        "    </tr>\n",
        "  </thead>\n",
        "  <tbody>\n",
        "    <tr>\n",
        "      <th>0.01 </th>\n",
        "      <td>  0.010000</td>\n",
        "      <td> 2.847958</td>\n",
        "      <td> 0.002531</td>\n",
        "      <td> 0.008809</td>\n",
        "    </tr>\n",
        "    <tr>\n",
        "      <th>0.02 </th>\n",
        "      <td>  0.016743</td>\n",
        "      <td> 2.115246</td>\n",
        "      <td> 0.005453</td>\n",
        "      <td> 0.014097</td>\n",
        "    </tr>\n",
        "    <tr>\n",
        "      <th>0.03 </th>\n",
        "      <td>  0.024960</td>\n",
        "      <td> 1.945591</td>\n",
        "      <td> 0.008537</td>\n",
        "      <td> 0.020301</td>\n",
        "    </tr>\n",
        "    <tr>\n",
        "      <th>0.04 </th>\n",
        "      <td>  0.033268</td>\n",
        "      <td> 1.840288</td>\n",
        "      <td> 0.011735</td>\n",
        "      <td> 0.026394</td>\n",
        "    </tr>\n",
        "    <tr>\n",
        "      <th>0.05 </th>\n",
        "      <td>  0.041593</td>\n",
        "      <td> 1.763320</td>\n",
        "      <td> 0.015018</td>\n",
        "      <td> 0.032367</td>\n",
        "    </tr>\n",
        "    <tr>\n",
        "      <th>0.06 </th>\n",
        "      <td>  0.049925</td>\n",
        "      <td> 1.703012</td>\n",
        "      <td> 0.018373</td>\n",
        "      <td> 0.038243</td>\n",
        "    </tr>\n",
        "    <tr>\n",
        "      <th>0.07 </th>\n",
        "      <td>  0.058262</td>\n",
        "      <td> 1.653705</td>\n",
        "      <td> 0.021787</td>\n",
        "      <td> 0.044037</td>\n",
        "    </tr>\n",
        "    <tr>\n",
        "      <th>0.08 </th>\n",
        "      <td>  0.066603</td>\n",
        "      <td> 1.612187</td>\n",
        "      <td> 0.025254</td>\n",
        "      <td> 0.049762</td>\n",
        "    </tr>\n",
        "    <tr>\n",
        "      <th>0.09 </th>\n",
        "      <td>  0.074948</td>\n",
        "      <td> 1.576457</td>\n",
        "      <td> 0.028767</td>\n",
        "      <td> 0.055427</td>\n",
        "    </tr>\n",
        "    <tr>\n",
        "      <th>0.10 </th>\n",
        "      <td>  0.083296</td>\n",
        "      <td> 1.545187</td>\n",
        "      <td> 0.032321</td>\n",
        "      <td> 0.061041</td>\n",
        "    </tr>\n",
        "    <tr>\n",
        "      <th>0.11 </th>\n",
        "      <td>  0.091647</td>\n",
        "      <td> 1.517450</td>\n",
        "      <td> 0.035914</td>\n",
        "      <td> 0.066608</td>\n",
        "    </tr>\n",
        "    <tr>\n",
        "      <th>0.12 </th>\n",
        "      <td>  0.100001</td>\n",
        "      <td> 1.492577</td>\n",
        "      <td> 0.039541</td>\n",
        "      <td> 0.072133</td>\n",
        "    </tr>\n",
        "    <tr>\n",
        "      <th>0.13 </th>\n",
        "      <td>  0.108358</td>\n",
        "      <td> 1.470068</td>\n",
        "      <td> 0.043200</td>\n",
        "      <td> 0.077620</td>\n",
        "    </tr>\n",
        "    <tr>\n",
        "      <th>0.14 </th>\n",
        "      <td>  0.116718</td>\n",
        "      <td> 1.449540</td>\n",
        "      <td> 0.046889</td>\n",
        "      <td> 0.083072</td>\n",
        "    </tr>\n",
        "    <tr>\n",
        "      <th>0.15 </th>\n",
        "      <td>  0.125080</td>\n",
        "      <td> 1.430697</td>\n",
        "      <td> 0.050607</td>\n",
        "      <td> 0.088492</td>\n",
        "    </tr>\n",
        "    <tr>\n",
        "      <th>0.16 </th>\n",
        "      <td>  0.133446</td>\n",
        "      <td> 1.413300</td>\n",
        "      <td> 0.054350</td>\n",
        "      <td> 0.093883</td>\n",
        "    </tr>\n",
        "    <tr>\n",
        "      <th>0.17 </th>\n",
        "      <td>  0.141813</td>\n",
        "      <td> 1.397158</td>\n",
        "      <td> 0.058119</td>\n",
        "      <td> 0.099246</td>\n",
        "    </tr>\n",
        "    <tr>\n",
        "      <th>0.18 </th>\n",
        "      <td>  0.150183</td>\n",
        "      <td> 1.382115</td>\n",
        "      <td> 0.061911</td>\n",
        "      <td> 0.104583</td>\n",
        "    </tr>\n",
        "    <tr>\n",
        "      <th>0.19 </th>\n",
        "      <td>  0.158556</td>\n",
        "      <td> 1.368042</td>\n",
        "      <td> 0.065725</td>\n",
        "      <td> 0.109896</td>\n",
        "    </tr>\n",
        "    <tr>\n",
        "      <th>0.20 </th>\n",
        "      <td>  0.166931</td>\n",
        "      <td> 1.354829</td>\n",
        "      <td> 0.069561</td>\n",
        "      <td> 0.115186</td>\n",
        "    </tr>\n",
        "    <tr>\n",
        "      <th>0.21 </th>\n",
        "      <td>  0.175308</td>\n",
        "      <td> 1.342385</td>\n",
        "      <td> 0.073417</td>\n",
        "      <td> 0.120455</td>\n",
        "    </tr>\n",
        "    <tr>\n",
        "      <th>0.22 </th>\n",
        "      <td>  0.183688</td>\n",
        "      <td> 1.330631</td>\n",
        "      <td> 0.077293</td>\n",
        "      <td> 0.125703</td>\n",
        "    </tr>\n",
        "    <tr>\n",
        "      <th>0.23 </th>\n",
        "      <td>  0.192070</td>\n",
        "      <td> 1.319501</td>\n",
        "      <td> 0.081187</td>\n",
        "      <td> 0.130933</td>\n",
        "    </tr>\n",
        "    <tr>\n",
        "      <th>0.24 </th>\n",
        "      <td>  0.200454</td>\n",
        "      <td> 1.308937</td>\n",
        "      <td> 0.085100</td>\n",
        "      <td> 0.136143</td>\n",
        "    </tr>\n",
        "    <tr>\n",
        "      <th>0.25 </th>\n",
        "      <td>  0.208841</td>\n",
        "      <td> 1.298888</td>\n",
        "      <td> 0.089029</td>\n",
        "      <td> 0.141337</td>\n",
        "    </tr>\n",
        "    <tr>\n",
        "      <th>0.26 </th>\n",
        "      <td>  0.217229</td>\n",
        "      <td> 1.289310</td>\n",
        "      <td> 0.092976</td>\n",
        "      <td> 0.146513</td>\n",
        "    </tr>\n",
        "    <tr>\n",
        "      <th>0.27 </th>\n",
        "      <td>  0.225620</td>\n",
        "      <td> 1.280165</td>\n",
        "      <td> 0.096938</td>\n",
        "      <td> 0.151674</td>\n",
        "    </tr>\n",
        "    <tr>\n",
        "      <th>0.28 </th>\n",
        "      <td>  0.234013</td>\n",
        "      <td> 1.271417</td>\n",
        "      <td> 0.100916</td>\n",
        "      <td> 0.156819</td>\n",
        "    </tr>\n",
        "    <tr>\n",
        "      <th>0.29 </th>\n",
        "      <td>  0.242408</td>\n",
        "      <td> 1.263036</td>\n",
        "      <td> 0.104909</td>\n",
        "      <td> 0.161950</td>\n",
        "    </tr>\n",
        "    <tr>\n",
        "      <th>0.30 </th>\n",
        "      <td>  0.250805</td>\n",
        "      <td> 1.254996</td>\n",
        "      <td> 0.108917</td>\n",
        "      <td> 0.167066</td>\n",
        "    </tr>\n",
        "    <tr>\n",
        "      <th>...</th>\n",
        "      <td>...</td>\n",
        "      <td>...</td>\n",
        "      <td>...</td>\n",
        "      <td>...</td>\n",
        "    </tr>\n",
        "    <tr>\n",
        "      <th>9.71 </th>\n",
        "      <td>  9.617539</td>\n",
        "      <td> 0.745381</td>\n",
        "      <td> 5.111470</td>\n",
        "      <td> 4.656656</td>\n",
        "    </tr>\n",
        "    <tr>\n",
        "      <th>9.72 </th>\n",
        "      <td>  9.630548</td>\n",
        "      <td> 0.745445</td>\n",
        "      <td> 5.117318</td>\n",
        "      <td> 4.662384</td>\n",
        "    </tr>\n",
        "    <tr>\n",
        "      <th>9.73 </th>\n",
        "      <td>  9.643570</td>\n",
        "      <td> 0.745509</td>\n",
        "      <td> 5.123167</td>\n",
        "      <td> 4.668116</td>\n",
        "    </tr>\n",
        "    <tr>\n",
        "      <th>9.74 </th>\n",
        "      <td>  9.656604</td>\n",
        "      <td> 0.745574</td>\n",
        "      <td> 5.129016</td>\n",
        "      <td> 4.673852</td>\n",
        "    </tr>\n",
        "    <tr>\n",
        "      <th>9.75 </th>\n",
        "      <td>  9.669651</td>\n",
        "      <td> 0.745639</td>\n",
        "      <td> 5.134866</td>\n",
        "      <td> 4.679594</td>\n",
        "    </tr>\n",
        "    <tr>\n",
        "      <th>9.76 </th>\n",
        "      <td>  9.682710</td>\n",
        "      <td> 0.745705</td>\n",
        "      <td> 5.140717</td>\n",
        "      <td> 4.685340</td>\n",
        "    </tr>\n",
        "    <tr>\n",
        "      <th>9.77 </th>\n",
        "      <td>  9.695782</td>\n",
        "      <td> 0.745772</td>\n",
        "      <td> 5.146569</td>\n",
        "      <td> 4.691091</td>\n",
        "    </tr>\n",
        "    <tr>\n",
        "      <th>9.78 </th>\n",
        "      <td>  9.708866</td>\n",
        "      <td> 0.745839</td>\n",
        "      <td> 5.152421</td>\n",
        "      <td> 4.696847</td>\n",
        "    </tr>\n",
        "    <tr>\n",
        "      <th>9.79 </th>\n",
        "      <td>  9.721963</td>\n",
        "      <td> 0.745906</td>\n",
        "      <td> 5.158274</td>\n",
        "      <td> 4.702608</td>\n",
        "    </tr>\n",
        "    <tr>\n",
        "      <th>9.80 </th>\n",
        "      <td>  9.735073</td>\n",
        "      <td> 0.745974</td>\n",
        "      <td> 5.164128</td>\n",
        "      <td> 4.708374</td>\n",
        "    </tr>\n",
        "    <tr>\n",
        "      <th>9.81 </th>\n",
        "      <td>  9.748196</td>\n",
        "      <td> 0.746043</td>\n",
        "      <td> 5.169982</td>\n",
        "      <td> 4.714144</td>\n",
        "    </tr>\n",
        "    <tr>\n",
        "      <th>9.82 </th>\n",
        "      <td>  9.761331</td>\n",
        "      <td> 0.746112</td>\n",
        "      <td> 5.175837</td>\n",
        "      <td> 4.719919</td>\n",
        "    </tr>\n",
        "    <tr>\n",
        "      <th>9.83 </th>\n",
        "      <td>  9.774480</td>\n",
        "      <td> 0.746181</td>\n",
        "      <td> 5.181693</td>\n",
        "      <td> 4.725699</td>\n",
        "    </tr>\n",
        "    <tr>\n",
        "      <th>9.84 </th>\n",
        "      <td>  9.787641</td>\n",
        "      <td> 0.746251</td>\n",
        "      <td> 5.187549</td>\n",
        "      <td> 4.731485</td>\n",
        "    </tr>\n",
        "    <tr>\n",
        "      <th>9.85 </th>\n",
        "      <td>  9.800815</td>\n",
        "      <td> 0.746322</td>\n",
        "      <td> 5.193406</td>\n",
        "      <td> 4.737275</td>\n",
        "    </tr>\n",
        "    <tr>\n",
        "      <th>9.86 </th>\n",
        "      <td>  9.814002</td>\n",
        "      <td> 0.746393</td>\n",
        "      <td> 5.199264</td>\n",
        "      <td> 4.743070</td>\n",
        "    </tr>\n",
        "    <tr>\n",
        "      <th>9.87 </th>\n",
        "      <td>  9.827202</td>\n",
        "      <td> 0.746464</td>\n",
        "      <td> 5.205123</td>\n",
        "      <td> 4.748869</td>\n",
        "    </tr>\n",
        "    <tr>\n",
        "      <th>9.88 </th>\n",
        "      <td>  9.840415</td>\n",
        "      <td> 0.746536</td>\n",
        "      <td> 5.210982</td>\n",
        "      <td> 4.754674</td>\n",
        "    </tr>\n",
        "    <tr>\n",
        "      <th>9.89 </th>\n",
        "      <td>  9.853641</td>\n",
        "      <td> 0.746609</td>\n",
        "      <td> 5.216842</td>\n",
        "      <td> 4.760484</td>\n",
        "    </tr>\n",
        "    <tr>\n",
        "      <th>9.90 </th>\n",
        "      <td>  9.866880</td>\n",
        "      <td> 0.746682</td>\n",
        "      <td> 5.222703</td>\n",
        "      <td> 4.766299</td>\n",
        "    </tr>\n",
        "    <tr>\n",
        "      <th>9.91 </th>\n",
        "      <td>  9.880132</td>\n",
        "      <td> 0.746756</td>\n",
        "      <td> 5.228565</td>\n",
        "      <td> 4.772119</td>\n",
        "    </tr>\n",
        "    <tr>\n",
        "      <th>9.92 </th>\n",
        "      <td>  9.893398</td>\n",
        "      <td> 0.746830</td>\n",
        "      <td> 5.234427</td>\n",
        "      <td> 4.777943</td>\n",
        "    </tr>\n",
        "    <tr>\n",
        "      <th>9.93 </th>\n",
        "      <td>  9.906676</td>\n",
        "      <td> 0.746905</td>\n",
        "      <td> 5.240290</td>\n",
        "      <td> 4.783773</td>\n",
        "    </tr>\n",
        "    <tr>\n",
        "      <th>9.94 </th>\n",
        "      <td>  9.919968</td>\n",
        "      <td> 0.746980</td>\n",
        "      <td> 5.246153</td>\n",
        "      <td> 4.789608</td>\n",
        "    </tr>\n",
        "    <tr>\n",
        "      <th>9.95 </th>\n",
        "      <td>  9.933273</td>\n",
        "      <td> 0.747056</td>\n",
        "      <td> 5.252017</td>\n",
        "      <td> 4.795448</td>\n",
        "    </tr>\n",
        "    <tr>\n",
        "      <th>9.96 </th>\n",
        "      <td>  9.946592</td>\n",
        "      <td> 0.747132</td>\n",
        "      <td> 5.257882</td>\n",
        "      <td> 4.801293</td>\n",
        "    </tr>\n",
        "    <tr>\n",
        "      <th>9.97 </th>\n",
        "      <td>  9.959924</td>\n",
        "      <td> 0.747209</td>\n",
        "      <td> 5.263748</td>\n",
        "      <td> 4.807144</td>\n",
        "    </tr>\n",
        "    <tr>\n",
        "      <th>9.98 </th>\n",
        "      <td>  9.973269</td>\n",
        "      <td> 0.747286</td>\n",
        "      <td> 5.269614</td>\n",
        "      <td> 4.812999</td>\n",
        "    </tr>\n",
        "    <tr>\n",
        "      <th>9.99 </th>\n",
        "      <td>  9.986628</td>\n",
        "      <td> 0.747364</td>\n",
        "      <td> 5.275482</td>\n",
        "      <td> 4.818859</td>\n",
        "    </tr>\n",
        "    <tr>\n",
        "      <th>10.00</th>\n",
        "      <td> 10.000000</td>\n",
        "      <td> 0.747442</td>\n",
        "      <td> 5.281349</td>\n",
        "      <td> 4.824725</td>\n",
        "    </tr>\n",
        "  </tbody>\n",
        "</table>\n",
        "<p>1000 rows \u00d7 4 columns</p>\n",
        "</div>"
       ],
       "metadata": {},
       "output_type": "pyout",
       "prompt_number": 42,
       "text": [
        "       firm productivity  firm size      wage    profit\n",
        "x                                                      \n",
        "0.01            0.010000   2.847958  0.002531  0.008809\n",
        "0.02            0.016743   2.115246  0.005453  0.014097\n",
        "0.03            0.024960   1.945591  0.008537  0.020301\n",
        "0.04            0.033268   1.840288  0.011735  0.026394\n",
        "0.05            0.041593   1.763320  0.015018  0.032367\n",
        "0.06            0.049925   1.703012  0.018373  0.038243\n",
        "0.07            0.058262   1.653705  0.021787  0.044037\n",
        "0.08            0.066603   1.612187  0.025254  0.049762\n",
        "0.09            0.074948   1.576457  0.028767  0.055427\n",
        "0.10            0.083296   1.545187  0.032321  0.061041\n",
        "0.11            0.091647   1.517450  0.035914  0.066608\n",
        "0.12            0.100001   1.492577  0.039541  0.072133\n",
        "0.13            0.108358   1.470068  0.043200  0.077620\n",
        "0.14            0.116718   1.449540  0.046889  0.083072\n",
        "0.15            0.125080   1.430697  0.050607  0.088492\n",
        "0.16            0.133446   1.413300  0.054350  0.093883\n",
        "0.17            0.141813   1.397158  0.058119  0.099246\n",
        "0.18            0.150183   1.382115  0.061911  0.104583\n",
        "0.19            0.158556   1.368042  0.065725  0.109896\n",
        "0.20            0.166931   1.354829  0.069561  0.115186\n",
        "0.21            0.175308   1.342385  0.073417  0.120455\n",
        "0.22            0.183688   1.330631  0.077293  0.125703\n",
        "0.23            0.192070   1.319501  0.081187  0.130933\n",
        "0.24            0.200454   1.308937  0.085100  0.136143\n",
        "0.25            0.208841   1.298888  0.089029  0.141337\n",
        "0.26            0.217229   1.289310  0.092976  0.146513\n",
        "0.27            0.225620   1.280165  0.096938  0.151674\n",
        "0.28            0.234013   1.271417  0.100916  0.156819\n",
        "0.29            0.242408   1.263036  0.104909  0.161950\n",
        "0.30            0.250805   1.254996  0.108917  0.167066\n",
        "...                  ...        ...       ...       ...\n",
        "9.71            9.617539   0.745381  5.111470  4.656656\n",
        "9.72            9.630548   0.745445  5.117318  4.662384\n",
        "9.73            9.643570   0.745509  5.123167  4.668116\n",
        "9.74            9.656604   0.745574  5.129016  4.673852\n",
        "9.75            9.669651   0.745639  5.134866  4.679594\n",
        "9.76            9.682710   0.745705  5.140717  4.685340\n",
        "9.77            9.695782   0.745772  5.146569  4.691091\n",
        "9.78            9.708866   0.745839  5.152421  4.696847\n",
        "9.79            9.721963   0.745906  5.158274  4.702608\n",
        "9.80            9.735073   0.745974  5.164128  4.708374\n",
        "9.81            9.748196   0.746043  5.169982  4.714144\n",
        "9.82            9.761331   0.746112  5.175837  4.719919\n",
        "9.83            9.774480   0.746181  5.181693  4.725699\n",
        "9.84            9.787641   0.746251  5.187549  4.731485\n",
        "9.85            9.800815   0.746322  5.193406  4.737275\n",
        "9.86            9.814002   0.746393  5.199264  4.743070\n",
        "9.87            9.827202   0.746464  5.205123  4.748869\n",
        "9.88            9.840415   0.746536  5.210982  4.754674\n",
        "9.89            9.853641   0.746609  5.216842  4.760484\n",
        "9.90            9.866880   0.746682  5.222703  4.766299\n",
        "9.91            9.880132   0.746756  5.228565  4.772119\n",
        "9.92            9.893398   0.746830  5.234427  4.777943\n",
        "9.93            9.906676   0.746905  5.240290  4.783773\n",
        "9.94            9.919968   0.746980  5.246153  4.789608\n",
        "9.95            9.933273   0.747056  5.252017  4.795448\n",
        "9.96            9.946592   0.747132  5.257882  4.801293\n",
        "9.97            9.959924   0.747209  5.263748  4.807144\n",
        "9.98            9.973269   0.747286  5.269614  4.812999\n",
        "9.99            9.986628   0.747364  5.275482  4.818859\n",
        "10.00          10.000000   0.747442  5.281349  4.824725\n",
        "\n",
        "[1000 rows x 4 columns]"
       ]
      }
     ],
     "prompt_number": 42
    },
    {
     "cell_type": "code",
     "collapsed": false,
     "input": [
      "solver.solution['firm size'].plot()"
     ],
     "language": "python",
     "metadata": {},
     "outputs": [
      {
       "metadata": {},
       "output_type": "pyout",
       "prompt_number": 43,
       "text": [
        "<matplotlib.axes._subplots.AxesSubplot at 0x113528310>"
       ]
      },
      {
       "metadata": {},
       "output_type": "display_data",
       "png": "iVBORw0KGgoAAAANSUhEUgAAAXUAAAEPCAYAAAC9RFRvAAAABHNCSVQICAgIfAhkiAAAAAlwSFlz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\ngByhqQNAjtDUASBHaOoAkCP/DyzwOoldpTvoAAAAAElFTkSuQmCC\n",
       "text": [
        "<matplotlib.figure.Figure at 0x113515d50>"
       ]
      }
     ],
     "prompt_number": 43
    },
    {
     "cell_type": "markdown",
     "metadata": {},
     "source": [
      "### Negative assortative matching"
     ]
    },
    {
     "cell_type": "code",
     "collapsed": false,
     "input": [
      "F_params = {'omega_A':0.5, 'omega_B':0.45, 'sigma_A':1.5, 'sigma_B':1.0}\n",
      "\n",
      "model = models.Model('negative',\n",
      "                     workers=workers,\n",
      "                     firms=firms,\n",
      "                     production=F,\n",
      "                     params=F_params)\n",
      "\n",
      "solver = solvers.ShootingSolver(model=model)"
     ],
     "language": "python",
     "metadata": {},
     "outputs": [],
     "prompt_number": 197
    },
    {
     "cell_type": "code",
     "collapsed": false,
     "input": [
      "solver.solve(1e3, tol=1e-6, number_knots=1000, atol=1e-12, rtol=1e-9)"
     ],
     "language": "python",
     "metadata": {},
     "outputs": [
      {
       "output_type": "stream",
       "stream": "stdout",
       "text": [
        "Exhausted firms: initial guess of 500.0 for firm size is too low.\n",
        "Exhausted workers: initial guess of 750.0 for firm size is too high!"
       ]
      },
      {
       "output_type": "stream",
       "stream": "stdout",
       "text": [
        "\n",
        "Exhausted firms: initial guess of 625.0 for firm size is too low."
       ]
      },
      {
       "output_type": "stream",
       "stream": "stdout",
       "text": [
        "\n",
        "Exhausted firms: initial guess of 687.5 for firm size is too low."
       ]
      },
      {
       "output_type": "stream",
       "stream": "stdout",
       "text": [
        "\n",
        "Exhausted workers: initial guess of 718.75 for firm size is too high!"
       ]
      },
      {
       "output_type": "stream",
       "stream": "stdout",
       "text": [
        "\n",
        "Exhausted workers: initial guess of 703.125 for firm size is too high!"
       ]
      },
      {
       "output_type": "stream",
       "stream": "stdout",
       "text": [
        "\n",
        "Exhausted firms: initial guess of 695.3125 for firm size is too low."
       ]
      },
      {
       "output_type": "stream",
       "stream": "stdout",
       "text": [
        "\n",
        "Exhausted workers: initial guess of 699.21875 for firm size is too high!"
       ]
      },
      {
       "output_type": "stream",
       "stream": "stdout",
       "text": [
        "\n",
        "Exhausted firms: initial guess of 697.265625 for firm size is too low."
       ]
      },
      {
       "output_type": "stream",
       "stream": "stdout",
       "text": [
        "\n",
        "Exhausted workers: initial guess of 698.2421875 for firm size is too high!"
       ]
      },
      {
       "output_type": "stream",
       "stream": "stdout",
       "text": [
        "\n",
        "Exhausted workers: initial guess of 697.75390625 for firm size is too high!"
       ]
      },
      {
       "output_type": "stream",
       "stream": "stdout",
       "text": [
        "\n",
        "Exhausted firms: initial guess of 697.509765625 for firm size is too low."
       ]
      },
      {
       "output_type": "stream",
       "stream": "stdout",
       "text": [
        "\n",
        "Exhausted workers: initial guess of 697.631835938 for firm size is too high!"
       ]
      },
      {
       "output_type": "stream",
       "stream": "stdout",
       "text": [
        "\n",
        "Exhausted workers: initial guess of 697.570800781 for firm size is too high!"
       ]
      },
      {
       "output_type": "stream",
       "stream": "stdout",
       "text": [
        "\n",
        "Exhausted workers: initial guess of 697.540283203 for firm size is too high!"
       ]
      },
      {
       "output_type": "stream",
       "stream": "stdout",
       "text": [
        "\n",
        "Exhausted workers: initial guess of 697.525024414 for firm size is too high!"
       ]
      },
      {
       "output_type": "stream",
       "stream": "stdout",
       "text": [
        "\n",
        "Exhausted firms: initial guess of 697.51739502 for firm size is too low."
       ]
      },
      {
       "output_type": "stream",
       "stream": "stdout",
       "text": [
        "\n",
        "Exhausted workers: initial guess of 697.521209717 for firm size is too high!"
       ]
      },
      {
       "output_type": "stream",
       "stream": "stdout",
       "text": [
        "\n",
        "Exhausted firms: initial guess of 697.519302368 for firm size is too low."
       ]
      },
      {
       "output_type": "stream",
       "stream": "stdout",
       "text": [
        "\n",
        "Exhausted firms: initial guess of 697.520256042 for firm size is too low."
       ]
      },
      {
       "output_type": "stream",
       "stream": "stdout",
       "text": [
        "\n",
        "Exhausted firms: initial guess of 697.52073288 for firm size is too low."
       ]
      },
      {
       "output_type": "stream",
       "stream": "stdout",
       "text": [
        "\n",
        "Exhausted workers: initial guess of 697.520971298 for firm size is too high!"
       ]
      },
      {
       "output_type": "stream",
       "stream": "stdout",
       "text": [
        "\n",
        "Exhausted firms: initial guess of 697.520852089 for firm size is too low."
       ]
      },
      {
       "output_type": "stream",
       "stream": "stdout",
       "text": [
        "\n",
        "Exhausted workers: initial guess of 697.520911694 for firm size is too high!"
       ]
      },
      {
       "output_type": "stream",
       "stream": "stdout",
       "text": [
        "\n",
        "Exhausted workers: initial guess of 697.520881891 for firm size is too high!"
       ]
      },
      {
       "output_type": "stream",
       "stream": "stdout",
       "text": [
        "\n",
        "Exhausted firms: initial guess of 697.52086699 for firm size is too low."
       ]
      },
      {
       "output_type": "stream",
       "stream": "stdout",
       "text": [
        "\n",
        "Exhausted workers: initial guess of 697.520874441 for firm size is too high!"
       ]
      },
      {
       "output_type": "stream",
       "stream": "stdout",
       "text": [
        "\n",
        "Exhausted firms: initial guess of 697.520870715 for firm size is too low."
       ]
      },
      {
       "output_type": "stream",
       "stream": "stdout",
       "text": [
        "\n",
        "Exhausted firms: initial guess of 697.520872578 for firm size is too low."
       ]
      },
      {
       "output_type": "stream",
       "stream": "stdout",
       "text": [
        "\n",
        "Exhausted workers: initial guess of 697.520873509 for firm size is too high!"
       ]
      },
      {
       "output_type": "stream",
       "stream": "stdout",
       "text": [
        "\n",
        "Exhausted firms: initial guess of 697.520873044 for firm size is too low."
       ]
      },
      {
       "output_type": "stream",
       "stream": "stdout",
       "text": [
        "\n",
        "Exhausted workers: initial guess of 697.520873277 for firm size is too high!"
       ]
      },
      {
       "output_type": "stream",
       "stream": "stdout",
       "text": [
        "\n",
        "Exhausted firms: initial guess of 697.52087316 for firm size is too low."
       ]
      },
      {
       "output_type": "stream",
       "stream": "stdout",
       "text": [
        "\n",
        "Exhausted firms: initial guess of 697.520873218 for firm size is too low."
       ]
      },
      {
       "output_type": "stream",
       "stream": "stdout",
       "text": [
        "\n",
        "Exhausted firms: initial guess of 697.520873247 for firm size is too low."
       ]
      },
      {
       "output_type": "stream",
       "stream": "stdout",
       "text": [
        "\n",
        "Exhausted firms: Initial guess of 697.520873262 for firm size was too low!"
       ]
      },
      {
       "output_type": "stream",
       "stream": "stdout",
       "text": [
        "\n",
        "Exhausted firms: Initial guess of 697.520873269 for firm size was too low!"
       ]
      },
      {
       "output_type": "stream",
       "stream": "stdout",
       "text": [
        "\n",
        "Exhausted workers: initial guess of 697.520873273 for firm size is too high!"
       ]
      },
      {
       "output_type": "stream",
       "stream": "stdout",
       "text": [
        "\n",
        "Exhausted firms: Initial guess of 697.520873271 for firm size was too low!"
       ]
      },
      {
       "output_type": "stream",
       "stream": "stdout",
       "text": [
        "\n",
        "Exhausted firms: Initial guess of 697.520873272 for firm size was too low!"
       ]
      },
      {
       "output_type": "stream",
       "stream": "stdout",
       "text": [
        "\n",
        "Exhausted firms: Initial guess of 697.520873272 for firm size was too low!"
       ]
      },
      {
       "output_type": "stream",
       "stream": "stdout",
       "text": [
        "\n",
        "Exhausted workers: initial guess of 697.520873273 for firm size is too high!"
       ]
      },
      {
       "output_type": "stream",
       "stream": "stdout",
       "text": [
        "\n",
        "Exhausted firms: Initial guess of 697.520873273 for firm size was too low!"
       ]
      },
      {
       "output_type": "stream",
       "stream": "stdout",
       "text": [
        "\n",
        "Exhausted firms: Initial guess of 697.520873273 for firm size was too low!"
       ]
      },
      {
       "output_type": "stream",
       "stream": "stdout",
       "text": [
        "\n",
        "Success! All workers and firms are matched"
       ]
      },
      {
       "output_type": "stream",
       "stream": "stdout",
       "text": [
        "\n"
       ]
      }
     ],
     "prompt_number": 198
    },
    {
     "cell_type": "code",
     "collapsed": false,
     "input": [
      "solver.solution"
     ],
     "language": "python",
     "metadata": {},
     "outputs": [
      {
       "metadata": {},
       "output_type": "pyout",
       "prompt_number": 199,
       "text": [
        "array([[  1.00000000e-04,   5.00000000e+01,   6.97520873e+02,\n",
        "          7.96982563e-02,   6.79447968e+01],\n",
        "       [  1.00200000e-01,   4.38421936e+01,   2.76462641e+02,\n",
        "          1.62305818e-01,   5.48429383e+01],\n",
        "       [  2.00300000e-01,   3.01915720e+01,   1.25086665e+02,\n",
        "          1.99932868e-01,   3.05664771e+01],\n",
        "       ..., \n",
        "       [  9.97998000e+01,   2.00562063e-02,   4.40863126e-04,\n",
        "          4.66712075e+02,   2.51479732e-01],\n",
        "       [  9.98999000e+01,   1.70657087e-02,   4.33023425e-04,\n",
        "          4.67696609e+02,   2.47528829e-01],\n",
        "       [  1.00000000e+02,   9.99753364e-04,   3.61574332e-04,\n",
        "          4.68687387e+02,   2.07124291e-01]])"
       ]
      }
     ],
     "prompt_number": 199
    },
    {
     "cell_type": "code",
     "collapsed": false,
     "input": [
      "plt.plot(solver.solution[:, 0], solver.solution[:, 2])\n",
      "plt.xscale('log')\n",
      "plt.yscale('log')\n",
      "plt.show()"
     ],
     "language": "python",
     "metadata": {},
     "outputs": [
      {
       "metadata": {},
       "output_type": "display_data",
       "png": "iVBORw0KGgoAAAANSUhEUgAAAX8AAAEHCAYAAABGNUbLAAAABHNCSVQICAgIfAhkiAAAAAlwSFlz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\n",
       "text": [
        "<matplotlib.figure.Figure at 0x10de21b10>"
       ]
      }
     ],
     "prompt_number": 200
    },
    {
     "cell_type": "markdown",
     "metadata": {},
     "source": [
      "# Example:\n",
      "\n",
      "More sophisticated production function that is not multiplicatively separable..."
     ]
    },
    {
     "cell_type": "code",
     "collapsed": false,
     "input": [
      "# define some workers skill\n",
      "x, mu1, sigma1 = sym.var('x, mu1, sigma1')\n",
      "skill_cdf = 0.5 + 0.5 * sym.erf((sym.log(x) - mu1) / sym.sqrt(2 * sigma1**2))\n",
      "skill_params = {'mu1': 0.0, 'sigma1': 1e0}\n",
      "skill_bounds = [1e-3, 50.0]\n",
      "\n",
      "workers = inputs.Input(var=x,\n",
      "                       cdf=skill_cdf,\n",
      "                       params=skill_params,\n",
      "                       bounds=skill_bounds,\n",
      "                       )\n",
      "\n",
      "# define some firms\n",
      "y, mu2, sigma2 = sym.var('y, mu2, sigma2')\n",
      "productivity_cdf = 0.5 + 0.5 * sym.erf((sym.log(y) - mu2) / sym.sqrt(2 * sigma2**2))\n",
      "productivity_params = {'mu2': 0.0, 'sigma2': 1e0}\n",
      "productivity_bounds = [1e-3, 50.0]\n",
      "\n",
      "firms = inputs.Input(var=y,\n",
      "                     cdf=productivity_cdf,\n",
      "                     params=productivity_params,\n",
      "                     bounds=productivity_bounds,\n",
      "                     )\n",
      "\n",
      "# define some valid model params\n",
      "F_params = {'eta': 0.89, 'kappa': 1.0, 'gamma': 0.54, 'rho': 0.24, 'A': 1.0, 'k': 1.0}\n",
      "\n",
      "# define a valid production function\n",
      "A, k, kappa, eta, rho, l, gamma, r = sym.var('A, k, kappa, eta, rho, l, gamma, r')\n",
      "F = r * A * kappa * eta * ((k * x)**rho + (1 - eta) * (y * (l / r))**rho)**(gamma / rho)\n",
      "\n",
      "model = models.Model('negative',\n",
      "                     workers=workers,\n",
      "                     firms=firms,\n",
      "                     production=F,\n",
      "                     params=F_params)"
     ],
     "language": "python",
     "metadata": {},
     "outputs": [],
     "prompt_number": 106
    },
    {
     "cell_type": "code",
     "collapsed": false,
     "input": [
      "solver = solvers.ShootingSolver(model=model)"
     ],
     "language": "python",
     "metadata": {},
     "outputs": [],
     "prompt_number": 108
    },
    {
     "cell_type": "code",
     "collapsed": false,
     "input": [
      "solver.solve(1e0, tol=1e-4, number_knots=10000, integrator='vode',\n",
      "             atol=1e-9, rtol=1e-6, check=True)"
     ],
     "language": "python",
     "metadata": {},
     "outputs": [
      {
       "output_type": "stream",
       "stream": "stdout",
       "text": [
        "Exhausted firms: initial guess of 0.5 for firm size is too low.\n"
       ]
      }
     ],
     "prompt_number": 109
    },
    {
     "cell_type": "code",
     "collapsed": false,
     "input": [
      "solver.integrator.successful()"
     ],
     "language": "python",
     "metadata": {},
     "outputs": [
      {
       "metadata": {},
       "output_type": "pyout",
       "prompt_number": 110,
       "text": [
        "False"
       ]
      }
     ],
     "prompt_number": 110
    },
    {
     "cell_type": "code",
     "collapsed": false,
     "input": [
      "solver._solution"
     ],
     "language": "python",
     "metadata": {},
     "outputs": [
      {
       "metadata": {},
       "output_type": "pyout",
       "prompt_number": 111,
       "text": [
        "array([[  1.00000000e-03,   5.00000000e+01,   7.50000000e-01,\n",
        "          6.25292214e-02,   1.02985470e-01],\n",
        "       [  6.00040004e-03,   4.91355141e+01,   2.93698995e-02,\n",
        "          6.50895813e-01,   1.02614135e-01],\n",
        "       [  1.10008001e-02,   1.87728995e+01,   6.10881218e-04,\n",
        "          8.73207163e+00,   9.34543423e-02],\n",
        "       [  1.34286568e-02,   2.61227847e+06,   1.98653860e+04,\n",
        "          1.04151668e-01,   1.79568793e+03]])"
       ]
      }
     ],
     "prompt_number": 111
    },
    {
     "cell_type": "code",
     "collapsed": false,
     "input": [
      "integrat"
     ],
     "language": "python",
     "metadata": {},
     "outputs": [
      {
       "metadata": {},
       "output_type": "pyout",
       "prompt_number": 46,
       "text": [
        "50.0"
       ]
      }
     ],
     "prompt_number": 46
    },
    {
     "cell_type": "code",
     "collapsed": false,
     "input": [],
     "language": "python",
     "metadata": {},
     "outputs": []
    }
   ],
   "metadata": {}
  }
 ]
}