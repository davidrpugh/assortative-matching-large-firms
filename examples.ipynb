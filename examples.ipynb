{
 "metadata": {
  "name": "",
  "signature": "sha256:17b5fbceb69379020fa85daf95d37005103f12133d33cf1b887e869265bf50bf"
 },
 "nbformat": 3,
 "nbformat_minor": 0,
 "worksheets": [
  {
   "cells": [
    {
     "cell_type": "code",
     "collapsed": false,
     "input": [
      "%load_ext autoreload"
     ],
     "language": "python",
     "metadata": {},
     "outputs": [
      {
       "output_type": "stream",
       "stream": "stdout",
       "text": [
        "The autoreload extension is already loaded. To reload it, use:\n",
        "  %reload_ext autoreload\n"
       ]
      }
     ],
     "prompt_number": 152
    },
    {
     "cell_type": "code",
     "collapsed": false,
     "input": [
      "autoreload 2"
     ],
     "language": "python",
     "metadata": {},
     "outputs": [],
     "prompt_number": 153
    },
    {
     "cell_type": "code",
     "collapsed": false,
     "input": [
      "%matplotlib inline"
     ],
     "language": "python",
     "metadata": {},
     "outputs": [],
     "prompt_number": 154
    },
    {
     "cell_type": "code",
     "collapsed": true,
     "input": [
      "import numpy as np\n",
      "from scipy import integrate, optimize\n",
      "import sympy as sym\n",
      "\n",
      "import inputs\n",
      "import models\n",
      "import solvers"
     ],
     "language": "python",
     "metadata": {},
     "outputs": [],
     "prompt_number": 155
    },
    {
     "cell_type": "markdown",
     "metadata": {},
     "source": [
      "# Example: \n",
      "\n",
      "## Worker skill and firm productivity are $\\sim U[a, b]$..."
     ]
    },
    {
     "cell_type": "code",
     "collapsed": false,
     "input": [
      "# define some workers skill\n",
      "x, a, b = sym.var('x, a, b')\n",
      "skill_cdf = (x - a) / (b - a)\n",
      "skill_params = {'a': 1.0, 'b': 2.0}\n",
      "skill_bounds = [skill_params['a'], skill_params['b']]\n",
      "\n",
      "workers = inputs.Input(var=x,\n",
      "                       cdf=skill_cdf,\n",
      "                       params=skill_params,\n",
      "                       bounds=skill_bounds,\n",
      "                       )\n",
      "\n",
      "# define some firms\n",
      "y = sym.var('y')\n",
      "productivity_cdf = (y - a) / (b - a)\n",
      "productivity_params = skill_params\n",
      "productivity_bounds = skill_bounds\n",
      "\n",
      "firms = inputs.Input(var=y,\n",
      "                     cdf=productivity_cdf,\n",
      "                     params=productivity_params,\n",
      "                     bounds=productivity_bounds,\n",
      "                     )"
     ],
     "language": "python",
     "metadata": {},
     "outputs": [],
     "prompt_number": 186
    },
    {
     "cell_type": "markdown",
     "metadata": {},
     "source": [
      "## ...and production function is multiplicatively separable.\n",
      "A particularly attractive case arises under multiplicative separability of the form\n",
      "\n",
      "$$F(x, y, l, r) = A(x, y)B(l, r)$$\n",
      "\n",
      "In this case the condition for positive assortative matching can be written as \n",
      "\n",
      "$$\\frac{AA_{xy}}{A_xA_y}\\frac{BB_{lr}}{B_lB_r} \\ge 1$$\n",
      "\n",
      "If $B$ has constant elasticity of substitution form, then we obtain an even simpler condition\n",
      "\n",
      "$$\\frac{AA_{xy}}{A_xA_y} \\frac{1}{\\sigma_{lr}}\\ge 1$$\n",
      "\n",
      "where $\\sigma_{lr}$ is the elasticity of substitution between $l$ and $r$. \n",
      "\n",
      "Finally, if $A$ also has constant elasticity of substitution form, then we obtain an even simpler condition\n",
      "\n",
      "$$\\frac{1}{\\sigma_{xy}\\sigma_{lr}}\\ge 1 \\iff \\sigma_{xy}\\sigma_{lr} \\le 1$$\n",
      "\n",
      "where $\\sigma_{xy}$ is the elasticity of substitution between $x$ and $y$."
     ]
    },
    {
     "cell_type": "code",
     "collapsed": false,
     "input": [
      "# define symbolic expression for CES between x and y\n",
      "x, y, omega_A, sigma_A = sym.var('x, y, omega_A, sigma_A')\n",
      "A = ((omega_A * x**((sigma_A - 1) / sigma_A) + \n",
      "     (1 - omega_A) * y**((sigma_A - 1) / sigma_A))**(sigma_A / (sigma_A - 1))) \n",
      "\n",
      "# define symbolic expression for Cobb-Douglas between l and r\n",
      "l, r, omega_B, sigma_B = sym.var('l, r, omega_A, sigma_A')\n",
      "B = l**omega_B * r**(1 - omega_B)\n",
      "    \n",
      "# multiplicative separability!\n",
      "F_params = {'omega_A':0.5, 'omega_B':0.5, 'sigma_A':0.5, 'sigma_B':1.0}\n",
      "F = A * B"
     ],
     "language": "python",
     "metadata": {},
     "outputs": [],
     "prompt_number": 187
    },
    {
     "cell_type": "markdown",
     "metadata": {},
     "source": [
      "Create an instance of the `models.Model` class and an instance of the `solvers.ShootingSolver` class..."
     ]
    },
    {
     "cell_type": "code",
     "collapsed": false,
     "input": [
      "model = models.Model(assortativity='positive',\n",
      "                     workers=workers,\n",
      "                     firms=firms,\n",
      "                     production=F,\n",
      "                     params=F_params)\n",
      "\n",
      "solver = solvers.ShootingSolver(model=model)"
     ],
     "language": "python",
     "metadata": {},
     "outputs": [],
     "prompt_number": 243
    },
    {
     "cell_type": "code",
     "collapsed": false,
     "input": [
      "solver.solve(2.1, tol=1e-6, number_knots=100, atol=1e-15, rtol=1e-12)"
     ],
     "language": "python",
     "metadata": {},
     "outputs": [
      {
       "output_type": "stream",
       "stream": "stdout",
       "text": [
        "Initial guess of 1.05 for firm size is too high!\n",
        "Initial guess of 0.525 for firm size is too low!\n",
        "Initial guess of 0.7875 for firm size is too low!\n",
        "Initial guess of 0.91875 for firm size is too low!"
       ]
      },
      {
       "output_type": "stream",
       "stream": "stdout",
       "text": [
        "\n",
        "Initial guess of 0.984375 for firm size is too low!\n",
        "Initial guess of 1.0171875 for firm size is too high!"
       ]
      },
      {
       "output_type": "stream",
       "stream": "stdout",
       "text": [
        "\n",
        "Initial guess of 1.00078125 for firm size is too high!\n",
        "Initial guess of 0.992578125 for firm size is too low!"
       ]
      },
      {
       "output_type": "stream",
       "stream": "stdout",
       "text": [
        "\n",
        "Success! Found equilibrium where all workers and firms are matched\n"
       ]
      }
     ],
     "prompt_number": 259
    },
    {
     "cell_type": "code",
     "collapsed": false,
     "input": [
      "solver.solution"
     ],
     "language": "python",
     "metadata": {},
     "outputs": [
      {
       "metadata": {},
       "output_type": "pyout",
       "prompt_number": 260,
       "text": [
        "array([[ 2.        ,  2.        ,  0.99667969,  1.0016643 ,  0.99833846],\n",
        "       [ 1.98989899,  1.98986525,  0.99666275,  0.99660541,  0.99327949],\n",
        "       [ 1.97979798,  1.97973033,  0.99664546,  0.99154657,  0.98822038],\n",
        "       [ 1.96969697,  1.96959524,  0.99662782,  0.98648776,  0.98316115],\n",
        "       [ 1.95959596,  1.95945996,  0.99660981,  0.981429  ,  0.97810178],\n",
        "       [ 1.94949495,  1.94932449,  0.99659143,  0.97637029,  0.97304227],\n",
        "       [ 1.93939394,  1.93918884,  0.99657268,  0.97131162,  0.96798262],\n",
        "       [ 1.92929293,  1.92905299,  0.99655353,  0.966253  ,  0.96292283],\n",
        "       [ 1.91919192,  1.91891695,  0.99653398,  0.96119442,  0.9578629 ],\n",
        "       [ 1.90909091,  1.90878071,  0.99651403,  0.95613588,  0.95280282],\n",
        "       [ 1.8989899 ,  1.89864426,  0.99649365,  0.9510774 ,  0.94774259],\n",
        "       [ 1.88888889,  1.8885076 ,  0.99647285,  0.94601896,  0.94268221],\n",
        "       [ 1.87878788,  1.87837073,  0.99645161,  0.94096057,  0.93762168],\n",
        "       [ 1.86868687,  1.86823364,  0.99642992,  0.93590223,  0.93256099],\n",
        "       [ 1.85858586,  1.85809633,  0.99640777,  0.93084394,  0.92750013],\n",
        "       [ 1.84848485,  1.84795879,  0.99638515,  0.92578569,  0.92243912],\n",
        "       [ 1.83838384,  1.83782101,  0.99636204,  0.9207275 ,  0.91737793],\n",
        "       [ 1.82828283,  1.827683  ,  0.99633844,  0.91566936,  0.91231658],\n",
        "       [ 1.81818182,  1.81754475,  0.99631434,  0.91061127,  0.90725506],\n",
        "       [ 1.80808081,  1.80740625,  0.99628971,  0.90555323,  0.90219336],\n",
        "       [ 1.7979798 ,  1.79726749,  0.99626454,  0.90049524,  0.89713148],\n",
        "       [ 1.78787879,  1.78712848,  0.99623883,  0.89543731,  0.89206942],\n",
        "       [ 1.77777778,  1.7769892 ,  0.99621256,  0.89037943,  0.88700717],\n",
        "       [ 1.76767677,  1.76684965,  0.99618571,  0.88532161,  0.88194473],\n",
        "       [ 1.75757576,  1.75670983,  0.99615827,  0.88026384,  0.8768821 ],\n",
        "       [ 1.74747475,  1.74656972,  0.99613023,  0.87520612,  0.87181928],\n",
        "       [ 1.73737374,  1.73642932,  0.99610156,  0.87014847,  0.86675625],\n",
        "       [ 1.72727273,  1.72628863,  0.99607226,  0.86509087,  0.86169301],\n",
        "       [ 1.71717172,  1.71614764,  0.9960423 ,  0.86003333,  0.85662957],\n",
        "       [ 1.70707071,  1.70600634,  0.99601166,  0.85497585,  0.85156592],\n",
        "       [ 1.6969697 ,  1.69586472,  0.99598034,  0.84991843,  0.84650204],\n",
        "       [ 1.68686869,  1.68572278,  0.9959483 ,  0.84486107,  0.84143795],\n",
        "       [ 1.67676768,  1.67558051,  0.99591554,  0.83980377,  0.83637363],\n",
        "       [ 1.66666667,  1.66543791,  0.99588203,  0.83474653,  0.83130907],\n",
        "       [ 1.65656566,  1.65529496,  0.99584775,  0.82968936,  0.82624429],\n",
        "       [ 1.64646465,  1.64515165,  0.99581268,  0.82463225,  0.82117926],\n",
        "       [ 1.63636364,  1.63500799,  0.9957768 ,  0.81957521,  0.81611398],\n",
        "       [ 1.62626263,  1.62486395,  0.99574009,  0.81451823,  0.81104846],\n",
        "       [ 1.61616162,  1.61471953,  0.99570251,  0.80946132,  0.80598267],\n",
        "       [ 1.60606061,  1.60457473,  0.99566406,  0.80440448,  0.80091663],\n",
        "       [ 1.5959596 ,  1.59442954,  0.99562469,  0.79934771,  0.79585032],\n",
        "       [ 1.58585859,  1.58428393,  0.9955844 ,  0.79429101,  0.79078374],\n",
        "       [ 1.57575758,  1.57413791,  0.99554314,  0.78923438,  0.78571687],\n",
        "       [ 1.56565657,  1.56399147,  0.9955009 ,  0.78417782,  0.78064973],\n",
        "       [ 1.55555556,  1.55384459,  0.99545763,  0.77912134,  0.77558229],\n",
        "       [ 1.54545455,  1.54369726,  0.99541333,  0.77406493,  0.77051455],\n",
        "       [ 1.53535354,  1.53354948,  0.99536794,  0.7690086 ,  0.76544651],\n",
        "       [ 1.52525253,  1.52340122,  0.99532144,  0.76395235,  0.76037815],\n",
        "       [ 1.51515152,  1.51325249,  0.99527381,  0.75889617,  0.75530948],\n",
        "       [ 1.50505051,  1.50310327,  0.99522499,  0.75384008,  0.75024049],\n",
        "       [ 1.49494949,  1.49295354,  0.99517496,  0.74878406,  0.74517115],\n",
        "       [ 1.48484848,  1.48280329,  0.99512369,  0.74372813,  0.74010148],\n",
        "       [ 1.47474747,  1.47265252,  0.99507112,  0.73867229,  0.73503146],\n",
        "       [ 1.46464646,  1.4625012 ,  0.99501723,  0.73361653,  0.72996108],\n",
        "       [ 1.45454545,  1.45234933,  0.99496196,  0.72856086,  0.72489034],\n",
        "       [ 1.44444444,  1.44219688,  0.99490529,  0.72350527,  0.71981922],\n",
        "       [ 1.43434343,  1.43204385,  0.99484716,  0.71844978,  0.71474772],\n",
        "       [ 1.42424242,  1.42189022,  0.99478752,  0.71339438,  0.70967583],\n",
        "       [ 1.41414141,  1.41173597,  0.99472634,  0.70833908,  0.70460353],\n",
        "       [ 1.4040404 ,  1.40158109,  0.99466355,  0.70328387,  0.69953083],\n",
        "       [ 1.39393939,  1.39142556,  0.99459911,  0.69822875,  0.6944577 ],\n",
        "       [ 1.38383838,  1.38126937,  0.99453296,  0.69317374,  0.68938413],\n",
        "       [ 1.37373737,  1.37111248,  0.99446505,  0.68811883,  0.68431013],\n",
        "       [ 1.36363636,  1.3609549 ,  0.99439532,  0.68306402,  0.67923567],\n",
        "       [ 1.35353535,  1.35079659,  0.9943237 ,  0.67800932,  0.67416074],\n",
        "       [ 1.34343434,  1.34063755,  0.99425014,  0.67295473,  0.66908533],\n",
        "       [ 1.33333333,  1.33047774,  0.99417456,  0.66790025,  0.66400944],\n",
        "       [ 1.32323232,  1.32031714,  0.9940969 ,  0.66284588,  0.65893304],\n",
        "       [ 1.31313131,  1.31015575,  0.99401709,  0.65779163,  0.65385612],\n",
        "       [ 1.3030303 ,  1.29999352,  0.99393506,  0.65273749,  0.64877867],\n",
        "       [ 1.29292929,  1.28983045,  0.99385071,  0.64768347,  0.64370068],\n",
        "       [ 1.28282828,  1.2796665 ,  0.99376398,  0.64262958,  0.63862213],\n",
        "       [ 1.27272727,  1.26950165,  0.99367478,  0.63757581,  0.633543  ],\n",
        "       [ 1.26262626,  1.25933587,  0.99358302,  0.63252217,  0.62846328],\n",
        "       [ 1.25252525,  1.24916914,  0.9934886 ,  0.62746866,  0.62338296],\n",
        "       [ 1.24242424,  1.23900144,  0.99339144,  0.62241528,  0.61830201],\n",
        "       [ 1.23232323,  1.22883272,  0.99329142,  0.61736205,  0.61322042],\n",
        "       [ 1.22222222,  1.21866296,  0.99318845,  0.61230895,  0.60813818],\n",
        "       [ 1.21212121,  1.20849214,  0.99308241,  0.607256  ,  0.60305525],\n",
        "       [ 1.2020202 ,  1.19832021,  0.99297319,  0.60220319,  0.59797162],\n",
        "       [ 1.19191919,  1.18814715,  0.99286067,  0.59715054,  0.59288728],\n",
        "       [ 1.18181818,  1.17797291,  0.99274471,  0.59209804,  0.5878022 ],\n",
        "       [ 1.17171717,  1.16779747,  0.9926252 ,  0.5870457 ,  0.58271635],\n",
        "       [ 1.16161616,  1.15762079,  0.99250199,  0.58199352,  0.57762972],\n",
        "       [ 1.15151515,  1.14744282,  0.99237493,  0.57694151,  0.57254229],\n",
        "       [ 1.14141414,  1.13726353,  0.99224387,  0.57188967,  0.56745402],\n",
        "       [ 1.13131313,  1.12708287,  0.99210866,  0.56683801,  0.56236489],\n",
        "       [ 1.12121212,  1.1169008 ,  0.99196911,  0.56178652,  0.55727488],\n",
        "       [ 1.11111111,  1.10671728,  0.99182507,  0.55673523,  0.55218396],\n",
        "       [ 1.1010101 ,  1.09653225,  0.99167634,  0.55168412,  0.54709209],\n",
        "       [ 1.09090909,  1.08634568,  0.99152273,  0.54663321,  0.54199925],\n",
        "       [ 1.08080808,  1.07615749,  0.99136403,  0.5415825 ,  0.53690541],\n",
        "       [ 1.07070707,  1.06596765,  0.99120003,  0.536532  ,  0.53181054],\n",
        "       [ 1.06060606,  1.0557761 ,  0.99103051,  0.53148171,  0.52671459],\n",
        "       [ 1.05050505,  1.04558277,  0.99085522,  0.52643165,  0.52161754],\n",
        "       [ 1.04040404,  1.03538761,  0.99067391,  0.5213818 ,  0.51651935],\n",
        "       [ 1.03030303,  1.02519055,  0.99048632,  0.5163322 ,  0.51141998],\n",
        "       [ 1.02020202,  1.01499153,  0.99029217,  0.51128283,  0.50631938],\n",
        "       [ 1.01010101,  1.00479047,  0.99009117,  0.50623371,  0.50121752],\n",
        "       [ 1.        ,  0.9945873 ,  0.989883  ,  0.50118484,  0.49611435]])"
       ]
      }
     ],
     "prompt_number": 260
    },
    {
     "cell_type": "code",
     "collapsed": false,
     "input": [
      "solver.integrator.successful()"
     ],
     "language": "python",
     "metadata": {},
     "outputs": [
      {
       "metadata": {},
       "output_type": "pyout",
       "prompt_number": 237,
       "text": [
        "False"
       ]
      }
     ],
     "prompt_number": 237
    },
    {
     "cell_type": "code",
     "collapsed": false,
     "input": [],
     "language": "python",
     "metadata": {},
     "outputs": []
    },
    {
     "cell_type": "code",
     "collapsed": false,
     "input": [],
     "language": "python",
     "metadata": {},
     "outputs": []
    },
    {
     "cell_type": "markdown",
     "metadata": {},
     "source": [
      "# Example:"
     ]
    },
    {
     "cell_type": "code",
     "collapsed": false,
     "input": [
      "# define some workers skill\n",
      "x, mu1, sigma1 = sym.var('x, mu1, sigma1')\n",
      "skill_cdf = 0.5 + 0.5 * sym.erf((sym.log(x) - mu1) / sym.sqrt(2 * sigma1**2))\n",
      "skill_params = {'mu1': 0.0, 'sigma1': 1.0}\n",
      "skill_bounds = [1e-3, 5e1]\n",
      "\n",
      "workers = inputs.Input(var=x,\n",
      "                       cdf=skill_cdf,\n",
      "                       params=skill_params,\n",
      "                       bounds=skill_bounds,\n",
      "                       )\n",
      "\n",
      "# define some firms\n",
      "y, mu2, sigma2 = sym.var('y, mu2, sigma2')\n",
      "productivity_cdf = 0.5 + 0.5 * sym.erf((sym.log(y) - mu2) / sym.sqrt(2 * sigma2**2))\n",
      "productivity_params = {'mu2': 0.0, 'sigma2': 1.0}\n",
      "productivity_bounds = [1e-3, 5e1]\n",
      "\n",
      "firms = inputs.Input(var=y,\n",
      "                     cdf=productivity_cdf,\n",
      "                     params=productivity_params,\n",
      "                     bounds=productivity_bounds,\n",
      "                     )\n",
      "\n",
      "# define some valid model params\n",
      "valid_params = {'nu': 0.89, 'kappa': 1.0, 'gamma': 0.54, 'rho': 0.24, 'A': 1.0}\n",
      "\n",
      "# define a valid production function\n",
      "A, kappa, nu, rho, l, gamma, r = sym.var('A, kappa, nu, rho, l, gamma, r')\n",
      "valid_F = r * A * kappa * (nu * x**rho + (1 - nu) * (y * (l / r))**rho)**(gamma / rho)\n",
      "\n",
      "valid_model = models.Model('positive', workers, firms, production=valid_F,\n",
      "                           params=valid_params)\n",
      "\n",
      "solver = solvers.ShootingSolver(model=valid_model)"
     ],
     "language": "python",
     "metadata": {},
     "outputs": [],
     "prompt_number": 165
    },
    {
     "cell_type": "code",
     "collapsed": false,
     "input": [],
     "language": "python",
     "metadata": {},
     "outputs": []
    }
   ],
   "metadata": {}
  }
 ]
}