{
 "metadata": {
  "name": "",
  "signature": "sha256:ab036828523a7124ec7ed59c9c75df151557f6f3108df5c680d5c1bcb7159b18"
 },
 "nbformat": 3,
 "nbformat_minor": 0,
 "worksheets": [
  {
   "cells": [
    {
     "cell_type": "code",
     "collapsed": false,
     "input": [
      "%load_ext autoreload"
     ],
     "language": "python",
     "metadata": {},
     "outputs": [],
     "prompt_number": 3
    },
    {
     "cell_type": "code",
     "collapsed": false,
     "input": [
      "autoreload 2"
     ],
     "language": "python",
     "metadata": {},
     "outputs": [],
     "prompt_number": 4
    },
    {
     "cell_type": "code",
     "collapsed": false,
     "input": [
      "%matplotlib inline"
     ],
     "language": "python",
     "metadata": {},
     "outputs": [],
     "prompt_number": 1
    },
    {
     "cell_type": "code",
     "collapsed": true,
     "input": [
      "import matplotlib.pyplot as plt\n",
      "import numpy as np\n",
      "import sympy as sym\n",
      "\n",
      "import inputs\n",
      "import models\n",
      "import solvers"
     ],
     "language": "python",
     "metadata": {},
     "outputs": [],
     "prompt_number": 2
    },
    {
     "cell_type": "markdown",
     "metadata": {},
     "source": [
      "# Example: \n",
      "\n",
      "## Worker skill and firm productivity are $\\sim U[a, b]$..."
     ]
    },
    {
     "cell_type": "code",
     "collapsed": false,
     "input": [
      "# define some workers skill\n",
      "x, a, b = sym.var('x, a, b')\n",
      "skill_cdf = (x - a) / (b - a)\n",
      "skill_params = {'a': 1.0, 'b': 2.0}\n",
      "skill_bounds = [skill_params['a'], skill_params['b']]\n",
      "\n",
      "workers = inputs.Input(var=x,\n",
      "                       cdf=skill_cdf,\n",
      "                       params=skill_params,\n",
      "                       bounds=skill_bounds,\n",
      "                       )\n",
      "\n",
      "# define some firms\n",
      "y = sym.var('y')\n",
      "productivity_cdf = (y - a) / (b - a)\n",
      "productivity_params = skill_params\n",
      "productivity_bounds = skill_bounds\n",
      "\n",
      "firms = inputs.Input(var=y,\n",
      "                     cdf=productivity_cdf,\n",
      "                     params=productivity_params,\n",
      "                     bounds=productivity_bounds,\n",
      "                     )"
     ],
     "language": "python",
     "metadata": {},
     "outputs": [],
     "prompt_number": 3
    },
    {
     "cell_type": "markdown",
     "metadata": {},
     "source": [
      "## ...and production function is multiplicatively separable.\n",
      "A particularly attractive case arises under multiplicative separability of the form\n",
      "\n",
      "$$F(x, y, l, r) = A(x, y)B(l, r)$$\n",
      "\n",
      "In this case the condition for positive assortative matching can be written as \n",
      "\n",
      "$$\\frac{AA_{xy}}{A_xA_y}\\frac{BB_{lr}}{B_lB_r} \\ge 1$$\n",
      "\n",
      "If $B$ has constant elasticity of substitution form, then we obtain an even simpler condition\n",
      "\n",
      "$$\\frac{AA_{xy}}{A_xA_y} \\frac{1}{\\sigma_{lr}}\\ge 1$$\n",
      "\n",
      "where $\\sigma_{lr}$ is the elasticity of substitution between $l$ and $r$. \n",
      "\n",
      "Finally, if $A$ also has constant elasticity of substitution form, then we obtain an even simpler condition\n",
      "\n",
      "$$\\frac{1}{\\sigma_{xy}\\sigma_{lr}}\\ge 1 \\iff \\sigma_{xy}\\sigma_{lr} \\le 1$$\n",
      "\n",
      "where $\\sigma_{xy}$ is the elasticity of substitution between $x$ and $y$."
     ]
    },
    {
     "cell_type": "code",
     "collapsed": false,
     "input": [
      "# define symbolic expression for CES between x and y\n",
      "omega_A, sigma_A = sym.var('omega_A, sigma_A')\n",
      "A = ((omega_A * x**((sigma_A - 1) / sigma_A) + \n",
      "     (1 - omega_A) * y**((sigma_A - 1) / sigma_A))**(sigma_A / (sigma_A - 1))) \n",
      "\n",
      "# define symbolic expression for Cobb-Douglas between l and r\n",
      "l, r, omega_B, sigma_B = sym.var('l, r, omega_B, sigma_B')\n",
      "B = l**omega_B * r**(1 - omega_B)\n",
      "\n",
      "F = A * B"
     ],
     "language": "python",
     "metadata": {},
     "outputs": [],
     "prompt_number": 4
    },
    {
     "cell_type": "markdown",
     "metadata": {},
     "source": [
      "Create an instance of the `models.Model` class and an instance of the `solvers.ShootingSolver` class..."
     ]
    },
    {
     "cell_type": "markdown",
     "metadata": {},
     "source": [
      "### Positive assortative matching"
     ]
    },
    {
     "cell_type": "code",
     "collapsed": false,
     "input": [
      "F_params = {'omega_A':0.5, 'omega_B':0.45, 'sigma_A':0.95, 'sigma_B':1.0}\n",
      "\n",
      "model = models.Model(assortativity='positive',\n",
      "                     workers=workers,\n",
      "                     firms=firms,\n",
      "                     production=F,\n",
      "                     params=F_params)\n",
      "\n",
      "solver = solvers.ShootingSolver(model=model)"
     ],
     "language": "python",
     "metadata": {},
     "outputs": [],
     "prompt_number": 5
    },
    {
     "cell_type": "code",
     "collapsed": false,
     "input": [
      "solver.solve(1e1, tol=1e-6, number_knots=100, atol=1e-15, rtol=1e-12)"
     ],
     "language": "python",
     "metadata": {},
     "outputs": [
      {
       "output_type": "stream",
       "stream": "stdout",
       "text": [
        "Success! All workers and firms are matched\n"
       ]
      }
     ],
     "prompt_number": 6
    },
    {
     "cell_type": "code",
     "collapsed": false,
     "input": [
      "# examine the solution attribute\n",
      "solver.solution"
     ],
     "language": "python",
     "metadata": {},
     "outputs": [
      {
       "html": [
        "<div style=\"max-height:1000px;max-width:1500px;overflow:auto;\">\n",
        "<table border=\"1\" class=\"dataframe\">\n",
        "  <thead>\n",
        "    <tr style=\"text-align: right;\">\n",
        "      <th></th>\n",
        "      <th>firm productivity</th>\n",
        "      <th>firm size</th>\n",
        "      <th>wage</th>\n",
        "      <th>profit</th>\n",
        "    </tr>\n",
        "    <tr>\n",
        "      <th>x</th>\n",
        "      <th></th>\n",
        "      <th></th>\n",
        "      <th></th>\n",
        "      <th></th>\n",
        "    </tr>\n",
        "  </thead>\n",
        "  <tbody>\n",
        "    <tr>\n",
        "      <th>1.000000</th>\n",
        "      <td> 0.999999</td>\n",
        "      <td> 1.089348</td>\n",
        "      <td> 0.429310</td>\n",
        "      <td> 0.571594</td>\n",
        "    </tr>\n",
        "    <tr>\n",
        "      <th>1.010101</th>\n",
        "      <td> 1.009285</td>\n",
        "      <td> 1.086340</td>\n",
        "      <td> 0.434131</td>\n",
        "      <td> 0.576417</td>\n",
        "    </tr>\n",
        "    <tr>\n",
        "      <th>1.020202</th>\n",
        "      <td> 1.018595</td>\n",
        "      <td> 1.083403</td>\n",
        "      <td> 0.438957</td>\n",
        "      <td> 0.581249</td>\n",
        "    </tr>\n",
        "    <tr>\n",
        "      <th>1.030303</th>\n",
        "      <td> 1.027931</td>\n",
        "      <td> 1.080534</td>\n",
        "      <td> 0.443788</td>\n",
        "      <td> 0.586090</td>\n",
        "    </tr>\n",
        "    <tr>\n",
        "      <th>1.040404</th>\n",
        "      <td> 1.037292</td>\n",
        "      <td> 1.077730</td>\n",
        "      <td> 0.448625</td>\n",
        "      <td> 0.590940</td>\n",
        "    </tr>\n",
        "    <tr>\n",
        "      <th>1.050505</th>\n",
        "      <td> 1.046676</td>\n",
        "      <td> 1.074990</td>\n",
        "      <td> 0.453467</td>\n",
        "      <td> 0.595799</td>\n",
        "    </tr>\n",
        "    <tr>\n",
        "      <th>1.060606</th>\n",
        "      <td> 1.056084</td>\n",
        "      <td> 1.072310</td>\n",
        "      <td> 0.458313</td>\n",
        "      <td> 0.600666</td>\n",
        "    </tr>\n",
        "    <tr>\n",
        "      <th>1.070707</th>\n",
        "      <td> 1.065516</td>\n",
        "      <td> 1.069689</td>\n",
        "      <td> 0.463165</td>\n",
        "      <td> 0.605541</td>\n",
        "    </tr>\n",
        "    <tr>\n",
        "      <th>1.080808</th>\n",
        "      <td> 1.074970</td>\n",
        "      <td> 1.067126</td>\n",
        "      <td> 0.468022</td>\n",
        "      <td> 0.610425</td>\n",
        "    </tr>\n",
        "    <tr>\n",
        "      <th>1.090909</th>\n",
        "      <td> 1.084447</td>\n",
        "      <td> 1.064617</td>\n",
        "      <td> 0.472884</td>\n",
        "      <td> 0.615316</td>\n",
        "    </tr>\n",
        "    <tr>\n",
        "      <th>1.101010</th>\n",
        "      <td> 1.093946</td>\n",
        "      <td> 1.062161</td>\n",
        "      <td> 0.477751</td>\n",
        "      <td> 0.620214</td>\n",
        "    </tr>\n",
        "    <tr>\n",
        "      <th>1.111111</th>\n",
        "      <td> 1.103466</td>\n",
        "      <td> 1.059756</td>\n",
        "      <td> 0.482622</td>\n",
        "      <td> 0.625120</td>\n",
        "    </tr>\n",
        "    <tr>\n",
        "      <th>1.121212</th>\n",
        "      <td> 1.113009</td>\n",
        "      <td> 1.057401</td>\n",
        "      <td> 0.487499</td>\n",
        "      <td> 0.630033</td>\n",
        "    </tr>\n",
        "    <tr>\n",
        "      <th>1.131313</th>\n",
        "      <td> 1.122572</td>\n",
        "      <td> 1.055094</td>\n",
        "      <td> 0.492380</td>\n",
        "      <td> 0.634954</td>\n",
        "    </tr>\n",
        "    <tr>\n",
        "      <th>1.141414</th>\n",
        "      <td> 1.132156</td>\n",
        "      <td> 1.052834</td>\n",
        "      <td> 0.497266</td>\n",
        "      <td> 0.639881</td>\n",
        "    </tr>\n",
        "    <tr>\n",
        "      <th>1.151515</th>\n",
        "      <td> 1.141760</td>\n",
        "      <td> 1.050619</td>\n",
        "      <td> 0.502157</td>\n",
        "      <td> 0.644815</td>\n",
        "    </tr>\n",
        "    <tr>\n",
        "      <th>1.161616</th>\n",
        "      <td> 1.151384</td>\n",
        "      <td> 1.048447</td>\n",
        "      <td> 0.507053</td>\n",
        "      <td> 0.649755</td>\n",
        "    </tr>\n",
        "    <tr>\n",
        "      <th>1.171717</th>\n",
        "      <td> 1.161028</td>\n",
        "      <td> 1.046318</td>\n",
        "      <td> 0.511953</td>\n",
        "      <td> 0.654702</td>\n",
        "    </tr>\n",
        "    <tr>\n",
        "      <th>1.181818</th>\n",
        "      <td> 1.170692</td>\n",
        "      <td> 1.044229</td>\n",
        "      <td> 0.516858</td>\n",
        "      <td> 0.659656</td>\n",
        "    </tr>\n",
        "    <tr>\n",
        "      <th>1.191919</th>\n",
        "      <td> 1.180374</td>\n",
        "      <td> 1.042180</td>\n",
        "      <td> 0.521767</td>\n",
        "      <td> 0.664615</td>\n",
        "    </tr>\n",
        "    <tr>\n",
        "      <th>1.202020</th>\n",
        "      <td> 1.190076</td>\n",
        "      <td> 1.040170</td>\n",
        "      <td> 0.526681</td>\n",
        "      <td> 0.669580</td>\n",
        "    </tr>\n",
        "    <tr>\n",
        "      <th>1.212121</th>\n",
        "      <td> 1.199796</td>\n",
        "      <td> 1.038197</td>\n",
        "      <td> 0.531600</td>\n",
        "      <td> 0.674551</td>\n",
        "    </tr>\n",
        "    <tr>\n",
        "      <th>1.222222</th>\n",
        "      <td> 1.209535</td>\n",
        "      <td> 1.036260</td>\n",
        "      <td> 0.536523</td>\n",
        "      <td> 0.679528</td>\n",
        "    </tr>\n",
        "    <tr>\n",
        "      <th>1.232323</th>\n",
        "      <td> 1.219291</td>\n",
        "      <td> 1.034359</td>\n",
        "      <td> 0.541451</td>\n",
        "      <td> 0.684511</td>\n",
        "    </tr>\n",
        "    <tr>\n",
        "      <th>1.242424</th>\n",
        "      <td> 1.229066</td>\n",
        "      <td> 1.032491</td>\n",
        "      <td> 0.546383</td>\n",
        "      <td> 0.689499</td>\n",
        "    </tr>\n",
        "    <tr>\n",
        "      <th>1.252525</th>\n",
        "      <td> 1.238857</td>\n",
        "      <td> 1.030657</td>\n",
        "      <td> 0.551320</td>\n",
        "      <td> 0.694493</td>\n",
        "    </tr>\n",
        "    <tr>\n",
        "      <th>1.262626</th>\n",
        "      <td> 1.248667</td>\n",
        "      <td> 1.028854</td>\n",
        "      <td> 0.556260</td>\n",
        "      <td> 0.699491</td>\n",
        "    </tr>\n",
        "    <tr>\n",
        "      <th>1.272727</th>\n",
        "      <td> 1.258493</td>\n",
        "      <td> 1.027083</td>\n",
        "      <td> 0.561206</td>\n",
        "      <td> 0.704495</td>\n",
        "    </tr>\n",
        "    <tr>\n",
        "      <th>1.282828</th>\n",
        "      <td> 1.268336</td>\n",
        "      <td> 1.025343</td>\n",
        "      <td> 0.566155</td>\n",
        "      <td> 0.709504</td>\n",
        "    </tr>\n",
        "    <tr>\n",
        "      <th>1.292929</th>\n",
        "      <td> 1.278195</td>\n",
        "      <td> 1.023632</td>\n",
        "      <td> 0.571109</td>\n",
        "      <td> 0.714518</td>\n",
        "    </tr>\n",
        "    <tr>\n",
        "      <th>...</th>\n",
        "      <td>...</td>\n",
        "      <td>...</td>\n",
        "      <td>...</td>\n",
        "      <td>...</td>\n",
        "    </tr>\n",
        "    <tr>\n",
        "      <th>1.707071</th>\n",
        "      <td> 1.694467</td>\n",
        "      <td> 0.971475</td>\n",
        "      <td> 0.777619</td>\n",
        "      <td> 0.923313</td>\n",
        "    </tr>\n",
        "    <tr>\n",
        "      <th>1.717172</th>\n",
        "      <td> 1.704869</td>\n",
        "      <td> 0.970515</td>\n",
        "      <td> 0.782733</td>\n",
        "      <td> 0.928466</td>\n",
        "    </tr>\n",
        "    <tr>\n",
        "      <th>1.727273</th>\n",
        "      <td> 1.715282</td>\n",
        "      <td> 0.969566</td>\n",
        "      <td> 0.787849</td>\n",
        "      <td> 0.933621</td>\n",
        "    </tr>\n",
        "    <tr>\n",
        "      <th>1.737374</th>\n",
        "      <td> 1.725706</td>\n",
        "      <td> 0.968626</td>\n",
        "      <td> 0.792969</td>\n",
        "      <td> 0.938778</td>\n",
        "    </tr>\n",
        "    <tr>\n",
        "      <th>1.747475</th>\n",
        "      <td> 1.736139</td>\n",
        "      <td> 0.967697</td>\n",
        "      <td> 0.798093</td>\n",
        "      <td> 0.943937</td>\n",
        "    </tr>\n",
        "    <tr>\n",
        "      <th>1.757576</th>\n",
        "      <td> 1.746582</td>\n",
        "      <td> 0.966778</td>\n",
        "      <td> 0.803219</td>\n",
        "      <td> 0.949098</td>\n",
        "    </tr>\n",
        "    <tr>\n",
        "      <th>1.767677</th>\n",
        "      <td> 1.757035</td>\n",
        "      <td> 0.965869</td>\n",
        "      <td> 0.808349</td>\n",
        "      <td> 0.954262</td>\n",
        "    </tr>\n",
        "    <tr>\n",
        "      <th>1.777778</th>\n",
        "      <td> 1.767498</td>\n",
        "      <td> 0.964970</td>\n",
        "      <td> 0.813482</td>\n",
        "      <td> 0.959427</td>\n",
        "    </tr>\n",
        "    <tr>\n",
        "      <th>1.787879</th>\n",
        "      <td> 1.777970</td>\n",
        "      <td> 0.964079</td>\n",
        "      <td> 0.818619</td>\n",
        "      <td> 0.964594</td>\n",
        "    </tr>\n",
        "    <tr>\n",
        "      <th>1.797980</th>\n",
        "      <td> 1.788453</td>\n",
        "      <td> 0.963198</td>\n",
        "      <td> 0.823759</td>\n",
        "      <td> 0.969763</td>\n",
        "    </tr>\n",
        "    <tr>\n",
        "      <th>1.808081</th>\n",
        "      <td> 1.798944</td>\n",
        "      <td> 0.962326</td>\n",
        "      <td> 0.828901</td>\n",
        "      <td> 0.974934</td>\n",
        "    </tr>\n",
        "    <tr>\n",
        "      <th>1.818182</th>\n",
        "      <td> 1.809445</td>\n",
        "      <td> 0.961463</td>\n",
        "      <td> 0.834048</td>\n",
        "      <td> 0.980108</td>\n",
        "    </tr>\n",
        "    <tr>\n",
        "      <th>1.828283</th>\n",
        "      <td> 1.819956</td>\n",
        "      <td> 0.960609</td>\n",
        "      <td> 0.839197</td>\n",
        "      <td> 0.985282</td>\n",
        "    </tr>\n",
        "    <tr>\n",
        "      <th>1.838384</th>\n",
        "      <td> 1.830476</td>\n",
        "      <td> 0.959763</td>\n",
        "      <td> 0.844350</td>\n",
        "      <td> 0.990459</td>\n",
        "    </tr>\n",
        "    <tr>\n",
        "      <th>1.848485</th>\n",
        "      <td> 1.841005</td>\n",
        "      <td> 0.958926</td>\n",
        "      <td> 0.849505</td>\n",
        "      <td> 0.995638</td>\n",
        "    </tr>\n",
        "    <tr>\n",
        "      <th>1.858586</th>\n",
        "      <td> 1.851543</td>\n",
        "      <td> 0.958097</td>\n",
        "      <td> 0.854664</td>\n",
        "      <td> 1.000818</td>\n",
        "    </tr>\n",
        "    <tr>\n",
        "      <th>1.868687</th>\n",
        "      <td> 1.862090</td>\n",
        "      <td> 0.957276</td>\n",
        "      <td> 0.859826</td>\n",
        "      <td> 1.006000</td>\n",
        "    </tr>\n",
        "    <tr>\n",
        "      <th>1.878788</th>\n",
        "      <td> 1.872647</td>\n",
        "      <td> 0.956463</td>\n",
        "      <td> 0.864992</td>\n",
        "      <td> 1.011184</td>\n",
        "    </tr>\n",
        "    <tr>\n",
        "      <th>1.888889</th>\n",
        "      <td> 1.883212</td>\n",
        "      <td> 0.955657</td>\n",
        "      <td> 0.870160</td>\n",
        "      <td> 1.016369</td>\n",
        "    </tr>\n",
        "    <tr>\n",
        "      <th>1.898990</th>\n",
        "      <td> 1.893786</td>\n",
        "      <td> 0.954860</td>\n",
        "      <td> 0.875331</td>\n",
        "      <td> 1.021556</td>\n",
        "    </tr>\n",
        "    <tr>\n",
        "      <th>1.909091</th>\n",
        "      <td> 1.904369</td>\n",
        "      <td> 0.954070</td>\n",
        "      <td> 0.880506</td>\n",
        "      <td> 1.026745</td>\n",
        "    </tr>\n",
        "    <tr>\n",
        "      <th>1.919192</th>\n",
        "      <td> 1.914961</td>\n",
        "      <td> 0.953287</td>\n",
        "      <td> 0.885683</td>\n",
        "      <td> 1.031935</td>\n",
        "    </tr>\n",
        "    <tr>\n",
        "      <th>1.929293</th>\n",
        "      <td> 1.925561</td>\n",
        "      <td> 0.952512</td>\n",
        "      <td> 0.890864</td>\n",
        "      <td> 1.037127</td>\n",
        "    </tr>\n",
        "    <tr>\n",
        "      <th>1.939394</th>\n",
        "      <td> 1.936170</td>\n",
        "      <td> 0.951744</td>\n",
        "      <td> 0.896048</td>\n",
        "      <td> 1.042321</td>\n",
        "    </tr>\n",
        "    <tr>\n",
        "      <th>1.949495</th>\n",
        "      <td> 1.946787</td>\n",
        "      <td> 0.950983</td>\n",
        "      <td> 0.901235</td>\n",
        "      <td> 1.047516</td>\n",
        "    </tr>\n",
        "    <tr>\n",
        "      <th>1.959596</th>\n",
        "      <td> 1.957413</td>\n",
        "      <td> 0.950229</td>\n",
        "      <td> 0.906424</td>\n",
        "      <td> 1.052713</td>\n",
        "    </tr>\n",
        "    <tr>\n",
        "      <th>1.969697</th>\n",
        "      <td> 1.968047</td>\n",
        "      <td> 0.949481</td>\n",
        "      <td> 0.911617</td>\n",
        "      <td> 1.057911</td>\n",
        "    </tr>\n",
        "    <tr>\n",
        "      <th>1.979798</th>\n",
        "      <td> 1.978690</td>\n",
        "      <td> 0.948740</td>\n",
        "      <td> 0.916813</td>\n",
        "      <td> 1.063110</td>\n",
        "    </tr>\n",
        "    <tr>\n",
        "      <th>1.989899</th>\n",
        "      <td> 1.989341</td>\n",
        "      <td> 0.948006</td>\n",
        "      <td> 0.922012</td>\n",
        "      <td> 1.068311</td>\n",
        "    </tr>\n",
        "    <tr>\n",
        "      <th>2.000000</th>\n",
        "      <td> 2.000000</td>\n",
        "      <td> 0.947279</td>\n",
        "      <td> 0.927213</td>\n",
        "      <td> 1.073514</td>\n",
        "    </tr>\n",
        "  </tbody>\n",
        "</table>\n",
        "<p>100 rows \u00d7 4 columns</p>\n",
        "</div>"
       ],
       "metadata": {},
       "output_type": "pyout",
       "prompt_number": 7,
       "text": [
        "          firm productivity  firm size      wage    profit\n",
        "x                                                         \n",
        "1.000000           0.999999   1.089348  0.429310  0.571594\n",
        "1.010101           1.009285   1.086340  0.434131  0.576417\n",
        "1.020202           1.018595   1.083403  0.438957  0.581249\n",
        "1.030303           1.027931   1.080534  0.443788  0.586090\n",
        "1.040404           1.037292   1.077730  0.448625  0.590940\n",
        "1.050505           1.046676   1.074990  0.453467  0.595799\n",
        "1.060606           1.056084   1.072310  0.458313  0.600666\n",
        "1.070707           1.065516   1.069689  0.463165  0.605541\n",
        "1.080808           1.074970   1.067126  0.468022  0.610425\n",
        "1.090909           1.084447   1.064617  0.472884  0.615316\n",
        "1.101010           1.093946   1.062161  0.477751  0.620214\n",
        "1.111111           1.103466   1.059756  0.482622  0.625120\n",
        "1.121212           1.113009   1.057401  0.487499  0.630033\n",
        "1.131313           1.122572   1.055094  0.492380  0.634954\n",
        "1.141414           1.132156   1.052834  0.497266  0.639881\n",
        "1.151515           1.141760   1.050619  0.502157  0.644815\n",
        "1.161616           1.151384   1.048447  0.507053  0.649755\n",
        "1.171717           1.161028   1.046318  0.511953  0.654702\n",
        "1.181818           1.170692   1.044229  0.516858  0.659656\n",
        "1.191919           1.180374   1.042180  0.521767  0.664615\n",
        "1.202020           1.190076   1.040170  0.526681  0.669580\n",
        "1.212121           1.199796   1.038197  0.531600  0.674551\n",
        "1.222222           1.209535   1.036260  0.536523  0.679528\n",
        "1.232323           1.219291   1.034359  0.541451  0.684511\n",
        "1.242424           1.229066   1.032491  0.546383  0.689499\n",
        "1.252525           1.238857   1.030657  0.551320  0.694493\n",
        "1.262626           1.248667   1.028854  0.556260  0.699491\n",
        "1.272727           1.258493   1.027083  0.561206  0.704495\n",
        "1.282828           1.268336   1.025343  0.566155  0.709504\n",
        "1.292929           1.278195   1.023632  0.571109  0.714518\n",
        "...                     ...        ...       ...       ...\n",
        "1.707071           1.694467   0.971475  0.777619  0.923313\n",
        "1.717172           1.704869   0.970515  0.782733  0.928466\n",
        "1.727273           1.715282   0.969566  0.787849  0.933621\n",
        "1.737374           1.725706   0.968626  0.792969  0.938778\n",
        "1.747475           1.736139   0.967697  0.798093  0.943937\n",
        "1.757576           1.746582   0.966778  0.803219  0.949098\n",
        "1.767677           1.757035   0.965869  0.808349  0.954262\n",
        "1.777778           1.767498   0.964970  0.813482  0.959427\n",
        "1.787879           1.777970   0.964079  0.818619  0.964594\n",
        "1.797980           1.788453   0.963198  0.823759  0.969763\n",
        "1.808081           1.798944   0.962326  0.828901  0.974934\n",
        "1.818182           1.809445   0.961463  0.834048  0.980108\n",
        "1.828283           1.819956   0.960609  0.839197  0.985282\n",
        "1.838384           1.830476   0.959763  0.844350  0.990459\n",
        "1.848485           1.841005   0.958926  0.849505  0.995638\n",
        "1.858586           1.851543   0.958097  0.854664  1.000818\n",
        "1.868687           1.862090   0.957276  0.859826  1.006000\n",
        "1.878788           1.872647   0.956463  0.864992  1.011184\n",
        "1.888889           1.883212   0.955657  0.870160  1.016369\n",
        "1.898990           1.893786   0.954860  0.875331  1.021556\n",
        "1.909091           1.904369   0.954070  0.880506  1.026745\n",
        "1.919192           1.914961   0.953287  0.885683  1.031935\n",
        "1.929293           1.925561   0.952512  0.890864  1.037127\n",
        "1.939394           1.936170   0.951744  0.896048  1.042321\n",
        "1.949495           1.946787   0.950983  0.901235  1.047516\n",
        "1.959596           1.957413   0.950229  0.906424  1.052713\n",
        "1.969697           1.968047   0.949481  0.911617  1.057911\n",
        "1.979798           1.978690   0.948740  0.916813  1.063110\n",
        "1.989899           1.989341   0.948006  0.922012  1.068311\n",
        "2.000000           2.000000   0.947279  0.927213  1.073514\n",
        "\n",
        "[100 rows x 4 columns]"
       ]
      }
     ],
     "prompt_number": 7
    },
    {
     "cell_type": "markdown",
     "metadata": {},
     "source": [
      "### Negative assortative matching"
     ]
    },
    {
     "cell_type": "code",
     "collapsed": false,
     "input": [
      "# negative assortativity requires that sigma_A * sigma_B > 1\n",
      "F_params = {'omega_A':0.25, 'omega_B':0.5, 'sigma_A':1.5, 'sigma_B':1.0}"
     ],
     "language": "python",
     "metadata": {},
     "outputs": [],
     "prompt_number": 8
    },
    {
     "cell_type": "code",
     "collapsed": false,
     "input": [
      "model = models.Model(assortativity='negative',\n",
      "                     workers=workers,\n",
      "                     firms=firms,\n",
      "                     production=F,\n",
      "                     params=F_params)\n",
      "\n",
      "solver = solvers.ShootingSolver(model=model)"
     ],
     "language": "python",
     "metadata": {},
     "outputs": [],
     "prompt_number": 9
    },
    {
     "cell_type": "code",
     "collapsed": false,
     "input": [
      "solver.solve(2e0, tol=1e-6, number_knots=100, atol=1e-15, rtol=1e-12)"
     ],
     "language": "python",
     "metadata": {},
     "outputs": [
      {
       "output_type": "stream",
       "stream": "stdout",
       "text": [
        "Success! All workers and firms are matched\n"
       ]
      }
     ],
     "prompt_number": 10
    },
    {
     "cell_type": "code",
     "collapsed": false,
     "input": [
      "solver.solution"
     ],
     "language": "python",
     "metadata": {},
     "outputs": [
      {
       "html": [
        "<div style=\"max-height:1000px;max-width:1500px;overflow:auto;\">\n",
        "<table border=\"1\" class=\"dataframe\">\n",
        "  <thead>\n",
        "    <tr style=\"text-align: right;\">\n",
        "      <th></th>\n",
        "      <th>firm productivity</th>\n",
        "      <th>firm size</th>\n",
        "      <th>wage</th>\n",
        "      <th>profit</th>\n",
        "    </tr>\n",
        "    <tr>\n",
        "      <th>x</th>\n",
        "      <th></th>\n",
        "      <th></th>\n",
        "      <th></th>\n",
        "      <th></th>\n",
        "    </tr>\n",
        "  </thead>\n",
        "  <tbody>\n",
        "    <tr>\n",
        "      <th>1.000000</th>\n",
        "      <td> 2.000000</td>\n",
        "      <td> 1.829639</td>\n",
        "      <td> 0.630705</td>\n",
        "      <td> 1.153963</td>\n",
        "    </tr>\n",
        "    <tr>\n",
        "      <th>1.010101</th>\n",
        "      <td> 1.994455</td>\n",
        "      <td> 1.813970</td>\n",
        "      <td> 0.633368</td>\n",
        "      <td> 1.148910</td>\n",
        "    </tr>\n",
        "    <tr>\n",
        "      <th>1.020202</th>\n",
        "      <td> 1.988863</td>\n",
        "      <td> 1.798401</td>\n",
        "      <td> 0.636024</td>\n",
        "      <td> 1.143826</td>\n",
        "    </tr>\n",
        "    <tr>\n",
        "      <th>1.030303</th>\n",
        "      <td> 1.983222</td>\n",
        "      <td> 1.782931</td>\n",
        "      <td> 0.638673</td>\n",
        "      <td> 1.138710</td>\n",
        "    </tr>\n",
        "    <tr>\n",
        "      <th>1.040404</th>\n",
        "      <td> 1.977532</td>\n",
        "      <td> 1.767557</td>\n",
        "      <td> 0.641317</td>\n",
        "      <td> 1.133564</td>\n",
        "    </tr>\n",
        "    <tr>\n",
        "      <th>1.050505</th>\n",
        "      <td> 1.971792</td>\n",
        "      <td> 1.752276</td>\n",
        "      <td> 0.643954</td>\n",
        "      <td> 1.128386</td>\n",
        "    </tr>\n",
        "    <tr>\n",
        "      <th>1.060606</th>\n",
        "      <td> 1.966003</td>\n",
        "      <td> 1.737087</td>\n",
        "      <td> 0.646586</td>\n",
        "      <td> 1.123175</td>\n",
        "    </tr>\n",
        "    <tr>\n",
        "      <th>1.070707</th>\n",
        "      <td> 1.960162</td>\n",
        "      <td> 1.721986</td>\n",
        "      <td> 0.649212</td>\n",
        "      <td> 1.117933</td>\n",
        "    </tr>\n",
        "    <tr>\n",
        "      <th>1.080808</th>\n",
        "      <td> 1.954271</td>\n",
        "      <td> 1.706973</td>\n",
        "      <td> 0.651832</td>\n",
        "      <td> 1.112659</td>\n",
        "    </tr>\n",
        "    <tr>\n",
        "      <th>1.090909</th>\n",
        "      <td> 1.948327</td>\n",
        "      <td> 1.692044</td>\n",
        "      <td> 0.654446</td>\n",
        "      <td> 1.107352</td>\n",
        "    </tr>\n",
        "    <tr>\n",
        "      <th>1.101010</th>\n",
        "      <td> 1.942331</td>\n",
        "      <td> 1.677197</td>\n",
        "      <td> 0.657056</td>\n",
        "      <td> 1.102012</td>\n",
        "    </tr>\n",
        "    <tr>\n",
        "      <th>1.111111</th>\n",
        "      <td> 1.936282</td>\n",
        "      <td> 1.662431</td>\n",
        "      <td> 0.659660</td>\n",
        "      <td> 1.096639</td>\n",
        "    </tr>\n",
        "    <tr>\n",
        "      <th>1.121212</th>\n",
        "      <td> 1.930179</td>\n",
        "      <td> 1.647743</td>\n",
        "      <td> 0.662259</td>\n",
        "      <td> 1.091233</td>\n",
        "    </tr>\n",
        "    <tr>\n",
        "      <th>1.131313</th>\n",
        "      <td> 1.924021</td>\n",
        "      <td> 1.633132</td>\n",
        "      <td> 0.664853</td>\n",
        "      <td> 1.085793</td>\n",
        "    </tr>\n",
        "    <tr>\n",
        "      <th>1.141414</th>\n",
        "      <td> 1.917808</td>\n",
        "      <td> 1.618594</td>\n",
        "      <td> 0.667443</td>\n",
        "      <td> 1.080319</td>\n",
        "    </tr>\n",
        "    <tr>\n",
        "      <th>1.151515</th>\n",
        "      <td> 1.911540</td>\n",
        "      <td> 1.604130</td>\n",
        "      <td> 0.670027</td>\n",
        "      <td> 1.074810</td>\n",
        "    </tr>\n",
        "    <tr>\n",
        "      <th>1.161616</th>\n",
        "      <td> 1.905214</td>\n",
        "      <td> 1.589736</td>\n",
        "      <td> 0.672607</td>\n",
        "      <td> 1.069268</td>\n",
        "    </tr>\n",
        "    <tr>\n",
        "      <th>1.171717</th>\n",
        "      <td> 1.898832</td>\n",
        "      <td> 1.575410</td>\n",
        "      <td> 0.675183</td>\n",
        "      <td> 1.063690</td>\n",
        "    </tr>\n",
        "    <tr>\n",
        "      <th>1.181818</th>\n",
        "      <td> 1.892391</td>\n",
        "      <td> 1.561152</td>\n",
        "      <td> 0.677754</td>\n",
        "      <td> 1.058076</td>\n",
        "    </tr>\n",
        "    <tr>\n",
        "      <th>1.191919</th>\n",
        "      <td> 1.885891</td>\n",
        "      <td> 1.546958</td>\n",
        "      <td> 0.680321</td>\n",
        "      <td> 1.052428</td>\n",
        "    </tr>\n",
        "    <tr>\n",
        "      <th>1.202020</th>\n",
        "      <td> 1.879331</td>\n",
        "      <td> 1.532828</td>\n",
        "      <td> 0.682883</td>\n",
        "      <td> 1.046743</td>\n",
        "    </tr>\n",
        "    <tr>\n",
        "      <th>1.212121</th>\n",
        "      <td> 1.872711</td>\n",
        "      <td> 1.518759</td>\n",
        "      <td> 0.685442</td>\n",
        "      <td> 1.041022</td>\n",
        "    </tr>\n",
        "    <tr>\n",
        "      <th>1.222222</th>\n",
        "      <td> 1.866029</td>\n",
        "      <td> 1.504751</td>\n",
        "      <td> 0.687997</td>\n",
        "      <td> 1.035264</td>\n",
        "    </tr>\n",
        "    <tr>\n",
        "      <th>1.232323</th>\n",
        "      <td> 1.859285</td>\n",
        "      <td> 1.490800</td>\n",
        "      <td> 0.690548</td>\n",
        "      <td> 1.029469</td>\n",
        "    </tr>\n",
        "    <tr>\n",
        "      <th>1.242424</th>\n",
        "      <td> 1.852478</td>\n",
        "      <td> 1.476906</td>\n",
        "      <td> 0.693095</td>\n",
        "      <td> 1.023637</td>\n",
        "    </tr>\n",
        "    <tr>\n",
        "      <th>1.252525</th>\n",
        "      <td> 1.845606</td>\n",
        "      <td> 1.463067</td>\n",
        "      <td> 0.695639</td>\n",
        "      <td> 1.017767</td>\n",
        "    </tr>\n",
        "    <tr>\n",
        "      <th>1.262626</th>\n",
        "      <td> 1.838670</td>\n",
        "      <td> 1.449281</td>\n",
        "      <td> 0.698180</td>\n",
        "      <td> 1.011858</td>\n",
        "    </tr>\n",
        "    <tr>\n",
        "      <th>1.272727</th>\n",
        "      <td> 1.831667</td>\n",
        "      <td> 1.435546</td>\n",
        "      <td> 0.700716</td>\n",
        "      <td> 1.005911</td>\n",
        "    </tr>\n",
        "    <tr>\n",
        "      <th>1.282828</th>\n",
        "      <td> 1.824597</td>\n",
        "      <td> 1.421862</td>\n",
        "      <td> 0.703250</td>\n",
        "      <td> 0.999924</td>\n",
        "    </tr>\n",
        "    <tr>\n",
        "      <th>1.292929</th>\n",
        "      <td> 1.817458</td>\n",
        "      <td> 1.408225</td>\n",
        "      <td> 0.705781</td>\n",
        "      <td> 0.993898</td>\n",
        "    </tr>\n",
        "    <tr>\n",
        "      <th>...</th>\n",
        "      <td>...</td>\n",
        "      <td>...</td>\n",
        "      <td>...</td>\n",
        "      <td>...</td>\n",
        "    </tr>\n",
        "    <tr>\n",
        "      <th>1.707071</th>\n",
        "      <td> 1.446606</td>\n",
        "      <td> 0.871852</td>\n",
        "      <td> 0.808071</td>\n",
        "      <td> 0.704518</td>\n",
        "    </tr>\n",
        "    <tr>\n",
        "      <th>1.717172</th>\n",
        "      <td> 1.434933</td>\n",
        "      <td> 0.858825</td>\n",
        "      <td> 0.810563</td>\n",
        "      <td> 0.696132</td>\n",
        "    </tr>\n",
        "    <tr>\n",
        "      <th>1.727273</th>\n",
        "      <td> 1.423081</td>\n",
        "      <td> 0.845771</td>\n",
        "      <td> 0.813056</td>\n",
        "      <td> 0.687660</td>\n",
        "    </tr>\n",
        "    <tr>\n",
        "      <th>1.737374</th>\n",
        "      <td> 1.411045</td>\n",
        "      <td> 0.832690</td>\n",
        "      <td> 0.815552</td>\n",
        "      <td> 0.679102</td>\n",
        "    </tr>\n",
        "    <tr>\n",
        "      <th>1.747475</th>\n",
        "      <td> 1.398818</td>\n",
        "      <td> 0.819576</td>\n",
        "      <td> 0.818049</td>\n",
        "      <td> 0.670454</td>\n",
        "    </tr>\n",
        "    <tr>\n",
        "      <th>1.757576</th>\n",
        "      <td> 1.386393</td>\n",
        "      <td> 0.806429</td>\n",
        "      <td> 0.820548</td>\n",
        "      <td> 0.661714</td>\n",
        "    </tr>\n",
        "    <tr>\n",
        "      <th>1.767677</th>\n",
        "      <td> 1.373764</td>\n",
        "      <td> 0.793244</td>\n",
        "      <td> 0.823050</td>\n",
        "      <td> 0.652879</td>\n",
        "    </tr>\n",
        "    <tr>\n",
        "      <th>1.777778</th>\n",
        "      <td> 1.360923</td>\n",
        "      <td> 0.780018</td>\n",
        "      <td> 0.825554</td>\n",
        "      <td> 0.643947</td>\n",
        "    </tr>\n",
        "    <tr>\n",
        "      <th>1.787879</th>\n",
        "      <td> 1.347862</td>\n",
        "      <td> 0.766748</td>\n",
        "      <td> 0.828061</td>\n",
        "      <td> 0.634914</td>\n",
        "    </tr>\n",
        "    <tr>\n",
        "      <th>1.797980</th>\n",
        "      <td> 1.334573</td>\n",
        "      <td> 0.753431</td>\n",
        "      <td> 0.830571</td>\n",
        "      <td> 0.625778</td>\n",
        "    </tr>\n",
        "    <tr>\n",
        "      <th>1.808081</th>\n",
        "      <td> 1.321046</td>\n",
        "      <td> 0.740063</td>\n",
        "      <td> 0.833083</td>\n",
        "      <td> 0.616534</td>\n",
        "    </tr>\n",
        "    <tr>\n",
        "      <th>1.818182</th>\n",
        "      <td> 1.307271</td>\n",
        "      <td> 0.726639</td>\n",
        "      <td> 0.835599</td>\n",
        "      <td> 0.607179</td>\n",
        "    </tr>\n",
        "    <tr>\n",
        "      <th>1.828283</th>\n",
        "      <td> 1.293240</td>\n",
        "      <td> 0.713157</td>\n",
        "      <td> 0.838119</td>\n",
        "      <td> 0.597710</td>\n",
        "    </tr>\n",
        "    <tr>\n",
        "      <th>1.838384</th>\n",
        "      <td> 1.278940</td>\n",
        "      <td> 0.699610</td>\n",
        "      <td> 0.840642</td>\n",
        "      <td> 0.588122</td>\n",
        "    </tr>\n",
        "    <tr>\n",
        "      <th>1.848485</th>\n",
        "      <td> 1.264360</td>\n",
        "      <td> 0.685996</td>\n",
        "      <td> 0.843170</td>\n",
        "      <td> 0.578411</td>\n",
        "    </tr>\n",
        "    <tr>\n",
        "      <th>1.858586</th>\n",
        "      <td> 1.249486</td>\n",
        "      <td> 0.672308</td>\n",
        "      <td> 0.845701</td>\n",
        "      <td> 0.568572</td>\n",
        "    </tr>\n",
        "    <tr>\n",
        "      <th>1.868687</th>\n",
        "      <td> 1.234306</td>\n",
        "      <td> 0.658542</td>\n",
        "      <td> 0.848237</td>\n",
        "      <td> 0.558600</td>\n",
        "    </tr>\n",
        "    <tr>\n",
        "      <th>1.878788</th>\n",
        "      <td> 1.218804</td>\n",
        "      <td> 0.644692</td>\n",
        "      <td> 0.850778</td>\n",
        "      <td> 0.548489</td>\n",
        "    </tr>\n",
        "    <tr>\n",
        "      <th>1.888889</th>\n",
        "      <td> 1.202965</td>\n",
        "      <td> 0.630751</td>\n",
        "      <td> 0.853324</td>\n",
        "      <td> 0.538235</td>\n",
        "    </tr>\n",
        "    <tr>\n",
        "      <th>1.898990</th>\n",
        "      <td> 1.186770</td>\n",
        "      <td> 0.616714</td>\n",
        "      <td> 0.855875</td>\n",
        "      <td> 0.527830</td>\n",
        "    </tr>\n",
        "    <tr>\n",
        "      <th>1.909091</th>\n",
        "      <td> 1.170201</td>\n",
        "      <td> 0.602573</td>\n",
        "      <td> 0.858432</td>\n",
        "      <td> 0.517268</td>\n",
        "    </tr>\n",
        "    <tr>\n",
        "      <th>1.919192</th>\n",
        "      <td> 1.153236</td>\n",
        "      <td> 0.588320</td>\n",
        "      <td> 0.860995</td>\n",
        "      <td> 0.506541</td>\n",
        "    </tr>\n",
        "    <tr>\n",
        "      <th>1.929293</th>\n",
        "      <td> 1.135854</td>\n",
        "      <td> 0.573948</td>\n",
        "      <td> 0.863565</td>\n",
        "      <td> 0.495641</td>\n",
        "    </tr>\n",
        "    <tr>\n",
        "      <th>1.939394</th>\n",
        "      <td> 1.118029</td>\n",
        "      <td> 0.559447</td>\n",
        "      <td> 0.866141</td>\n",
        "      <td> 0.484560</td>\n",
        "    </tr>\n",
        "    <tr>\n",
        "      <th>1.949495</th>\n",
        "      <td> 1.099734</td>\n",
        "      <td> 0.544807</td>\n",
        "      <td> 0.868725</td>\n",
        "      <td> 0.473288</td>\n",
        "    </tr>\n",
        "    <tr>\n",
        "      <th>1.959596</th>\n",
        "      <td> 1.080937</td>\n",
        "      <td> 0.530019</td>\n",
        "      <td> 0.871317</td>\n",
        "      <td> 0.461814</td>\n",
        "    </tr>\n",
        "    <tr>\n",
        "      <th>1.969697</th>\n",
        "      <td> 1.061606</td>\n",
        "      <td> 0.515068</td>\n",
        "      <td> 0.873917</td>\n",
        "      <td> 0.450127</td>\n",
        "    </tr>\n",
        "    <tr>\n",
        "      <th>1.979798</th>\n",
        "      <td> 1.041702</td>\n",
        "      <td> 0.499944</td>\n",
        "      <td> 0.876526</td>\n",
        "      <td> 0.438214</td>\n",
        "    </tr>\n",
        "    <tr>\n",
        "      <th>1.989899</th>\n",
        "      <td> 1.021183</td>\n",
        "      <td> 0.484630</td>\n",
        "      <td> 0.879145</td>\n",
        "      <td> 0.426060</td>\n",
        "    </tr>\n",
        "    <tr>\n",
        "      <th>2.000000</th>\n",
        "      <td> 1.000000</td>\n",
        "      <td> 0.469110</td>\n",
        "      <td> 0.881774</td>\n",
        "      <td> 0.413649</td>\n",
        "    </tr>\n",
        "  </tbody>\n",
        "</table>\n",
        "<p>100 rows \u00d7 4 columns</p>\n",
        "</div>"
       ],
       "metadata": {},
       "output_type": "pyout",
       "prompt_number": 11,
       "text": [
        "          firm productivity  firm size      wage    profit\n",
        "x                                                         \n",
        "1.000000           2.000000   1.829639  0.630705  1.153963\n",
        "1.010101           1.994455   1.813970  0.633368  1.148910\n",
        "1.020202           1.988863   1.798401  0.636024  1.143826\n",
        "1.030303           1.983222   1.782931  0.638673  1.138710\n",
        "1.040404           1.977532   1.767557  0.641317  1.133564\n",
        "1.050505           1.971792   1.752276  0.643954  1.128386\n",
        "1.060606           1.966003   1.737087  0.646586  1.123175\n",
        "1.070707           1.960162   1.721986  0.649212  1.117933\n",
        "1.080808           1.954271   1.706973  0.651832  1.112659\n",
        "1.090909           1.948327   1.692044  0.654446  1.107352\n",
        "1.101010           1.942331   1.677197  0.657056  1.102012\n",
        "1.111111           1.936282   1.662431  0.659660  1.096639\n",
        "1.121212           1.930179   1.647743  0.662259  1.091233\n",
        "1.131313           1.924021   1.633132  0.664853  1.085793\n",
        "1.141414           1.917808   1.618594  0.667443  1.080319\n",
        "1.151515           1.911540   1.604130  0.670027  1.074810\n",
        "1.161616           1.905214   1.589736  0.672607  1.069268\n",
        "1.171717           1.898832   1.575410  0.675183  1.063690\n",
        "1.181818           1.892391   1.561152  0.677754  1.058076\n",
        "1.191919           1.885891   1.546958  0.680321  1.052428\n",
        "1.202020           1.879331   1.532828  0.682883  1.046743\n",
        "1.212121           1.872711   1.518759  0.685442  1.041022\n",
        "1.222222           1.866029   1.504751  0.687997  1.035264\n",
        "1.232323           1.859285   1.490800  0.690548  1.029469\n",
        "1.242424           1.852478   1.476906  0.693095  1.023637\n",
        "1.252525           1.845606   1.463067  0.695639  1.017767\n",
        "1.262626           1.838670   1.449281  0.698180  1.011858\n",
        "1.272727           1.831667   1.435546  0.700716  1.005911\n",
        "1.282828           1.824597   1.421862  0.703250  0.999924\n",
        "1.292929           1.817458   1.408225  0.705781  0.993898\n",
        "...                     ...        ...       ...       ...\n",
        "1.707071           1.446606   0.871852  0.808071  0.704518\n",
        "1.717172           1.434933   0.858825  0.810563  0.696132\n",
        "1.727273           1.423081   0.845771  0.813056  0.687660\n",
        "1.737374           1.411045   0.832690  0.815552  0.679102\n",
        "1.747475           1.398818   0.819576  0.818049  0.670454\n",
        "1.757576           1.386393   0.806429  0.820548  0.661714\n",
        "1.767677           1.373764   0.793244  0.823050  0.652879\n",
        "1.777778           1.360923   0.780018  0.825554  0.643947\n",
        "1.787879           1.347862   0.766748  0.828061  0.634914\n",
        "1.797980           1.334573   0.753431  0.830571  0.625778\n",
        "1.808081           1.321046   0.740063  0.833083  0.616534\n",
        "1.818182           1.307271   0.726639  0.835599  0.607179\n",
        "1.828283           1.293240   0.713157  0.838119  0.597710\n",
        "1.838384           1.278940   0.699610  0.840642  0.588122\n",
        "1.848485           1.264360   0.685996  0.843170  0.578411\n",
        "1.858586           1.249486   0.672308  0.845701  0.568572\n",
        "1.868687           1.234306   0.658542  0.848237  0.558600\n",
        "1.878788           1.218804   0.644692  0.850778  0.548489\n",
        "1.888889           1.202965   0.630751  0.853324  0.538235\n",
        "1.898990           1.186770   0.616714  0.855875  0.527830\n",
        "1.909091           1.170201   0.602573  0.858432  0.517268\n",
        "1.919192           1.153236   0.588320  0.860995  0.506541\n",
        "1.929293           1.135854   0.573948  0.863565  0.495641\n",
        "1.939394           1.118029   0.559447  0.866141  0.484560\n",
        "1.949495           1.099734   0.544807  0.868725  0.473288\n",
        "1.959596           1.080937   0.530019  0.871317  0.461814\n",
        "1.969697           1.061606   0.515068  0.873917  0.450127\n",
        "1.979798           1.041702   0.499944  0.876526  0.438214\n",
        "1.989899           1.021183   0.484630  0.879145  0.426060\n",
        "2.000000           1.000000   0.469110  0.881774  0.413649\n",
        "\n",
        "[100 rows x 4 columns]"
       ]
      }
     ],
     "prompt_number": 11
    },
    {
     "cell_type": "markdown",
     "metadata": {},
     "source": [
      "Now we can do all the cool things that one can do with Pandas..."
     ]
    },
    {
     "cell_type": "code",
     "collapsed": false,
     "input": [
      "solver.solution['firm size'].plot()"
     ],
     "language": "python",
     "metadata": {},
     "outputs": [
      {
       "metadata": {},
       "output_type": "pyout",
       "prompt_number": 16,
       "text": [
        "<matplotlib.axes._subplots.AxesSubplot at 0x111c78a90>"
       ]
      },
      {
       "metadata": {},
       "output_type": "display_data",
       "png": "[encoded data removed]",
       "text": [
        "<matplotlib.figure.Figure at 0x109f3b190>"
       ]
      }
     ],
     "prompt_number": 16
    },
    {
     "cell_type": "code",
     "collapsed": false,
     "input": [],
     "language": "python",
     "metadata": {},
     "outputs": []
    },
    {
     "cell_type": "markdown",
     "metadata": {},
     "source": [
      "# Example:\n",
      "\n",
      "Multiplicative separability with log-normal worker skill and firm productivity distributions..."
     ]
    },
    {
     "cell_type": "code",
     "collapsed": false,
     "input": [
      "# define some workers skill\n",
      "x, mu1, sigma1 = sym.var('x, mu1, sigma1')\n",
      "skill_cdf = 0.5 + 0.5 * sym.erf((sym.log(x) - mu1) / sym.sqrt(2 * sigma1**2))\n",
      "skill_params = {'mu1': 0.0, 'sigma1': 1.0}\n",
      "skill_bounds = [1e-2, 1e2]\n",
      "\n",
      "workers = inputs.Input(var=x,\n",
      "                       cdf=skill_cdf,\n",
      "                       params=skill_params,\n",
      "                       bounds=skill_bounds,\n",
      "                       )\n",
      "\n",
      "# define some firms\n",
      "y, mu2, sigma2 = sym.var('y, mu2, sigma2')\n",
      "productivity_cdf = 0.5 + 0.5 * sym.erf((sym.log(y) - mu2) / sym.sqrt(2 * sigma2**2))\n",
      "productivity_params = {'mu2': 0.0, 'sigma2': 1.0}\n",
      "productivity_bounds = [1e-2, 1e2]\n",
      "\n",
      "firms = inputs.Input(var=y,\n",
      "                     cdf=productivity_cdf,\n",
      "                     params=productivity_params,\n",
      "                     bounds=productivity_bounds,\n",
      "                     )"
     ],
     "language": "python",
     "metadata": {},
     "outputs": [],
     "prompt_number": 5
    },
    {
     "cell_type": "markdown",
     "metadata": {},
     "source": [
      "### Positive assortative matching"
     ]
    },
    {
     "cell_type": "code",
     "collapsed": false,
     "input": [
      "# define symbolic expression for CES between x and y\n",
      "omega_A, sigma_A = sym.var('omega_A, sigma_A')\n",
      "A = ((omega_A * x**((sigma_A - 1) / sigma_A) + \n",
      "     (1 - omega_A) * y**((sigma_A - 1) / sigma_A))**(sigma_A / (sigma_A - 1))) \n",
      "\n",
      "# define symbolic expression for Cobb-Douglas between l and r\n",
      "l, r, omega_B, sigma_B = sym.var('l, r, omega_B, sigma_B')\n",
      "B = l**omega_B * r**(1 - omega_B)\n",
      "\n",
      "F = A * B\n",
      "\n",
      "F_params = {'omega_A':0.5, 'omega_B':0.75, 'sigma_A':0.5, 'sigma_B':1.0}\n",
      "\n",
      "model = models.Model('positive',\n",
      "                     workers=workers,\n",
      "                     firms=firms,\n",
      "                     production=F,\n",
      "                     params=F_params)\n",
      "\n",
      "solver = solvers.ShootingSolver(model=model)"
     ],
     "language": "python",
     "metadata": {},
     "outputs": [],
     "prompt_number": 6
    },
    {
     "cell_type": "code",
     "collapsed": false,
     "input": [
      "solver.solve(5e1, tol=1e-3, number_knots=5000, integrator='lsoda',\n",
      "             with_jacobian=True, atol=1e-12, rtol=1e-9, message=True)"
     ],
     "language": "python",
     "metadata": {},
     "outputs": [
      {
       "output_type": "stream",
       "stream": "stdout",
       "text": [
        "Exhausted workers: initial guess of 25.0 for firm size is too high!\n",
        "Exhausted workers: initial guess of 12.5 for firm size is too high!"
       ]
      },
      {
       "output_type": "stream",
       "stream": "stdout",
       "text": [
        "\n",
        "Firm size is zero: initial guess of 6.25 for firm size was too low!"
       ]
      },
      {
       "output_type": "stream",
       "stream": "stdout",
       "text": [
        "\n",
        "Exhausted workers: initial guess of 9.375 for firm size is too high!"
       ]
      },
      {
       "output_type": "stream",
       "stream": "stdout",
       "text": [
        "\n",
        "Exhausted firms: initial guess of 7.8125 for firm size is too low."
       ]
      },
      {
       "output_type": "stream",
       "stream": "stdout",
       "text": [
        "\n",
        "Exhausted firms: initial guess of 8.59375 for firm size is too low."
       ]
      },
      {
       "output_type": "stream",
       "stream": "stdout",
       "text": [
        "\n",
        "Exhausted workers: initial guess of 8.984375 for firm size is too high!"
       ]
      },
      {
       "output_type": "stream",
       "stream": "stdout",
       "text": [
        "\n",
        "Exhausted firms: initial guess of 8.7890625 for firm size is too low."
       ]
      },
      {
       "output_type": "stream",
       "stream": "stdout",
       "text": [
        "\n",
        "Exhausted firms: initial guess of 8.88671875 for firm size is too low."
       ]
      },
      {
       "output_type": "stream",
       "stream": "stdout",
       "text": [
        "\n",
        "Exhausted firms: initial guess of 8.935546875 for firm size is too low."
       ]
      },
      {
       "output_type": "stream",
       "stream": "stdout",
       "text": [
        "\n",
        "Exhausted workers: initial guess of 8.9599609375 for firm size is too high!"
       ]
      },
      {
       "output_type": "stream",
       "stream": "stdout",
       "text": [
        "\n",
        "Exhausted workers: initial guess of 8.94775390625 for firm size is too high!"
       ]
      },
      {
       "output_type": "stream",
       "stream": "stdout",
       "text": [
        "\n",
        "Exhausted workers: initial guess of 8.94165039062 for firm size is too high!"
       ]
      },
      {
       "output_type": "stream",
       "stream": "stdout",
       "text": [
        "\n",
        "Exhausted firms: initial guess of 8.93859863281 for firm size is too low."
       ]
      },
      {
       "output_type": "stream",
       "stream": "stdout",
       "text": [
        "\n",
        "Exhausted workers: initial guess of 8.94012451172 for firm size is too high!"
       ]
      },
      {
       "output_type": "stream",
       "stream": "stdout",
       "text": [
        "\n",
        "Exhausted firms: initial guess of 8.93936157227 for firm size is too low."
       ]
      },
      {
       "output_type": "stream",
       "stream": "stdout",
       "text": [
        "\n",
        "Exhausted workers: initial guess of 8.93974304199 for firm size is too high!"
       ]
      },
      {
       "output_type": "stream",
       "stream": "stdout",
       "text": [
        "\n",
        "Exhausted workers: initial guess of 8.93955230713 for firm size is too high!"
       ]
      },
      {
       "output_type": "stream",
       "stream": "stdout",
       "text": [
        "\n",
        "Exhausted workers: initial guess of 8.9394569397 for firm size is too high!"
       ]
      },
      {
       "output_type": "stream",
       "stream": "stdout",
       "text": [
        "\n",
        "Exhausted firms: initial guess of 8.93940925598 for firm size is too low."
       ]
      },
      {
       "output_type": "stream",
       "stream": "stdout",
       "text": [
        "\n",
        "Exhausted workers: initial guess of 8.93943309784 for firm size is too high!"
       ]
      },
      {
       "output_type": "stream",
       "stream": "stdout",
       "text": [
        "\n",
        "Exhausted firms: initial guess of 8.93942117691 for firm size is too low."
       ]
      },
      {
       "output_type": "stream",
       "stream": "stdout",
       "text": [
        "\n",
        "Exhausted workers: initial guess of 8.93942713737 for firm size is too high!"
       ]
      },
      {
       "output_type": "stream",
       "stream": "stdout",
       "text": [
        "\n",
        "Exhausted firms: initial guess of 8.93942415714 for firm size is too low."
       ]
      },
      {
       "output_type": "stream",
       "stream": "stdout",
       "text": [
        "\n",
        "Exhausted workers: initial guess of 8.93942564726 for firm size is too high!"
       ]
      },
      {
       "output_type": "stream",
       "stream": "stdout",
       "text": [
        "\n",
        "Exhausted workers: initial guess of 8.9394249022 for firm size is too high!"
       ]
      },
      {
       "output_type": "stream",
       "stream": "stdout",
       "text": [
        "\n",
        "Exhausted firms: initial guess of 8.93942452967 for firm size is too low."
       ]
      },
      {
       "output_type": "stream",
       "stream": "stdout",
       "text": [
        "\n",
        "Exhausted firms: initial guess of 8.93942471594 for firm size is too low."
       ]
      },
      {
       "output_type": "stream",
       "stream": "stdout",
       "text": [
        "\n",
        "Exhausted workers: initial guess of 8.93942480907 for firm size is too high!"
       ]
      },
      {
       "output_type": "stream",
       "stream": "stdout",
       "text": [
        "\n",
        "Exhausted workers: initial guess of 8.9394247625 for firm size is too high!"
       ]
      },
      {
       "output_type": "stream",
       "stream": "stdout",
       "text": [
        "\n",
        "Exhausted firms: initial guess of 8.93942473922 for firm size is too low."
       ]
      },
      {
       "output_type": "stream",
       "stream": "stdout",
       "text": [
        "\n",
        "Exhausted workers: initial guess of 8.93942475086 for firm size is too high!"
       ]
      },
      {
       "output_type": "stream",
       "stream": "stdout",
       "text": [
        "\n",
        "Exhausted workers: initial guess of 8.93942474504 for firm size is too high!"
       ]
      },
      {
       "output_type": "stream",
       "stream": "stdout",
       "text": [
        "\n",
        "Exhausted firms: initial guess of 8.93942474213 for firm size was too low!"
       ]
      },
      {
       "output_type": "stream",
       "stream": "stdout",
       "text": [
        "\n",
        "Exhausted firms: initial guess of 8.93942474358 for firm size was too low!"
       ]
      },
      {
       "output_type": "stream",
       "stream": "stdout",
       "text": [
        "\n",
        "Exhausted workers: initial guess of 8.93942474431 for firm size is too high!"
       ]
      },
      {
       "output_type": "stream",
       "stream": "stdout",
       "text": [
        "\n",
        "Success! All workers and firms are matched"
       ]
      },
      {
       "output_type": "stream",
       "stream": "stdout",
       "text": [
        "\n"
       ]
      }
     ],
     "prompt_number": 6
    },
    {
     "cell_type": "code",
     "collapsed": false,
     "input": [
      "solver.solution.plot()"
     ],
     "language": "python",
     "metadata": {},
     "outputs": [
      {
       "metadata": {},
       "output_type": "pyout",
       "prompt_number": 7,
       "text": [
        "<matplotlib.axes._subplots.AxesSubplot at 0x11297fad0>"
       ]
      },
      {
       "metadata": {},
       "output_type": "display_data",
       "png": "[encoded data removed]",
       "text": [
        "<matplotlib.figure.Figure at 0x11297fa90>"
       ]
      }
     ],
     "prompt_number": 7
    },
    {
     "cell_type": "code",
     "collapsed": false,
     "input": [],
     "language": "python",
     "metadata": {},
     "outputs": []
    },
    {
     "cell_type": "code",
     "collapsed": false,
     "input": [
      "knots = np.logspace(np.log10(workers.lower), np.log10(workers.upper), 5000,\n",
      "                    endpoint=True)\n",
      "solver.solve(2e1, tol=1e-3, knots=knots, integrator='lsoda',\n",
      "             with_jacobian=True, atol=1e-12, rtol=1e-9, message=True)"
     ],
     "language": "python",
     "metadata": {},
     "outputs": [
      {
       "output_type": "stream",
       "stream": "stdout",
       "text": [
        "Exhausted workers: initial guess of 10.0 for firm size is too high!\n",
        "Firm size is zero: initial guess of 5.0 for firm size was too low!"
       ]
      },
      {
       "output_type": "stream",
       "stream": "stdout",
       "text": [
        "\n",
        "Firm size is zero: initial guess of 7.5 for firm size was too low!"
       ]
      },
      {
       "output_type": "stream",
       "stream": "stdout",
       "text": [
        "\n",
        "Exhausted firms: initial guess of 8.75 for firm size is too low."
       ]
      },
      {
       "output_type": "stream",
       "stream": "stdout",
       "text": [
        "\n",
        "Exhausted workers: initial guess of 9.375 for firm size is too high!"
       ]
      },
      {
       "output_type": "stream",
       "stream": "stdout",
       "text": [
        "\n",
        "Exhausted workers: initial guess of 9.0625 for firm size is too high!"
       ]
      },
      {
       "output_type": "stream",
       "stream": "stdout",
       "text": [
        "\n",
        "Exhausted firms: initial guess of 8.90625 for firm size is too low."
       ]
      },
      {
       "output_type": "stream",
       "stream": "stdout",
       "text": [
        "\n",
        "Exhausted workers: initial guess of 8.984375 for firm size is too high!"
       ]
      },
      {
       "output_type": "stream",
       "stream": "stdout",
       "text": [
        "\n",
        "Exhausted workers: initial guess of 8.9453125 for firm size is too high!"
       ]
      },
      {
       "output_type": "stream",
       "stream": "stdout",
       "text": [
        "\n",
        "Exhausted firms: initial guess of 8.92578125 for firm size is too low."
       ]
      },
      {
       "output_type": "stream",
       "stream": "stdout",
       "text": [
        "\n",
        "Exhausted firms: initial guess of 8.935546875 for firm size is too low."
       ]
      },
      {
       "output_type": "stream",
       "stream": "stdout",
       "text": [
        "\n",
        "Exhausted workers: initial guess of 8.9404296875 for firm size is too high!"
       ]
      },
      {
       "output_type": "stream",
       "stream": "stdout",
       "text": [
        "\n",
        "Exhausted firms: initial guess of 8.93798828125 for firm size is too low."
       ]
      },
      {
       "output_type": "stream",
       "stream": "stdout",
       "text": [
        "\n",
        "Exhausted firms: initial guess of 8.93920898438 for firm size is too low."
       ]
      },
      {
       "output_type": "stream",
       "stream": "stdout",
       "text": [
        "\n",
        "Exhausted workers: initial guess of 8.93981933594 for firm size is too high!"
       ]
      },
      {
       "output_type": "stream",
       "stream": "stdout",
       "text": [
        "\n",
        "Exhausted workers: initial guess of 8.93951416016 for firm size is too high!"
       ]
      },
      {
       "output_type": "stream",
       "stream": "stdout",
       "text": [
        "\n",
        "Exhausted firms: initial guess of 8.93936157227 for firm size is too low."
       ]
      },
      {
       "output_type": "stream",
       "stream": "stdout",
       "text": [
        "\n",
        "Exhausted workers: initial guess of 8.93943786621 for firm size is too high!"
       ]
      },
      {
       "output_type": "stream",
       "stream": "stdout",
       "text": [
        "\n",
        "Exhausted firms: initial guess of 8.93939971924 for firm size is too low."
       ]
      },
      {
       "output_type": "stream",
       "stream": "stdout",
       "text": [
        "\n",
        "Exhausted firms: initial guess of 8.93941879272 for firm size is too low."
       ]
      },
      {
       "output_type": "stream",
       "stream": "stdout",
       "text": [
        "\n",
        "Exhausted workers: initial guess of 8.93942832947 for firm size is too high!"
       ]
      },
      {
       "output_type": "stream",
       "stream": "stdout",
       "text": [
        "\n",
        "Exhausted firms: initial guess of 8.9394235611 for firm size is too low."
       ]
      },
      {
       "output_type": "stream",
       "stream": "stdout",
       "text": [
        "\n",
        "Exhausted workers: initial guess of 8.93942594528 for firm size is too high!"
       ]
      },
      {
       "output_type": "stream",
       "stream": "stdout",
       "text": [
        "\n",
        "Exhausted workers: initial guess of 8.93942475319 for firm size is too high!"
       ]
      },
      {
       "output_type": "stream",
       "stream": "stdout",
       "text": [
        "\n",
        "Exhausted firms: initial guess of 8.93942415714 for firm size is too low."
       ]
      },
      {
       "output_type": "stream",
       "stream": "stdout",
       "text": [
        "\n",
        "Exhausted firms: initial guess of 8.93942445517 for firm size is too low."
       ]
      },
      {
       "output_type": "stream",
       "stream": "stdout",
       "text": [
        "\n",
        "Exhausted firms: initial guess of 8.93942460418 for firm size is too low."
       ]
      },
      {
       "output_type": "stream",
       "stream": "stdout",
       "text": [
        "\n",
        "Exhausted firms: initial guess of 8.93942467868 for firm size is too low."
       ]
      },
      {
       "output_type": "stream",
       "stream": "stdout",
       "text": [
        "\n",
        "Exhausted firms: initial guess of 8.93942471594 for firm size is too low."
       ]
      },
      {
       "output_type": "stream",
       "stream": "stdout",
       "text": [
        "\n",
        "Exhausted firms: initial guess of 8.93942473456 for firm size is too low."
       ]
      },
      {
       "output_type": "stream",
       "stream": "stdout",
       "text": [
        "\n",
        "Exhausted workers: initial guess of 8.93942474388 for firm size is too high!"
       ]
      },
      {
       "output_type": "stream",
       "stream": "stdout",
       "text": [
        "\n",
        "Exhausted firms: initial guess of 8.93942473922 for firm size is too low."
       ]
      },
      {
       "output_type": "stream",
       "stream": "stdout",
       "text": [
        "\n",
        "Exhausted firms: initial guess of 8.93942474155 for firm size is too low."
       ]
      },
      {
       "output_type": "stream",
       "stream": "stdout",
       "text": [
        "\n",
        "Exhausted workers: initial guess of 8.93942474271 for firm size is too high!"
       ]
      },
      {
       "output_type": "stream",
       "stream": "stdout",
       "text": [
        "\n",
        "Exhausted workers: initial guess of 8.93942474213 for firm size is too high!"
       ]
      },
      {
       "output_type": "stream",
       "stream": "stdout",
       "text": [
        "\n",
        "Exhausted workers: initial guess of 8.93942474184 for firm size is too high!"
       ]
      },
      {
       "output_type": "stream",
       "stream": "stdout",
       "text": [
        "\n",
        "Exhausted workers: initial guess of 8.93942474169 for firm size is too high!"
       ]
      }
     ]
    },
    {
     "cell_type": "code",
     "collapsed": false,
     "input": [
      "np.diff(knots, 1)"
     ],
     "language": "python",
     "metadata": {},
     "outputs": [
      {
       "metadata": {},
       "output_type": "pyout",
       "prompt_number": 12,
       "text": [
        "array([  1.84413489e-05,   1.84753572e-05,   1.85094283e-05, ...,\n",
        "         1.83396990e-01,   1.83735199e-01,   1.84074032e-01])"
       ]
      }
     ],
     "prompt_number": 12
    },
    {
     "cell_type": "code",
     "collapsed": false,
     "input": [
      "solver.solution['firm size'].plot()"
     ],
     "language": "python",
     "metadata": {},
     "outputs": [
      {
       "metadata": {},
       "output_type": "pyout",
       "prompt_number": 45,
       "text": [
        "<matplotlib.axes._subplots.AxesSubplot at 0x113f3a490>"
       ]
      },
      {
       "metadata": {},
       "output_type": "display_data",
       "png": "[encoded data removed]",
       "text": [
        "<matplotlib.figure.Figure at 0x1141375d0>"
       ]
      }
     ],
     "prompt_number": 45
    },
    {
     "cell_type": "markdown",
     "metadata": {},
     "source": [
      "### Negative assortative matching"
     ]
    },
    {
     "cell_type": "code",
     "collapsed": false,
     "input": [
      "F_params = {'omega_A':0.5, 'omega_B':0.45, 'sigma_A':1.5, 'sigma_B':1.0}\n",
      "\n",
      "model = models.Model('negative',\n",
      "                     workers=workers,\n",
      "                     firms=firms,\n",
      "                     production=F,\n",
      "                     params=F_params)\n",
      "\n",
      "solver = solvers.ShootingSolver(model=model)"
     ],
     "language": "python",
     "metadata": {},
     "outputs": [],
     "prompt_number": 197
    },
    {
     "cell_type": "code",
     "collapsed": false,
     "input": [
      "solver.solve(1e3, tol=1e-6, number_knots=1000, atol=1e-12, rtol=1e-9)"
     ],
     "language": "python",
     "metadata": {},
     "outputs": [
      {
       "output_type": "stream",
       "stream": "stdout",
       "text": [
        "Exhausted firms: initial guess of 500.0 for firm size is too low.\n",
        "Exhausted workers: initial guess of 750.0 for firm size is too high!"
       ]
      },
      {
       "output_type": "stream",
       "stream": "stdout",
       "text": [
        "\n",
        "Exhausted firms: initial guess of 625.0 for firm size is too low."
       ]
      },
      {
       "output_type": "stream",
       "stream": "stdout",
       "text": [
        "\n",
        "Exhausted firms: initial guess of 687.5 for firm size is too low."
       ]
      },
      {
       "output_type": "stream",
       "stream": "stdout",
       "text": [
        "\n",
        "Exhausted workers: initial guess of 718.75 for firm size is too high!"
       ]
      },
      {
       "output_type": "stream",
       "stream": "stdout",
       "text": [
        "\n",
        "Exhausted workers: initial guess of 703.125 for firm size is too high!"
       ]
      },
      {
       "output_type": "stream",
       "stream": "stdout",
       "text": [
        "\n",
        "Exhausted firms: initial guess of 695.3125 for firm size is too low."
       ]
      },
      {
       "output_type": "stream",
       "stream": "stdout",
       "text": [
        "\n",
        "Exhausted workers: initial guess of 699.21875 for firm size is too high!"
       ]
      },
      {
       "output_type": "stream",
       "stream": "stdout",
       "text": [
        "\n",
        "Exhausted firms: initial guess of 697.265625 for firm size is too low."
       ]
      },
      {
       "output_type": "stream",
       "stream": "stdout",
       "text": [
        "\n",
        "Exhausted workers: initial guess of 698.2421875 for firm size is too high!"
       ]
      },
      {
       "output_type": "stream",
       "stream": "stdout",
       "text": [
        "\n",
        "Exhausted workers: initial guess of 697.75390625 for firm size is too high!"
       ]
      },
      {
       "output_type": "stream",
       "stream": "stdout",
       "text": [
        "\n",
        "Exhausted firms: initial guess of 697.509765625 for firm size is too low."
       ]
      },
      {
       "output_type": "stream",
       "stream": "stdout",
       "text": [
        "\n",
        "Exhausted workers: initial guess of 697.631835938 for firm size is too high!"
       ]
      },
      {
       "output_type": "stream",
       "stream": "stdout",
       "text": [
        "\n",
        "Exhausted workers: initial guess of 697.570800781 for firm size is too high!"
       ]
      },
      {
       "output_type": "stream",
       "stream": "stdout",
       "text": [
        "\n",
        "Exhausted workers: initial guess of 697.540283203 for firm size is too high!"
       ]
      },
      {
       "output_type": "stream",
       "stream": "stdout",
       "text": [
        "\n",
        "Exhausted workers: initial guess of 697.525024414 for firm size is too high!"
       ]
      },
      {
       "output_type": "stream",
       "stream": "stdout",
       "text": [
        "\n",
        "Exhausted firms: initial guess of 697.51739502 for firm size is too low."
       ]
      },
      {
       "output_type": "stream",
       "stream": "stdout",
       "text": [
        "\n",
        "Exhausted workers: initial guess of 697.521209717 for firm size is too high!"
       ]
      },
      {
       "output_type": "stream",
       "stream": "stdout",
       "text": [
        "\n",
        "Exhausted firms: initial guess of 697.519302368 for firm size is too low."
       ]
      },
      {
       "output_type": "stream",
       "stream": "stdout",
       "text": [
        "\n",
        "Exhausted firms: initial guess of 697.520256042 for firm size is too low."
       ]
      },
      {
       "output_type": "stream",
       "stream": "stdout",
       "text": [
        "\n",
        "Exhausted firms: initial guess of 697.52073288 for firm size is too low."
       ]
      },
      {
       "output_type": "stream",
       "stream": "stdout",
       "text": [
        "\n",
        "Exhausted workers: initial guess of 697.520971298 for firm size is too high!"
       ]
      },
      {
       "output_type": "stream",
       "stream": "stdout",
       "text": [
        "\n",
        "Exhausted firms: initial guess of 697.520852089 for firm size is too low."
       ]
      },
      {
       "output_type": "stream",
       "stream": "stdout",
       "text": [
        "\n",
        "Exhausted workers: initial guess of 697.520911694 for firm size is too high!"
       ]
      },
      {
       "output_type": "stream",
       "stream": "stdout",
       "text": [
        "\n",
        "Exhausted workers: initial guess of 697.520881891 for firm size is too high!"
       ]
      },
      {
       "output_type": "stream",
       "stream": "stdout",
       "text": [
        "\n",
        "Exhausted firms: initial guess of 697.52086699 for firm size is too low."
       ]
      },
      {
       "output_type": "stream",
       "stream": "stdout",
       "text": [
        "\n",
        "Exhausted workers: initial guess of 697.520874441 for firm size is too high!"
       ]
      },
      {
       "output_type": "stream",
       "stream": "stdout",
       "text": [
        "\n",
        "Exhausted firms: initial guess of 697.520870715 for firm size is too low."
       ]
      },
      {
       "output_type": "stream",
       "stream": "stdout",
       "text": [
        "\n",
        "Exhausted firms: initial guess of 697.520872578 for firm size is too low."
       ]
      },
      {
       "output_type": "stream",
       "stream": "stdout",
       "text": [
        "\n",
        "Exhausted workers: initial guess of 697.520873509 for firm size is too high!"
       ]
      },
      {
       "output_type": "stream",
       "stream": "stdout",
       "text": [
        "\n",
        "Exhausted firms: initial guess of 697.520873044 for firm size is too low."
       ]
      },
      {
       "output_type": "stream",
       "stream": "stdout",
       "text": [
        "\n",
        "Exhausted workers: initial guess of 697.520873277 for firm size is too high!"
       ]
      },
      {
       "output_type": "stream",
       "stream": "stdout",
       "text": [
        "\n",
        "Exhausted firms: initial guess of 697.52087316 for firm size is too low."
       ]
      },
      {
       "output_type": "stream",
       "stream": "stdout",
       "text": [
        "\n",
        "Exhausted firms: initial guess of 697.520873218 for firm size is too low."
       ]
      },
      {
       "output_type": "stream",
       "stream": "stdout",
       "text": [
        "\n",
        "Exhausted firms: initial guess of 697.520873247 for firm size is too low."
       ]
      },
      {
       "output_type": "stream",
       "stream": "stdout",
       "text": [
        "\n",
        "Exhausted firms: Initial guess of 697.520873262 for firm size was too low!"
       ]
      },
      {
       "output_type": "stream",
       "stream": "stdout",
       "text": [
        "\n",
        "Exhausted firms: Initial guess of 697.520873269 for firm size was too low!"
       ]
      },
      {
       "output_type": "stream",
       "stream": "stdout",
       "text": [
        "\n",
        "Exhausted workers: initial guess of 697.520873273 for firm size is too high!"
       ]
      },
      {
       "output_type": "stream",
       "stream": "stdout",
       "text": [
        "\n",
        "Exhausted firms: Initial guess of 697.520873271 for firm size was too low!"
       ]
      },
      {
       "output_type": "stream",
       "stream": "stdout",
       "text": [
        "\n",
        "Exhausted firms: Initial guess of 697.520873272 for firm size was too low!"
       ]
      },
      {
       "output_type": "stream",
       "stream": "stdout",
       "text": [
        "\n",
        "Exhausted firms: Initial guess of 697.520873272 for firm size was too low!"
       ]
      },
      {
       "output_type": "stream",
       "stream": "stdout",
       "text": [
        "\n",
        "Exhausted workers: initial guess of 697.520873273 for firm size is too high!"
       ]
      },
      {
       "output_type": "stream",
       "stream": "stdout",
       "text": [
        "\n",
        "Exhausted firms: Initial guess of 697.520873273 for firm size was too low!"
       ]
      },
      {
       "output_type": "stream",
       "stream": "stdout",
       "text": [
        "\n",
        "Exhausted firms: Initial guess of 697.520873273 for firm size was too low!"
       ]
      },
      {
       "output_type": "stream",
       "stream": "stdout",
       "text": [
        "\n",
        "Success! All workers and firms are matched"
       ]
      },
      {
       "output_type": "stream",
       "stream": "stdout",
       "text": [
        "\n"
       ]
      }
     ],
     "prompt_number": 198
    },
    {
     "cell_type": "code",
     "collapsed": false,
     "input": [
      "solver.solution"
     ],
     "language": "python",
     "metadata": {},
     "outputs": [
      {
       "metadata": {},
       "output_type": "pyout",
       "prompt_number": 199,
       "text": [
        "array([[  1.00000000e-04,   5.00000000e+01,   6.97520873e+02,\n",
        "          7.96982563e-02,   6.79447968e+01],\n",
        "       [  1.00200000e-01,   4.38421936e+01,   2.76462641e+02,\n",
        "          1.62305818e-01,   5.48429383e+01],\n",
        "       [  2.00300000e-01,   3.01915720e+01,   1.25086665e+02,\n",
        "          1.99932868e-01,   3.05664771e+01],\n",
        "       ..., \n",
        "       [  9.97998000e+01,   2.00562063e-02,   4.40863126e-04,\n",
        "          4.66712075e+02,   2.51479732e-01],\n",
        "       [  9.98999000e+01,   1.70657087e-02,   4.33023425e-04,\n",
        "          4.67696609e+02,   2.47528829e-01],\n",
        "       [  1.00000000e+02,   9.99753364e-04,   3.61574332e-04,\n",
        "          4.68687387e+02,   2.07124291e-01]])"
       ]
      }
     ],
     "prompt_number": 199
    },
    {
     "cell_type": "code",
     "collapsed": false,
     "input": [
      "plt.plot(solver.solution[:, 0], solver.solution[:, 2])\n",
      "plt.xscale('log')\n",
      "plt.yscale('log')\n",
      "plt.show()"
     ],
     "language": "python",
     "metadata": {},
     "outputs": [
      {
       "metadata": {},
       "output_type": "display_data",
       "png": "[encoded data removed]",
       "text": [
        "<matplotlib.figure.Figure at 0x10de21b10>"
       ]
      }
     ],
     "prompt_number": 200
    },
    {
     "cell_type": "markdown",
     "metadata": {},
     "source": [
      "# Example:\n",
      "\n",
      "More sophisticated production function that is not multiplicatively separable..."
     ]
    },
    {
     "cell_type": "code",
     "collapsed": false,
     "input": [
      "# define some workers skill\n",
      "x, mu1, sigma1 = sym.var('x, mu1, sigma1')\n",
      "skill_cdf = 0.5 + 0.5 * sym.erf((sym.log(x) - mu1) / sym.sqrt(2 * sigma1**2))\n",
      "skill_params = {'mu1': 0.0, 'sigma1': 1e0}\n",
      "skill_bounds = [1e-3, 50.0]\n",
      "\n",
      "workers = inputs.Input(var=x,\n",
      "                       cdf=skill_cdf,\n",
      "                       params=skill_params,\n",
      "                       bounds=skill_bounds,\n",
      "                       )\n",
      "\n",
      "# define some firms\n",
      "y, mu2, sigma2 = sym.var('y, mu2, sigma2')\n",
      "productivity_cdf = 0.5 + 0.5 * sym.erf((sym.log(y) - mu2) / sym.sqrt(2 * sigma2**2))\n",
      "productivity_params = {'mu2': 0.0, 'sigma2': 1e0}\n",
      "productivity_bounds = [1e-3, 50.0]\n",
      "\n",
      "firms = inputs.Input(var=y,\n",
      "                     cdf=productivity_cdf,\n",
      "                     params=productivity_params,\n",
      "                     bounds=productivity_bounds,\n",
      "                     )\n",
      "\n",
      "# define some valid model params\n",
      "F_params = {'eta': 0.89, 'kappa': 1.0, 'gamma': 0.54, 'rho': 0.24, 'A': 1.0, 'k': 1.0}\n",
      "\n",
      "# define a valid production function\n",
      "A, k, kappa, eta, rho, l, gamma, r = sym.var('A, k, kappa, eta, rho, l, gamma, r')\n",
      "F = r * A * kappa * eta * ((k * x)**rho + (1 - eta) * (y * (l / r))**rho)**(gamma / rho)\n",
      "\n",
      "model = models.Model('negative',\n",
      "                     workers=workers,\n",
      "                     firms=firms,\n",
      "                     production=F,\n",
      "                     params=F_params)"
     ],
     "language": "python",
     "metadata": {},
     "outputs": [],
     "prompt_number": 106
    },
    {
     "cell_type": "code",
     "collapsed": false,
     "input": [
      "solver = solvers.ShootingSolver(model=model)"
     ],
     "language": "python",
     "metadata": {},
     "outputs": [],
     "prompt_number": 108
    },
    {
     "cell_type": "code",
     "collapsed": false,
     "input": [
      "solver.solve(1e0, tol=1e-4, number_knots=10000, integrator='vode',\n",
      "             atol=1e-9, rtol=1e-6, check=True)"
     ],
     "language": "python",
     "metadata": {},
     "outputs": [
      {
       "output_type": "stream",
       "stream": "stdout",
       "text": [
        "Exhausted firms: initial guess of 0.5 for firm size is too low.\n"
       ]
      }
     ],
     "prompt_number": 109
    },
    {
     "cell_type": "code",
     "collapsed": false,
     "input": [
      "solver.integrator.successful()"
     ],
     "language": "python",
     "metadata": {},
     "outputs": [
      {
       "metadata": {},
       "output_type": "pyout",
       "prompt_number": 110,
       "text": [
        "False"
       ]
      }
     ],
     "prompt_number": 110
    },
    {
     "cell_type": "code",
     "collapsed": false,
     "input": [
      "solver._solution"
     ],
     "language": "python",
     "metadata": {},
     "outputs": [
      {
       "metadata": {},
       "output_type": "pyout",
       "prompt_number": 111,
       "text": [
        "array([[  1.00000000e-03,   5.00000000e+01,   7.50000000e-01,\n",
        "          6.25292214e-02,   1.02985470e-01],\n",
        "       [  6.00040004e-03,   4.91355141e+01,   2.93698995e-02,\n",
        "          6.50895813e-01,   1.02614135e-01],\n",
        "       [  1.10008001e-02,   1.87728995e+01,   6.10881218e-04,\n",
        "          8.73207163e+00,   9.34543423e-02],\n",
        "       [  1.34286568e-02,   2.61227847e+06,   1.98653860e+04,\n",
        "          1.04151668e-01,   1.79568793e+03]])"
       ]
      }
     ],
     "prompt_number": 111
    },
    {
     "cell_type": "code",
     "collapsed": false,
     "input": [
      "integrat"
     ],
     "language": "python",
     "metadata": {},
     "outputs": [
      {
       "metadata": {},
       "output_type": "pyout",
       "prompt_number": 46,
       "text": [
        "50.0"
       ]
      }
     ],
     "prompt_number": 46
    },
    {
     "cell_type": "code",
     "collapsed": false,
     "input": [],
     "language": "python",
     "metadata": {},
     "outputs": []
    }
   ],
   "metadata": {}
  }
 ]
}