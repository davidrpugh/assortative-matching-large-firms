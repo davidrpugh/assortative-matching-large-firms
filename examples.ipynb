{
 "metadata": {
  "name": "",
  "signature": "sha256:9679e762717546e1af50f100793fbd088582c45421f049b289d52315c548ef5d"
 },
 "nbformat": 3,
 "nbformat_minor": 0,
 "worksheets": [
  {
   "cells": [
    {
     "cell_type": "code",
     "collapsed": false,
     "input": [
      "%load_ext autoreload"
     ],
     "language": "python",
     "metadata": {},
     "outputs": [],
     "prompt_number": 1
    },
    {
     "cell_type": "code",
     "collapsed": false,
     "input": [
      "autoreload 2"
     ],
     "language": "python",
     "metadata": {},
     "outputs": [],
     "prompt_number": 2
    },
    {
     "cell_type": "code",
     "collapsed": false,
     "input": [
      "%matplotlib inline"
     ],
     "language": "python",
     "metadata": {},
     "outputs": [],
     "prompt_number": 3
    },
    {
     "cell_type": "code",
     "collapsed": true,
     "input": [
      "import numpy as np\n",
      "from scipy import integrate, optimize\n",
      "import sympy as sym\n",
      "\n",
      "import inputs\n",
      "import models\n",
      "import solvers"
     ],
     "language": "python",
     "metadata": {},
     "outputs": [],
     "prompt_number": 50
    },
    {
     "cell_type": "markdown",
     "metadata": {},
     "source": [
      "# Example: \n",
      "\n",
      "## Worker skill and firm productivity are $\\sim U[a, b]$..."
     ]
    },
    {
     "cell_type": "code",
     "collapsed": false,
     "input": [
      "# define some workers skill\n",
      "x, a, b = sym.var('x, a, b')\n",
      "skill_cdf = (x - a) / (b - a)\n",
      "skill_params = {'a': 0.0, 'b': 1.0}\n",
      "skill_bounds = [skill_params['a'], skill_params['b']]\n",
      "\n",
      "workers = inputs.Input(var=x,\n",
      "                       cdf=skill_cdf,\n",
      "                       params=skill_params,\n",
      "                       bounds=skill_bounds,\n",
      "                       )\n",
      "\n",
      "# define some firms\n",
      "y = sym.var('y')\n",
      "productivity_cdf = (y - a) / (b - a)\n",
      "productivity_params = skill_params\n",
      "productivity_bounds = skill_bounds\n",
      "\n",
      "firms = inputs.Input(var=y,\n",
      "                     cdf=productivity_cdf,\n",
      "                     params=productivity_params,\n",
      "                     bounds=productivity_bounds,\n",
      "                     )"
     ],
     "language": "python",
     "metadata": {},
     "outputs": [],
     "prompt_number": 30
    },
    {
     "cell_type": "markdown",
     "metadata": {},
     "source": [
      "## ...and production function is multiplicatively separable.\n",
      "A particularly attractive case arises under multiplicative separability of the form\n",
      "\n",
      "$$F(x, y, l, r) = A(x, y)B(l, r)$$\n",
      "\n",
      "In this case the condition for positive assortative matching can be written as \n",
      "\n",
      "$$\\frac{AA_{xy}}{A_xA_y}\\frac{BB_{lr}}{B_lB_r} \\ge 1$$\n",
      "\n",
      "If $B$ has constant elasticity of substitution form, then we obtain an even simpler condition\n",
      "\n",
      "$$\\frac{AA_{xy}}{A_xA_y} \\frac{1}{\\sigma_{lr}}\\ge 1$$\n",
      "\n",
      "where $\\sigma_{lr}$ is the elasticity of substitution between $l$ and $r$. \n",
      "\n",
      "Finally, if $A$ also has constant elasticity of substitution form, then we obtain an even simpler condition\n",
      "\n",
      "$$\\frac{1}{\\sigma_{xy}\\sigma_{lr}}\\ge 1 \\iff \\sigma_{xy}\\sigma_{lr} \\le 1$$\n",
      "\n",
      "where $\\sigma_{xy}$ is the elasticity of substitution between $x$ and $y$."
     ]
    },
    {
     "cell_type": "code",
     "collapsed": false,
     "input": [
      "# define symbolic expression for CES between x and y\n",
      "x, y, omega_A, sigma_A = sym.var('x, y, omega_A, sigma_A')\n",
      "A = ((omega_A * x**((sigma_A - 1) / sigma_A) + \n",
      "     (1 - omega_A) * y**((sigma_A - 1) / sigma_A))**(sigma_A / (sigma_A - 1))) \n",
      "\n",
      "# define symbolic expression for Cobb-Douglas between l and r\n",
      "l, r, omega_B, sigma_B = sym.var('l, r, omega_A, sigma_A')\n",
      "B = l**omega_B * r**(1 - omega_B)\n",
      "    \n",
      "# multiplicative separability!\n",
      "F_params = {'omega_A':0.5, 'omega_B':0.5, 'sigma_A':0.5, 'sigma_B':1.0}\n",
      "F = A * B"
     ],
     "language": "python",
     "metadata": {},
     "outputs": [],
     "prompt_number": 83
    },
    {
     "cell_type": "markdown",
     "metadata": {},
     "source": [
      "Create an instance of the `models.Model` class and an instance of the `solvers.ShootingSolver` class..."
     ]
    },
    {
     "cell_type": "code",
     "collapsed": false,
     "input": [
      "model = models.Model(assortativity='positive',\n",
      "                     workers=workers,\n",
      "                     firms=firms,\n",
      "                     production=F,\n",
      "                     params=F_params)\n",
      "\n",
      "solver = solvers.ShootingSolver(model=model)"
     ],
     "language": "python",
     "metadata": {},
     "outputs": [],
     "prompt_number": 84
    },
    {
     "cell_type": "code",
     "collapsed": false,
     "input": [],
     "language": "python",
     "metadata": {},
     "outputs": []
    }
   ],
   "metadata": {}
  }
 ]
}