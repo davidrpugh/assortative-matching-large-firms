{
 "metadata": {
  "name": "",
  "signature": "sha256:cd48848068f4ecb453de3323c4f77893600ec6dfe1473cd6ef6ab8e210ead89d"
 },
 "nbformat": 3,
 "nbformat_minor": 0,
 "worksheets": [
  {
   "cells": [
    {
     "cell_type": "code",
     "collapsed": false,
     "input": [
      "%load_ext autoreload"
     ],
     "language": "python",
     "metadata": {},
     "outputs": [],
     "prompt_number": 1
    },
    {
     "cell_type": "code",
     "collapsed": false,
     "input": [
      "autoreload 2"
     ],
     "language": "python",
     "metadata": {},
     "outputs": [],
     "prompt_number": 2
    },
    {
     "cell_type": "code",
     "collapsed": false,
     "input": [
      "%matplotlib inline"
     ],
     "language": "python",
     "metadata": {},
     "outputs": [],
     "prompt_number": 3
    },
    {
     "cell_type": "code",
     "collapsed": true,
     "input": [
      "import numpy as np\n",
      "import sympy as sym\n",
      "\n",
      "import inputs\n",
      "import models\n",
      "import solvers"
     ],
     "language": "python",
     "metadata": {},
     "outputs": [],
     "prompt_number": 4
    },
    {
     "cell_type": "markdown",
     "metadata": {},
     "source": [
      "# Example: \n",
      "\n",
      "## Worker skill and firm productivity are $\\sim U[a, b]$..."
     ]
    },
    {
     "cell_type": "code",
     "collapsed": false,
     "input": [
      "# define some workers skill\n",
      "x, a, b = sym.var('x, a, b')\n",
      "skill_cdf = (x - a) / (b - a)\n",
      "skill_params = {'a': 1.0, 'b': 2.0}\n",
      "skill_bounds = [skill_params['a'], skill_params['b']]\n",
      "\n",
      "workers = inputs.Input(var=x,\n",
      "                       cdf=skill_cdf,\n",
      "                       params=skill_params,\n",
      "                       bounds=skill_bounds,\n",
      "                       )\n",
      "\n",
      "# define some firms\n",
      "y = sym.var('y')\n",
      "productivity_cdf = (y - a) / (b - a)\n",
      "productivity_params = skill_params\n",
      "productivity_bounds = skill_bounds\n",
      "\n",
      "firms = inputs.Input(var=y,\n",
      "                     cdf=productivity_cdf,\n",
      "                     params=productivity_params,\n",
      "                     bounds=productivity_bounds,\n",
      "                     )"
     ],
     "language": "python",
     "metadata": {},
     "outputs": [],
     "prompt_number": 8
    },
    {
     "cell_type": "markdown",
     "metadata": {},
     "source": [
      "## ...and production function is multiplicatively separable.\n",
      "A particularly attractive case arises under multiplicative separability of the form\n",
      "\n",
      "$$F(x, y, l, r) = A(x, y)B(l, r)$$\n",
      "\n",
      "In this case the condition for positive assortative matching can be written as \n",
      "\n",
      "$$\\frac{AA_{xy}}{A_xA_y}\\frac{BB_{lr}}{B_lB_r} \\ge 1$$\n",
      "\n",
      "If $B$ has constant elasticity of substitution form, then we obtain an even simpler condition\n",
      "\n",
      "$$\\frac{AA_{xy}}{A_xA_y} \\frac{1}{\\sigma_{lr}}\\ge 1$$\n",
      "\n",
      "where $\\sigma_{lr}$ is the elasticity of substitution between $l$ and $r$. \n",
      "\n",
      "Finally, if $A$ also has constant elasticity of substitution form, then we obtain an even simpler condition\n",
      "\n",
      "$$\\frac{1}{\\sigma_{xy}\\sigma_{lr}}\\ge 1 \\iff \\sigma_{xy}\\sigma_{lr} \\le 1$$\n",
      "\n",
      "where $\\sigma_{xy}$ is the elasticity of substitution between $x$ and $y$."
     ]
    },
    {
     "cell_type": "code",
     "collapsed": false,
     "input": [
      "# define symbolic expression for CES between x and y\n",
      "omega_A, sigma_A = sym.var('omega_A, sigma_A')\n",
      "A = ((omega_A * x**((sigma_A - 1) / sigma_A) + \n",
      "     (1 - omega_A) * y**((sigma_A - 1) / sigma_A))**(sigma_A / (sigma_A - 1))) \n",
      "\n",
      "# define symbolic expression for Cobb-Douglas between l and r\n",
      "l, r, omega_B, sigma_B = sym.var('l, r, omega_B, sigma_B')\n",
      "B = l**omega_B * r**(1 - omega_B)\n",
      "    \n",
      "# multiplicative separability!\n",
      "F_params = {'omega_A':0.5, 'omega_B':0.95, 'sigma_A':0.95, 'sigma_B':1.0}\n",
      "F = A * B"
     ],
     "language": "python",
     "metadata": {},
     "outputs": [],
     "prompt_number": 109
    },
    {
     "cell_type": "markdown",
     "metadata": {},
     "source": [
      "Create an instance of the `models.Model` class and an instance of the `solvers.ShootingSolver` class..."
     ]
    },
    {
     "cell_type": "code",
     "collapsed": false,
     "input": [
      "model = models.Model(assortativity='positive',\n",
      "                     workers=workers,\n",
      "                     firms=firms,\n",
      "                     production=F,\n",
      "                     params=F_params)\n",
      "\n",
      "solver = solvers.ShootingSolver(model=model)"
     ],
     "language": "python",
     "metadata": {},
     "outputs": [],
     "prompt_number": 110
    },
    {
     "cell_type": "code",
     "collapsed": false,
     "input": [
      "solver.solve(1e1, tol=1e-6, number_knots=100, atol=1e-15, rtol=1e-12)"
     ],
     "language": "python",
     "metadata": {},
     "outputs": [
      {
       "output_type": "stream",
       "stream": "stdout",
       "text": [
        "Initial guess of 5.0 for firm size is too high!\n",
        "Initial guess of 2.5 for firm size is too low!"
       ]
      },
      {
       "output_type": "stream",
       "stream": "stdout",
       "text": [
        "\n",
        "Initial guess of 3.75 for firm size is too low!"
       ]
      },
      {
       "output_type": "stream",
       "stream": "stdout",
       "text": [
        "\n",
        "Initial guess of 4.375 for firm size is too low!"
       ]
      },
      {
       "output_type": "stream",
       "stream": "stdout",
       "text": [
        "\n",
        "Initial guess of 4.6875 for firm size is too high!\n",
        "Initial guess of 4.53125 for firm size is too low!"
       ]
      },
      {
       "output_type": "stream",
       "stream": "stdout",
       "text": [
        "\n",
        "Initial guess of 4.609375 for firm size is too low!"
       ]
      },
      {
       "output_type": "stream",
       "stream": "stdout",
       "text": [
        "\n",
        "Initial guess of 4.6484375 for firm size is too low!"
       ]
      },
      {
       "output_type": "stream",
       "stream": "stdout",
       "text": [
        "\n",
        "Initial guess of 4.66796875 for firm size is too low!"
       ]
      },
      {
       "output_type": "stream",
       "stream": "stdout",
       "text": [
        "\n",
        "Initial guess of 4.677734375 for firm size is too low!"
       ]
      },
      {
       "output_type": "stream",
       "stream": "stdout",
       "text": [
        "\n",
        "Initial guess of 4.6826171875 for firm size is too high!"
       ]
      },
      {
       "output_type": "stream",
       "stream": "stdout",
       "text": [
        "\n",
        "Initial guess of 4.68017578125 for firm size is too low!"
       ]
      },
      {
       "output_type": "stream",
       "stream": "stdout",
       "text": [
        "\n",
        "Initial guess of 4.68139648438 for firm size is too low!"
       ]
      },
      {
       "output_type": "stream",
       "stream": "stdout",
       "text": [
        "\n",
        "Initial guess of 4.68200683594 for firm size is too low!"
       ]
      },
      {
       "output_type": "stream",
       "stream": "stdout",
       "text": [
        "\n",
        "Initial guess of 4.68231201172 for firm size is too low!"
       ]
      },
      {
       "output_type": "stream",
       "stream": "stdout",
       "text": [
        "\n",
        "Initial guess of 4.68246459961 for firm size is too low!"
       ]
      },
      {
       "output_type": "stream",
       "stream": "stdout",
       "text": [
        "\n",
        "Initial guess of 4.68254089355 for firm size is too high!"
       ]
      },
      {
       "output_type": "stream",
       "stream": "stdout",
       "text": [
        "\n",
        "Initial guess of 4.68250274658 for firm size is too high!"
       ]
      },
      {
       "output_type": "stream",
       "stream": "stdout",
       "text": [
        "\n",
        "Initial guess of 4.6824836731 for firm size is too low!"
       ]
      },
      {
       "output_type": "stream",
       "stream": "stdout",
       "text": [
        "\n",
        "Initial guess of 4.68249320984 for firm size is too low!\n",
        "Initial guess of 4.68249797821 for firm size is too low!"
       ]
      },
      {
       "output_type": "stream",
       "stream": "stdout",
       "text": [
        "\n",
        "Initial guess of 4.6825003624 for firm size is too high!"
       ]
      },
      {
       "output_type": "stream",
       "stream": "stdout",
       "text": [
        "\n",
        "Initial guess of 4.6824991703 for firm size is too high!\n",
        "Initial guess of 4.68249857426 for firm size is too high!"
       ]
      },
      {
       "output_type": "stream",
       "stream": "stdout",
       "text": [
        "\n",
        "Initial guess of 4.68249827623 for firm size is too high!\n",
        "Success! Found equilibrium where all workers and firms are matched"
       ]
      },
      {
       "output_type": "stream",
       "stream": "stdout",
       "text": [
        "\n"
       ]
      }
     ],
     "prompt_number": 111
    },
    {
     "cell_type": "code",
     "collapsed": false,
     "input": [
      "# examine the solution attribute\n",
      "solver.solution"
     ],
     "language": "python",
     "metadata": {},
     "outputs": [
      {
       "metadata": {},
       "output_type": "pyout",
       "prompt_number": 112,
       "text": [
        "array([[  2.00000000e+00,   2.00000000e+00,   4.68249813e+00,\n",
        "          1.75885371e+00,   4.33464696e-01],\n",
        "       [  1.98989899e+00,   1.99783399e+00,   4.64439662e+00,\n",
        "          1.75417255e+00,   4.28793318e-01],\n",
        "       [  1.97979798e+00,   1.99565013e+00,   4.60620775e+00,\n",
        "          1.74947962e+00,   4.24129821e-01],\n",
        "       [  1.96969697e+00,   1.99344806e+00,   4.56793034e+00,\n",
        "          1.74477485e+00,   4.19474208e-01],\n",
        "       [  1.95959596e+00,   1.99122743e+00,   4.52956319e+00,\n",
        "          1.74005813e+00,   4.14826487e-01],\n",
        "       [  1.94949495e+00,   1.98898790e+00,   4.49110505e+00,\n",
        "          1.73532939e+00,   4.10186663e-01],\n",
        "       [  1.93939394e+00,   1.98672908e+00,   4.45255466e+00,\n",
        "          1.73058853e+00,   4.05554739e-01],\n",
        "       [  1.92929293e+00,   1.98445059e+00,   4.41391074e+00,\n",
        "          1.72583546e+00,   4.00930720e-01],\n",
        "       [  1.91919192e+00,   1.98215205e+00,   4.37517197e+00,\n",
        "          1.72107009e+00,   3.96314611e-01],\n",
        "       [  1.90909091e+00,   1.97983303e+00,   4.33633700e+00,\n",
        "          1.71629232e+00,   3.91706415e-01],\n",
        "       [  1.89898990e+00,   1.97749313e+00,   4.29740446e+00,\n",
        "          1.71150205e+00,   3.87106134e-01],\n",
        "       [  1.88888889e+00,   1.97513190e+00,   4.25837294e+00,\n",
        "          1.70669919e+00,   3.82513772e-01],\n",
        "       [  1.87878788e+00,   1.97274891e+00,   4.21924101e+00,\n",
        "          1.70188364e+00,   3.77929329e-01],\n",
        "       [  1.86868687e+00,   1.97034368e+00,   4.18000718e+00,\n",
        "          1.69705530e+00,   3.73352809e-01],\n",
        "       [  1.85858586e+00,   1.96791573e+00,   4.14066997e+00,\n",
        "          1.69221407e+00,   3.68784210e-01],\n",
        "       [  1.84848485e+00,   1.96546458e+00,   4.10122782e+00,\n",
        "          1.68735985e+00,   3.64223534e-01],\n",
        "       [  1.83838384e+00,   1.96298971e+00,   4.06167916e+00,\n",
        "          1.68249253e+00,   3.59670781e-01],\n",
        "       [  1.82828283e+00,   1.96049059e+00,   4.02202237e+00,\n",
        "          1.67761200e+00,   3.55125948e-01],\n",
        "       [  1.81818182e+00,   1.95796667e+00,   3.98225581e+00,\n",
        "          1.67271817e+00,   3.50589035e-01],\n",
        "       [  1.80808081e+00,   1.95541739e+00,   3.94237779e+00,\n",
        "          1.66781092e+00,   3.46060039e-01],\n",
        "       [  1.79797980e+00,   1.95284215e+00,   3.90238656e+00,\n",
        "          1.66289015e+00,   3.41538956e-01],\n",
        "       [  1.78787879e+00,   1.95024035e+00,   3.86228035e+00,\n",
        "          1.65795574e+00,   3.37025783e-01],\n",
        "       [  1.77777778e+00,   1.94761134e+00,   3.82205735e+00,\n",
        "          1.65300758e+00,   3.32520514e-01],\n",
        "       [  1.76767677e+00,   1.94495448e+00,   3.78171569e+00,\n",
        "          1.64804555e+00,   3.28023144e-01],\n",
        "       [  1.75757576e+00,   1.94226909e+00,   3.74125346e+00,\n",
        "          1.64306955e+00,   3.23533665e-01],\n",
        "       [  1.74747475e+00,   1.93955444e+00,   3.70066869e+00,\n",
        "          1.63807945e+00,   3.19052070e-01],\n",
        "       [  1.73737374e+00,   1.93680982e+00,   3.65995938e+00,\n",
        "          1.63307514e+00,   3.14578351e-01],\n",
        "       [  1.72727273e+00,   1.93403444e+00,   3.61912345e+00,\n",
        "          1.62805649e+00,   3.10112496e-01],\n",
        "       [  1.71717172e+00,   1.93122753e+00,   3.57815880e+00,\n",
        "          1.62302339e+00,   3.05654495e-01],\n",
        "       [  1.70707071e+00,   1.92838823e+00,   3.53706324e+00,\n",
        "          1.61797570e+00,   3.01204335e-01],\n",
        "       [  1.69696970e+00,   1.92551571e+00,   3.49583454e+00,\n",
        "          1.61291331e+00,   2.96762003e-01],\n",
        "       [  1.68686869e+00,   1.92260905e+00,   3.45447041e+00,\n",
        "          1.60783608e+00,   2.92327483e-01],\n",
        "       [  1.67676768e+00,   1.91966731e+00,   3.41296850e+00,\n",
        "          1.60274389e+00,   2.87900759e-01],\n",
        "       [  1.66666667e+00,   1.91668952e+00,   3.37132636e+00,\n",
        "          1.59763661e+00,   2.83481812e-01],\n",
        "       [  1.65656566e+00,   1.91367465e+00,   3.32954153e+00,\n",
        "          1.59251410e+00,   2.79070623e-01],\n",
        "       [  1.64646465e+00,   1.91062165e+00,   3.28761143e+00,\n",
        "          1.58737623e+00,   2.74667170e-01],\n",
        "       [  1.63636364e+00,   1.90752938e+00,   3.24553342e+00,\n",
        "          1.58222286e+00,   2.70271429e-01],\n",
        "       [  1.62626263e+00,   1.90439669e+00,   3.20330479e+00,\n",
        "          1.57705385e+00,   2.65883376e-01],\n",
        "       [  1.61616162e+00,   1.90122235e+00,   3.16092276e+00,\n",
        "          1.57186906e+00,   2.61502983e-01],\n",
        "       [  1.60606061e+00,   1.89800507e+00,   3.11838443e+00,\n",
        "          1.56666835e+00,   2.57130220e-01],\n",
        "       [  1.59595960e+00,   1.89474353e+00,   3.07568685e+00,\n",
        "          1.56145157e+00,   2.52765056e-01],\n",
        "       [  1.58585859e+00,   1.89143630e+00,   3.03282695e+00,\n",
        "          1.55621858e+00,   2.48407455e-01],\n",
        "       [  1.57575758e+00,   1.88808190e+00,   2.98980159e+00,\n",
        "          1.55096922e+00,   2.44057382e-01],\n",
        "       [  1.56565657e+00,   1.88467879e+00,   2.94660752e+00,\n",
        "          1.54570335e+00,   2.39714795e-01],\n",
        "       [  1.55555556e+00,   1.88122531e+00,   2.90324137e+00,\n",
        "          1.54042080e+00,   2.35379653e-01],\n",
        "       [  1.54545455e+00,   1.87771976e+00,   2.85969968e+00,\n",
        "          1.53512143e+00,   2.31051909e-01],\n",
        "       [  1.53535354e+00,   1.87416031e+00,   2.81597887e+00,\n",
        "          1.52980508e+00,   2.26731514e-01],\n",
        "       [  1.52525253e+00,   1.87054504e+00,   2.77207523e+00,\n",
        "          1.52447157e+00,   2.22418415e-01],\n",
        "       [  1.51515152e+00,   1.86687193e+00,   2.72798494e+00,\n",
        "          1.51912075e+00,   2.18112555e-01],\n",
        "       [  1.50505051e+00,   1.86313883e+00,   2.68370405e+00,\n",
        "          1.51375246e+00,   2.13813873e-01],\n",
        "       [  1.49494949e+00,   1.85934348e+00,   2.63922843e+00,\n",
        "          1.50836651e+00,   2.09522305e-01],\n",
        "       [  1.48484848e+00,   1.85548349e+00,   2.59455386e+00,\n",
        "          1.50296275e+00,   2.05237779e-01],\n",
        "       [  1.47474747e+00,   1.85155629e+00,   2.54967592e+00,\n",
        "          1.49754099e+00,   2.00960221e-01],\n",
        "       [  1.46464646e+00,   1.84755919e+00,   2.50459005e+00,\n",
        "          1.49210106e+00,   1.96689550e-01],\n",
        "       [  1.45454545e+00,   1.84348930e+00,   2.45929150e+00,\n",
        "          1.48664278e+00,   1.92425681e-01],\n",
        "       [  1.44444444e+00,   1.83934357e+00,   2.41377535e+00,\n",
        "          1.48116596e+00,   1.88168520e-01],\n",
        "       [  1.43434343e+00,   1.83511871e+00,   2.36803647e+00,\n",
        "          1.47567042e+00,   1.83917967e-01],\n",
        "       [  1.42424242e+00,   1.83081124e+00,   2.32206955e+00,\n",
        "          1.47015597e+00,   1.79673917e-01],\n",
        "       [  1.41414141e+00,   1.82641741e+00,   2.27586904e+00,\n",
        "          1.46462242e+00,   1.75436254e-01],\n",
        "       [  1.40404040e+00,   1.82193324e+00,   2.22942916e+00,\n",
        "          1.45906957e+00,   1.71204855e-01],\n",
        "       [  1.39393939e+00,   1.81735441e+00,   2.18274388e+00,\n",
        "          1.45349722e+00,   1.66979588e-01],\n",
        "       [  1.38383838e+00,   1.81267631e+00,   2.13580691e+00,\n",
        "          1.44790518e+00,   1.62760309e-01],\n",
        "       [  1.37373737e+00,   1.80789396e+00,   2.08861167e+00,\n",
        "          1.44229323e+00,   1.58546867e-01],\n",
        "       [  1.36363636e+00,   1.80300198e+00,   2.04115129e+00,\n",
        "          1.43666117e+00,   1.54339094e-01],\n",
        "       [  1.35353535e+00,   1.79799458e+00,   1.99341854e+00,\n",
        "          1.43100879e+00,   1.50136813e-01],\n",
        "       [  1.34343434e+00,   1.79286544e+00,   1.94540588e+00,\n",
        "          1.42533587e+00,   1.45939831e-01],\n",
        "       [  1.33333333e+00,   1.78760772e+00,   1.89710537e+00,\n",
        "          1.41964219e+00,   1.41747938e-01],\n",
        "       [  1.32323232e+00,   1.78221398e+00,   1.84850864e+00,\n",
        "          1.41392754e+00,   1.37560909e-01],\n",
        "       [  1.31313131e+00,   1.77667606e+00,   1.79960692e+00,\n",
        "          1.40819168e+00,   1.33378499e-01],\n",
        "       [  1.30303030e+00,   1.77098507e+00,   1.75039092e+00,\n",
        "          1.40243438e+00,   1.29200442e-01],\n",
        "       [  1.29292929e+00,   1.76513121e+00,   1.70085084e+00,\n",
        "          1.39665542e+00,   1.25026449e-01],\n",
        "       [  1.28282828e+00,   1.75910370e+00,   1.65097629e+00,\n",
        "          1.39085455e+00,   1.20856205e-01],\n",
        "       [  1.27272727e+00,   1.75289063e+00,   1.60075627e+00,\n",
        "          1.38503155e+00,   1.16689364e-01],\n",
        "       [  1.26262626e+00,   1.74647876e+00,   1.55017905e+00,\n",
        "          1.37918615e+00,   1.12525551e-01],\n",
        "       [  1.25252525e+00,   1.73985339e+00,   1.49923216e+00,\n",
        "          1.37331811e+00,   1.08364352e-01],\n",
        "       [  1.24242424e+00,   1.73299805e+00,   1.44790227e+00,\n",
        "          1.36742719e+00,   1.04205312e-01],\n",
        "       [  1.23232323e+00,   1.72589424e+00,   1.39617507e+00,\n",
        "          1.36151313e+00,   1.00047931e-01],\n",
        "       [  1.22222222e+00,   1.71852111e+00,   1.34403519e+00,\n",
        "          1.35557567e+00,   9.58916530e-02],\n",
        "       [  1.21212121e+00,   1.71085496e+00,   1.29146608e+00,\n",
        "          1.34961454e+00,   9.17358632e-02],\n",
        "       [  1.20202020e+00,   1.70286878e+00,   1.23844977e+00,\n",
        "          1.34362949e+00,   8.75798756e-02],\n",
        "       [  1.19191919e+00,   1.69453152e+00,   1.18496676e+00,\n",
        "          1.33762025e+00,   8.34229227e-02],\n",
        "       [  1.18181818e+00,   1.68580731e+00,   1.13099573e+00,\n",
        "          1.33158654e+00,   7.92641420e-02],\n",
        "       [  1.17171717e+00,   1.67665431e+00,   1.07651329e+00,\n",
        "          1.32552810e+00,   7.51025588e-02],\n",
        "       [  1.16161616e+00,   1.66702338e+00,   1.02149359e+00,\n",
        "          1.31944464e+00,   7.09370656e-02],\n",
        "       [  1.15151515e+00,   1.65685618e+00,   9.65907893e-01,\n",
        "          1.31333591e+00,   6.67663956e-02],\n",
        "       [  1.14141414e+00,   1.64608276e+00,   9.09724018e-01,\n",
        "          1.30720161e+00,   6.25890896e-02],\n",
        "       [  1.13131313e+00,   1.63461821e+00,   8.52905610e-01,\n",
        "          1.30104149e+00,   5.84034517e-02],\n",
        "       [  1.12121212e+00,   1.62235795e+00,   7.95411190e-01,\n",
        "          1.29485527e+00,   5.42074930e-02],\n",
        "       [  1.11111111e+00,   1.60917118e+00,   7.37192889e-01,\n",
        "          1.28864269e+00,   4.99988539e-02],\n",
        "       [  1.10101010e+00,   1.59489113e+00,   6.78194709e-01,\n",
        "          1.28240349e+00,   4.57746981e-02],\n",
        "       [  1.09090909e+00,   1.57930039e+00,   6.18350084e-01,\n",
        "          1.27613745e+00,   4.15315632e-02],\n",
        "       [  1.08080808e+00,   1.56210781e+00,   5.57578330e-01,\n",
        "          1.26984435e+00,   3.72651416e-02],\n",
        "       [  1.07070707e+00,   1.54291037e+00,   4.95779280e-01,\n",
        "          1.26352400e+00,   3.29699482e-02],\n",
        "       [  1.06060606e+00,   1.52112652e+00,   4.32824775e-01,\n",
        "          1.25717627e+00,   2.86387914e-02],\n",
        "       [  1.05050505e+00,   1.49587039e+00,   3.68544302e-01,\n",
        "          1.25080113e+00,   2.42618752e-02],\n",
        "       [  1.04040404e+00,   1.46568976e+00,   3.02698682e-01,\n",
        "          1.24439866e+00,   1.98251492e-02],\n",
        "       [  1.03030303e+00,   1.42793791e+00,   2.34926102e-01,\n",
        "          1.23796920e+00,   1.53069094e-02],\n",
        "       [  1.02020202e+00,   1.37690685e+00,   1.64610604e-01,\n",
        "          1.23151361e+00,   1.06694842e-02],\n",
        "       [  1.01010101e+00,   1.29562314e+00,   9.04486343e-02,\n",
        "          1.22503414e+00,   5.83171919e-03],\n",
        "       [  1.00000000e+00,   9.99999298e-01,   6.88123608e-03,\n",
        "          1.21854095e+00,   4.41319367e-04]])"
       ]
      }
     ],
     "prompt_number": 112
    },
    {
     "cell_type": "markdown",
     "metadata": {},
     "source": [
      "### Negative assortative matching"
     ]
    },
    {
     "cell_type": "code",
     "collapsed": false,
     "input": [
      "# multiplicative separability!\n",
      "F_params = {'omega_A':0.5, 'omega_B':0.5, 'sigma_A':1.5, 'sigma_B':1.0}\n",
      "F = A * B"
     ],
     "language": "python",
     "metadata": {},
     "outputs": [],
     "prompt_number": 122
    },
    {
     "cell_type": "code",
     "collapsed": false,
     "input": [
      "model = models.Model(assortativity='negative',\n",
      "                     workers=workers,\n",
      "                     firms=firms,\n",
      "                     production=F,\n",
      "                     params=F_params)\n",
      "\n",
      "solver = solvers.ShootingSolver(model=model)"
     ],
     "language": "python",
     "metadata": {},
     "outputs": [],
     "prompt_number": 123
    },
    {
     "cell_type": "code",
     "collapsed": false,
     "input": [
      "solver.solve(1e6, tol=1e-6, number_knots=100, atol=1e-15, rtol=1e-12)"
     ],
     "language": "python",
     "metadata": {},
     "outputs": [
      {
       "output_type": "stream",
       "stream": "stdout",
       "text": [
        "Initial guess of 500000.0 for firm size is too low!\n",
        "Initial guess of 750000.0 for firm size is too low!\n",
        "Initial guess of 875000.0 for firm size is too low!\n",
        "Initial guess of 937500.0 for firm size is too low!"
       ]
      },
      {
       "output_type": "stream",
       "stream": "stdout",
       "text": [
        "\n",
        "Initial guess of 968750.0 for firm size is too low!\n",
        "Initial guess of 984375.0 for firm size is too low!"
       ]
      },
      {
       "output_type": "stream",
       "stream": "stdout",
       "text": [
        "\n",
        "Initial guess of 992187.5 for firm size is too low!\n",
        "Initial guess of 996093.75 for firm size is too low!"
       ]
      },
      {
       "output_type": "stream",
       "stream": "stdout",
       "text": [
        "\n",
        "Initial guess of 998046.875 for firm size is too low!\n",
        "Initial guess of 999023.4375 for firm size is too low!"
       ]
      },
      {
       "output_type": "stream",
       "stream": "stdout",
       "text": [
        "\n",
        "Initial guess of 999511.71875 for firm size is too low!\n",
        "Initial guess of 999755.859375 for firm size is too low!"
       ]
      },
      {
       "output_type": "stream",
       "stream": "stdout",
       "text": [
        "\n",
        "Initial guess of 999877.929688 for firm size is too low!\n",
        "Initial guess of 999938.964844 for firm size is too low!\n",
        "Initial guess of 999969.482422 for firm size is too low!"
       ]
      },
      {
       "output_type": "stream",
       "stream": "stdout",
       "text": [
        "\n",
        "Initial guess of 999984.741211 for firm size is too low!\n",
        "Initial guess of 999992.370605 for firm size is too low!"
       ]
      },
      {
       "output_type": "stream",
       "stream": "stdout",
       "text": [
        "\n",
        "Initial guess of 999996.185303 for firm size is too low!\n",
        "Initial guess of 999998.092651 for firm size is too low!\n",
        "Initial guess of 999999.046326 for firm size is too low!"
       ]
      },
      {
       "output_type": "stream",
       "stream": "stdout",
       "text": [
        "\n",
        "Initial guess of 999999.523163 for firm size is too low!\n",
        "Initial guess of 999999.761581 for firm size is too low!"
       ]
      },
      {
       "output_type": "stream",
       "stream": "stdout",
       "text": [
        "\n",
        "Initial guess of 999999.880791 for firm size is too low!\n",
        "Initial guess of 999999.940395 for firm size is too low!"
       ]
      },
      {
       "output_type": "stream",
       "stream": "stdout",
       "text": [
        "\n",
        "Initial guess of 999999.970198 for firm size is too low!\n",
        "Initial guess of 999999.985099 for firm size is too low!"
       ]
      },
      {
       "output_type": "stream",
       "stream": "stdout",
       "text": [
        "\n",
        "Initial guess of 999999.992549 for firm size is too low!\n",
        "Initial guess of 999999.996275 for firm size is too low!"
       ]
      },
      {
       "output_type": "stream",
       "stream": "stdout",
       "text": [
        "\n",
        "Initial guess of 999999.998137 for firm size is too low!\n",
        "Initial guess of 999999.999069 for firm size is too low!\n",
        "Initial guess of 999999.999534 for firm size is too low!"
       ]
      },
      {
       "output_type": "stream",
       "stream": "stdout",
       "text": [
        "\n",
        "Initial guess of 999999.999767 for firm size is too low!\n",
        "Initial guess of 999999.999884 for firm size is too low!"
       ]
      },
      {
       "output_type": "stream",
       "stream": "stdout",
       "text": [
        "\n",
        "Initial guess of 999999.999942 for firm size is too low!\n",
        "Initial guess of 999999.999971 for firm size is too low!\n",
        "Initial guess of 999999.999985 for firm size is too low!"
       ]
      },
      {
       "output_type": "stream",
       "stream": "stdout",
       "text": [
        "\n",
        "Initial guess of 999999.999993 for firm size is too low!\n",
        "Initial guess of 999999.999996 for firm size is too low!\n",
        "Initial guess of 999999.999998 for firm size is too low!"
       ]
      },
      {
       "output_type": "stream",
       "stream": "stdout",
       "text": [
        "\n",
        "Failure! Need to increase initial guess for upper bound on firm size!\n"
       ]
      }
     ],
     "prompt_number": 124
    },
    {
     "cell_type": "markdown",
     "metadata": {},
     "source": [
      "# Example:"
     ]
    },
    {
     "cell_type": "code",
     "collapsed": false,
     "input": [
      "# define some workers skill\n",
      "x, mu1, sigma1 = sym.var('x, mu1, sigma1')\n",
      "skill_cdf = 0.5 + 0.5 * sym.erf((sym.log(x) - mu1) / sym.sqrt(2 * sigma1**2))\n",
      "skill_params = {'mu1': 0.0, 'sigma1': 1.0}\n",
      "skill_bounds = [1e-3, 5e1]\n",
      "\n",
      "workers = inputs.Input(var=x,\n",
      "                       cdf=skill_cdf,\n",
      "                       params=skill_params,\n",
      "                       bounds=skill_bounds,\n",
      "                       )\n",
      "\n",
      "# define some firms\n",
      "y, mu2, sigma2 = sym.var('y, mu2, sigma2')\n",
      "productivity_cdf = 0.5 + 0.5 * sym.erf((sym.log(y) - mu2) / sym.sqrt(2 * sigma2**2))\n",
      "productivity_params = {'mu2': 0.0, 'sigma2': 1.0}\n",
      "productivity_bounds = [1e-3, 5e1]\n",
      "\n",
      "firms = inputs.Input(var=y,\n",
      "                     cdf=productivity_cdf,\n",
      "                     params=productivity_params,\n",
      "                     bounds=productivity_bounds,\n",
      "                     )\n",
      "\n",
      "# define a valid production function\n",
      "A, kappa, nu, rho, l, gamma, r = sym.var('A, kappa, nu, rho, l, gamma, r')\n",
      "F = r * A * kappa * (nu * x**rho + (1 - nu) * (y * (l / r))**rho)**(gamma / rho)\n",
      "F_params = {'nu': 0.5, 'kappa': 1.0, 'gamma': 0.54, 'rho': 0.24, 'A': 1.0}\n",
      "\n",
      "model = models.Model('positive', workers, firms, production=F,\n",
      "                      params=F_params)\n",
      "\n",
      "solver = solvers.ShootingSolver(model=model)"
     ],
     "language": "python",
     "metadata": {},
     "outputs": [],
     "prompt_number": 358
    },
    {
     "cell_type": "code",
     "collapsed": false,
     "input": [
      "solver.solve(1e2, tol=1e-3, number_knots=100, atol=1e-15, rtol=1e-12)"
     ],
     "language": "python",
     "metadata": {},
     "outputs": [
      {
       "output_type": "stream",
       "stream": "stdout",
       "text": [
        "Initial guess of 50.0 for firm size is too high!\n",
        "Initial guess of 25.0 for firm size is too high!"
       ]
      },
      {
       "output_type": "stream",
       "stream": "stdout",
       "text": [
        "\n",
        "Initial guess of 12.5 for firm size is too high!"
       ]
      },
      {
       "output_type": "stream",
       "stream": "stdout",
       "text": [
        "\n",
        "Initial guess of 6.25 for firm size is too high!"
       ]
      },
      {
       "output_type": "stream",
       "stream": "stdout",
       "text": [
        "\n",
        "Initial guess of 3.125 for firm size is too high!"
       ]
      },
      {
       "output_type": "stream",
       "stream": "stdout",
       "text": [
        "\n",
        "Initial guess of 1.5625 for firm size is too high!"
       ]
      },
      {
       "output_type": "stream",
       "stream": "stdout",
       "text": [
        "\n",
        "Initial guess of 0.78125 for firm size is too high!"
       ]
      },
      {
       "output_type": "stream",
       "stream": "stdout",
       "text": [
        "\n",
        "Initial guess of 0.390625 for firm size is too high!"
       ]
      },
      {
       "output_type": "stream",
       "stream": "stdout",
       "text": [
        "\n",
        "Initial guess of 0.1953125 for firm size is too high!"
       ]
      },
      {
       "output_type": "stream",
       "stream": "stdout",
       "text": [
        "\n",
        "Initial guess of 0.09765625 for firm size is too high!"
       ]
      },
      {
       "output_type": "stream",
       "stream": "stdout",
       "text": [
        "\n",
        "Initial guess of 0.048828125 for firm size is too high!"
       ]
      },
      {
       "output_type": "stream",
       "stream": "stdout",
       "text": [
        "\n",
        "Initial guess of 0.0244140625 for firm size is too high!"
       ]
      },
      {
       "output_type": "stream",
       "stream": "stdout",
       "text": [
        "\n",
        "Initial guess of 0.01220703125 for firm size is too high!"
       ]
      },
      {
       "output_type": "stream",
       "stream": "stdout",
       "text": [
        "\n",
        "Initial guess of 0.006103515625 for firm size is too high!"
       ]
      },
      {
       "output_type": "stream",
       "stream": "stdout",
       "text": [
        "\n",
        "Initial guess of 0.0030517578125 for firm size is too high!"
       ]
      },
      {
       "output_type": "stream",
       "stream": "stdout",
       "text": [
        "\n",
        "Initial guess of 0.00152587890625 for firm size is too high!"
       ]
      },
      {
       "output_type": "stream",
       "stream": "stdout",
       "text": [
        "\n",
        "Initial guess of 0.000762939453125 for firm size is too high!"
       ]
      },
      {
       "output_type": "stream",
       "stream": "stdout",
       "text": [
        "\n",
        "Initial guess of 0.000381469726562 for firm size is too high!"
       ]
      },
      {
       "output_type": "stream",
       "stream": "stdout",
       "text": [
        "\n",
        "Initial guess of 0.000190734863281 for firm size is too low!"
       ]
      },
      {
       "output_type": "stream",
       "stream": "stdout",
       "text": [
        "\n",
        "Initial guess of 0.000286102294922 for firm size is too high!"
       ]
      },
      {
       "output_type": "stream",
       "stream": "stdout",
       "text": [
        "\n",
        "Initial guess of 0.000238418579102 for firm size is too high!"
       ]
      },
      {
       "output_type": "stream",
       "stream": "stdout",
       "text": [
        "\n",
        "Initial guess of 0.000214576721191 for firm size is too low!"
       ]
      },
      {
       "output_type": "stream",
       "stream": "stdout",
       "text": [
        "\n",
        "Initial guess of 0.000226497650146 for firm size is too low!"
       ]
      },
      {
       "output_type": "stream",
       "stream": "stdout",
       "text": [
        "\n",
        "Initial guess of 0.000232458114624 for firm size is too low!"
       ]
      },
      {
       "output_type": "stream",
       "stream": "stdout",
       "text": [
        "\n",
        "Initial guess of 0.000235438346863 for firm size is too high!"
       ]
      },
      {
       "output_type": "stream",
       "stream": "stdout",
       "text": [
        "\n",
        "Initial guess of 0.000233948230743 for firm size is too low!"
       ]
      },
      {
       "output_type": "stream",
       "stream": "stdout",
       "text": [
        "\n",
        "Initial guess of 0.000234693288803 for firm size is too low!"
       ]
      },
      {
       "output_type": "stream",
       "stream": "stdout",
       "text": [
        "\n",
        "Initial guess of 0.000235065817833 for firm size is too high!"
       ]
      },
      {
       "output_type": "stream",
       "stream": "stdout",
       "text": [
        "\n",
        "Initial guess of 0.000234879553318 for firm size is too high!"
       ]
      },
      {
       "output_type": "stream",
       "stream": "stdout",
       "text": [
        "\n",
        "Initial guess of 0.000234786421061 for firm size is too high!"
       ]
      },
      {
       "output_type": "stream",
       "stream": "stdout",
       "text": [
        "\n",
        "Initial guess of 0.000234739854932 for firm size is too low!"
       ]
      },
      {
       "output_type": "stream",
       "stream": "stdout",
       "text": [
        "\n",
        "Initial guess of 0.000234763137996 for firm size is too low!"
       ]
      },
      {
       "output_type": "stream",
       "stream": "stdout",
       "text": [
        "\n",
        "Initial guess of 0.000234774779528 for firm size is too high!"
       ]
      },
      {
       "output_type": "stream",
       "stream": "stdout",
       "text": [
        "\n",
        "Initial guess of 0.000234768958762 for firm size is too high!"
       ]
      },
      {
       "output_type": "stream",
       "stream": "stdout",
       "text": [
        "\n",
        "Initial guess of 0.000234766048379 for firm size is too low!"
       ]
      },
      {
       "output_type": "stream",
       "stream": "stdout",
       "text": [
        "\n",
        "Initial guess of 0.000234767503571 for firm size is too high!"
       ]
      },
      {
       "output_type": "stream",
       "stream": "stdout",
       "text": [
        "\n",
        "Initial guess of 0.000234766775975 for firm size is too high!"
       ]
      },
      {
       "output_type": "stream",
       "stream": "stdout",
       "text": [
        "\n",
        "Initial guess of 0.000234766412177 for firm size is too low!"
       ]
      },
      {
       "output_type": "stream",
       "stream": "stdout",
       "text": [
        "\n",
        "Initial guess of 0.000234766594076 for firm size is too low!"
       ]
      },
      {
       "output_type": "stream",
       "stream": "stdout",
       "text": [
        "\n",
        "Initial guess of 0.000234766685026 for firm size is too low!"
       ]
      },
      {
       "output_type": "stream",
       "stream": "stdout",
       "text": [
        "\n",
        "Initial guess of 0.0002347667305 for firm size is too low!"
       ]
      },
      {
       "output_type": "stream",
       "stream": "stdout",
       "text": [
        "\n",
        "Initial guess of 0.000234766753238 for firm size is too high!"
       ]
      },
      {
       "output_type": "stream",
       "stream": "stdout",
       "text": [
        "\n",
        "Initial guess of 0.000234766741869 for firm size is too high!"
       ]
      },
      {
       "output_type": "stream",
       "stream": "stdout",
       "text": [
        "\n",
        "Initial guess of 0.000234766736185 for firm size is too low!"
       ]
      },
      {
       "output_type": "stream",
       "stream": "stdout",
       "text": [
        "\n",
        "Initial guess of 0.000234766739027 for firm size is too low!"
       ]
      },
      {
       "output_type": "stream",
       "stream": "stdout",
       "text": [
        "\n",
        "Initial guess of 0.000234766740448 for firm size is too high!"
       ]
      },
      {
       "output_type": "stream",
       "stream": "stdout",
       "text": [
        "\n",
        "Initial guess of 0.000234766739737 for firm size is too high!"
       ]
      },
      {
       "output_type": "stream",
       "stream": "stdout",
       "text": [
        "\n",
        "Initial guess of 0.000234766739382 for firm size is too low!"
       ]
      },
      {
       "output_type": "stream",
       "stream": "stdout",
       "text": [
        "\n",
        "Initial guess of 0.00023476673956 for firm size is too low!"
       ]
      },
      {
       "output_type": "stream",
       "stream": "stdout",
       "text": [
        "\n",
        "Initial guess of 0.000234766739649 for firm size is too high!"
       ]
      },
      {
       "output_type": "stream",
       "stream": "stdout",
       "text": [
        "\n",
        "Initial guess of 0.000234766739604 for firm size is too low!"
       ]
      },
      {
       "output_type": "stream",
       "stream": "stdout",
       "text": [
        "\n",
        "Initial guess of 0.000234766739626 for firm size is too low!"
       ]
      },
      {
       "output_type": "stream",
       "stream": "stdout",
       "text": [
        "\n",
        "Initial guess of 0.000234766739637 for firm size is too high!"
       ]
      },
      {
       "output_type": "stream",
       "stream": "stdout",
       "text": [
        "\n",
        "Initial guess of 0.000234766739632 for firm size is too high!"
       ]
      },
      {
       "output_type": "stream",
       "stream": "stdout",
       "text": [
        "\n",
        "Initial guess of 0.000234766739629 for firm size is too low!"
       ]
      },
      {
       "output_type": "stream",
       "stream": "stdout",
       "text": [
        "\n",
        "Initial guess of 0.00023476673963 for firm size is too low!"
       ]
      },
      {
       "output_type": "stream",
       "stream": "stdout",
       "text": [
        "\n",
        "Initial guess of 0.000234766739631 for firm size is too low!"
       ]
      },
      {
       "output_type": "stream",
       "stream": "stdout",
       "text": [
        "\n",
        "Initial guess of 0.000234766739632 for firm size is too low!"
       ]
      },
      {
       "output_type": "stream",
       "stream": "stdout",
       "text": [
        "\n",
        "Initial guess of 0.000234766739632 for firm size is too low!"
       ]
      },
      {
       "output_type": "stream",
       "stream": "stdout",
       "text": [
        "\n",
        "Initial guess of 0.000234766739632 for firm size is too high!"
       ]
      },
      {
       "output_type": "stream",
       "stream": "stdout",
       "text": [
        "\n",
        "Initial guess of 0.000234766739632 for firm size is too high!"
       ]
      },
      {
       "output_type": "stream",
       "stream": "stdout",
       "text": [
        "\n",
        "Initial guess of 0.000234766739632 for firm size is too high!"
       ]
      },
      {
       "output_type": "stream",
       "stream": "stdout",
       "text": [
        "\n",
        "Initial guess of 0.000234766739632 for firm size is too high!"
       ]
      },
      {
       "output_type": "stream",
       "stream": "stdout",
       "text": [
        "\n"
       ]
      },
      {
       "ename": "KeyboardInterrupt",
       "evalue": "",
       "output_type": "pyerr",
       "traceback": [
        "\u001b[0;31m---------------------------------------------------------------------------\u001b[0m\n\u001b[0;31mKeyboardInterrupt\u001b[0m                         Traceback (most recent call last)",
        "\u001b[0;32m<ipython-input-359-6808013b67e4>\u001b[0m in \u001b[0;36m<module>\u001b[0;34m()\u001b[0m\n\u001b[0;32m----> 1\u001b[0;31m \u001b[0msolver\u001b[0m\u001b[0;34m.\u001b[0m\u001b[0msolve\u001b[0m\u001b[0;34m(\u001b[0m\u001b[0;36m1e2\u001b[0m\u001b[0;34m,\u001b[0m \u001b[0mtol\u001b[0m\u001b[0;34m=\u001b[0m\u001b[0;36m1e-3\u001b[0m\u001b[0;34m,\u001b[0m \u001b[0mnumber_knots\u001b[0m\u001b[0;34m=\u001b[0m\u001b[0;36m100\u001b[0m\u001b[0;34m,\u001b[0m \u001b[0matol\u001b[0m\u001b[0;34m=\u001b[0m\u001b[0;36m1e-15\u001b[0m\u001b[0;34m,\u001b[0m \u001b[0mrtol\u001b[0m\u001b[0;34m=\u001b[0m\u001b[0;36m1e-12\u001b[0m\u001b[0;34m)\u001b[0m\u001b[0;34m\u001b[0m\u001b[0m\n\u001b[0m",
        "\u001b[0;32m/Users/drpugh/Research/assortative-matching-large-firms/solvers.py\u001b[0m in \u001b[0;36msolve\u001b[0;34m(self, guess_firm_size_upper, tol, number_knots, integrator, **kwargs)\u001b[0m\n\u001b[1;32m    534\u001b[0m             self._solve_positive_assortative_matching(guess_firm_size_upper,\n\u001b[1;32m    535\u001b[0m                                                       \u001b[0mtol\u001b[0m\u001b[0;34m,\u001b[0m \u001b[0mnumber_knots\u001b[0m\u001b[0;34m,\u001b[0m\u001b[0;34m\u001b[0m\u001b[0m\n\u001b[0;32m--> 536\u001b[0;31m                                                       integrator, **kwargs)\n\u001b[0m\u001b[1;32m    537\u001b[0m         \u001b[0;32melse\u001b[0m\u001b[0;34m:\u001b[0m\u001b[0;34m\u001b[0m\u001b[0m\n\u001b[1;32m    538\u001b[0m             self._solve_negative_assortative_matching(guess_firm_size_upper,\n",
        "\u001b[0;32m/Users/drpugh/Research/assortative-matching-large-firms/solvers.py\u001b[0m in \u001b[0;36m_solve_positive_assortative_matching\u001b[0;34m(self, guess_firm_size_upper, tol, number_knots, integrator, **kwargs)\u001b[0m\n\u001b[1;32m    349\u001b[0m \u001b[0;34m\u001b[0m\u001b[0m\n\u001b[1;32m    350\u001b[0m             \u001b[0;31m# walk the system forward one step\u001b[0m\u001b[0;34m\u001b[0m\u001b[0;34m\u001b[0m\u001b[0m\n\u001b[0;32m--> 351\u001b[0;31m             \u001b[0mself\u001b[0m\u001b[0;34m.\u001b[0m\u001b[0mintegrator\u001b[0m\u001b[0;34m.\u001b[0m\u001b[0mintegrate\u001b[0m\u001b[0;34m(\u001b[0m\u001b[0mself\u001b[0m\u001b[0;34m.\u001b[0m\u001b[0mintegrator\u001b[0m\u001b[0;34m.\u001b[0m\u001b[0mt\u001b[0m \u001b[0;34m-\u001b[0m \u001b[0mstep_size\u001b[0m\u001b[0;34m)\u001b[0m\u001b[0;34m\u001b[0m\u001b[0m\n\u001b[0m\u001b[1;32m    352\u001b[0m \u001b[0;34m\u001b[0m\u001b[0m\n\u001b[1;32m    353\u001b[0m             \u001b[0;31m# unpack the components of the new step\u001b[0m\u001b[0;34m\u001b[0m\u001b[0;34m\u001b[0m\u001b[0m\n",
        "\u001b[0;32m/Users/drpugh/anaconda/lib/python2.7/site-packages/scipy/integrate/_ode.pyc\u001b[0m in \u001b[0;36mintegrate\u001b[0;34m(self, t, step, relax)\u001b[0m\n\u001b[1;32m    386\u001b[0m             self._y, self.t = mth(self.f, self.jac or (lambda: None),\n\u001b[1;32m    387\u001b[0m                                 \u001b[0mself\u001b[0m\u001b[0;34m.\u001b[0m\u001b[0m_y\u001b[0m\u001b[0;34m,\u001b[0m \u001b[0mself\u001b[0m\u001b[0;34m.\u001b[0m\u001b[0mt\u001b[0m\u001b[0;34m,\u001b[0m \u001b[0mt\u001b[0m\u001b[0;34m,\u001b[0m\u001b[0;34m\u001b[0m\u001b[0m\n\u001b[0;32m--> 388\u001b[0;31m                                 self.f_params, self.jac_params)\n\u001b[0m\u001b[1;32m    389\u001b[0m         \u001b[0;32mexcept\u001b[0m \u001b[0mSystemError\u001b[0m\u001b[0;34m:\u001b[0m\u001b[0;34m\u001b[0m\u001b[0m\n\u001b[1;32m    390\u001b[0m             \u001b[0;31m# f2py issue with tuple returns, see ticket 1187.\u001b[0m\u001b[0;34m\u001b[0m\u001b[0;34m\u001b[0m\u001b[0m\n",
        "\u001b[0;32m/Users/drpugh/anaconda/lib/python2.7/site-packages/scipy/integrate/_ode.pyc\u001b[0m in \u001b[0;36mrun\u001b[0;34m(self, f, jac, y0, t0, t1, f_params, jac_params)\u001b[0m\n\u001b[1;32m    944\u001b[0m     \u001b[0;32mdef\u001b[0m \u001b[0mrun\u001b[0m\u001b[0;34m(\u001b[0m\u001b[0mself\u001b[0m\u001b[0;34m,\u001b[0m \u001b[0mf\u001b[0m\u001b[0;34m,\u001b[0m \u001b[0mjac\u001b[0m\u001b[0;34m,\u001b[0m \u001b[0my0\u001b[0m\u001b[0;34m,\u001b[0m \u001b[0mt0\u001b[0m\u001b[0;34m,\u001b[0m \u001b[0mt1\u001b[0m\u001b[0;34m,\u001b[0m \u001b[0mf_params\u001b[0m\u001b[0;34m,\u001b[0m \u001b[0mjac_params\u001b[0m\u001b[0;34m)\u001b[0m\u001b[0;34m:\u001b[0m\u001b[0;34m\u001b[0m\u001b[0m\n\u001b[1;32m    945\u001b[0m         x, y, iwork, idid = self.runner(*((f, t0, y0, t1) +\n\u001b[0;32m--> 946\u001b[0;31m                                           tuple(self.call_args) + (f_params,)))\n\u001b[0m\u001b[1;32m    947\u001b[0m         \u001b[0;32mif\u001b[0m \u001b[0midid\u001b[0m \u001b[0;34m<\u001b[0m \u001b[0;36m0\u001b[0m\u001b[0;34m:\u001b[0m\u001b[0;34m\u001b[0m\u001b[0m\n\u001b[1;32m    948\u001b[0m             warnings.warn(self.name + ': ' +\n",
        "\u001b[0;32m/Users/drpugh/Research/assortative-matching-large-firms/solvers.py\u001b[0m in \u001b[0;36mevaluate_rhs\u001b[0;34m(self, x, V)\u001b[0m\n\u001b[1;32m    503\u001b[0m \u001b[0;34m\u001b[0m\u001b[0m\n\u001b[1;32m    504\u001b[0m         \"\"\"\n\u001b[0;32m--> 505\u001b[0;31m         \u001b[0mrhs\u001b[0m \u001b[0;34m=\u001b[0m \u001b[0mself\u001b[0m\u001b[0;34m.\u001b[0m\u001b[0m_numeric_system\u001b[0m\u001b[0;34m(\u001b[0m\u001b[0mx\u001b[0m\u001b[0;34m,\u001b[0m \u001b[0mV\u001b[0m\u001b[0;34m,\u001b[0m \u001b[0;34m**\u001b[0m\u001b[0mself\u001b[0m\u001b[0;34m.\u001b[0m\u001b[0mmodel\u001b[0m\u001b[0;34m.\u001b[0m\u001b[0mparams\u001b[0m\u001b[0;34m)\u001b[0m\u001b[0;34m.\u001b[0m\u001b[0mravel\u001b[0m\u001b[0;34m(\u001b[0m\u001b[0;34m)\u001b[0m\u001b[0;34m\u001b[0m\u001b[0m\n\u001b[0m\u001b[1;32m    506\u001b[0m         \u001b[0;32mreturn\u001b[0m \u001b[0mrhs\u001b[0m\u001b[0;34m\u001b[0m\u001b[0m\n\u001b[1;32m    507\u001b[0m \u001b[0;34m\u001b[0m\u001b[0m\n",
        "\u001b[0;32m/Users/drpugh/anaconda/lib/python2.7/site-packages/numpy/__init__.pyc\u001b[0m in \u001b[0;36m<lambda>\u001b[0;34m(x, V, A, kappa, mu2, rho, mu1, sigma1, nu, gamma, sigma2)\u001b[0m\n",
        "\u001b[0;31mKeyboardInterrupt\u001b[0m: "
       ]
      }
     ],
     "prompt_number": 359
    },
    {
     "cell_type": "code",
     "collapsed": false,
     "input": [
      "solver.integrator.successful()"
     ],
     "language": "python",
     "metadata": {},
     "outputs": [
      {
       "metadata": {},
       "output_type": "pyout",
       "prompt_number": 360,
       "text": [
        "True"
       ]
      }
     ],
     "prompt_number": 360
    },
    {
     "cell_type": "code",
     "collapsed": false,
     "input": [
      "solver.evaluate_rhs(0.5, np.array([1.5, 1.5]))"
     ],
     "language": "python",
     "metadata": {},
     "outputs": [
      {
       "metadata": {},
       "output_type": "pyout",
       "prompt_number": 362,
       "text": [
        "array([ 1.70765597, -1.73110419])"
       ]
      }
     ],
     "prompt_number": 362
    },
    {
     "cell_type": "code",
     "collapsed": false,
     "input": [],
     "language": "python",
     "metadata": {},
     "outputs": []
    }
   ],
   "metadata": {}
  }
 ]
}