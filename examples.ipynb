{
 "metadata": {
  "name": "",
  "signature": "sha256:aa85cb607bdeaa65a3dd475ce45b53561be43acf9841c81922476fa5e213149d"
 },
 "nbformat": 3,
 "nbformat_minor": 0,
 "worksheets": [
  {
   "cells": [
    {
     "cell_type": "code",
     "collapsed": false,
     "input": [
      "%load_ext autoreload"
     ],
     "language": "python",
     "metadata": {},
     "outputs": [],
     "prompt_number": 1
    },
    {
     "cell_type": "code",
     "collapsed": false,
     "input": [
      "autoreload 2"
     ],
     "language": "python",
     "metadata": {},
     "outputs": [],
     "prompt_number": 2
    },
    {
     "cell_type": "code",
     "collapsed": false,
     "input": [
      "%matplotlib inline"
     ],
     "language": "python",
     "metadata": {},
     "outputs": [],
     "prompt_number": 3
    },
    {
     "cell_type": "code",
     "collapsed": true,
     "input": [
      "import numpy as np\n",
      "import sympy as sym\n",
      "\n",
      "import inputs\n",
      "import models\n",
      "import solvers"
     ],
     "language": "python",
     "metadata": {},
     "outputs": [],
     "prompt_number": 4
    },
    {
     "cell_type": "markdown",
     "metadata": {},
     "source": [
      "# Example: \n",
      "\n",
      "## Worker skill and firm productivity are $\\sim U[a, b]$..."
     ]
    },
    {
     "cell_type": "code",
     "collapsed": false,
     "input": [
      "# define some workers skill\n",
      "x, a, b = sym.var('x, a, b')\n",
      "skill_cdf = (x - a) / (b - a)\n",
      "skill_params = {'a': 1.0, 'b': 2.0}\n",
      "skill_bounds = [skill_params['a'], skill_params['b']]\n",
      "\n",
      "workers = inputs.Input(var=x,\n",
      "                       cdf=skill_cdf,\n",
      "                       params=skill_params,\n",
      "                       bounds=skill_bounds,\n",
      "                       )\n",
      "\n",
      "# define some firms\n",
      "y = sym.var('y')\n",
      "productivity_cdf = (y - a) / (b - a)\n",
      "productivity_params = skill_params\n",
      "productivity_bounds = skill_bounds\n",
      "\n",
      "firms = inputs.Input(var=y,\n",
      "                     cdf=productivity_cdf,\n",
      "                     params=productivity_params,\n",
      "                     bounds=productivity_bounds,\n",
      "                     )"
     ],
     "language": "python",
     "metadata": {},
     "outputs": [],
     "prompt_number": 8
    },
    {
     "cell_type": "markdown",
     "metadata": {},
     "source": [
      "## ...and production function is multiplicatively separable.\n",
      "A particularly attractive case arises under multiplicative separability of the form\n",
      "\n",
      "$$F(x, y, l, r) = A(x, y)B(l, r)$$\n",
      "\n",
      "In this case the condition for positive assortative matching can be written as \n",
      "\n",
      "$$\\frac{AA_{xy}}{A_xA_y}\\frac{BB_{lr}}{B_lB_r} \\ge 1$$\n",
      "\n",
      "If $B$ has constant elasticity of substitution form, then we obtain an even simpler condition\n",
      "\n",
      "$$\\frac{AA_{xy}}{A_xA_y} \\frac{1}{\\sigma_{lr}}\\ge 1$$\n",
      "\n",
      "where $\\sigma_{lr}$ is the elasticity of substitution between $l$ and $r$. \n",
      "\n",
      "Finally, if $A$ also has constant elasticity of substitution form, then we obtain an even simpler condition\n",
      "\n",
      "$$\\frac{1}{\\sigma_{xy}\\sigma_{lr}}\\ge 1 \\iff \\sigma_{xy}\\sigma_{lr} \\le 1$$\n",
      "\n",
      "where $\\sigma_{xy}$ is the elasticity of substitution between $x$ and $y$."
     ]
    },
    {
     "cell_type": "code",
     "collapsed": false,
     "input": [
      "# define symbolic expression for CES between x and y\n",
      "omega_A, sigma_A = sym.var('omega_A, sigma_A')\n",
      "A = ((omega_A * x**((sigma_A - 1) / sigma_A) + \n",
      "     (1 - omega_A) * y**((sigma_A - 1) / sigma_A))**(sigma_A / (sigma_A - 1))) \n",
      "\n",
      "# define symbolic expression for Cobb-Douglas between l and r\n",
      "l, r, omega_B, sigma_B = sym.var('l, r, omega_B, sigma_B')\n",
      "B = l**omega_B * r**(1 - omega_B)\n",
      "    \n",
      "# multiplicative separability!\n",
      "F_params = {'omega_A':0.5, 'omega_B':0.75, 'sigma_A':0.75, 'sigma_B':1.0}\n",
      "F = A * B"
     ],
     "language": "python",
     "metadata": {},
     "outputs": [],
     "prompt_number": 70
    },
    {
     "cell_type": "markdown",
     "metadata": {},
     "source": [
      "Create an instance of the `models.Model` class and an instance of the `solvers.ShootingSolver` class..."
     ]
    },
    {
     "cell_type": "code",
     "collapsed": false,
     "input": [
      "model = models.Model(assortativity='positive',\n",
      "                     workers=workers,\n",
      "                     firms=firms,\n",
      "                     production=F,\n",
      "                     params=F_params)\n",
      "\n",
      "solver = solvers.ShootingSolver(model=model)"
     ],
     "language": "python",
     "metadata": {},
     "outputs": [],
     "prompt_number": 71
    },
    {
     "cell_type": "code",
     "collapsed": false,
     "input": [
      "solver.solve(1e1, tol=1e-6, number_knots=100, atol=1e-15, rtol=1e-12)"
     ],
     "language": "python",
     "metadata": {},
     "outputs": [
      {
       "output_type": "stream",
       "stream": "stdout",
       "text": [
        "Initial guess of 5.0 for firm size is too high!\n",
        "Initial guess of 2.5 for firm size is too high!\n",
        "Initial guess of 1.25 for firm size is too low!\n",
        "Initial guess of 1.875 for firm size is too high!"
       ]
      },
      {
       "output_type": "stream",
       "stream": "stdout",
       "text": [
        "\n",
        "Initial guess of 1.5625 for firm size is too high!\n",
        "Initial guess of 1.40625 for firm size is too high!"
       ]
      },
      {
       "output_type": "stream",
       "stream": "stdout",
       "text": [
        "\n",
        "Initial guess of 1.328125 for firm size is too low!\n",
        "Initial guess of 1.3671875 for firm size is too low!"
       ]
      },
      {
       "output_type": "stream",
       "stream": "stdout",
       "text": [
        "\n",
        "Initial guess of 1.38671875 for firm size is too low!\n",
        "Initial guess of 1.396484375 for firm size is too low!"
       ]
      },
      {
       "output_type": "stream",
       "stream": "stdout",
       "text": [
        "\n",
        "Initial guess of 1.4013671875 for firm size is too low!\n",
        "Initial guess of 1.40380859375 for firm size is too high!"
       ]
      },
      {
       "output_type": "stream",
       "stream": "stdout",
       "text": [
        "\n",
        "Initial guess of 1.40258789062 for firm size is too high!\n",
        "Initial guess of 1.40197753906 for firm size is too low!"
       ]
      },
      {
       "output_type": "stream",
       "stream": "stdout",
       "text": [
        "\n",
        "Initial guess of 1.40228271484 for firm size is too low!\n",
        "Initial guess of 1.40243530273 for firm size is too low!"
       ]
      },
      {
       "output_type": "stream",
       "stream": "stdout",
       "text": [
        "\n",
        "Initial guess of 1.40251159668 for firm size is too high!\n",
        "Initial guess of 1.40247344971 for firm size is too high!"
       ]
      },
      {
       "output_type": "stream",
       "stream": "stdout",
       "text": [
        "\n",
        "Initial guess of 1.40245437622 for firm size is too high!\n",
        "Initial guess of 1.40244483948 for firm size is too high!"
       ]
      },
      {
       "output_type": "stream",
       "stream": "stdout",
       "text": [
        "\n",
        "Initial guess of 1.40244007111 for firm size is too low!\n",
        "Initial guess of 1.40244245529 for firm size is too low!"
       ]
      },
      {
       "output_type": "stream",
       "stream": "stdout",
       "text": [
        "\n",
        "Success! Found equilibrium where all workers and firms are matched\n"
       ]
      }
     ],
     "prompt_number": 76
    },
    {
     "cell_type": "code",
     "collapsed": false,
     "input": [
      "# examine the solution attribute\n",
      "solver.solution"
     ],
     "language": "python",
     "metadata": {},
     "outputs": [
      {
       "metadata": {},
       "output_type": "pyout",
       "prompt_number": 13,
       "text": [
        "array([[ 2.        ,  2.        ,  1.00000019,  0.9999999 ,  1.0000001 ],\n",
        "       [ 1.98989899,  1.98989899,  1.00000019,  0.9949494 ,  0.99494959],\n",
        "       [ 1.97979798,  1.97979798,  1.00000019,  0.9898989 ,  0.98989909],\n",
        "       [ 1.96969697,  1.96969698,  1.00000019,  0.98484839,  0.98484858],\n",
        "       [ 1.95959596,  1.95959597,  1.00000019,  0.97979789,  0.97979808],\n",
        "       [ 1.94949495,  1.94949496,  1.0000002 ,  0.97474738,  0.97474757],\n",
        "       [ 1.93939394,  1.93939395,  1.0000002 ,  0.96969688,  0.96969707],\n",
        "       [ 1.92929293,  1.92929294,  1.0000002 ,  0.96464637,  0.96464656],\n",
        "       [ 1.91919192,  1.91919193,  1.0000002 ,  0.95959587,  0.95959606],\n",
        "       [ 1.90909091,  1.90909093,  1.0000002 ,  0.95454536,  0.95454555],\n",
        "       [ 1.8989899 ,  1.89898992,  1.0000002 ,  0.94949486,  0.94949505],\n",
        "       [ 1.88888889,  1.88888891,  1.0000002 ,  0.94444435,  0.94444455],\n",
        "       [ 1.87878788,  1.8787879 ,  1.0000002 ,  0.93939385,  0.93939404],\n",
        "       [ 1.86868687,  1.86868689,  1.0000002 ,  0.93434335,  0.93434354],\n",
        "       [ 1.85858586,  1.85858589,  1.00000021,  0.92929284,  0.92929303],\n",
        "       [ 1.84848485,  1.84848488,  1.00000021,  0.92424234,  0.92424253],\n",
        "       [ 1.83838384,  1.83838387,  1.00000021,  0.91919183,  0.91919202],\n",
        "       [ 1.82828283,  1.82828286,  1.00000021,  0.91414133,  0.91414152],\n",
        "       [ 1.81818182,  1.81818185,  1.00000021,  0.90909082,  0.90909101],\n",
        "       [ 1.80808081,  1.80808085,  1.00000021,  0.90404032,  0.90404051],\n",
        "       [ 1.7979798 ,  1.79797984,  1.00000021,  0.89898981,  0.89899001],\n",
        "       [ 1.78787879,  1.78787883,  1.00000022,  0.89393931,  0.8939395 ],\n",
        "       [ 1.77777778,  1.77777782,  1.00000022,  0.8888888 ,  0.888889  ],\n",
        "       [ 1.76767677,  1.76767681,  1.00000022,  0.8838383 ,  0.88383849],\n",
        "       [ 1.75757576,  1.75757581,  1.00000022,  0.87878779,  0.87878799],\n",
        "       [ 1.74747475,  1.7474748 ,  1.00000022,  0.87373729,  0.87373748],\n",
        "       [ 1.73737374,  1.73737379,  1.00000022,  0.86868679,  0.86868698],\n",
        "       [ 1.72727273,  1.72727278,  1.00000022,  0.86363628,  0.86363647],\n",
        "       [ 1.71717172,  1.71717178,  1.00000023,  0.85858578,  0.85858597],\n",
        "       [ 1.70707071,  1.70707077,  1.00000023,  0.85353527,  0.85353547],\n",
        "       [ 1.6969697 ,  1.69696976,  1.00000023,  0.84848477,  0.84848496],\n",
        "       [ 1.68686869,  1.68686875,  1.00000023,  0.84343426,  0.84343446],\n",
        "       [ 1.67676768,  1.67676774,  1.00000023,  0.83838376,  0.83838395],\n",
        "       [ 1.66666667,  1.66666674,  1.00000023,  0.83333325,  0.83333345],\n",
        "       [ 1.65656566,  1.65656573,  1.00000024,  0.82828275,  0.82828294],\n",
        "       [ 1.64646465,  1.64646472,  1.00000024,  0.82323224,  0.82323244],\n",
        "       [ 1.63636364,  1.63636371,  1.00000024,  0.81818174,  0.81818194],\n",
        "       [ 1.62626263,  1.62626271,  1.00000024,  0.81313123,  0.81313143],\n",
        "       [ 1.61616162,  1.6161617 ,  1.00000024,  0.80808073,  0.80808093],\n",
        "       [ 1.60606061,  1.60606069,  1.00000025,  0.80303023,  0.80303042],\n",
        "       [ 1.5959596 ,  1.59595968,  1.00000025,  0.79797972,  0.79797992],\n",
        "       [ 1.58585859,  1.58585868,  1.00000025,  0.79292922,  0.79292941],\n",
        "       [ 1.57575758,  1.57575767,  1.00000025,  0.78787871,  0.78787891],\n",
        "       [ 1.56565657,  1.56565666,  1.00000025,  0.78282821,  0.78282841],\n",
        "       [ 1.55555556,  1.55555565,  1.00000026,  0.7777777 ,  0.7777779 ],\n",
        "       [ 1.54545455,  1.54545465,  1.00000026,  0.7727272 ,  0.7727274 ],\n",
        "       [ 1.53535354,  1.53535364,  1.00000026,  0.76767669,  0.76767689],\n",
        "       [ 1.52525253,  1.52525263,  1.00000026,  0.76262619,  0.76262639],\n",
        "       [ 1.51515152,  1.51515162,  1.00000026,  0.75757568,  0.75757588],\n",
        "       [ 1.50505051,  1.50505062,  1.00000027,  0.75252518,  0.75252538],\n",
        "       [ 1.49494949,  1.49494961,  1.00000027,  0.74747467,  0.74747488],\n",
        "       [ 1.48484848,  1.4848486 ,  1.00000027,  0.74242417,  0.74242437],\n",
        "       [ 1.47474747,  1.47474759,  1.00000027,  0.73737367,  0.73737387],\n",
        "       [ 1.46464646,  1.46464659,  1.00000028,  0.73232316,  0.73232336],\n",
        "       [ 1.45454545,  1.45454558,  1.00000028,  0.72727266,  0.72727286],\n",
        "       [ 1.44444444,  1.44444457,  1.00000028,  0.72222215,  0.72222236],\n",
        "       [ 1.43434343,  1.43434356,  1.00000029,  0.71717165,  0.71717185],\n",
        "       [ 1.42424242,  1.42424256,  1.00000029,  0.71212114,  0.71212135],\n",
        "       [ 1.41414141,  1.41414155,  1.00000029,  0.70707064,  0.70707084],\n",
        "       [ 1.4040404 ,  1.40404054,  1.00000029,  0.70202013,  0.70202034],\n",
        "       [ 1.39393939,  1.39393954,  1.0000003 ,  0.69696963,  0.69696984],\n",
        "       [ 1.38383838,  1.38383853,  1.0000003 ,  0.69191912,  0.69191933],\n",
        "       [ 1.37373737,  1.37373752,  1.0000003 ,  0.68686862,  0.68686883],\n",
        "       [ 1.36363636,  1.36363651,  1.00000031,  0.68181811,  0.68181832],\n",
        "       [ 1.35353535,  1.35353551,  1.00000031,  0.67676761,  0.67676782],\n",
        "       [ 1.34343434,  1.3434345 ,  1.00000031,  0.67171711,  0.67171732],\n",
        "       [ 1.33333333,  1.33333349,  1.00000032,  0.6666666 ,  0.66666681],\n",
        "       [ 1.32323232,  1.32323249,  1.00000032,  0.6616161 ,  0.66161631],\n",
        "       [ 1.31313131,  1.31313148,  1.00000033,  0.65656559,  0.65656581],\n",
        "       [ 1.3030303 ,  1.30303047,  1.00000033,  0.65151509,  0.6515153 ],\n",
        "       [ 1.29292929,  1.29292947,  1.00000033,  0.64646458,  0.6464648 ],\n",
        "       [ 1.28282828,  1.28282846,  1.00000034,  0.64141408,  0.64141429],\n",
        "       [ 1.27272727,  1.27272745,  1.00000034,  0.63636357,  0.63636379],\n",
        "       [ 1.26262626,  1.26262645,  1.00000035,  0.63131307,  0.63131329],\n",
        "       [ 1.25252525,  1.25252544,  1.00000035,  0.62626256,  0.62626278],\n",
        "       [ 1.24242424,  1.24242443,  1.00000035,  0.62121206,  0.62121228],\n",
        "       [ 1.23232323,  1.23232343,  1.00000036,  0.61616155,  0.61616178],\n",
        "       [ 1.22222222,  1.22222242,  1.00000036,  0.61111105,  0.61111127],\n",
        "       [ 1.21212121,  1.21212141,  1.00000037,  0.60606054,  0.60606077],\n",
        "       [ 1.2020202 ,  1.20202041,  1.00000037,  0.60101004,  0.60101026],\n",
        "       [ 1.19191919,  1.1919194 ,  1.00000038,  0.59595954,  0.59595976],\n",
        "       [ 1.18181818,  1.1818184 ,  1.00000038,  0.59090903,  0.59090926],\n",
        "       [ 1.17171717,  1.17171739,  1.00000039,  0.58585853,  0.58585875],\n",
        "       [ 1.16161616,  1.16161638,  1.0000004 ,  0.58080802,  0.58080825],\n",
        "       [ 1.15151515,  1.15151538,  1.0000004 ,  0.57575752,  0.57575775],\n",
        "       [ 1.14141414,  1.14141437,  1.00000041,  0.57070701,  0.57070724],\n",
        "       [ 1.13131313,  1.13131336,  1.00000041,  0.56565651,  0.56565674],\n",
        "       [ 1.12121212,  1.12121236,  1.00000042,  0.560606  ,  0.56060624],\n",
        "       [ 1.11111111,  1.11111135,  1.00000043,  0.5555555 ,  0.55555573],\n",
        "       [ 1.1010101 ,  1.10101035,  1.00000043,  0.55050499,  0.55050523],\n",
        "       [ 1.09090909,  1.09090934,  1.00000044,  0.54545449,  0.54545473],\n",
        "       [ 1.08080808,  1.08080834,  1.00000045,  0.54040398,  0.54040422],\n",
        "       [ 1.07070707,  1.07070733,  1.00000045,  0.53535348,  0.53535372],\n",
        "       [ 1.06060606,  1.06060632,  1.00000046,  0.53030297,  0.53030322],\n",
        "       [ 1.05050505,  1.05050532,  1.00000047,  0.52525247,  0.52525272],\n",
        "       [ 1.04040404,  1.04040431,  1.00000048,  0.52020196,  0.52020221],\n",
        "       [ 1.03030303,  1.03030331,  1.00000048,  0.51515146,  0.51515171],\n",
        "       [ 1.02020202,  1.0202023 ,  1.00000049,  0.51010096,  0.51010121],\n",
        "       [ 1.01010101,  1.0101013 ,  1.0000005 ,  0.50505045,  0.5050507 ],\n",
        "       [ 1.        ,  1.00000029,  1.00000051,  0.49999995,  0.5000002 ]])"
       ]
      }
     ],
     "prompt_number": 13
    },
    {
     "cell_type": "code",
     "collapsed": false,
     "input": [
      "solver.model.params"
     ],
     "language": "python",
     "metadata": {},
     "outputs": [
      {
       "metadata": {},
       "output_type": "pyout",
       "prompt_number": 329,
       "text": [
        "{'a': 1.0,\n",
        " 'b': 2.0,\n",
        " 'omega_A': 0.5,\n",
        " 'omega_B': 0.5,\n",
        " 'sigma_A': 0.75,\n",
        " 'sigma_B': 1.0}"
       ]
      }
     ],
     "prompt_number": 329
    },
    {
     "cell_type": "markdown",
     "metadata": {},
     "source": [
      "# Example:"
     ]
    },
    {
     "cell_type": "code",
     "collapsed": false,
     "input": [
      "# define some workers skill\n",
      "x, mu1, sigma1 = sym.var('x, mu1, sigma1')\n",
      "skill_cdf = 0.5 + 0.5 * sym.erf((sym.log(x) - mu1) / sym.sqrt(2 * sigma1**2))\n",
      "skill_params = {'mu1': 0.0, 'sigma1': 1.0}\n",
      "skill_bounds = [1e-3, 5e1]\n",
      "\n",
      "workers = inputs.Input(var=x,\n",
      "                       cdf=skill_cdf,\n",
      "                       params=skill_params,\n",
      "                       bounds=skill_bounds,\n",
      "                       )\n",
      "\n",
      "# define some firms\n",
      "y, mu2, sigma2 = sym.var('y, mu2, sigma2')\n",
      "productivity_cdf = 0.5 + 0.5 * sym.erf((sym.log(y) - mu2) / sym.sqrt(2 * sigma2**2))\n",
      "productivity_params = {'mu2': 0.0, 'sigma2': 1.0}\n",
      "productivity_bounds = [1e-3, 5e1]\n",
      "\n",
      "firms = inputs.Input(var=y,\n",
      "                     cdf=productivity_cdf,\n",
      "                     params=productivity_params,\n",
      "                     bounds=productivity_bounds,\n",
      "                     )\n",
      "\n",
      "# define a valid production function\n",
      "A, kappa, nu, rho, l, gamma, r = sym.var('A, kappa, nu, rho, l, gamma, r')\n",
      "F = r * A * kappa * (nu * x**rho + (1 - nu) * (y * (l / r))**rho)**(gamma / rho)\n",
      "F_params = {'nu': 0.5, 'kappa': 1.0, 'gamma': 0.54, 'rho': 0.24, 'A': 1.0}\n",
      "\n",
      "model = models.Model('positive', workers, firms, production=F,\n",
      "                      params=F_params)\n",
      "\n",
      "solver = solvers.ShootingSolver(model=model)"
     ],
     "language": "python",
     "metadata": {},
     "outputs": [],
     "prompt_number": 358
    },
    {
     "cell_type": "code",
     "collapsed": false,
     "input": [
      "solver.solve(1e2, tol=1e-3, number_knots=100, atol=1e-15, rtol=1e-12)"
     ],
     "language": "python",
     "metadata": {},
     "outputs": [
      {
       "output_type": "stream",
       "stream": "stdout",
       "text": [
        "Initial guess of 50.0 for firm size is too high!\n",
        "Initial guess of 25.0 for firm size is too high!"
       ]
      },
      {
       "output_type": "stream",
       "stream": "stdout",
       "text": [
        "\n",
        "Initial guess of 12.5 for firm size is too high!"
       ]
      },
      {
       "output_type": "stream",
       "stream": "stdout",
       "text": [
        "\n",
        "Initial guess of 6.25 for firm size is too high!"
       ]
      },
      {
       "output_type": "stream",
       "stream": "stdout",
       "text": [
        "\n",
        "Initial guess of 3.125 for firm size is too high!"
       ]
      },
      {
       "output_type": "stream",
       "stream": "stdout",
       "text": [
        "\n",
        "Initial guess of 1.5625 for firm size is too high!"
       ]
      },
      {
       "output_type": "stream",
       "stream": "stdout",
       "text": [
        "\n",
        "Initial guess of 0.78125 for firm size is too high!"
       ]
      },
      {
       "output_type": "stream",
       "stream": "stdout",
       "text": [
        "\n",
        "Initial guess of 0.390625 for firm size is too high!"
       ]
      },
      {
       "output_type": "stream",
       "stream": "stdout",
       "text": [
        "\n",
        "Initial guess of 0.1953125 for firm size is too high!"
       ]
      },
      {
       "output_type": "stream",
       "stream": "stdout",
       "text": [
        "\n",
        "Initial guess of 0.09765625 for firm size is too high!"
       ]
      },
      {
       "output_type": "stream",
       "stream": "stdout",
       "text": [
        "\n",
        "Initial guess of 0.048828125 for firm size is too high!"
       ]
      },
      {
       "output_type": "stream",
       "stream": "stdout",
       "text": [
        "\n",
        "Initial guess of 0.0244140625 for firm size is too high!"
       ]
      },
      {
       "output_type": "stream",
       "stream": "stdout",
       "text": [
        "\n",
        "Initial guess of 0.01220703125 for firm size is too high!"
       ]
      },
      {
       "output_type": "stream",
       "stream": "stdout",
       "text": [
        "\n",
        "Initial guess of 0.006103515625 for firm size is too high!"
       ]
      },
      {
       "output_type": "stream",
       "stream": "stdout",
       "text": [
        "\n",
        "Initial guess of 0.0030517578125 for firm size is too high!"
       ]
      },
      {
       "output_type": "stream",
       "stream": "stdout",
       "text": [
        "\n",
        "Initial guess of 0.00152587890625 for firm size is too high!"
       ]
      },
      {
       "output_type": "stream",
       "stream": "stdout",
       "text": [
        "\n",
        "Initial guess of 0.000762939453125 for firm size is too high!"
       ]
      },
      {
       "output_type": "stream",
       "stream": "stdout",
       "text": [
        "\n",
        "Initial guess of 0.000381469726562 for firm size is too high!"
       ]
      },
      {
       "output_type": "stream",
       "stream": "stdout",
       "text": [
        "\n",
        "Initial guess of 0.000190734863281 for firm size is too low!"
       ]
      },
      {
       "output_type": "stream",
       "stream": "stdout",
       "text": [
        "\n",
        "Initial guess of 0.000286102294922 for firm size is too high!"
       ]
      },
      {
       "output_type": "stream",
       "stream": "stdout",
       "text": [
        "\n",
        "Initial guess of 0.000238418579102 for firm size is too high!"
       ]
      },
      {
       "output_type": "stream",
       "stream": "stdout",
       "text": [
        "\n",
        "Initial guess of 0.000214576721191 for firm size is too low!"
       ]
      },
      {
       "output_type": "stream",
       "stream": "stdout",
       "text": [
        "\n",
        "Initial guess of 0.000226497650146 for firm size is too low!"
       ]
      },
      {
       "output_type": "stream",
       "stream": "stdout",
       "text": [
        "\n",
        "Initial guess of 0.000232458114624 for firm size is too low!"
       ]
      },
      {
       "output_type": "stream",
       "stream": "stdout",
       "text": [
        "\n",
        "Initial guess of 0.000235438346863 for firm size is too high!"
       ]
      },
      {
       "output_type": "stream",
       "stream": "stdout",
       "text": [
        "\n",
        "Initial guess of 0.000233948230743 for firm size is too low!"
       ]
      },
      {
       "output_type": "stream",
       "stream": "stdout",
       "text": [
        "\n",
        "Initial guess of 0.000234693288803 for firm size is too low!"
       ]
      },
      {
       "output_type": "stream",
       "stream": "stdout",
       "text": [
        "\n",
        "Initial guess of 0.000235065817833 for firm size is too high!"
       ]
      },
      {
       "output_type": "stream",
       "stream": "stdout",
       "text": [
        "\n",
        "Initial guess of 0.000234879553318 for firm size is too high!"
       ]
      },
      {
       "output_type": "stream",
       "stream": "stdout",
       "text": [
        "\n",
        "Initial guess of 0.000234786421061 for firm size is too high!"
       ]
      },
      {
       "output_type": "stream",
       "stream": "stdout",
       "text": [
        "\n",
        "Initial guess of 0.000234739854932 for firm size is too low!"
       ]
      },
      {
       "output_type": "stream",
       "stream": "stdout",
       "text": [
        "\n",
        "Initial guess of 0.000234763137996 for firm size is too low!"
       ]
      },
      {
       "output_type": "stream",
       "stream": "stdout",
       "text": [
        "\n",
        "Initial guess of 0.000234774779528 for firm size is too high!"
       ]
      },
      {
       "output_type": "stream",
       "stream": "stdout",
       "text": [
        "\n",
        "Initial guess of 0.000234768958762 for firm size is too high!"
       ]
      },
      {
       "output_type": "stream",
       "stream": "stdout",
       "text": [
        "\n",
        "Initial guess of 0.000234766048379 for firm size is too low!"
       ]
      },
      {
       "output_type": "stream",
       "stream": "stdout",
       "text": [
        "\n",
        "Initial guess of 0.000234767503571 for firm size is too high!"
       ]
      },
      {
       "output_type": "stream",
       "stream": "stdout",
       "text": [
        "\n",
        "Initial guess of 0.000234766775975 for firm size is too high!"
       ]
      },
      {
       "output_type": "stream",
       "stream": "stdout",
       "text": [
        "\n",
        "Initial guess of 0.000234766412177 for firm size is too low!"
       ]
      },
      {
       "output_type": "stream",
       "stream": "stdout",
       "text": [
        "\n",
        "Initial guess of 0.000234766594076 for firm size is too low!"
       ]
      },
      {
       "output_type": "stream",
       "stream": "stdout",
       "text": [
        "\n",
        "Initial guess of 0.000234766685026 for firm size is too low!"
       ]
      },
      {
       "output_type": "stream",
       "stream": "stdout",
       "text": [
        "\n",
        "Initial guess of 0.0002347667305 for firm size is too low!"
       ]
      },
      {
       "output_type": "stream",
       "stream": "stdout",
       "text": [
        "\n",
        "Initial guess of 0.000234766753238 for firm size is too high!"
       ]
      },
      {
       "output_type": "stream",
       "stream": "stdout",
       "text": [
        "\n",
        "Initial guess of 0.000234766741869 for firm size is too high!"
       ]
      },
      {
       "output_type": "stream",
       "stream": "stdout",
       "text": [
        "\n",
        "Initial guess of 0.000234766736185 for firm size is too low!"
       ]
      },
      {
       "output_type": "stream",
       "stream": "stdout",
       "text": [
        "\n",
        "Initial guess of 0.000234766739027 for firm size is too low!"
       ]
      },
      {
       "output_type": "stream",
       "stream": "stdout",
       "text": [
        "\n",
        "Initial guess of 0.000234766740448 for firm size is too high!"
       ]
      },
      {
       "output_type": "stream",
       "stream": "stdout",
       "text": [
        "\n",
        "Initial guess of 0.000234766739737 for firm size is too high!"
       ]
      },
      {
       "output_type": "stream",
       "stream": "stdout",
       "text": [
        "\n",
        "Initial guess of 0.000234766739382 for firm size is too low!"
       ]
      },
      {
       "output_type": "stream",
       "stream": "stdout",
       "text": [
        "\n",
        "Initial guess of 0.00023476673956 for firm size is too low!"
       ]
      },
      {
       "output_type": "stream",
       "stream": "stdout",
       "text": [
        "\n",
        "Initial guess of 0.000234766739649 for firm size is too high!"
       ]
      },
      {
       "output_type": "stream",
       "stream": "stdout",
       "text": [
        "\n",
        "Initial guess of 0.000234766739604 for firm size is too low!"
       ]
      },
      {
       "output_type": "stream",
       "stream": "stdout",
       "text": [
        "\n",
        "Initial guess of 0.000234766739626 for firm size is too low!"
       ]
      },
      {
       "output_type": "stream",
       "stream": "stdout",
       "text": [
        "\n",
        "Initial guess of 0.000234766739637 for firm size is too high!"
       ]
      },
      {
       "output_type": "stream",
       "stream": "stdout",
       "text": [
        "\n",
        "Initial guess of 0.000234766739632 for firm size is too high!"
       ]
      },
      {
       "output_type": "stream",
       "stream": "stdout",
       "text": [
        "\n",
        "Initial guess of 0.000234766739629 for firm size is too low!"
       ]
      },
      {
       "output_type": "stream",
       "stream": "stdout",
       "text": [
        "\n",
        "Initial guess of 0.00023476673963 for firm size is too low!"
       ]
      },
      {
       "output_type": "stream",
       "stream": "stdout",
       "text": [
        "\n",
        "Initial guess of 0.000234766739631 for firm size is too low!"
       ]
      },
      {
       "output_type": "stream",
       "stream": "stdout",
       "text": [
        "\n",
        "Initial guess of 0.000234766739632 for firm size is too low!"
       ]
      },
      {
       "output_type": "stream",
       "stream": "stdout",
       "text": [
        "\n",
        "Initial guess of 0.000234766739632 for firm size is too low!"
       ]
      },
      {
       "output_type": "stream",
       "stream": "stdout",
       "text": [
        "\n",
        "Initial guess of 0.000234766739632 for firm size is too high!"
       ]
      },
      {
       "output_type": "stream",
       "stream": "stdout",
       "text": [
        "\n",
        "Initial guess of 0.000234766739632 for firm size is too high!"
       ]
      },
      {
       "output_type": "stream",
       "stream": "stdout",
       "text": [
        "\n",
        "Initial guess of 0.000234766739632 for firm size is too high!"
       ]
      },
      {
       "output_type": "stream",
       "stream": "stdout",
       "text": [
        "\n",
        "Initial guess of 0.000234766739632 for firm size is too high!"
       ]
      },
      {
       "output_type": "stream",
       "stream": "stdout",
       "text": [
        "\n"
       ]
      },
      {
       "ename": "KeyboardInterrupt",
       "evalue": "",
       "output_type": "pyerr",
       "traceback": [
        "\u001b[0;31m---------------------------------------------------------------------------\u001b[0m\n\u001b[0;31mKeyboardInterrupt\u001b[0m                         Traceback (most recent call last)",
        "\u001b[0;32m<ipython-input-359-6808013b67e4>\u001b[0m in \u001b[0;36m<module>\u001b[0;34m()\u001b[0m\n\u001b[0;32m----> 1\u001b[0;31m \u001b[0msolver\u001b[0m\u001b[0;34m.\u001b[0m\u001b[0msolve\u001b[0m\u001b[0;34m(\u001b[0m\u001b[0;36m1e2\u001b[0m\u001b[0;34m,\u001b[0m \u001b[0mtol\u001b[0m\u001b[0;34m=\u001b[0m\u001b[0;36m1e-3\u001b[0m\u001b[0;34m,\u001b[0m \u001b[0mnumber_knots\u001b[0m\u001b[0;34m=\u001b[0m\u001b[0;36m100\u001b[0m\u001b[0;34m,\u001b[0m \u001b[0matol\u001b[0m\u001b[0;34m=\u001b[0m\u001b[0;36m1e-15\u001b[0m\u001b[0;34m,\u001b[0m \u001b[0mrtol\u001b[0m\u001b[0;34m=\u001b[0m\u001b[0;36m1e-12\u001b[0m\u001b[0;34m)\u001b[0m\u001b[0;34m\u001b[0m\u001b[0m\n\u001b[0m",
        "\u001b[0;32m/Users/drpugh/Research/assortative-matching-large-firms/solvers.py\u001b[0m in \u001b[0;36msolve\u001b[0;34m(self, guess_firm_size_upper, tol, number_knots, integrator, **kwargs)\u001b[0m\n\u001b[1;32m    534\u001b[0m             self._solve_positive_assortative_matching(guess_firm_size_upper,\n\u001b[1;32m    535\u001b[0m                                                       \u001b[0mtol\u001b[0m\u001b[0;34m,\u001b[0m \u001b[0mnumber_knots\u001b[0m\u001b[0;34m,\u001b[0m\u001b[0;34m\u001b[0m\u001b[0m\n\u001b[0;32m--> 536\u001b[0;31m                                                       integrator, **kwargs)\n\u001b[0m\u001b[1;32m    537\u001b[0m         \u001b[0;32melse\u001b[0m\u001b[0;34m:\u001b[0m\u001b[0;34m\u001b[0m\u001b[0m\n\u001b[1;32m    538\u001b[0m             self._solve_negative_assortative_matching(guess_firm_size_upper,\n",
        "\u001b[0;32m/Users/drpugh/Research/assortative-matching-large-firms/solvers.py\u001b[0m in \u001b[0;36m_solve_positive_assortative_matching\u001b[0;34m(self, guess_firm_size_upper, tol, number_knots, integrator, **kwargs)\u001b[0m\n\u001b[1;32m    349\u001b[0m \u001b[0;34m\u001b[0m\u001b[0m\n\u001b[1;32m    350\u001b[0m             \u001b[0;31m# walk the system forward one step\u001b[0m\u001b[0;34m\u001b[0m\u001b[0;34m\u001b[0m\u001b[0m\n\u001b[0;32m--> 351\u001b[0;31m             \u001b[0mself\u001b[0m\u001b[0;34m.\u001b[0m\u001b[0mintegrator\u001b[0m\u001b[0;34m.\u001b[0m\u001b[0mintegrate\u001b[0m\u001b[0;34m(\u001b[0m\u001b[0mself\u001b[0m\u001b[0;34m.\u001b[0m\u001b[0mintegrator\u001b[0m\u001b[0;34m.\u001b[0m\u001b[0mt\u001b[0m \u001b[0;34m-\u001b[0m \u001b[0mstep_size\u001b[0m\u001b[0;34m)\u001b[0m\u001b[0;34m\u001b[0m\u001b[0m\n\u001b[0m\u001b[1;32m    352\u001b[0m \u001b[0;34m\u001b[0m\u001b[0m\n\u001b[1;32m    353\u001b[0m             \u001b[0;31m# unpack the components of the new step\u001b[0m\u001b[0;34m\u001b[0m\u001b[0;34m\u001b[0m\u001b[0m\n",
        "\u001b[0;32m/Users/drpugh/anaconda/lib/python2.7/site-packages/scipy/integrate/_ode.pyc\u001b[0m in \u001b[0;36mintegrate\u001b[0;34m(self, t, step, relax)\u001b[0m\n\u001b[1;32m    386\u001b[0m             self._y, self.t = mth(self.f, self.jac or (lambda: None),\n\u001b[1;32m    387\u001b[0m                                 \u001b[0mself\u001b[0m\u001b[0;34m.\u001b[0m\u001b[0m_y\u001b[0m\u001b[0;34m,\u001b[0m \u001b[0mself\u001b[0m\u001b[0;34m.\u001b[0m\u001b[0mt\u001b[0m\u001b[0;34m,\u001b[0m \u001b[0mt\u001b[0m\u001b[0;34m,\u001b[0m\u001b[0;34m\u001b[0m\u001b[0m\n\u001b[0;32m--> 388\u001b[0;31m                                 self.f_params, self.jac_params)\n\u001b[0m\u001b[1;32m    389\u001b[0m         \u001b[0;32mexcept\u001b[0m \u001b[0mSystemError\u001b[0m\u001b[0;34m:\u001b[0m\u001b[0;34m\u001b[0m\u001b[0m\n\u001b[1;32m    390\u001b[0m             \u001b[0;31m# f2py issue with tuple returns, see ticket 1187.\u001b[0m\u001b[0;34m\u001b[0m\u001b[0;34m\u001b[0m\u001b[0m\n",
        "\u001b[0;32m/Users/drpugh/anaconda/lib/python2.7/site-packages/scipy/integrate/_ode.pyc\u001b[0m in \u001b[0;36mrun\u001b[0;34m(self, f, jac, y0, t0, t1, f_params, jac_params)\u001b[0m\n\u001b[1;32m    944\u001b[0m     \u001b[0;32mdef\u001b[0m \u001b[0mrun\u001b[0m\u001b[0;34m(\u001b[0m\u001b[0mself\u001b[0m\u001b[0;34m,\u001b[0m \u001b[0mf\u001b[0m\u001b[0;34m,\u001b[0m \u001b[0mjac\u001b[0m\u001b[0;34m,\u001b[0m \u001b[0my0\u001b[0m\u001b[0;34m,\u001b[0m \u001b[0mt0\u001b[0m\u001b[0;34m,\u001b[0m \u001b[0mt1\u001b[0m\u001b[0;34m,\u001b[0m \u001b[0mf_params\u001b[0m\u001b[0;34m,\u001b[0m \u001b[0mjac_params\u001b[0m\u001b[0;34m)\u001b[0m\u001b[0;34m:\u001b[0m\u001b[0;34m\u001b[0m\u001b[0m\n\u001b[1;32m    945\u001b[0m         x, y, iwork, idid = self.runner(*((f, t0, y0, t1) +\n\u001b[0;32m--> 946\u001b[0;31m                                           tuple(self.call_args) + (f_params,)))\n\u001b[0m\u001b[1;32m    947\u001b[0m         \u001b[0;32mif\u001b[0m \u001b[0midid\u001b[0m \u001b[0;34m<\u001b[0m \u001b[0;36m0\u001b[0m\u001b[0;34m:\u001b[0m\u001b[0;34m\u001b[0m\u001b[0m\n\u001b[1;32m    948\u001b[0m             warnings.warn(self.name + ': ' +\n",
        "\u001b[0;32m/Users/drpugh/Research/assortative-matching-large-firms/solvers.py\u001b[0m in \u001b[0;36mevaluate_rhs\u001b[0;34m(self, x, V)\u001b[0m\n\u001b[1;32m    503\u001b[0m \u001b[0;34m\u001b[0m\u001b[0m\n\u001b[1;32m    504\u001b[0m         \"\"\"\n\u001b[0;32m--> 505\u001b[0;31m         \u001b[0mrhs\u001b[0m \u001b[0;34m=\u001b[0m \u001b[0mself\u001b[0m\u001b[0;34m.\u001b[0m\u001b[0m_numeric_system\u001b[0m\u001b[0;34m(\u001b[0m\u001b[0mx\u001b[0m\u001b[0;34m,\u001b[0m \u001b[0mV\u001b[0m\u001b[0;34m,\u001b[0m \u001b[0;34m**\u001b[0m\u001b[0mself\u001b[0m\u001b[0;34m.\u001b[0m\u001b[0mmodel\u001b[0m\u001b[0;34m.\u001b[0m\u001b[0mparams\u001b[0m\u001b[0;34m)\u001b[0m\u001b[0;34m.\u001b[0m\u001b[0mravel\u001b[0m\u001b[0;34m(\u001b[0m\u001b[0;34m)\u001b[0m\u001b[0;34m\u001b[0m\u001b[0m\n\u001b[0m\u001b[1;32m    506\u001b[0m         \u001b[0;32mreturn\u001b[0m \u001b[0mrhs\u001b[0m\u001b[0;34m\u001b[0m\u001b[0m\n\u001b[1;32m    507\u001b[0m \u001b[0;34m\u001b[0m\u001b[0m\n",
        "\u001b[0;32m/Users/drpugh/anaconda/lib/python2.7/site-packages/numpy/__init__.pyc\u001b[0m in \u001b[0;36m<lambda>\u001b[0;34m(x, V, A, kappa, mu2, rho, mu1, sigma1, nu, gamma, sigma2)\u001b[0m\n",
        "\u001b[0;31mKeyboardInterrupt\u001b[0m: "
       ]
      }
     ],
     "prompt_number": 359
    },
    {
     "cell_type": "code",
     "collapsed": false,
     "input": [
      "solver.integrator.successful()"
     ],
     "language": "python",
     "metadata": {},
     "outputs": [
      {
       "metadata": {},
       "output_type": "pyout",
       "prompt_number": 360,
       "text": [
        "True"
       ]
      }
     ],
     "prompt_number": 360
    },
    {
     "cell_type": "code",
     "collapsed": false,
     "input": [
      "solver.evaluate_rhs(0.5, np.array([1.5, 1.5]))"
     ],
     "language": "python",
     "metadata": {},
     "outputs": [
      {
       "metadata": {},
       "output_type": "pyout",
       "prompt_number": 362,
       "text": [
        "array([ 1.70765597, -1.73110419])"
       ]
      }
     ],
     "prompt_number": 362
    },
    {
     "cell_type": "code",
     "collapsed": false,
     "input": [],
     "language": "python",
     "metadata": {},
     "outputs": []
    }
   ],
   "metadata": {}
  }
 ]
}