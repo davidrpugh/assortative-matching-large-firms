{
 "metadata": {
  "name": "",
  "signature": "sha256:f579b9940a81ceccca21789593970008ee23b053d693b57e8b162fa949ec9f73"
 },
 "nbformat": 3,
 "nbformat_minor": 0,
 "worksheets": [
  {
   "cells": [
    {
     "cell_type": "code",
     "collapsed": false,
     "input": [
      "%load_ext autoreload"
     ],
     "language": "python",
     "metadata": {},
     "outputs": [],
     "prompt_number": 1
    },
    {
     "cell_type": "code",
     "collapsed": false,
     "input": [
      "autoreload 2"
     ],
     "language": "python",
     "metadata": {},
     "outputs": [],
     "prompt_number": 2
    },
    {
     "cell_type": "code",
     "collapsed": false,
     "input": [
      "import matplotlib.pyplot as plt\n",
      "import numpy as np\n",
      "import sympy as sym\n",
      "from scipy import stats\n",
      "\n",
      "import inputs\n",
      "import models\n",
      "import solvers\n",
      "import pandas\n",
      "\n",
      "from __future__ import division"
     ],
     "language": "python",
     "metadata": {},
     "outputs": [],
     "prompt_number": 3
    },
    {
     "cell_type": "code",
     "collapsed": false,
     "input": [
      "# define some workers skill\n",
      "x, a, b = sym.var('x, mu, sigma')\n",
      "skill_cdf = 0.5 + 0.5 * sym.erf((sym.log(x) - mu) / (sym.sqrt(2) * sigma))\n",
      "skill_params = {'mu': 1.0, 'sigma': 2.0}\n",
      "skill_bounds = [1e-3, 10.0]\n",
      "\n",
      "workers = inputs.Input(var=x,\n",
      "                       cdf=skill_cdf,\n",
      "                       params=skill_params,\n",
      "                       bounds=skill_bounds,\n",
      "                       )\n",
      "\n",
      "# define some firms lognorm.pdf(x, s) = 1 / (s*x*sqrt(2*pi)) * exp(-1/2*(log(x)/s)**2)\n",
      "y, mu2, sigma2 = sym.var('y, mu2, sigma2')\n",
      "productivity_cdf = 0.5 + 0.5 * sym.erf((sym.log(y) - mu2) / (sym.sqrt(2) * sigma2))\n",
      "productivity_params = {'mu2': 1.0, 'sigma2': 2.0}\n",
      "productivity_bounds = [1e-3, 10.0]\n",
      "\n",
      "firms = inputs.Input(var=y,\n",
      "                     cdf=productivity_cdf,\n",
      "                     params=productivity_params,\n",
      "                     bounds=productivity_bounds,\n",
      "                     )"
     ],
     "language": "python",
     "metadata": {},
     "outputs": [],
     "prompt_number": 4
    },
    {
     "cell_type": "code",
     "collapsed": false,
     "input": [
      "# Developped country\n",
      "\n",
      "R, l, r, rho, gamma, eta, L, A, kapa = sym.var('R, l, r, rho, gamma, eta, L, A, kapa')\n",
      "\n",
      "# First set k to root 3\n",
      "k_star = (2*6**(-0.5)*(A*eta**2*kapa*x**0.5/R)**0.5*sym.cos(0.333333333333333*sym.acos(3*6**0.5*x**(-0.5)*(l*x*y/r)**0.25*(R*x**(-0.5)/(A*eta**2*kapa))**0.5*(-eta + 1)/(2*eta))))**(4)\n",
      "\n",
      "F = A*kapa*(eta*(k_star*x)**rho + (1- eta)*(y*(l/r))**rho)**(gamma/rho)\n",
      "\n",
      "F_params = {'R':0.13099, 'rho':0.25, 'gamma':0.5, 'eta':0.89, 'L':4.2, 'A': 1.0, 'kapa':1.0}"
     ],
     "language": "python",
     "metadata": {},
     "outputs": [],
     "prompt_number": 5
    },
    {
     "cell_type": "code",
     "collapsed": false,
     "input": [
      "# Grid time!\n",
      "knots= np.logspace(np.log10(workers.lower), np.log10(workers.upper), 1000,\n",
      "                   endpoint=True, base=10)"
     ],
     "language": "python",
     "metadata": {},
     "outputs": [],
     "prompt_number": 6
    },
    {
     "cell_type": "code",
     "collapsed": false,
     "input": [
      "# Try out positive\n",
      "model = models.Model('positive',\n",
      "                     workers=workers,\n",
      "                     firms=firms,\n",
      "                     production=F,\n",
      "                     params=F_params)\n",
      "\n",
      "solver = solvers.ShootingSolver(model=model)"
     ],
     "language": "python",
     "metadata": {},
     "outputs": [],
     "prompt_number": 7
    },
    {
     "cell_type": "code",
     "collapsed": false,
     "input": [
      "solver.solve(0.002, tol=1e-3, knots=knots, integrator='lsoda',\n",
      "             with_jacobian=True, atol=1e-12, rtol=1e-9, message=True)"
     ],
     "language": "python",
     "metadata": {},
     "outputs": [
      {
       "output_type": "stream",
       "stream": "stdout",
       "text": [
        "Exhausted firms: initial guess of 0.001 for firm size is too low.\n",
        "Exhausted firms: initial guess of 0.0015 for firm size is too low."
       ]
      },
      {
       "output_type": "stream",
       "stream": "stdout",
       "text": [
        "\n",
        "Exhausted firms: initial guess of 0.00175 for firm size is too low."
       ]
      },
      {
       "output_type": "stream",
       "stream": "stdout",
       "text": [
        "\n"
       ]
      },
      {
       "ename": "AssertionError",
       "evalue": "Firm size should be non-negative!",
       "output_type": "pyerr",
       "traceback": [
        "\u001b[1;31m---------------------------------------------------------------------------\u001b[0m\n\u001b[1;31mAssertionError\u001b[0m                            Traceback (most recent call last)",
        "\u001b[1;32m<ipython-input-23-1cb5ff2a78d6>\u001b[0m in \u001b[0;36m<module>\u001b[1;34m()\u001b[0m\n\u001b[0;32m      1\u001b[0m solver.solve(0.002, tol=1e-3, knots=knots, integrator='lsoda',\n\u001b[1;32m----> 2\u001b[1;33m              with_jacobian=True, atol=1e-12, rtol=1e-9, message=True)\n\u001b[0m",
        "\u001b[1;32mC:\\Users\\Administrator\\Desktop\\Pruebas\\FunWithLogs2\\solvers.pyc\u001b[0m in \u001b[0;36msolve\u001b[1;34m(self, guess_firm_size_upper, number_knots, knots, tol, integrator, message, **kwargs)\u001b[0m\n\u001b[0;32m    811\u001b[0m             \u001b[0mstep_size\u001b[0m \u001b[1;33m=\u001b[0m \u001b[0mstep_sizes\u001b[0m\u001b[1;33m[\u001b[0m\u001b[0midx\u001b[0m\u001b[1;33m]\u001b[0m\u001b[1;33m\u001b[0m\u001b[0m\n\u001b[0;32m    812\u001b[0m             \u001b[1;32massert\u001b[0m \u001b[0mstep_size\u001b[0m \u001b[1;33m>\u001b[0m \u001b[1;36m0\u001b[0m\u001b[1;33m\u001b[0m\u001b[0m\n\u001b[1;32m--> 813\u001b[1;33m             \u001b[0mself\u001b[0m\u001b[1;33m.\u001b[0m\u001b[0m_update_solution\u001b[0m\u001b[1;33m(\u001b[0m\u001b[0mstep_size\u001b[0m\u001b[1;33m)\u001b[0m\u001b[1;33m\u001b[0m\u001b[0m\n\u001b[0m\u001b[0;32m    814\u001b[0m \u001b[1;33m\u001b[0m\u001b[0m\n\u001b[0;32m    815\u001b[0m             \u001b[1;32mif\u001b[0m \u001b[0mself\u001b[0m\u001b[1;33m.\u001b[0m\u001b[0m_converged_workers\u001b[0m\u001b[1;33m(\u001b[0m\u001b[0mtol\u001b[0m\u001b[1;33m)\u001b[0m \u001b[1;32mand\u001b[0m \u001b[0mself\u001b[0m\u001b[1;33m.\u001b[0m\u001b[0m_converged_firms\u001b[0m\u001b[1;33m(\u001b[0m\u001b[0mtol\u001b[0m\u001b[1;33m)\u001b[0m\u001b[1;33m:\u001b[0m\u001b[1;33m\u001b[0m\u001b[0m\n",
        "\u001b[1;32mC:\\Users\\Administrator\\Desktop\\Pruebas\\FunWithLogs2\\solvers.pyc\u001b[0m in \u001b[0;36m_update_solution\u001b[1;34m(self, step_size)\u001b[0m\n\u001b[0;32m    553\u001b[0m             \u001b[0mx\u001b[0m\u001b[1;33m,\u001b[0m \u001b[0mV\u001b[0m \u001b[1;33m=\u001b[0m \u001b[0mself\u001b[0m\u001b[1;33m.\u001b[0m\u001b[0mintegrator\u001b[0m\u001b[1;33m.\u001b[0m\u001b[0mt\u001b[0m\u001b[1;33m,\u001b[0m \u001b[0mself\u001b[0m\u001b[1;33m.\u001b[0m\u001b[0mintegrator\u001b[0m\u001b[1;33m.\u001b[0m\u001b[0my\u001b[0m\u001b[1;33m\u001b[0m\u001b[0m\n\u001b[0;32m    554\u001b[0m \u001b[1;33m\u001b[0m\u001b[0m\n\u001b[1;32m--> 555\u001b[1;33m         \u001b[1;32massert\u001b[0m \u001b[0mV\u001b[0m\u001b[1;33m[\u001b[0m\u001b[1;36m1\u001b[0m\u001b[1;33m]\u001b[0m \u001b[1;33m>\u001b[0m \u001b[1;36m0.0\u001b[0m\u001b[1;33m,\u001b[0m \u001b[1;34m\"Firm size should be non-negative!\"\u001b[0m\u001b[1;33m\u001b[0m\u001b[0m\n\u001b[0m\u001b[0;32m    556\u001b[0m \u001b[1;33m\u001b[0m\u001b[0m\n\u001b[0;32m    557\u001b[0m         \u001b[1;31m# update the putative equilibrium solution\u001b[0m\u001b[1;33m\u001b[0m\u001b[1;33m\u001b[0m\u001b[0m\n",
        "\u001b[1;31mAssertionError\u001b[0m: Firm size should be non-negative!"
       ]
      }
     ],
     "prompt_number": 23
    },
    {
     "cell_type": "code",
     "collapsed": false,
     "input": [
      "solver.solution"
     ],
     "language": "python",
     "metadata": {},
     "outputs": []
    },
    {
     "cell_type": "code",
     "collapsed": false,
     "input": [],
     "language": "python",
     "metadata": {},
     "outputs": []
    }
   ],
   "metadata": {}
  }
 ]
}