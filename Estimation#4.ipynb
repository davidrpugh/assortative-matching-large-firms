{
 "metadata": {
  "name": "",
  "signature": "sha256:f5f2e0740882d6a859c6c028029ff18fc477cc79d51305873b6e7dfeced7f9e0"
 },
 "nbformat": 3,
 "nbformat_minor": 0,
 "worksheets": [
  {
   "cells": [
    {
     "cell_type": "code",
     "collapsed": false,
     "input": [
      "%load_ext autoreload"
     ],
     "language": "python",
     "metadata": {},
     "outputs": [],
     "prompt_number": 1
    },
    {
     "cell_type": "code",
     "collapsed": false,
     "input": [
      "autoreload 2"
     ],
     "language": "python",
     "metadata": {},
     "outputs": [],
     "prompt_number": 2
    },
    {
     "cell_type": "code",
     "collapsed": false,
     "input": [
      "%matplotlib inline"
     ],
     "language": "python",
     "metadata": {},
     "outputs": [],
     "prompt_number": 3
    },
    {
     "cell_type": "code",
     "collapsed": false,
     "input": [
      "import matplotlib.pyplot as plt\n",
      "from scipy import stats\n",
      "import numpy as np\n",
      "import sympy as sym\n",
      "\n",
      "import inputs\n",
      "import models\n",
      "import shooting\n",
      "\n",
      "from __future__ import division"
     ],
     "language": "python",
     "metadata": {},
     "outputs": [],
     "prompt_number": 4
    },
    {
     "cell_type": "code",
     "collapsed": false,
     "input": [
      "# define some default workers skill\n",
      "x, mu1, sigma1 = sym.var('x, mu1, sigma1')\n",
      "skill_cdf = 0.5 + 0.5 * sym.erf((sym.log(x) - mu1) / sym.sqrt(2 * sigma1**2))\n",
      "skill_params = {'mu1': 0.0, 'sigma1': 1e0}\n",
      "skill_bounds = [1e-2, 1e1]\n",
      "\n",
      "workers = inputs.Input(var=x,\n",
      "                       cdf=skill_cdf,\n",
      "                       params=skill_params,\n",
      "                       bounds=skill_bounds,\n",
      "                       )\n",
      "\n",
      "# define some default firms\n",
      "y, mu2, sigma2 = sym.var('y, mu2, sigma2')\n",
      "productivity_cdf = 0.5 + 0.5 * sym.erf((sym.log(y) - mu2) / sym.sqrt(2 * sigma2**2))\n",
      "productivity_params = {'mu2': 0.0, 'sigma2': 1e0}\n",
      "productivity_bounds = [1e-2, 1e1]\n",
      "\n",
      "firms = inputs.Input(var=y,\n",
      "                     cdf=productivity_cdf,\n",
      "                     params=productivity_params,\n",
      "                     bounds=productivity_bounds,\n",
      "                     )\n",
      "\n",
      "# define symbolic expression for CES between x and y\n",
      "omega_A, sigma_A = sym.var('omega_A, sigma_A')\n",
      "A = ((omega_A * x**((sigma_A - 1) / sigma_A) + \n",
      "     (1 - omega_A) * y**((sigma_A - 1) / sigma_A))**(sigma_A / (sigma_A - 1))) \n",
      "\n",
      "# define symbolic expression for Cobb-Douglas between l and r\n",
      "l, r, omega_B, sigma_B = sym.var('l, r, omega_B, sigma_B')\n",
      "B = l**omega_B * r**(1 - omega_B)\n",
      "\n",
      "F = A * B\n",
      "\n",
      "F_params = {'omega_A':0.75, 'omega_B':0.25, 'sigma_A':0.6, 'sigma_B':1.0}\n",
      "\n",
      "model = models.Model('positive',\n",
      "                     workers=workers,\n",
      "                     firms=firms,\n",
      "                     production=F,\n",
      "                     params=F_params)\n",
      "\n",
      "solver = shooting.ShootingSolver(model=model)"
     ],
     "language": "python",
     "metadata": {},
     "outputs": [],
     "prompt_number": 5
    },
    {
     "cell_type": "markdown",
     "metadata": {},
     "source": [
      "## Solving the model given the parameters supplied"
     ]
    },
    {
     "cell_type": "code",
     "collapsed": false,
     "input": [
      "import solve_model2 as solve_model"
     ],
     "language": "python",
     "metadata": {},
     "outputs": [],
     "prompt_number": 124
    },
    {
     "cell_type": "code",
     "collapsed": false,
     "input": [
      "Est_Dis = solve_model.Solve_Model(F, F_params, workers, firms, 'positive', 100, 'vode', 2e3)"
     ],
     "language": "python",
     "metadata": {},
     "outputs": [
      {
       "output_type": "stream",
       "stream": "stdout",
       "text": [
        "Success! All workers and firms are matched\n"
       ]
      }
     ],
     "prompt_number": 112
    },
    {
     "cell_type": "code",
     "collapsed": false,
     "input": [
      "shape_f, loc_f, scale_f = Est_Dis[0]\n",
      "shape_w, loc_w, scale_w = Est_Dis[1]"
     ],
     "language": "python",
     "metadata": {},
     "outputs": [],
     "prompt_number": 113
    },
    {
     "cell_type": "code",
     "collapsed": false,
     "input": [
      "shape_f, loc_f, scale_f"
     ],
     "language": "python",
     "metadata": {},
     "outputs": [
      {
       "metadata": {},
       "output_type": "pyout",
       "prompt_number": 114,
       "text": [
        "(2.5688520186467199, 0.01859467432638276, 0.019793669184174058)"
       ]
      }
     ],
     "prompt_number": 114
    },
    {
     "cell_type": "code",
     "collapsed": false,
     "input": [
      "size_range = np.arange(0, 100, 0.01)\n",
      "size_hat = stats.lognorm.pdf(size_range, s=shape_f, loc=loc_f, scale=scale_f)\n",
      "plt.plot(size_range, size_hat)\n",
      "plt.ylim(0,1)\n",
      "plt.xlim(0,40)\n",
      "plt.title('Estimated Size distribution')\n",
      "plt.show()"
     ],
     "language": "python",
     "metadata": {},
     "outputs": [
      {
       "metadata": {},
       "output_type": "display_data",
       "png": "[encoded data removed]",
       "text": [
        "<matplotlib.figure.Figure at 0x1b770c50>"
       ]
      }
     ],
     "prompt_number": 116
    },
    {
     "cell_type": "code",
     "collapsed": false,
     "input": [
      "w_range = np.arange(0, 3.0, 0.01)\n",
      "wage_hat = stats.lognorm.pdf(w_range, s=shape_w, loc=loc_w, scale=scale_w)\n",
      "plt.plot(w_range, wage_hat)\n",
      "plt.title('Estimated Wage distribution')\n",
      "plt.show()"
     ],
     "language": "python",
     "metadata": {},
     "outputs": [
      {
       "metadata": {},
       "output_type": "display_data",
       "png": "[encoded data removed]",
       "text": [
        "<matplotlib.figure.Figure at 0x19264cc0>"
       ]
      }
     ],
     "prompt_number": 117
    },
    {
     "cell_type": "markdown",
     "metadata": {},
     "source": [
      "## Calculating MSE"
     ]
    },
    {
     "cell_type": "code",
     "collapsed": false,
     "input": [
      "import load_data as d\n",
      "data_points  = (d.size, d.wage)\n",
      "data_param = (stats.lognorm.fit(d.size), stats.lognorm.fit(d.wage))\n",
      "model_param = (Est_Dis[0], Est_Dis[1])"
     ],
     "language": "python",
     "metadata": {},
     "outputs": [],
     "prompt_number": 120
    },
    {
     "cell_type": "code",
     "collapsed": false,
     "input": [
      "solve_model.Calculate_MSE_pdf(data_points, data_param, model_param, 'lognormal')"
     ],
     "language": "python",
     "metadata": {},
     "outputs": [
      {
       "metadata": {},
       "output_type": "pyout",
       "prompt_number": 123,
       "text": [
        "(3.564556602031435, 1.8016448056880114)"
       ]
      }
     ],
     "prompt_number": 123
    },
    {
     "cell_type": "code",
     "collapsed": false,
     "input": [
      "solve_model.Calculate_MSE_cdf(data_points, data_param, model_param, 'lognormal')"
     ],
     "language": "python",
     "metadata": {},
     "outputs": [
      {
       "metadata": {},
       "output_type": "pyout",
       "prompt_number": 125,
       "text": [
        "(2634.0464937185634, 3273.0107221036856)"
       ]
      }
     ],
     "prompt_number": 125
    },
    {
     "cell_type": "markdown",
     "metadata": {},
     "source": [
      "## Iterate for some parameters"
     ]
    },
    {
     "cell_type": "code",
     "collapsed": false,
     "input": [
      "om = 0.65\n",
      "results_i = []\n",
      "for i in range(7):\n",
      "    om -= 0.05\n",
      "    if om > 0.5:\n",
      "        params_i = {'omega_A':0.75, 'omega_B':0.25, 'sigma_A':om, 'sigma_B':1.0}\n",
      "        Est_Dis = solve_model.Solve_Model(F, params_i, workers, firms, 'positive', 100, 'vode', 2e3)\n",
      "        model_param = (Est_Dis[0], Est_Dis[1])\n",
      "        results_i.append(solve_model.Calculate_MSE_pdf(data_points, data_param, model_param, 'lognormal'))\n",
      "    else:\n",
      "        params_i = {'omega_A':0.75, 'omega_B':0.25, 'sigma_A':om, 'sigma_B':1.0}\n",
      "        Est_Dis = solve_model.Solve_Model(F, params_i, workers, firms, 'positive', 100, 'vode', 2e4)\n",
      "        model_param = (Est_Dis[0], Est_Dis[1])\n",
      "        results_i.append(solve_model.Calculate_MSE_pdf(data_points, data_param, model_param, 'lognormal'))\n",
      "results_i"
     ],
     "language": "python",
     "metadata": {},
     "outputs": [
      {
       "output_type": "stream",
       "stream": "stdout",
       "text": [
        "Success! All workers and firms are matched\n",
        "Success! All workers and firms are matched"
       ]
      },
      {
       "output_type": "stream",
       "stream": "stdout",
       "text": [
        "\n",
        "Success! All workers and firms are matched"
       ]
      },
      {
       "output_type": "stream",
       "stream": "stdout",
       "text": [
        "\n",
        "Success! All workers and firms are matched"
       ]
      },
      {
       "output_type": "stream",
       "stream": "stdout",
       "text": [
        "\n",
        "Success! All workers and firms are matched"
       ]
      },
      {
       "output_type": "stream",
       "stream": "stdout",
       "text": [
        "\n",
        "Success! All workers and firms are matched"
       ]
      },
      {
       "output_type": "stream",
       "stream": "stdout",
       "text": [
        "\n",
        "Success! All workers and firms are matched"
       ]
      },
      {
       "output_type": "stream",
       "stream": "stdout",
       "text": [
        "\n"
       ]
      },
      {
       "metadata": {},
       "output_type": "pyout",
       "prompt_number": 134,
       "text": [
        "[(3.564556602031435, 1.8016448056880114),\n",
        " (3.5130386421457178, 1.8024263418905722),\n",
        " (3.6644913045037208, 1.7993633737288333),\n",
        " (4.1786800635414689, 1.7985190072067558),\n",
        " (13.762594699811459, 1.7978552228615967),\n",
        " (24.41345421208003, 1.797350048455717),\n",
        " (44.25661771832609, 1.7969785206138693)]"
       ]
      }
     ],
     "prompt_number": 134
    },
    {
     "cell_type": "markdown",
     "metadata": {},
     "source": [
      "## Results from estimation"
     ]
    },
    {
     "cell_type": "code",
     "collapsed": false,
     "input": [
      "solver.solve(4.0, tol=1e-6, number_knots=100, atol=1e-15, rtol=1e-12, integrator='vode', message=False)"
     ],
     "language": "python",
     "metadata": {},
     "outputs": [
      {
       "output_type": "stream",
       "stream": "stdout",
       "text": [
        "Success! All workers and firms are matched\n"
       ]
      }
     ],
     "prompt_number": 9
    },
    {
     "cell_type": "code",
     "collapsed": false,
     "input": [
      "solver.solution"
     ],
     "language": "python",
     "metadata": {},
     "outputs": [
      {
       "html": [
        "<div style=\"max-height:1000px;max-width:1500px;overflow:auto;\">\n",
        "<table border=\"1\" class=\"dataframe\">\n",
        "  <thead>\n",
        "    <tr style=\"text-align: right;\">\n",
        "      <th></th>\n",
        "      <th>$\\mu(x)$</th>\n",
        "      <th>$\\theta(x)$</th>\n",
        "      <th>$w(x)$</th>\n",
        "      <th>$\\pi(x)$</th>\n",
        "    </tr>\n",
        "    <tr>\n",
        "      <th>x</th>\n",
        "      <th></th>\n",
        "      <th></th>\n",
        "      <th></th>\n",
        "      <th></th>\n",
        "    </tr>\n",
        "  </thead>\n",
        "  <tbody>\n",
        "    <tr>\n",
        "      <th>0.010000 </th>\n",
        "      <td>  0.010000</td>\n",
        "      <td> 13102.124959</td>\n",
        "      <td>  0.000002</td>\n",
        "      <td> 0.080241</td>\n",
        "    </tr>\n",
        "    <tr>\n",
        "      <th>0.110909 </th>\n",
        "      <td>  0.025943</td>\n",
        "      <td>    69.890048</td>\n",
        "      <td>  0.000686</td>\n",
        "      <td> 0.143875</td>\n",
        "    </tr>\n",
        "    <tr>\n",
        "      <th>0.211818 </th>\n",
        "      <td>  0.049883</td>\n",
        "      <td>    26.437942</td>\n",
        "      <td>  0.002726</td>\n",
        "      <td> 0.216176</td>\n",
        "    </tr>\n",
        "    <tr>\n",
        "      <th>0.312727 </th>\n",
        "      <td>  0.074153</td>\n",
        "      <td>    14.711787</td>\n",
        "      <td>  0.006266</td>\n",
        "      <td> 0.276537</td>\n",
        "    </tr>\n",
        "    <tr>\n",
        "      <th>0.413636 </th>\n",
        "      <td>  0.098696</td>\n",
        "      <td>     9.651448</td>\n",
        "      <td>  0.011402</td>\n",
        "      <td> 0.330143</td>\n",
        "    </tr>\n",
        "    <tr>\n",
        "      <th>0.514545 </th>\n",
        "      <td>  0.123500</td>\n",
        "      <td>     6.941346</td>\n",
        "      <td>  0.018211</td>\n",
        "      <td> 0.379234</td>\n",
        "    </tr>\n",
        "    <tr>\n",
        "      <th>0.615455 </th>\n",
        "      <td>  0.148558</td>\n",
        "      <td>     5.294594</td>\n",
        "      <td>  0.026758</td>\n",
        "      <td> 0.425025</td>\n",
        "    </tr>\n",
        "    <tr>\n",
        "      <th>0.716364 </th>\n",
        "      <td>  0.173870</td>\n",
        "      <td>     4.207053</td>\n",
        "      <td>  0.037102</td>\n",
        "      <td> 0.468265</td>\n",
        "    </tr>\n",
        "    <tr>\n",
        "      <th>0.817273 </th>\n",
        "      <td>  0.199434</td>\n",
        "      <td>     3.445016</td>\n",
        "      <td>  0.049294</td>\n",
        "      <td> 0.509458</td>\n",
        "    </tr>\n",
        "    <tr>\n",
        "      <th>0.918182 </th>\n",
        "      <td>  0.225253</td>\n",
        "      <td>     2.886870</td>\n",
        "      <td>  0.063386</td>\n",
        "      <td> 0.548961</td>\n",
        "    </tr>\n",
        "    <tr>\n",
        "      <th>1.019091 </th>\n",
        "      <td>  0.251330</td>\n",
        "      <td>     2.463748</td>\n",
        "      <td>  0.079424</td>\n",
        "      <td> 0.587042</td>\n",
        "    </tr>\n",
        "    <tr>\n",
        "      <th>1.120000 </th>\n",
        "      <td>  0.277668</td>\n",
        "      <td>     2.134034</td>\n",
        "      <td>  0.097453</td>\n",
        "      <td> 0.623906</td>\n",
        "    </tr>\n",
        "    <tr>\n",
        "      <th>1.220909 </th>\n",
        "      <td>  0.304272</td>\n",
        "      <td>     1.871256</td>\n",
        "      <td>  0.117517</td>\n",
        "      <td> 0.659715</td>\n",
        "    </tr>\n",
        "    <tr>\n",
        "      <th>1.321818 </th>\n",
        "      <td>  0.331147</td>\n",
        "      <td>     1.657859</td>\n",
        "      <td>  0.139658</td>\n",
        "      <td> 0.694600</td>\n",
        "    </tr>\n",
        "    <tr>\n",
        "      <th>1.422727 </th>\n",
        "      <td>  0.358299</td>\n",
        "      <td>     1.481789</td>\n",
        "      <td>  0.163917</td>\n",
        "      <td> 0.728670</td>\n",
        "    </tr>\n",
        "    <tr>\n",
        "      <th>1.523636 </th>\n",
        "      <td>  0.385733</td>\n",
        "      <td>     1.334526</td>\n",
        "      <td>  0.190334</td>\n",
        "      <td> 0.762015</td>\n",
        "    </tr>\n",
        "    <tr>\n",
        "      <th>1.624545 </th>\n",
        "      <td>  0.413457</td>\n",
        "      <td>     1.209893</td>\n",
        "      <td>  0.218948</td>\n",
        "      <td> 0.794712</td>\n",
        "    </tr>\n",
        "    <tr>\n",
        "      <th>1.725455 </th>\n",
        "      <td>  0.441476</td>\n",
        "      <td>     1.103318</td>\n",
        "      <td>  0.249800</td>\n",
        "      <td> 0.826827</td>\n",
        "    </tr>\n",
        "    <tr>\n",
        "      <th>1.826364 </th>\n",
        "      <td>  0.469799</td>\n",
        "      <td>     1.011349</td>\n",
        "      <td>  0.282928</td>\n",
        "      <td> 0.858417</td>\n",
        "    </tr>\n",
        "    <tr>\n",
        "      <th>1.927273 </th>\n",
        "      <td>  0.498434</td>\n",
        "      <td>     0.931339</td>\n",
        "      <td>  0.318370</td>\n",
        "      <td> 0.889532</td>\n",
        "    </tr>\n",
        "    <tr>\n",
        "      <th>2.028182 </th>\n",
        "      <td>  0.527388</td>\n",
        "      <td>     0.861226</td>\n",
        "      <td>  0.356166</td>\n",
        "      <td> 0.920218</td>\n",
        "    </tr>\n",
        "    <tr>\n",
        "      <th>2.129091 </th>\n",
        "      <td>  0.556670</td>\n",
        "      <td>     0.799383</td>\n",
        "      <td>  0.396352</td>\n",
        "      <td> 0.950512</td>\n",
        "    </tr>\n",
        "    <tr>\n",
        "      <th>2.230000 </th>\n",
        "      <td>  0.586291</td>\n",
        "      <td>     0.744512</td>\n",
        "      <td>  0.438968</td>\n",
        "      <td> 0.980451</td>\n",
        "    </tr>\n",
        "    <tr>\n",
        "      <th>2.330909 </th>\n",
        "      <td>  0.616258</td>\n",
        "      <td>     0.695563</td>\n",
        "      <td>  0.484052</td>\n",
        "      <td> 1.010067</td>\n",
        "    </tr>\n",
        "    <tr>\n",
        "      <th>2.431818 </th>\n",
        "      <td>  0.646583</td>\n",
        "      <td>     0.651684</td>\n",
        "      <td>  0.531643</td>\n",
        "      <td> 1.039390</td>\n",
        "    </tr>\n",
        "    <tr>\n",
        "      <th>2.532727 </th>\n",
        "      <td>  0.677276</td>\n",
        "      <td>     0.612171</td>\n",
        "      <td>  0.581779</td>\n",
        "      <td> 1.068445</td>\n",
        "    </tr>\n",
        "    <tr>\n",
        "      <th>2.633636 </th>\n",
        "      <td>  0.708347</td>\n",
        "      <td>     0.576443</td>\n",
        "      <td>  0.634499</td>\n",
        "      <td> 1.097258</td>\n",
        "    </tr>\n",
        "    <tr>\n",
        "      <th>2.734545 </th>\n",
        "      <td>  0.739809</td>\n",
        "      <td>     0.544014</td>\n",
        "      <td>  0.689842</td>\n",
        "      <td> 1.125851</td>\n",
        "    </tr>\n",
        "    <tr>\n",
        "      <th>2.835455 </th>\n",
        "      <td>  0.771674</td>\n",
        "      <td>     0.514474</td>\n",
        "      <td>  0.747848</td>\n",
        "      <td> 1.154246</td>\n",
        "    </tr>\n",
        "    <tr>\n",
        "      <th>2.936364 </th>\n",
        "      <td>  0.803955</td>\n",
        "      <td>     0.487479</td>\n",
        "      <td>  0.808557</td>\n",
        "      <td> 1.182462</td>\n",
        "    </tr>\n",
        "    <tr>\n",
        "      <th>...</th>\n",
        "      <td>...</td>\n",
        "      <td>...</td>\n",
        "      <td>...</td>\n",
        "      <td>...</td>\n",
        "    </tr>\n",
        "    <tr>\n",
        "      <th>7.073636 </th>\n",
        "      <td>  2.794217</td>\n",
        "      <td>     0.126810</td>\n",
        "      <td>  6.218601</td>\n",
        "      <td> 2.365741</td>\n",
        "    </tr>\n",
        "    <tr>\n",
        "      <th>7.174545 </th>\n",
        "      <td>  2.874282</td>\n",
        "      <td>     0.124213</td>\n",
        "      <td>  6.440461</td>\n",
        "      <td> 2.399964</td>\n",
        "    </tr>\n",
        "    <tr>\n",
        "      <th>7.275455 </th>\n",
        "      <td>  2.957369</td>\n",
        "      <td>     0.121718</td>\n",
        "      <td>  6.667809</td>\n",
        "      <td> 2.434778</td>\n",
        "    </tr>\n",
        "    <tr>\n",
        "      <th>7.376364 </th>\n",
        "      <td>  3.043706</td>\n",
        "      <td>     0.119321</td>\n",
        "      <td>  6.900763</td>\n",
        "      <td> 2.470227</td>\n",
        "    </tr>\n",
        "    <tr>\n",
        "      <th>7.477273 </th>\n",
        "      <td>  3.133550</td>\n",
        "      <td>     0.117019</td>\n",
        "      <td>  7.139450</td>\n",
        "      <td> 2.506356</td>\n",
        "    </tr>\n",
        "    <tr>\n",
        "      <th>7.578182 </th>\n",
        "      <td>  3.227185</td>\n",
        "      <td>     0.114808</td>\n",
        "      <td>  7.383999</td>\n",
        "      <td> 2.543216</td>\n",
        "    </tr>\n",
        "    <tr>\n",
        "      <th>7.679091 </th>\n",
        "      <td>  3.324930</td>\n",
        "      <td>     0.112683</td>\n",
        "      <td>  7.634549</td>\n",
        "      <td> 2.580863</td>\n",
        "    </tr>\n",
        "    <tr>\n",
        "      <th>7.780000 </th>\n",
        "      <td>  3.427145</td>\n",
        "      <td>     0.110644</td>\n",
        "      <td>  7.891242</td>\n",
        "      <td> 2.619358</td>\n",
        "    </tr>\n",
        "    <tr>\n",
        "      <th>7.880909 </th>\n",
        "      <td>  3.534236</td>\n",
        "      <td>     0.108687</td>\n",
        "      <td>  8.154232</td>\n",
        "      <td> 2.658769</td>\n",
        "    </tr>\n",
        "    <tr>\n",
        "      <th>7.981818 </th>\n",
        "      <td>  3.646664</td>\n",
        "      <td>     0.106809</td>\n",
        "      <td>  8.423676</td>\n",
        "      <td> 2.699171</td>\n",
        "    </tr>\n",
        "    <tr>\n",
        "      <th>8.082727 </th>\n",
        "      <td>  3.764956</td>\n",
        "      <td>     0.105009</td>\n",
        "      <td>  8.699744</td>\n",
        "      <td> 2.740650</td>\n",
        "    </tr>\n",
        "    <tr>\n",
        "      <th>8.183636 </th>\n",
        "      <td>  3.889717</td>\n",
        "      <td>     0.103285</td>\n",
        "      <td>  8.982613</td>\n",
        "      <td> 2.783300</td>\n",
        "    </tr>\n",
        "    <tr>\n",
        "      <th>8.284545 </th>\n",
        "      <td>  4.021643</td>\n",
        "      <td>     0.101635</td>\n",
        "      <td>  9.272473</td>\n",
        "      <td> 2.827228</td>\n",
        "    </tr>\n",
        "    <tr>\n",
        "      <th>8.385455 </th>\n",
        "      <td>  4.161548</td>\n",
        "      <td>     0.100059</td>\n",
        "      <td>  9.569525</td>\n",
        "      <td> 2.872555</td>\n",
        "    </tr>\n",
        "    <tr>\n",
        "      <th>8.486364 </th>\n",
        "      <td>  4.310381</td>\n",
        "      <td>     0.098556</td>\n",
        "      <td>  9.873983</td>\n",
        "      <td> 2.919422</td>\n",
        "    </tr>\n",
        "    <tr>\n",
        "      <th>8.587273 </th>\n",
        "      <td>  4.469264</td>\n",
        "      <td>     0.097126</td>\n",
        "      <td> 10.186078</td>\n",
        "      <td> 2.967988</td>\n",
        "    </tr>\n",
        "    <tr>\n",
        "      <th>8.688182 </th>\n",
        "      <td>  4.639534</td>\n",
        "      <td>     0.095768</td>\n",
        "      <td> 10.506055</td>\n",
        "      <td> 3.018439</td>\n",
        "    </tr>\n",
        "    <tr>\n",
        "      <th>8.789091 </th>\n",
        "      <td>  4.822799</td>\n",
        "      <td>     0.094485</td>\n",
        "      <td> 10.834183</td>\n",
        "      <td> 3.070992</td>\n",
        "    </tr>\n",
        "    <tr>\n",
        "      <th>8.890000 </th>\n",
        "      <td>  5.021015</td>\n",
        "      <td>     0.093277</td>\n",
        "      <td> 11.170749</td>\n",
        "      <td> 3.125906</td>\n",
        "    </tr>\n",
        "    <tr>\n",
        "      <th>8.990909 </th>\n",
        "      <td>  5.236593</td>\n",
        "      <td>     0.092146</td>\n",
        "      <td> 11.516069</td>\n",
        "      <td> 3.183486</td>\n",
        "    </tr>\n",
        "    <tr>\n",
        "      <th>9.091818 </th>\n",
        "      <td>  5.472544</td>\n",
        "      <td>     0.091097</td>\n",
        "      <td> 11.870488</td>\n",
        "      <td> 3.244107</td>\n",
        "    </tr>\n",
        "    <tr>\n",
        "      <th>9.192727 </th>\n",
        "      <td>  5.732694</td>\n",
        "      <td>     0.090135</td>\n",
        "      <td> 12.234389</td>\n",
        "      <td> 3.308223</td>\n",
        "    </tr>\n",
        "    <tr>\n",
        "      <th>9.293636 </th>\n",
        "      <td>  6.021997</td>\n",
        "      <td>     0.089265</td>\n",
        "      <td> 12.608198</td>\n",
        "      <td> 3.376406</td>\n",
        "    </tr>\n",
        "    <tr>\n",
        "      <th>9.394545 </th>\n",
        "      <td>  6.347016</td>\n",
        "      <td>     0.088497</td>\n",
        "      <td> 12.992393</td>\n",
        "      <td> 3.449380</td>\n",
        "    </tr>\n",
        "    <tr>\n",
        "      <th>9.495455 </th>\n",
        "      <td>  6.716676</td>\n",
        "      <td>     0.087845</td>\n",
        "      <td> 13.387521</td>\n",
        "      <td> 3.528090</td>\n",
        "    </tr>\n",
        "    <tr>\n",
        "      <th>9.596364 </th>\n",
        "      <td>  7.143517</td>\n",
        "      <td>     0.087327</td>\n",
        "      <td> 13.794215</td>\n",
        "      <td> 3.613802</td>\n",
        "    </tr>\n",
        "    <tr>\n",
        "      <th>9.697273 </th>\n",
        "      <td>  7.645889</td>\n",
        "      <td>     0.086968</td>\n",
        "      <td> 14.213219</td>\n",
        "      <td> 3.708272</td>\n",
        "    </tr>\n",
        "    <tr>\n",
        "      <th>9.798182 </th>\n",
        "      <td>  8.252054</td>\n",
        "      <td>     0.086809</td>\n",
        "      <td> 14.645433</td>\n",
        "      <td> 3.814045</td>\n",
        "    </tr>\n",
        "    <tr>\n",
        "      <th>9.899091 </th>\n",
        "      <td>  9.008608</td>\n",
        "      <td>     0.086912</td>\n",
        "      <td> 15.091983</td>\n",
        "      <td> 3.935037</td>\n",
        "    </tr>\n",
        "    <tr>\n",
        "      <th>10.000000</th>\n",
        "      <td> 10.000000</td>\n",
        "      <td>     0.087388</td>\n",
        "      <td> 15.554336</td>\n",
        "      <td> 4.077783</td>\n",
        "    </tr>\n",
        "  </tbody>\n",
        "</table>\n",
        "<p>100 rows \u00d7 4 columns</p>\n",
        "</div>"
       ],
       "metadata": {},
       "output_type": "pyout",
       "prompt_number": 10,
       "text": [
        "            $\\mu(x)$   $\\theta(x)$     $w(x)$  $\\pi(x)$\n",
        "x                                                      \n",
        "0.010000    0.010000  13102.124959   0.000002  0.080241\n",
        "0.110909    0.025943     69.890048   0.000686  0.143875\n",
        "0.211818    0.049883     26.437942   0.002726  0.216176\n",
        "0.312727    0.074153     14.711787   0.006266  0.276537\n",
        "0.413636    0.098696      9.651448   0.011402  0.330143\n",
        "0.514545    0.123500      6.941346   0.018211  0.379234\n",
        "0.615455    0.148558      5.294594   0.026758  0.425025\n",
        "0.716364    0.173870      4.207053   0.037102  0.468265\n",
        "0.817273    0.199434      3.445016   0.049294  0.509458\n",
        "0.918182    0.225253      2.886870   0.063386  0.548961\n",
        "1.019091    0.251330      2.463748   0.079424  0.587042\n",
        "1.120000    0.277668      2.134034   0.097453  0.623906\n",
        "1.220909    0.304272      1.871256   0.117517  0.659715\n",
        "1.321818    0.331147      1.657859   0.139658  0.694600\n",
        "1.422727    0.358299      1.481789   0.163917  0.728670\n",
        "1.523636    0.385733      1.334526   0.190334  0.762015\n",
        "1.624545    0.413457      1.209893   0.218948  0.794712\n",
        "1.725455    0.441476      1.103318   0.249800  0.826827\n",
        "1.826364    0.469799      1.011349   0.282928  0.858417\n",
        "1.927273    0.498434      0.931339   0.318370  0.889532\n",
        "2.028182    0.527388      0.861226   0.356166  0.920218\n",
        "2.129091    0.556670      0.799383   0.396352  0.950512\n",
        "2.230000    0.586291      0.744512   0.438968  0.980451\n",
        "2.330909    0.616258      0.695563   0.484052  1.010067\n",
        "2.431818    0.646583      0.651684   0.531643  1.039390\n",
        "2.532727    0.677276      0.612171   0.581779  1.068445\n",
        "2.633636    0.708347      0.576443   0.634499  1.097258\n",
        "2.734545    0.739809      0.544014   0.689842  1.125851\n",
        "2.835455    0.771674      0.514474   0.747848  1.154246\n",
        "2.936364    0.803955      0.487479   0.808557  1.182462\n",
        "...              ...           ...        ...       ...\n",
        "7.073636    2.794217      0.126810   6.218601  2.365741\n",
        "7.174545    2.874282      0.124213   6.440461  2.399964\n",
        "7.275455    2.957369      0.121718   6.667809  2.434778\n",
        "7.376364    3.043706      0.119321   6.900763  2.470227\n",
        "7.477273    3.133550      0.117019   7.139450  2.506356\n",
        "7.578182    3.227185      0.114808   7.383999  2.543216\n",
        "7.679091    3.324930      0.112683   7.634549  2.580863\n",
        "7.780000    3.427145      0.110644   7.891242  2.619358\n",
        "7.880909    3.534236      0.108687   8.154232  2.658769\n",
        "7.981818    3.646664      0.106809   8.423676  2.699171\n",
        "8.082727    3.764956      0.105009   8.699744  2.740650\n",
        "8.183636    3.889717      0.103285   8.982613  2.783300\n",
        "8.284545    4.021643      0.101635   9.272473  2.827228\n",
        "8.385455    4.161548      0.100059   9.569525  2.872555\n",
        "8.486364    4.310381      0.098556   9.873983  2.919422\n",
        "8.587273    4.469264      0.097126  10.186078  2.967988\n",
        "8.688182    4.639534      0.095768  10.506055  3.018439\n",
        "8.789091    4.822799      0.094485  10.834183  3.070992\n",
        "8.890000    5.021015      0.093277  11.170749  3.125906\n",
        "8.990909    5.236593      0.092146  11.516069  3.183486\n",
        "9.091818    5.472544      0.091097  11.870488  3.244107\n",
        "9.192727    5.732694      0.090135  12.234389  3.308223\n",
        "9.293636    6.021997      0.089265  12.608198  3.376406\n",
        "9.394545    6.347016      0.088497  12.992393  3.449380\n",
        "9.495455    6.716676      0.087845  13.387521  3.528090\n",
        "9.596364    7.143517      0.087327  13.794215  3.613802\n",
        "9.697273    7.645889      0.086968  14.213219  3.708272\n",
        "9.798182    8.252054      0.086809  14.645433  3.814045\n",
        "9.899091    9.008608      0.086912  15.091983  3.935037\n",
        "10.000000  10.000000      0.087388  15.554336  4.077783\n",
        "\n",
        "[100 rows x 4 columns]"
       ]
      }
     ],
     "prompt_number": 10
    },
    {
     "cell_type": "code",
     "collapsed": false,
     "input": [
      "solver.residuals.plot(loglog=True, alpha=0.5)\n",
      "plt.show()"
     ],
     "language": "python",
     "metadata": {},
     "outputs": [
      {
       "metadata": {},
       "output_type": "display_data",
       "png": "[encoded data removed]",
       "text": [
        "<matplotlib.figure.Figure at 0x18e0cb38>"
       ]
      }
     ],
     "prompt_number": 11
    },
    {
     "cell_type": "code",
     "collapsed": false,
     "input": [
      "x = solver.solution.index.values\n",
      "mus = solver.solution['$\\\\mu(x)$'].values\n",
      "thetas = solver.solution['$\\\\theta(x)$'].values\n",
      "ws = solver.solution['$w(x)$'].values\n",
      "\n",
      "''' 4.Interpolate the other way round (y(theta), y(wages)) '''\n",
      "basePol1 = solve_model.polynomial_factory(4000, \"Chebyshev\", [firms.lower, firms.upper])\n",
      "basePol2 = solve_model.polynomial_factory(4000, \"Chebyshev\", [firms.lower, firms.upper])\n",
      "y_theta = basePol1.fit(thetas[1:], mus[1:], 4000)\n",
      "y_wage = basePol2.fit(ws[1:], mus[1:], 4000)"
     ],
     "language": "python",
     "metadata": {},
     "outputs": [],
     "prompt_number": 69
    },
    {
     "cell_type": "code",
     "collapsed": false,
     "input": [
      "t_step = (max(thetas[1:])-min(thetas))/100.0\n",
      "w_step = (max(ws[1:])-min(ws))/100.0\n",
      "theta_range = np.arange(min(thetas), max(thetas[1:]), t_step)\n",
      "w_range = np.arange(min(ws), max(ws[1:]), w_step)"
     ],
     "language": "python",
     "metadata": {},
     "outputs": [],
     "prompt_number": 70
    },
    {
     "cell_type": "code",
     "collapsed": false,
     "input": [
      "plt.plot(theta_range, y_theta(theta_range))\n",
      "plt.scatter(thetas[1:],mus[1:])\n",
      "plt.xlim(0,40)\n",
      "plt.ylim(0,14)\n",
      "plt.show()"
     ],
     "language": "python",
     "metadata": {},
     "outputs": [
      {
       "metadata": {},
       "output_type": "display_data",
       "png": "[encoded data removed]",
       "text": [
        "<matplotlib.figure.Figure at 0x18e82748>"
       ]
      }
     ],
     "prompt_number": 97
    },
    {
     "cell_type": "code",
     "collapsed": false,
     "input": [
      "from scipy.interpolate import InterpolatedUnivariateSpline\n",
      "sateht = thetas[::-1]\n",
      "sums = mus[::-1]\n",
      "y_spl = InterpolatedUnivariateSpline(thetas[::-1], mus[::-1], k=5)\n",
      "plt.plot(thetas, y_spl(thetas))\n",
      "plt.scatter(thetas[1:],mus[1:])\n",
      "plt.xlim(0,10)\n",
      "plt.ylim(0,10)\n",
      "plt.show()"
     ],
     "language": "python",
     "metadata": {},
     "outputs": [
      {
       "metadata": {},
       "output_type": "display_data",
       "png": "[encoded data removed]",
       "text": [
        "<matplotlib.figure.Figure at 0x1b97e0b8>"
       ]
      }
     ],
     "prompt_number": 119
    },
    {
     "cell_type": "code",
     "collapsed": false,
     "input": [
      "plt.plot(thetas, firms.evaluate_pdf(y_spl(thetas)))\n",
      "#plt.scatter(thetas[1:],mus[1:])\n",
      "plt.xlim(0,80)\n",
      "#plt.ylim(0,10)\n",
      "plt.show()"
     ],
     "language": "python",
     "metadata": {},
     "outputs": [
      {
       "metadata": {},
       "output_type": "display_data",
       "png": "[encoded data removed]",
       "text": [
        "<matplotlib.figure.Figure at 0x19ac7390>"
       ]
      }
     ],
     "prompt_number": 118
    },
    {
     "cell_type": "code",
     "collapsed": false,
     "input": [
      "firms.evaluate_pdf(0.00001)"
     ],
     "language": "python",
     "metadata": {},
     "outputs": [
      {
       "metadata": {},
       "output_type": "pyout",
       "prompt_number": 90,
       "text": [
        "6.6565290616560284e-25"
       ]
      }
     ],
     "prompt_number": 90
    },
    {
     "cell_type": "code",
     "collapsed": false,
     "input": [
      "solver.solution['$\\\\theta(x)$'].plot()\n",
      "plt.show()"
     ],
     "language": "python",
     "metadata": {},
     "outputs": [
      {
       "metadata": {},
       "output_type": "display_data",
       "png": "[encoded data removed]",
       "text": [
        "<matplotlib.figure.Figure at 0x1950cf98>"
       ]
      }
     ],
     "prompt_number": 39
    },
    {
     "cell_type": "code",
     "collapsed": false,
     "input": [
      "solver.solution['$w(x)$'].plot()\n",
      "plt.show()"
     ],
     "language": "python",
     "metadata": {},
     "outputs": [
      {
       "metadata": {},
       "output_type": "display_data",
       "png": "[encoded data removed]",
       "text": [
        "<matplotlib.figure.Figure at 0x194eb240>"
       ]
      }
     ],
     "prompt_number": 40
    },
    {
     "cell_type": "code",
     "collapsed": false,
     "input": [
      "solver.solution['$\\mu(x)$'].plot()\n",
      "plt.show()"
     ],
     "language": "python",
     "metadata": {},
     "outputs": [
      {
       "metadata": {},
       "output_type": "display_data",
       "png": "[encoded data removed]",
       "text": [
        "<matplotlib.figure.Figure at 0x1a482c50>"
       ]
      }
     ],
     "prompt_number": 41
    },
    {
     "cell_type": "code",
     "collapsed": false,
     "input": [
      "type(solver.solution['$\\\\theta(x)$'])"
     ],
     "language": "python",
     "metadata": {},
     "outputs": [
      {
       "metadata": {},
       "output_type": "pyout",
       "prompt_number": 57,
       "text": [
        "pandas.core.series.Series"
       ]
      }
     ],
     "prompt_number": 57
    },
    {
     "cell_type": "code",
     "collapsed": false,
     "input": [
      "a= np.asarray(solver.solution['$\\\\theta(x)$'])\n",
      "a"
     ],
     "language": "python",
     "metadata": {},
     "outputs": [
      {
       "metadata": {},
       "output_type": "pyout",
       "prompt_number": 60,
       "text": [
        "array([  5.97469058e+19,   6.75588579e+10,   1.19441081e+10, ...,\n",
        "         5.00203509e+01,   5.00101739e+01,   5.00000000e+01])"
       ]
      }
     ],
     "prompt_number": 60
    },
    {
     "cell_type": "code",
     "collapsed": false,
     "input": [],
     "language": "python",
     "metadata": {},
     "outputs": []
    }
   ],
   "metadata": {}
  }
 ]
}