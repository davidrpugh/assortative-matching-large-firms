{
 "metadata": {
  "name": "",
  "signature": "sha256:7529664232f42e52c5e1263ea1365874caa159f16371d45b75970eb8172f61e8"
 },
 "nbformat": 3,
 "nbformat_minor": 0,
 "worksheets": [
  {
   "cells": [
    {
     "cell_type": "code",
     "collapsed": false,
     "input": [
      "%load_ext autoreload"
     ],
     "language": "python",
     "metadata": {},
     "outputs": [
      {
       "output_type": "stream",
       "stream": "stdout",
       "text": [
        "The autoreload extension is already loaded. To reload it, use:\n",
        "  %reload_ext autoreload\n"
       ]
      }
     ],
     "prompt_number": 146
    },
    {
     "cell_type": "code",
     "collapsed": false,
     "input": [
      "autoreload 2"
     ],
     "language": "python",
     "metadata": {},
     "outputs": [],
     "prompt_number": 147
    },
    {
     "cell_type": "code",
     "collapsed": false,
     "input": [
      "%matplotlib inline"
     ],
     "language": "python",
     "metadata": {},
     "outputs": [],
     "prompt_number": 148
    },
    {
     "cell_type": "code",
     "collapsed": true,
     "input": [
      "import matplotlib.pyplot as plt\n",
      "import numpy as np\n",
      "import sympy as sym\n",
      "\n",
      "import inputs\n",
      "import models\n",
      "import collocation\n",
      "import shooting"
     ],
     "language": "python",
     "metadata": {},
     "outputs": [],
     "prompt_number": 149
    },
    {
     "cell_type": "markdown",
     "metadata": {},
     "source": [
      "# Example: \n",
      "\n",
      "## Worker skill and firm productivity are $\\sim U[a, b]$..."
     ]
    },
    {
     "cell_type": "code",
     "collapsed": false,
     "input": [
      "# define some workers skill\n",
      "x, mu1, sigma1 = sym.var('x, mu1, sigma1')\n",
      "skill_cdf = 0.5 + 0.5 * sym.erf((sym.log(x) - mu1) / sym.sqrt(2 * sigma1**2))\n",
      "skill_params = {'mu1': 0.0, 'sigma1': 1.0}\n",
      "skill_bounds = [1e-2, 1e1]\n",
      "\n",
      "workers = inputs.Input(var=x,\n",
      "                       cdf=skill_cdf,\n",
      "                       params=skill_params,\n",
      "                       bounds=skill_bounds,\n",
      "                       )\n",
      "\n",
      "# define some firms\n",
      "y, mu2, sigma2 = sym.var('y, mu2, sigma2')\n",
      "productivity_cdf = 0.5 + 0.5 * sym.erf((sym.log(y) - mu2) / sym.sqrt(2 * sigma2**2))\n",
      "productivity_params = {'mu2': 0.0, 'sigma2': 1.0}\n",
      "productivity_bounds = [1e-2, 1e1]\n",
      "\n",
      "firms = inputs.Input(var=y,\n",
      "                     cdf=productivity_cdf,\n",
      "                     params=productivity_params,\n",
      "                     bounds=productivity_bounds,\n",
      "                     )"
     ],
     "language": "python",
     "metadata": {},
     "outputs": [],
     "prompt_number": 150
    },
    {
     "cell_type": "code",
     "collapsed": false,
     "input": [
      "# define some workers skill\n",
      "x, a, b = sym.var('x, a, b')\n",
      "skill_cdf = (x - a) / (b - a)\n",
      "skill_params = {'a': 1.0, 'b': 2.0}\n",
      "skill_bounds = [skill_params['a'], skill_params['b']]\n",
      "\n",
      "workers = inputs.Input(var=x,\n",
      "                       cdf=skill_cdf,\n",
      "                       params=skill_params,\n",
      "                       bounds=skill_bounds,\n",
      "                       )\n",
      "\n",
      "# define some firms\n",
      "y = sym.var('y')\n",
      "productivity_cdf = (y - a) / (b - a)\n",
      "productivity_params = skill_params\n",
      "productivity_bounds = skill_bounds\n",
      "\n",
      "firms = inputs.Input(var=y,\n",
      "                     cdf=productivity_cdf,\n",
      "                     params=productivity_params,\n",
      "                     bounds=productivity_bounds,\n",
      "                     )"
     ],
     "language": "python",
     "metadata": {},
     "outputs": [],
     "prompt_number": 151
    },
    {
     "cell_type": "markdown",
     "metadata": {},
     "source": [
      "## ...and production function is multiplicatively separable.\n",
      "A particularly attractive case arises under multiplicative separability of the form\n",
      "\n",
      "$$F(x, y, l, r) = A(x, y)B(l, r)$$\n",
      "\n",
      "In this case the condition for positive assortative matching can be written as \n",
      "\n",
      "$$\\frac{AA_{xy}}{A_xA_y}\\frac{BB_{lr}}{B_lB_r} \\ge 1$$\n",
      "\n",
      "If $B$ has constant elasticity of substitution form, then we obtain an even simpler condition\n",
      "\n",
      "$$\\frac{AA_{xy}}{A_xA_y} \\frac{1}{\\sigma_{lr}}\\ge 1$$\n",
      "\n",
      "where $\\sigma_{lr}$ is the elasticity of substitution between $l$ and $r$. \n",
      "\n",
      "Finally, if $A$ also has constant elasticity of substitution form, then we obtain an even simpler condition\n",
      "\n",
      "$$\\frac{1}{\\sigma_{xy}\\sigma_{lr}}\\ge 1 \\iff \\sigma_{xy}\\sigma_{lr} \\le 1$$\n",
      "\n",
      "where $\\sigma_{xy}$ is the elasticity of substitution between $x$ and $y$."
     ]
    },
    {
     "cell_type": "code",
     "collapsed": false,
     "input": [
      "# define symbolic expression for CES between x and y\n",
      "omega_A, sigma_A = sym.var('omega_A, sigma_A')\n",
      "A = ((omega_A * x**((sigma_A - 1) / sigma_A) + \n",
      "     (1 - omega_A) * y**((sigma_A - 1) / sigma_A))**(sigma_A / (sigma_A - 1))) \n",
      "\n",
      "# define symbolic expression for Cobb-Douglas between l and r\n",
      "l, r, omega_B, sigma_B = sym.var('l, r, omega_B, sigma_B')\n",
      "B = l**omega_B * r**(1 - omega_B)\n",
      "\n",
      "F = A * B"
     ],
     "language": "python",
     "metadata": {},
     "outputs": [],
     "prompt_number": 152
    },
    {
     "cell_type": "markdown",
     "metadata": {},
     "source": [
      "Create an instance of the `models.Model` class and an instance of the `solvers.ShootingSolver` class..."
     ]
    },
    {
     "cell_type": "markdown",
     "metadata": {},
     "source": [
      "### Positive assortative matching"
     ]
    },
    {
     "cell_type": "code",
     "collapsed": false,
     "input": [
      "F_params = {'omega_A':0.5, 'omega_B':0.75, 'sigma_A':0.95, 'sigma_B':1.0}\n",
      "\n",
      "model = models.Model(assortativity='positive',\n",
      "                     workers=workers,\n",
      "                     firms=firms,\n",
      "                     production=F,\n",
      "                     params=F_params)"
     ],
     "language": "python",
     "metadata": {},
     "outputs": [],
     "prompt_number": 181
    },
    {
     "cell_type": "code",
     "collapsed": false,
     "input": [
      "solver = shooting.ShootingSolver(model=model)"
     ],
     "language": "python",
     "metadata": {},
     "outputs": [],
     "prompt_number": 182
    },
    {
     "cell_type": "code",
     "collapsed": false,
     "input": [
      "solver.solve(2e0, tol=1e-6, number_knots=1000, integrator='dopri5',\n",
      "             atol=1e-12, rtol=1e-9, message=True)"
     ],
     "language": "python",
     "metadata": {},
     "outputs": [
      {
       "output_type": "stream",
       "stream": "stdout",
       "text": [
        "Exhausted firms: initial guess of 1.0 for firm size is too low.\n",
        "Exhausted workers: initial guess of 1.5 for firm size is too high!"
       ]
      },
      {
       "output_type": "stream",
       "stream": "stdout",
       "text": [
        "\n",
        "Exhausted firms: initial guess of 1.25 for firm size is too low."
       ]
      },
      {
       "output_type": "stream",
       "stream": "stdout",
       "text": [
        "\n",
        "Exhausted firms: initial guess of 1.375 for firm size is too low."
       ]
      },
      {
       "output_type": "stream",
       "stream": "stdout",
       "text": [
        "\n",
        "Exhausted workers: initial guess of 1.4375 for firm size is too high!"
       ]
      },
      {
       "output_type": "stream",
       "stream": "stdout",
       "text": [
        "\n",
        "Exhausted firms: initial guess of 1.40625 for firm size is too low."
       ]
      },
      {
       "output_type": "stream",
       "stream": "stdout",
       "text": [
        "\n",
        "Exhausted workers: initial guess of 1.421875 for firm size is too high!"
       ]
      },
      {
       "output_type": "stream",
       "stream": "stdout",
       "text": [
        "\n",
        "Exhausted workers: initial guess of 1.4140625 for firm size is too high!"
       ]
      },
      {
       "output_type": "stream",
       "stream": "stdout",
       "text": [
        "\n",
        "Exhausted workers: initial guess of 1.41015625 for firm size is too high!"
       ]
      },
      {
       "output_type": "stream",
       "stream": "stdout",
       "text": [
        "\n",
        "Exhausted workers: initial guess of 1.408203125 for firm size is too high!"
       ]
      },
      {
       "output_type": "stream",
       "stream": "stdout",
       "text": [
        "\n",
        "Exhausted firms: initial guess of 1.4072265625 for firm size was too low!"
       ]
      },
      {
       "output_type": "stream",
       "stream": "stdout",
       "text": [
        "\n",
        "Exhausted firms: initial guess of 1.40771484375 for firm size was too low!"
       ]
      },
      {
       "output_type": "stream",
       "stream": "stdout",
       "text": [
        "\n",
        "Exhausted firms: initial guess of 1.40795898438 for firm size was too low!"
       ]
      },
      {
       "output_type": "stream",
       "stream": "stdout",
       "text": [
        "\n",
        "Exhausted firms: initial guess of 1.40808105469 for firm size was too low!"
       ]
      },
      {
       "output_type": "stream",
       "stream": "stdout",
       "text": [
        "\n",
        "Exhausted workers: initial guess of 1.40814208984 for firm size is too high!"
       ]
      },
      {
       "output_type": "stream",
       "stream": "stdout",
       "text": [
        "\n",
        "Exhausted workers: initial guess of 1.40811157227 for firm size is too high!"
       ]
      },
      {
       "output_type": "stream",
       "stream": "stdout",
       "text": [
        "\n",
        "Exhausted firms: initial guess of 1.40809631348 for firm size was too low!"
       ]
      },
      {
       "output_type": "stream",
       "stream": "stdout",
       "text": [
        "\n",
        "Exhausted workers: initial guess of 1.40810394287 for firm size is too high!"
       ]
      },
      {
       "output_type": "stream",
       "stream": "stdout",
       "text": [
        "\n",
        "Exhausted firms: initial guess of 1.40810012817 for firm size was too low!"
       ]
      },
      {
       "output_type": "stream",
       "stream": "stdout",
       "text": [
        "\n",
        "Exhausted workers: initial guess of 1.40810203552 for firm size is too high!"
       ]
      },
      {
       "output_type": "stream",
       "stream": "stdout",
       "text": [
        "\n",
        "Success! All workers and firms are matched"
       ]
      },
      {
       "output_type": "stream",
       "stream": "stdout",
       "text": [
        "\n"
       ]
      }
     ],
     "prompt_number": 183
    },
    {
     "cell_type": "code",
     "collapsed": false,
     "input": [
      "solver.solution.head()"
     ],
     "language": "python",
     "metadata": {},
     "outputs": [
      {
       "html": [
        "<div style=\"max-height:1000px;max-width:1500px;overflow:auto;\">\n",
        "<table border=\"1\" class=\"dataframe\">\n",
        "  <thead>\n",
        "    <tr style=\"text-align: right;\">\n",
        "      <th></th>\n",
        "      <th>$\\mu(x)$</th>\n",
        "      <th>$\\theta(x)$</th>\n",
        "      <th>$w(x)$</th>\n",
        "      <th>$\\pi(x)$</th>\n",
        "    </tr>\n",
        "    <tr>\n",
        "      <th>x</th>\n",
        "      <th></th>\n",
        "      <th></th>\n",
        "      <th></th>\n",
        "      <th></th>\n",
        "    </tr>\n",
        "  </thead>\n",
        "  <tbody>\n",
        "    <tr>\n",
        "      <th>1.000000</th>\n",
        "      <td> 1.000001</td>\n",
        "      <td> 0.560181</td>\n",
        "      <td> 0.866920</td>\n",
        "      <td> 0.161878</td>\n",
        "    </tr>\n",
        "    <tr>\n",
        "      <th>1.001001</th>\n",
        "      <td> 1.001785</td>\n",
        "      <td> 0.561807</td>\n",
        "      <td> 0.867499</td>\n",
        "      <td> 0.162456</td>\n",
        "    </tr>\n",
        "    <tr>\n",
        "      <th>1.002002</th>\n",
        "      <td> 1.003564</td>\n",
        "      <td> 0.563429</td>\n",
        "      <td> 0.868077</td>\n",
        "      <td> 0.163033</td>\n",
        "    </tr>\n",
        "    <tr>\n",
        "      <th>1.003003</th>\n",
        "      <td> 1.005338</td>\n",
        "      <td> 0.565046</td>\n",
        "      <td> 0.868655</td>\n",
        "      <td> 0.163610</td>\n",
        "    </tr>\n",
        "    <tr>\n",
        "      <th>1.004004</th>\n",
        "      <td> 1.007107</td>\n",
        "      <td> 0.566660</td>\n",
        "      <td> 0.869233</td>\n",
        "      <td> 0.164186</td>\n",
        "    </tr>\n",
        "  </tbody>\n",
        "</table>\n",
        "</div>"
       ],
       "metadata": {},
       "output_type": "pyout",
       "prompt_number": 184,
       "text": [
        "          $\\mu(x)$  $\\theta(x)$    $w(x)$  $\\pi(x)$\n",
        "x                                                  \n",
        "1.000000  1.000001     0.560181  0.866920  0.161878\n",
        "1.001001  1.001785     0.561807  0.867499  0.162456\n",
        "1.002002  1.003564     0.563429  0.868077  0.163033\n",
        "1.003003  1.005338     0.565046  0.868655  0.163610\n",
        "1.004004  1.007107     0.566660  0.869233  0.164186"
       ]
      }
     ],
     "prompt_number": 184
    },
    {
     "cell_type": "code",
     "collapsed": false,
     "input": [
      "solver.residuals.plot(loglog=True, alpha=0.5)"
     ],
     "language": "python",
     "metadata": {},
     "outputs": [
      {
       "metadata": {},
       "output_type": "pyout",
       "prompt_number": 185,
       "text": [
        "<matplotlib.axes._subplots.AxesSubplot at 0x11fb164d0>"
       ]
      },
      {
       "metadata": {},
       "output_type": "display_data",
       "png": "[encoded data removed]",
       "text": [
        "<matplotlib.figure.Figure at 0x11fb28d90>"
       ]
      }
     ],
     "prompt_number": 185
    },
    {
     "cell_type": "code",
     "collapsed": false,
     "input": [
      "x = solver.solution.index.values\n",
      "mu = solver.solution[r'$\\mu(x)$'].values\n",
      "theta = solver.solution[r'$\\theta(x)$'].values\n",
      "\n",
      "colloc_solver = collocation.OrthogonalCollocation(model=model)\n",
      "colloc_solver.degree_mu = 20\n",
      "colloc_solver.degree_theta = 20\n",
      "initial_guess_mu = colloc_solver.orthogonal_polynomial_mu.fit(x, mu, 20)\n",
      "initial_guess_theta = colloc_solver.orthogonal_polynomial_theta.fit(x, theta, 20)"
     ],
     "language": "python",
     "metadata": {},
     "outputs": [],
     "prompt_number": 188
    },
    {
     "cell_type": "code",
     "collapsed": false,
     "input": [
      "initial_guess = np.hstack((initial_guess_mu.coef, initial_guess_theta.coef))\n",
      "colloc_solver.solve(initial_guess)"
     ],
     "language": "python",
     "metadata": {},
     "outputs": [
      {
       "metadata": {},
       "output_type": "pyout",
       "prompt_number": 189,
       "text": [
        "  status: 1\n",
        " success: True\n",
        "     qtf: array([  1.12547653e-08,  -4.36398211e-09,   1.18046087e-09,\n",
        "        -1.76982023e-09,   7.13563631e-10,  -1.65520773e-10,\n",
        "         3.08329016e-09,  -1.61925453e-09,  -7.49199829e-10,\n",
        "        -3.23434973e-09,   1.59132566e-09,  -1.08614062e-09,\n",
        "         1.74461771e-09,  -9.37382542e-10,  -2.71888464e-10,\n",
        "        -1.21176142e-09,   1.47240186e-09,  -1.91956863e-09,\n",
        "        -9.14681679e-10,   3.87918348e-09,  -1.03870974e-09,\n",
        "         2.70521654e-09,  -1.61497430e-09,  -4.86686837e-09,\n",
        "         2.19054730e-09,  -1.07760855e-09,  -6.08768831e-09,\n",
        "         4.25649041e-09,  -2.99878648e-09,   1.95327739e-10,\n",
        "         1.35219221e-09,   4.41352703e-10,   1.44936222e-09,\n",
        "         1.35524045e-09,   7.59727882e-10,  -3.73936271e-09,\n",
        "        -4.59320150e-09,   5.05944380e-09,   1.99368537e-09,\n",
        "         1.67959171e-09,   4.04260768e-09,  -4.85179367e-10])\n",
        "    nfev: 45\n",
        "       r: array([ -5.26333346e+00,   2.93049863e+00,  -1.86258370e+00,\n",
        "         7.18415401e-01,  -7.15217832e-01,   1.66522732e-01,\n",
        "        -4.44742226e-01,   5.22511870e-02,  -3.82029108e-01,\n",
        "         4.37158912e-02,  -3.70784153e-01,   3.31449996e-02,\n",
        "        -4.11296687e-01,  -6.70193318e-03,  -7.61987021e-01,\n",
        "        -6.32982679e-01,  -1.90228879e+00,  -8.51411805e+00,\n",
        "         3.85748532e+00,  -2.66276148e+01,  -2.61086956e+01,\n",
        "        -2.04628609e+00,  -6.73516818e+00,   9.75044094e+00,\n",
        "        -2.83695978e+01,   2.29151793e+01,  -4.88253356e+01,\n",
        "         3.50792878e+01,  -6.86804831e+01,   4.69147750e+01,\n",
        "        -8.83782369e+01,   5.86632207e+01,  -1.07982532e+02,\n",
        "         7.03581625e+01,  -1.27968702e+02,   8.19901218e+01,\n",
        "        -1.46952885e+02,   9.61171506e+01,  -1.78180666e+02,\n",
        "         1.05259192e+02,  -2.38129666e+02,   1.01173139e+02,\n",
        "        -9.49865010e+00,   4.37496066e-01,  -2.57801633e+01,\n",
        "         2.26876151e-02,  -4.24101882e+01,  -1.04997240e-01,\n",
        "        -5.92210071e+01,  -1.41876596e-01,  -7.60911852e+01,\n",
        "        -1.38444463e-01,  -9.29498541e+01,  -9.80236678e-02,\n",
        "        -1.09697033e+02,  -1.20959065e-01,  -1.25772690e+02,\n",
        "         6.38012381e-01,  -1.36546353e+02,  -1.46320869e+00,\n",
        "        -1.41019751e+02,  -3.15548556e+00,  -5.30367819e+00,\n",
        "         9.06398818e-01,  -7.23966323e+00,   6.12030998e-01,\n",
        "        -1.44603728e+01,   1.16531366e+00,  -2.17979219e+01,\n",
        "         1.69893972e+00,  -2.90859300e+01,   2.20844127e+00,\n",
        "        -3.63500375e+01,   2.72565950e+00,  -4.35500879e+01,\n",
        "         3.23597764e+00,  -5.05037009e+01,   5.01314182e+00,\n",
        "        -5.62198219e+01,   1.17241306e+01,  -5.71006460e+01,\n",
        "         1.15120038e+01,   1.00930091e+01,   2.55339968e+01,\n",
        "         1.67011321e-01,   5.03109329e+01,   6.46413146e-01,\n",
        "         7.52579886e+01,   9.67999169e-01,   1.00290135e+02,\n",
        "         1.23506120e+00,   1.25359919e+02,   1.50877191e+00,\n",
        "         1.50441979e+02,   1.74155258e+00,   1.75562335e+02,\n",
        "         2.21348133e+00,   2.01633819e+02,   2.63203025e+00,\n",
        "         2.26576311e+02,   3.49288352e+00,   2.98224975e+02,\n",
        "        -3.32448301e+00,   4.20900806e+00,  -2.15549936e+00,\n",
        "         4.16897119e+00,  -2.97360334e+00,   6.62089042e+00,\n",
        "        -4.37049182e+00,   9.25069754e+00,  -5.81339470e+00,\n",
        "         1.19000295e+01,  -7.25042690e+00,   1.45786511e+01,\n",
        "        -8.62150397e+00,   1.73361755e+01,  -9.81512318e+00,\n",
        "         2.21597676e+01,  -9.54451816e+00,   3.14014115e+01,\n",
        "         6.70023381e+00,   5.40943706e+01,   1.35582835e+02,\n",
        "        -3.88665291e+01,   3.95571757e-01,  -6.46613397e+01,\n",
        "         4.22729739e-01,  -9.04923159e+01,   5.06749855e-01,\n",
        "        -1.16359406e+02,   6.10353068e-01,  -1.42235794e+02,\n",
        "         7.18430321e-01,  -1.68151750e+02,   7.91053210e-01,\n",
        "        -1.94173965e+02,   5.73878287e-01,  -2.21295430e+02,\n",
        "        -4.25228528e-01,  -2.43722303e+02,  -1.43067712e+01,\n",
        "        -1.83176592e+00,   2.94432985e+00,   3.92532789e-02,\n",
        "         2.21181044e+00,   4.38448159e+00,   2.51128233e+00,\n",
        "         7.02564220e+00,   3.33125245e+00,   9.44705386e+00,\n",
        "         4.24979250e+00,   1.18325913e+01,   5.21938698e+00,\n",
        "         1.42667459e+01,   6.36667012e+00,   1.68027837e+01,\n",
        "         9.77227252e+00,   2.26299690e+01,   2.03160814e+01,\n",
        "         4.98827877e+01,   5.33149798e+01,   1.88412325e+02,\n",
        "        -5.10192322e+01,   2.75754600e-01,  -7.64140509e+01,\n",
        "         2.80916955e-01,  -1.01841571e+02,   3.26457168e-01,\n",
        "        -1.27294384e+02,   3.85706224e-01,  -1.52748434e+02,\n",
        "         4.17939235e-01,  -1.78346499e+02,   5.31651707e-01,\n",
        "        -2.03785661e+02,   1.74332391e+00,  -2.34067032e+02,\n",
        "        -8.62158314e+00,  -2.81883349e+02,   7.64897612e-01,\n",
        "        -1.29877464e+00,   1.55874471e+00,  -5.96044633e-01,\n",
        "        -1.06360027e-02,   1.76828609e+00,  -9.35219234e-01,\n",
        "         2.87836104e+00,  -1.42398112e+00,   3.78341777e+00,\n",
        "        -1.82356488e+00,   4.62663101e+00,  -2.22362078e+00,\n",
        "         5.36855212e+00,  -2.69060537e+00,   5.06755500e+00,\n",
        "        -3.59403205e+00,  -4.34830278e+00,  -1.71638697e+01,\n",
        "        -1.57399585e+01,  -1.35486069e+02,   6.35248874e+01,\n",
        "        -1.92289818e-01,   8.88333687e+01,  -1.76609750e-01,\n",
        "         1.14166739e+02,  -1.94901138e-01,   1.39531023e+02,\n",
        "        -2.24732233e-01,   1.64879002e+02,  -3.15891223e-01,\n",
        "         1.90383821e+02,  -4.62241685e-01,   2.16105133e+02,\n",
        "        -5.47113401e+00,   2.44547219e+02,  -2.54154713e+01,\n",
        "         3.60799394e-01,  -5.38828511e-01,   8.22009716e-01,\n",
        "        -1.18173280e+00,  -5.76933341e-02,   1.21641148e-01,\n",
        "        -2.15985628e+00,   9.67503196e-01,  -3.25455010e+00,\n",
        "         1.42172906e+00,  -4.15669794e+00,   1.74433970e+00,\n",
        "        -5.06590461e+00,   1.93014625e+00,  -6.33520509e+00,\n",
        "         1.20757794e+00,  -8.85783442e+00,  -1.08493888e+01,\n",
        "        -3.50479644e+01,  -4.18396288e+01,  -1.26386754e+02,\n",
        "         7.60990396e+01,  -1.35010543e-01,   1.01382952e+02,\n",
        "        -9.93590146e-02,   1.26693102e+02,  -1.02973947e-01,\n",
        "         1.52018116e+02,  -8.17595827e-02,   1.77384138e+02,\n",
        "        -3.21722005e-01,   2.02180143e+02,  -1.55926806e+00,\n",
        "         2.31643541e+02,  -1.25234394e+01,   2.29487652e+02,\n",
        "        -1.51537094e-01,   2.57288933e-01,  -4.07612211e-01,\n",
        "         7.62894292e-01,  -8.82067322e-01,   1.41873365e-01,\n",
        "         2.41375441e-01,  -1.48104598e+00,   1.03888350e+00,\n",
        "        -2.26871021e+00,   1.47863926e+00,  -2.83748055e+00,\n",
        "         1.87280189e+00,  -3.22174785e+00,   2.20552711e+00,\n",
        "        -2.45873772e+00,   3.36595594e+00,   4.19639569e+00,\n",
        "         1.81847079e+01,   9.89130771e+00,   1.07015893e+02,\n",
        "        -8.86963742e+01,   1.03450822e-01,  -1.13956531e+02,\n",
        "         6.93193906e-02,  -1.39251010e+02,   7.26211596e-02,\n",
        "        -1.64531654e+02,   1.69249174e-01,  -1.89873308e+02,\n",
        "         2.15461843e-01,  -2.14623092e+02,   1.85304156e+00,\n",
        "        -2.43811539e+02,  -8.75101648e+00,  -7.01604643e-02,\n",
        "         9.96163131e-02,  -1.77085863e-01,   3.29265524e-01,\n",
        "        -5.54137690e-01,   7.42748132e-01,  -2.26439396e-02,\n",
        "        -2.04318360e-01,   1.39143778e+00,  -9.30315772e-01,\n",
        "         2.09036740e+00,  -1.29580767e+00,   2.63267016e+00,\n",
        "        -1.29803844e+00,   3.27699269e+00,  -2.21099481e-01,\n",
        "         4.79223199e+00,   3.73948911e+00,   2.21105271e+01,\n",
        "         3.95660538e+01,   8.94373660e+01,  -1.01319911e+02,\n",
        "         8.12412883e-02,  -1.26584112e+02,   5.16769644e-02,\n",
        "        -1.51872076e+02,   1.39123732e-02,  -1.77240809e+02,\n",
        "         2.20026781e-01,  -2.02649850e+02,   5.12538604e-01,\n",
        "        -2.26815444e+02,   4.64737864e+00,  -2.48840198e+02,\n",
        "         2.69922342e-02,  -5.44325594e-02,   8.92788339e-02,\n",
        "        -1.93294171e-01,   3.07556435e-01,  -5.66537511e-01,\n",
        "         7.14879734e-01,  -1.84099704e-01,  -7.93515255e-02,\n",
        "         1.01250926e+00,  -7.30924438e-01,   1.58147742e+00,\n",
        "        -1.04907092e+00,   1.83879297e+00,  -1.43412909e+00,\n",
        "         1.27522284e+00,  -1.75526217e+00,   3.00924755e+00,\n",
        "        -4.21638937e+00,  -1.06749608e+01,  -7.14989672e+01,\n",
        "        -1.13946776e+02,   7.09646225e-02,  -1.39212086e+02,\n",
        "         3.66329838e-02,  -1.64466994e+02,   1.02361808e-01,\n",
        "        -1.89683505e+02,   4.36899844e-01,  -2.14264917e+02,\n",
        "         3.28385696e-01,  -2.34825561e+02,   1.50610042e+01,\n",
        "        -1.11535061e-02,   1.50917973e-02,  -3.10648808e-02,\n",
        "         6.10316339e-02,  -1.34580629e-01,   2.53233586e-01,\n",
        "        -4.70614907e-01,   6.47629314e-01,  -1.62631182e-01,\n",
        "        -5.26590082e-02,   9.09657493e-01,  -6.80400839e-01,\n",
        "         1.42420847e+00,  -9.56062531e-01,   1.93274408e+00,\n",
        "        -1.19692016e+00,   9.98651248e-01,  -2.31316228e+00,\n",
        "         1.92537603e+00,   3.32993347e+01,   6.50266353e+01,\n",
        "        -1.26583214e+02,   6.15213201e-02,  -1.51844912e+02,\n",
        "        -1.00536399e-02,  -1.77264839e+02,  -1.74761997e-01,\n",
        "        -2.02882015e+02,  -4.57510290e-01,  -2.29026052e+02,\n",
        "        -6.95585318e+00,  -2.80129857e+02,   1.42316125e-03,\n",
        "        -1.20385153e-02,   1.72447444e-02,  -4.85171788e-02,\n",
        "         7.10965505e-02,  -1.60322991e-01,   2.60843623e-01,\n",
        "        -4.98231914e-01,   6.60957795e-01,  -2.77898192e-01,\n",
        "         4.89751543e-02,   7.18346599e-01,  -4.99149560e-01,\n",
        "         1.26561798e+00,  -7.36405688e-01,   1.86138036e+00,\n",
        "        -1.88634071e-01,   4.15961417e+00,  -4.45791709e+00,\n",
        "        -1.86910055e+01,  -6.36897380e+01,  -1.39222999e+02,\n",
        "         6.10519385e-02,  -1.64463945e+02,   2.63920041e-02,\n",
        "        -1.89911267e+02,  -1.32675600e-01,  -2.15949334e+02,\n",
        "         2.84904164e+00,  -2.39608448e+02,   9.83394224e+00,\n",
        "        -2.59286522e-03,   2.21357539e-03,  -6.48254319e-03,\n",
        "         1.03339288e-02,  -2.63966960e-02,   5.50833618e-02,\n",
        "        -1.24272922e-01,   2.41159690e-01,  -4.43755125e-01,\n",
        "         6.32930936e-01,  -2.66973313e-01,   8.29964083e-02,\n",
        "         6.15558855e-01,  -5.72286189e-01,   1.01095901e+00,\n",
        "        -1.43238212e+00,   1.34809817e+00,   1.07999094e-01,\n",
        "        -8.63288648e+00,   2.21639313e+01,   6.44702941e+01,\n",
        "        -1.51867329e+02,   1.97418096e-02,  -1.77115189e+02,\n",
        "         1.48564529e-01,  -2.02661189e+02,   1.42169403e+00,\n",
        "        -2.30575643e+02,  -3.12888774e+00,  -2.45801434e+02,\n",
        "        -2.91397538e-03,  -1.83560412e-03,   8.94833202e-03,\n",
        "        -1.31154529e-02,   3.14705640e-02,  -4.52952312e-02,\n",
        "         8.88562393e-02,  -1.45257808e-01,   2.86246793e-01,\n",
        "        -4.74373257e-01,   6.95789343e-01,  -3.55413796e-01,\n",
        "         1.98566731e-01,   4.58695361e-01,  -3.75906552e-01,\n",
        "         8.35659262e-01,  -2.06901999e+00,  -1.13435587e-01,\n",
        "         1.32991833e+00,  -2.23921257e+01,  -6.80198316e+01,\n",
        "        -1.64496976e+02,  -3.85962063e-02,  -1.89992845e+02,\n",
        "         3.83104320e-02,  -2.17536098e+02,  -2.86687983e+00,\n",
        "        -2.38223965e+02,  -1.20660834e+01,  -1.43181502e-04,\n",
        "        -1.65602734e-03,   6.21534141e-04,  -2.82424219e-03,\n",
        "        -2.62911625e-02,   3.64615529e-02,  -8.16935357e-02,\n",
        "         1.04364065e-01,  -2.04820871e-01,   2.54053749e-01,\n",
        "        -5.56049080e-01,   7.26510701e-01,  -5.63644837e-01,\n",
        "         4.81720963e-01,   4.82070515e-01,   1.40090316e-01,\n",
        "         4.21889582e+00,   2.78727024e+00,   3.42740088e+00,\n",
        "         1.50870823e+01,   7.41506936e+01,   1.77080525e+02,\n",
        "        -2.20898887e-01,   2.02247882e+02,  -1.20195778e+00,\n",
        "         2.24211098e+02,  -3.17503511e+00,   2.35229291e+02,\n",
        "         2.74590855e-03,  -1.05808365e-03,  -1.54590434e-02,\n",
        "         4.13457589e-02,  -3.57526843e-02,   7.93619259e-02,\n",
        "        -1.95250601e-02,   8.34664582e-02,  -1.57419738e-02,\n",
        "         3.09320537e-01,  -1.94360552e-01,   5.40688116e-01,\n",
        "        -6.63714768e-01,   8.53986617e-01,  -7.81189361e-02,\n",
        "        -3.47030791e-01,   3.49949010e+00,  -2.67423940e-01,\n",
        "        -2.00390124e+00,   1.51451119e+01,   8.17681239e+01,\n",
        "         1.89891451e+02,  -5.96869116e-01,   2.14823310e+02,\n",
        "        -1.15499003e+00,   2.42621808e+02,  -2.64670568e+01,\n",
        "         3.51987351e-03,  -1.85348701e-03,  -9.76121210e-03,\n",
        "        -7.24075658e-03,   1.16381539e-02,  -5.37420226e-02,\n",
        "         2.41158344e-01,  -3.95446535e-01,   5.47149587e-01,\n",
        "        -4.27140374e-01,   4.10649956e-01,  -8.43125454e-01,\n",
        "         5.55518730e-01,  -1.92930951e+00,   6.98457067e-01,\n",
        "        -1.74579700e+00,  -2.78295983e+00,  -2.23399413e+00,\n",
        "        -1.03485856e+00,  -1.89476401e+01,  -8.51091485e+01,\n",
        "         2.02380400e+02,  -7.49187429e-01,   2.28407894e+02,\n",
        "        -1.13757121e+00,   2.63437156e+02,   6.22493076e-03,\n",
        "         3.53211620e-03,  -9.08872181e-02,   2.81840735e-02,\n",
        "         4.08896367e-02,  -1.34684309e-01,   3.09022373e-01,\n",
        "        -2.78996137e-01,   3.40002903e-01,   2.56454886e-01,\n",
        "        -5.94695950e-01,   2.59986043e-03,  -1.01036979e+00,\n",
        "        -2.92598376e-03,  -1.15542282e+00,  -1.14766818e+00,\n",
        "         2.29404386e+00,  -4.40168113e+00,  -6.68923985e+00,\n",
        "         4.05080101e+00,   8.53716595e+01,  -2.13973013e+02,\n",
        "         1.98125992e+00,  -2.29703877e+02,   3.99870344e+01,\n",
        "         2.15004470e-03,   3.35138782e-02,   1.01031982e-01,\n",
        "        -1.53411142e-01,   4.04034282e-01,   8.28724821e-02,\n",
        "        -7.44321493e-01,   1.98946523e+00,  -1.86200313e+00,\n",
        "         2.28050770e+00,  -2.01589511e+00,   2.44928442e+00,\n",
        "        -2.56246167e+00,   2.49337622e+00,  -2.87073321e+00,\n",
        "         3.51407340e+00,  -1.89682226e+00,   5.75258986e+00,\n",
        "        -7.61575961e+00,   3.04168157e+01,   7.19400940e+01,\n",
        "        -2.29436220e+02,  -5.35657924e+00,  -2.71046256e+02,\n",
        "         4.20902619e-03,  -1.15072001e-01,  -2.38464615e-01,\n",
        "         5.89179559e-01,  -1.57404574e+00,   1.52530711e+00,\n",
        "        -9.03144336e-01,  -1.13214863e+00,   2.45101936e+00,\n",
        "        -3.25564712e+00,   3.08602741e+00,  -5.39505623e+00,\n",
        "         5.63394244e+00,  -9.48237620e+00,   8.08486768e+00,\n",
        "        -7.96645411e+00,  -2.47784647e-01,   3.58326982e+00,\n",
        "         9.58307786e+00,   5.86438161e+00,  -5.33130705e+01,\n",
        "        -2.52390710e+02,   2.06554752e+01,  -1.10170231e-01,\n",
        "         3.00273920e-01,   4.37791854e-01,  -1.57977131e+00,\n",
        "         4.09547421e+00,  -6.41161615e+00,   1.09615503e+01,\n",
        "        -1.37325809e+01,   1.71558248e+01,  -1.71393684e+01,\n",
        "         1.86073461e+01,  -1.64034899e+01,   1.57058024e+01,\n",
        "        -1.08048469e+01,   8.22358853e+00,  -1.48030522e+00,\n",
        "         7.58750843e-01,   7.66094982e-01,  -1.57347917e+01,\n",
        "         1.75269454e+01,   8.87855543e+01,  -2.52328765e+02,\n",
        "        -8.36338521e-02,   6.18125487e-01,   3.18935181e-01,\n",
        "        -7.69966904e-01,   5.17497594e+00,  -4.91661004e+00,\n",
        "         9.92876801e+00,  -8.13806520e+00,   1.46697727e+01,\n",
        "        -1.35381333e+01,   2.25787664e+01,  -2.03473466e+01,\n",
        "         2.95656946e+01,  -2.57870927e+01,   3.87228230e+01,\n",
        "        -3.87685492e+01,   5.56815638e+01,  -5.52782001e+01,\n",
        "         7.77652960e+01,  -5.84499411e+01,   6.50825284e+01,\n",
        "        -1.50894229e+00,   2.56450331e+00,   1.25924387e+01,\n",
        "        -8.08471824e+00,   3.39680739e+01,  -1.85617861e+01,\n",
        "         5.35406627e+01,  -2.72332982e+01,   7.18207966e+01,\n",
        "        -3.53494244e+01,   8.98455401e+01,  -4.32234503e+01,\n",
        "         1.08032716e+02,  -5.14720554e+01,   1.25710999e+02,\n",
        "        -5.78923440e+01,   1.45150596e+02,  -7.11119362e+01,\n",
        "         1.56561873e+02,  -5.52369587e+01,   2.51212382e+02,\n",
        "         5.20809534e+00,   1.29445679e+01,   7.28417515e+00,\n",
        "         2.84354734e+01,   1.14596111e+01,   4.28053136e+01,\n",
        "         1.60464571e+01,   5.70486997e+01,   2.08640166e+01,\n",
        "         7.10114381e+01,   2.56605375e+01,   8.52460888e+01,\n",
        "         3.03537516e+01,   9.92048030e+01,   3.63444216e+01,\n",
        "         1.14575087e+02,   4.08133267e+01,   1.29318385e+02,\n",
        "         9.28043411e+01,   2.10845292e+02,   1.31397307e+01,\n",
        "         2.60361670e+01,   9.86460005e+00,   5.18612148e+01,\n",
        "         1.06358087e+01,   7.45931397e+01,   1.34420955e+01,\n",
        "         9.61966085e+01,   1.69531944e+01,   1.17323748e+02,\n",
        "         2.03447318e+01,   1.38702794e+02,   2.42623421e+01,\n",
        "         1.58797598e+02,   3.12238542e+01,   1.81689455e+02,\n",
        "         5.40826027e+01,   2.28934782e+02,   1.92512603e+01,\n",
        "        -2.31208068e+01,  -2.36725615e+01,  -2.41565482e+01,\n",
        "        -4.29386582e+01,  -3.01051572e+01,  -5.87238776e+01,\n",
        "        -3.79797737e+01,  -7.33702905e+01,  -4.68443849e+01,\n",
        "        -8.76523038e+01,  -5.57339184e+01,  -1.01283617e+02,\n",
        "        -6.52457381e+01,  -1.12649144e+02,  -8.22666042e+01,\n",
        "        -1.25441853e+02,  -1.07137704e+02,  -2.11562925e+02,\n",
        "        -4.10848872e+01,  -1.22708570e+01,  -5.43265750e+01,\n",
        "        -2.09934196e+01,  -7.08208250e+01,  -2.78965679e+01,\n",
        "        -8.83308083e+01,  -3.38014284e+01,  -1.06450335e+02,\n",
        "        -3.96004339e+01,  -1.25225113e+02,  -4.33619543e+01,\n",
        "        -1.44966803e+02,  -4.84799377e+01,  -1.55745448e+02,\n",
        "        -7.22750397e+01,  -1.49849878e+02,   5.98578064e+01,\n",
        "         3.73593897e+00,   8.12383917e+01,   6.17163721e+00,\n",
        "         1.03801309e+02,   7.84862279e+00,   1.27098612e+02,\n",
        "         8.91592742e+00,   1.50767114e+02,   9.16774178e+00,\n",
        "         1.74949092e+02,   1.03324977e+01,   1.97876415e+02,\n",
        "         9.47604515e+00,   2.30918744e+02,  -1.22109552e+02,\n",
        "         7.51148491e+01,   8.72712695e-01,   9.93257649e+01,\n",
        "         1.53623205e+00,   1.24134411e+02,   1.64447093e+00,\n",
        "         1.49374929e+02,   1.39243517e+00,   1.74973104e+02,\n",
        "         1.40347686e+00,   1.98837835e+02,   3.69368144e+00,\n",
        "         2.12138466e+02,  -1.95492099e+01,   3.33837303e+02,\n",
        "         8.84147001e+01,   3.80166194e-02,   1.13395563e+02,\n",
        "         4.83848836e-02,   1.38702175e+02,  -2.69061661e-01,\n",
        "         1.64143470e+02,  -1.22137425e+00,   1.88355484e+02,\n",
        "         5.01389601e-01,   2.14613736e+02,   3.79540336e+00,\n",
        "         2.52153630e+02,  -1.35992823e+02,  -1.01310571e+02,\n",
        "         2.59449623e-01,  -1.26574442e+02,   2.48553175e-01,\n",
        "        -1.51969187e+02,   2.66648915e-01,  -1.77854441e+02,\n",
        "        -2.98959048e-01,  -2.02370561e+02,  -4.29871877e+00,\n",
        "        -2.39211391e+02,  -8.36011429e+00,  -3.14491419e+02,\n",
        "        -1.14000299e+02,   2.03631597e-01,  -1.39127348e+02,\n",
        "         8.84014199e-02,  -1.64359951e+02,   2.86812703e-01,\n",
        "        -1.89344622e+02,  -1.18880437e+00,  -2.09840638e+02,\n",
        "         3.29379816e+00,  -2.29404316e+02,   1.83529853e+02,\n",
        "        -1.26600671e+02,   7.25417957e-02,  -1.51651562e+02,\n",
        "        -2.25339788e-01,  -1.77353932e+02,  -7.80706102e-01,\n",
        "        -2.02863098e+02,  -1.22823858e+01,  -2.45535420e+02,\n",
        "        -5.53682741e+00,  -2.93372571e+02,   1.39140386e+02,\n",
        "         1.87333653e-02,   1.63929091e+02,  -5.46771573e-01,\n",
        "         1.87988876e+02,  -2.68440150e-02,   2.03769005e+02,\n",
        "         3.54665558e-01,   2.38737186e+02,  -3.21362109e+01,\n",
        "        -1.51803282e+02,  -2.31248589e-01,  -1.76941951e+02,\n",
        "        -9.34125205e-01,  -2.02199674e+02,  -8.19896006e+00,\n",
        "        -2.54142241e+02,   1.37337814e+01,  -1.99702326e+02,\n",
        "         1.64401506e+02,   6.18075478e-01,   1.88654328e+02,\n",
        "         1.05740810e+00,   2.11974522e+02,  -4.95134870e+00,\n",
        "         2.67191295e+02,   3.47848552e+01,   1.76943174e+02,\n",
        "        -2.00517420e-01,   2.00498311e+02,   3.42608480e+00,\n",
        "         2.37556100e+02,   4.96104104e+00,   2.07669463e+02,\n",
        "        -1.89365696e+02,  -1.14064430e+00,  -2.12747664e+02,\n",
        "         2.45428176e+01,  -2.25046688e+02,  -6.15895498e+01,\n",
        "        -2.00713423e+02,  -9.98404005e+00,  -2.39844505e+02,\n",
        "        -3.86120053e+01,  -2.09751692e+02,   2.13044071e+02,\n",
        "        -1.16833014e+01,   2.52219116e+02,   8.01432021e+01,\n",
        "        -2.40771758e+02,   2.96898684e+01,  -1.34735825e+02,\n",
        "         2.23555082e+02,   6.84786402e+01,   1.79560237e+02])\n",
        "     fun: array([ -4.82364593e-10,   1.82340143e-10,   4.43828529e-10,\n",
        "         1.03059339e-10,  -2.44837928e-10,  -1.46169743e-10,\n",
        "         1.23459909e-10,  -2.80897527e-11,  -8.06814615e-11,\n",
        "        -6.55259180e-11,   1.47981627e-11,  -1.35035871e-10,\n",
        "         4.34526859e-11,   2.53042032e-12,   4.49058568e-11,\n",
        "         3.25401928e-11,   5.70838377e-10,   5.88420423e-11,\n",
        "         1.16265442e-10,  -3.63011177e-10,   8.77859341e-10,\n",
        "         1.69061432e-10,  -6.53413545e-10,   4.09635215e-10,\n",
        "         3.94964061e-11,  -1.53120183e-10,   3.11942250e-10,\n",
        "         6.64258537e-10,   9.50772794e-12,   6.34443276e-10,\n",
        "         2.34196884e-10,  -2.03042472e-10,   1.85928828e-10,\n",
        "        -2.21519469e-11,   4.40615211e-10,   2.60014232e-12,\n",
        "         4.50844029e-10,   3.79996146e-10,   5.22958565e-10,\n",
        "         8.46731574e-10,   1.50949475e-10,   1.33741906e-11])\n",
        "       x: array([  1.55393396e+00,   4.87290791e-01,  -5.02813099e-02,\n",
        "         1.15609903e-02,  -3.27194591e-03,   1.01732264e-03,\n",
        "        -3.34487829e-04,   1.14239972e-04,  -4.01186082e-05,\n",
        "         1.43923537e-05,  -5.25093279e-06,   1.94208603e-06,\n",
        "        -7.26436904e-07,   2.74310946e-07,  -1.04421263e-07,\n",
        "         4.00314210e-08,  -1.54475757e-08,   6.01310030e-09,\n",
        "        -2.39799163e-09,   1.06808496e-09,  -3.60265051e-10,\n",
        "         1.04197196e+00,   4.11473543e-01,  -5.47477599e-02,\n",
        "         1.16531397e-02,  -2.84105374e-03,   7.58489651e-04,\n",
        "        -2.18203795e-04,   6.67683830e-05,  -2.14624634e-05,\n",
        "         7.16880932e-06,  -2.46645877e-06,   8.68347671e-07,\n",
        "        -3.11324344e-07,   1.13268295e-07,  -4.17092885e-08,\n",
        "         1.55124555e-08,  -5.82032113e-09,   2.20996729e-09,\n",
        "        -8.56999296e-10,   3.73885706e-10,  -1.27459938e-10])\n",
        " message: 'The solution converged.'\n",
        "    fjac: array([[  7.61918839e-05,  -3.05601246e-06,  -6.70710115e-05, ...,\n",
        "         -9.89299200e-02,  -1.89951192e-01,  -1.90013042e-01],\n",
        "       [ -2.10727798e-01,  -2.10549351e-01,  -2.10405205e-01, ...,\n",
        "         -8.46959096e-02,   4.65661370e-02,  -1.63850824e-01],\n",
        "       [ -3.08877382e-01,  -3.01037684e-01,  -2.85725073e-01, ...,\n",
        "          1.46486741e-02,   2.44250993e-02,   2.81488765e-02],\n",
        "       ..., \n",
        "       [  3.15140177e-03,  -7.93608819e-03,   9.48768061e-03, ...,\n",
        "         -7.53660172e-02,   3.18037120e-03,  -2.14235160e-03],\n",
        "       [  2.70949729e-03,  -6.71291879e-03,   7.91598789e-03, ...,\n",
        "          5.07026027e-02,   7.66605989e-03,  -5.16165248e-03],\n",
        "       [ -1.17141526e-03,   3.10611424e-03,  -4.08113422e-03, ...,\n",
        "          2.60761025e-02,  -9.19527232e-04,   6.19228027e-04]])"
       ]
      }
     ],
     "prompt_number": 189
    },
    {
     "cell_type": "code",
     "collapsed": false,
     "input": [
      "colloc_solver._coefficients_mu"
     ],
     "language": "python",
     "metadata": {},
     "outputs": [
      {
       "metadata": {},
       "output_type": "pyout",
       "prompt_number": 94,
       "text": [
        "array([ 1.5,  0.5])"
       ]
      }
     ],
     "prompt_number": 94
    },
    {
     "cell_type": "code",
     "collapsed": false,
     "input": [
      "colloc_solver._coefficients_theta"
     ],
     "language": "python",
     "metadata": {},
     "outputs": [
      {
       "metadata": {},
       "output_type": "pyout",
       "prompt_number": 95,
       "text": [
        "array([  1.00000000e+00,   6.12164182e-17])"
       ]
      }
     ],
     "prompt_number": 95
    },
    {
     "cell_type": "code",
     "collapsed": false,
     "input": [
      "colloc_solver._collocation_nodes_theta"
     ],
     "language": "python",
     "metadata": {},
     "outputs": [
      {
       "metadata": {},
       "output_type": "pyout",
       "prompt_number": 52,
       "text": [
        "array([ 1.00615583,  1.05449674,  1.14644661,  1.27300475,  1.42178277,\n",
        "        1.57821723,  1.72699525,  1.85355339,  1.94550326,  1.99384417])"
       ]
      }
     ],
     "prompt_number": 52
    },
    {
     "cell_type": "code",
     "collapsed": false,
     "input": [
      "colloc_solver.evaluate_residual_mu(colloc_solver._collocation_nodes_mu)"
     ],
     "language": "python",
     "metadata": {},
     "outputs": [
      {
       "metadata": {},
       "output_type": "pyout",
       "prompt_number": 53,
       "text": [
        "array([-inf, -inf, -inf, -inf, -inf, -inf, -inf, -inf, -inf, -inf])"
       ]
      }
     ],
     "prompt_number": 53
    },
    {
     "cell_type": "code",
     "collapsed": false,
     "input": [
      "colloc_solver._collocation_system"
     ],
     "language": "python",
     "metadata": {},
     "outputs": [
      {
       "output_type": "stream",
       "stream": "stdout",
       "text": [
        "[-inf -inf -inf -inf -inf -inf -inf -inf -inf -inf  nan  nan  nan  nan  nan\n",
        "  nan  nan  nan  nan  nan  -1.  -2.]\n"
       ]
      },
      {
       "metadata": {},
       "output_type": "pyout",
       "prompt_number": 54,
       "text": [
        "array([-inf, -inf, -inf, -inf, -inf, -inf, -inf, -inf, -inf, -inf,  nan,\n",
        "        nan,  nan,  nan,  nan,  nan,  nan,  nan,  nan,  nan,  -1.,  -2.])"
       ]
      }
     ],
     "prompt_number": 54
    },
    {
     "cell_type": "code",
     "collapsed": false,
     "input": [
      "colloc_solver.evaluate_mu(2)"
     ],
     "language": "python",
     "metadata": {},
     "outputs": [
      {
       "metadata": {},
       "output_type": "pyout",
       "prompt_number": 56,
       "text": [
        "0.0"
       ]
      }
     ],
     "prompt_number": 56
    },
    {
     "cell_type": "code",
     "collapsed": false,
     "input": [
      "colloc_solver._boundary_conditions"
     ],
     "language": "python",
     "metadata": {},
     "outputs": [
      {
       "metadata": {},
       "output_type": "pyout",
       "prompt_number": 57,
       "text": [
        "array([-1., -2.])"
       ]
      }
     ],
     "prompt_number": 57
    },
    {
     "cell_type": "code",
     "collapsed": false,
     "input": [
      "colloc_solver._domain"
     ],
     "language": "python",
     "metadata": {},
     "outputs": [
      {
       "metadata": {},
       "output_type": "pyout",
       "prompt_number": 58,
       "text": [
        "[1.0, 2.0]"
       ]
      }
     ],
     "prompt_number": 58
    },
    {
     "cell_type": "code",
     "collapsed": false,
     "input": [
      "colloc_solver.model.assortativity"
     ],
     "language": "python",
     "metadata": {},
     "outputs": [
      {
       "metadata": {},
       "output_type": "pyout",
       "prompt_number": 59,
       "text": [
        "'positive'"
       ]
      }
     ],
     "prompt_number": 59
    },
    {
     "cell_type": "code",
     "collapsed": false,
     "input": [
      "solver.solve(1e1, tol=1e-6, number_knots=100, atol=1e-15, rtol=1e-12)"
     ],
     "language": "python",
     "metadata": {},
     "outputs": [
      {
       "output_type": "stream",
       "stream": "stdout",
       "text": [
        "Exhausted workers: initial guess of 5.0 for firm size is too high!\n",
        "Exhausted workers: initial guess of 2.5 for firm size is too high!\n",
        "Exhausted workers: initial guess of 1.25 for firm size is too high!\n",
        "Exhausted firms: initial guess of 0.625 for firm size is too low."
       ]
      },
      {
       "output_type": "stream",
       "stream": "stdout",
       "text": [
        "\n",
        "Exhausted firms: initial guess of 0.9375 for firm size is too low.\n",
        "Exhausted workers: initial guess of 1.09375 for firm size is too high!\n",
        "Exhausted workers: initial guess of 1.015625 for firm size is too high!"
       ]
      },
      {
       "output_type": "stream",
       "stream": "stdout",
       "text": [
        "\n",
        "Exhausted workers: initial guess of 0.9765625 for firm size is too high!\n",
        "Exhausted workers: initial guess of 0.95703125 for firm size is too high!"
       ]
      },
      {
       "output_type": "stream",
       "stream": "stdout",
       "text": [
        "\n",
        "Exhausted firms: Initial guess of 0.947265625 for firm size was too low!\n",
        "Exhausted workers: initial guess of 0.9521484375 for firm size is too high!"
       ]
      },
      {
       "output_type": "stream",
       "stream": "stdout",
       "text": [
        "\n",
        "Exhausted workers: initial guess of 0.94970703125 for firm size is too high!\n",
        "Exhausted workers: initial guess of 0.948486328125 for firm size is too high!"
       ]
      },
      {
       "output_type": "stream",
       "stream": "stdout",
       "text": [
        "\n",
        "Exhausted workers: initial guess of 0.947875976562 for firm size is too high!\n",
        "Exhausted workers: initial guess of 0.947570800781 for firm size is too high!"
       ]
      },
      {
       "output_type": "stream",
       "stream": "stdout",
       "text": [
        "\n",
        "Exhausted workers: initial guess of 0.947418212891 for firm size is too high!\n",
        "Exhausted workers: initial guess of 0.947341918945 for firm size is too high!"
       ]
      },
      {
       "output_type": "stream",
       "stream": "stdout",
       "text": [
        "\n",
        "Exhausted workers: initial guess of 0.947303771973 for firm size is too high!\n",
        "Exhausted workers: initial guess of 0.947284698486 for firm size is too high!"
       ]
      },
      {
       "output_type": "stream",
       "stream": "stdout",
       "text": [
        "\n",
        "Exhausted firms: Initial guess of 0.947275161743 for firm size was too low!\n",
        "Exhausted workers: initial guess of 0.947279930115 for firm size is too high!"
       ]
      },
      {
       "output_type": "stream",
       "stream": "stdout",
       "text": [
        "\n",
        "Exhausted firms: Initial guess of 0.947277545929 for firm size was too low!\n",
        "Success! All workers and firms are matched"
       ]
      },
      {
       "output_type": "stream",
       "stream": "stdout",
       "text": [
        "\n"
       ]
      }
     ],
     "prompt_number": 8
    },
    {
     "cell_type": "code",
     "collapsed": false,
     "input": [
      "# examine the solution attribute\n",
      "solver.solution"
     ],
     "language": "python",
     "metadata": {},
     "outputs": [
      {
       "html": [
        "<div style=\"max-height:1000px;max-width:1500px;overflow:auto;\">\n",
        "<table border=\"1\" class=\"dataframe\">\n",
        "  <thead>\n",
        "    <tr style=\"text-align: right;\">\n",
        "      <th></th>\n",
        "      <th>firm productivity</th>\n",
        "      <th>firm size</th>\n",
        "      <th>wage</th>\n",
        "      <th>profit</th>\n",
        "    </tr>\n",
        "    <tr>\n",
        "      <th>x</th>\n",
        "      <th></th>\n",
        "      <th></th>\n",
        "      <th></th>\n",
        "      <th></th>\n",
        "    </tr>\n",
        "  </thead>\n",
        "  <tbody>\n",
        "    <tr>\n",
        "      <th>1.000000</th>\n",
        "      <td> 0.999999</td>\n",
        "      <td> 1.089348</td>\n",
        "      <td> 0.429310</td>\n",
        "      <td> 0.571594</td>\n",
        "    </tr>\n",
        "    <tr>\n",
        "      <th>1.010101</th>\n",
        "      <td> 1.009285</td>\n",
        "      <td> 1.086340</td>\n",
        "      <td> 0.434131</td>\n",
        "      <td> 0.576417</td>\n",
        "    </tr>\n",
        "    <tr>\n",
        "      <th>1.020202</th>\n",
        "      <td> 1.018595</td>\n",
        "      <td> 1.083403</td>\n",
        "      <td> 0.438957</td>\n",
        "      <td> 0.581249</td>\n",
        "    </tr>\n",
        "    <tr>\n",
        "      <th>1.030303</th>\n",
        "      <td> 1.027931</td>\n",
        "      <td> 1.080534</td>\n",
        "      <td> 0.443788</td>\n",
        "      <td> 0.586090</td>\n",
        "    </tr>\n",
        "    <tr>\n",
        "      <th>1.040404</th>\n",
        "      <td> 1.037292</td>\n",
        "      <td> 1.077730</td>\n",
        "      <td> 0.448625</td>\n",
        "      <td> 0.590940</td>\n",
        "    </tr>\n",
        "    <tr>\n",
        "      <th>1.050505</th>\n",
        "      <td> 1.046676</td>\n",
        "      <td> 1.074990</td>\n",
        "      <td> 0.453467</td>\n",
        "      <td> 0.595799</td>\n",
        "    </tr>\n",
        "    <tr>\n",
        "      <th>1.060606</th>\n",
        "      <td> 1.056084</td>\n",
        "      <td> 1.072310</td>\n",
        "      <td> 0.458313</td>\n",
        "      <td> 0.600666</td>\n",
        "    </tr>\n",
        "    <tr>\n",
        "      <th>1.070707</th>\n",
        "      <td> 1.065516</td>\n",
        "      <td> 1.069689</td>\n",
        "      <td> 0.463165</td>\n",
        "      <td> 0.605541</td>\n",
        "    </tr>\n",
        "    <tr>\n",
        "      <th>1.080808</th>\n",
        "      <td> 1.074970</td>\n",
        "      <td> 1.067126</td>\n",
        "      <td> 0.468022</td>\n",
        "      <td> 0.610425</td>\n",
        "    </tr>\n",
        "    <tr>\n",
        "      <th>1.090909</th>\n",
        "      <td> 1.084447</td>\n",
        "      <td> 1.064617</td>\n",
        "      <td> 0.472884</td>\n",
        "      <td> 0.615316</td>\n",
        "    </tr>\n",
        "    <tr>\n",
        "      <th>1.101010</th>\n",
        "      <td> 1.093946</td>\n",
        "      <td> 1.062161</td>\n",
        "      <td> 0.477751</td>\n",
        "      <td> 0.620214</td>\n",
        "    </tr>\n",
        "    <tr>\n",
        "      <th>1.111111</th>\n",
        "      <td> 1.103466</td>\n",
        "      <td> 1.059756</td>\n",
        "      <td> 0.482622</td>\n",
        "      <td> 0.625120</td>\n",
        "    </tr>\n",
        "    <tr>\n",
        "      <th>1.121212</th>\n",
        "      <td> 1.113009</td>\n",
        "      <td> 1.057401</td>\n",
        "      <td> 0.487499</td>\n",
        "      <td> 0.630033</td>\n",
        "    </tr>\n",
        "    <tr>\n",
        "      <th>1.131313</th>\n",
        "      <td> 1.122572</td>\n",
        "      <td> 1.055094</td>\n",
        "      <td> 0.492380</td>\n",
        "      <td> 0.634954</td>\n",
        "    </tr>\n",
        "    <tr>\n",
        "      <th>1.141414</th>\n",
        "      <td> 1.132156</td>\n",
        "      <td> 1.052834</td>\n",
        "      <td> 0.497266</td>\n",
        "      <td> 0.639881</td>\n",
        "    </tr>\n",
        "    <tr>\n",
        "      <th>1.151515</th>\n",
        "      <td> 1.141760</td>\n",
        "      <td> 1.050619</td>\n",
        "      <td> 0.502157</td>\n",
        "      <td> 0.644815</td>\n",
        "    </tr>\n",
        "    <tr>\n",
        "      <th>1.161616</th>\n",
        "      <td> 1.151384</td>\n",
        "      <td> 1.048447</td>\n",
        "      <td> 0.507053</td>\n",
        "      <td> 0.649755</td>\n",
        "    </tr>\n",
        "    <tr>\n",
        "      <th>1.171717</th>\n",
        "      <td> 1.161028</td>\n",
        "      <td> 1.046318</td>\n",
        "      <td> 0.511953</td>\n",
        "      <td> 0.654702</td>\n",
        "    </tr>\n",
        "    <tr>\n",
        "      <th>1.181818</th>\n",
        "      <td> 1.170692</td>\n",
        "      <td> 1.044229</td>\n",
        "      <td> 0.516858</td>\n",
        "      <td> 0.659656</td>\n",
        "    </tr>\n",
        "    <tr>\n",
        "      <th>1.191919</th>\n",
        "      <td> 1.180374</td>\n",
        "      <td> 1.042180</td>\n",
        "      <td> 0.521767</td>\n",
        "      <td> 0.664615</td>\n",
        "    </tr>\n",
        "    <tr>\n",
        "      <th>1.202020</th>\n",
        "      <td> 1.190076</td>\n",
        "      <td> 1.040170</td>\n",
        "      <td> 0.526681</td>\n",
        "      <td> 0.669580</td>\n",
        "    </tr>\n",
        "    <tr>\n",
        "      <th>1.212121</th>\n",
        "      <td> 1.199796</td>\n",
        "      <td> 1.038197</td>\n",
        "      <td> 0.531600</td>\n",
        "      <td> 0.674551</td>\n",
        "    </tr>\n",
        "    <tr>\n",
        "      <th>1.222222</th>\n",
        "      <td> 1.209535</td>\n",
        "      <td> 1.036260</td>\n",
        "      <td> 0.536523</td>\n",
        "      <td> 0.679528</td>\n",
        "    </tr>\n",
        "    <tr>\n",
        "      <th>1.232323</th>\n",
        "      <td> 1.219291</td>\n",
        "      <td> 1.034359</td>\n",
        "      <td> 0.541451</td>\n",
        "      <td> 0.684511</td>\n",
        "    </tr>\n",
        "    <tr>\n",
        "      <th>1.242424</th>\n",
        "      <td> 1.229066</td>\n",
        "      <td> 1.032491</td>\n",
        "      <td> 0.546383</td>\n",
        "      <td> 0.689499</td>\n",
        "    </tr>\n",
        "    <tr>\n",
        "      <th>1.252525</th>\n",
        "      <td> 1.238857</td>\n",
        "      <td> 1.030657</td>\n",
        "      <td> 0.551320</td>\n",
        "      <td> 0.694493</td>\n",
        "    </tr>\n",
        "    <tr>\n",
        "      <th>1.262626</th>\n",
        "      <td> 1.248667</td>\n",
        "      <td> 1.028854</td>\n",
        "      <td> 0.556260</td>\n",
        "      <td> 0.699491</td>\n",
        "    </tr>\n",
        "    <tr>\n",
        "      <th>1.272727</th>\n",
        "      <td> 1.258493</td>\n",
        "      <td> 1.027083</td>\n",
        "      <td> 0.561206</td>\n",
        "      <td> 0.704495</td>\n",
        "    </tr>\n",
        "    <tr>\n",
        "      <th>1.282828</th>\n",
        "      <td> 1.268336</td>\n",
        "      <td> 1.025343</td>\n",
        "      <td> 0.566155</td>\n",
        "      <td> 0.709504</td>\n",
        "    </tr>\n",
        "    <tr>\n",
        "      <th>1.292929</th>\n",
        "      <td> 1.278195</td>\n",
        "      <td> 1.023632</td>\n",
        "      <td> 0.571109</td>\n",
        "      <td> 0.714518</td>\n",
        "    </tr>\n",
        "    <tr>\n",
        "      <th>...</th>\n",
        "      <td>...</td>\n",
        "      <td>...</td>\n",
        "      <td>...</td>\n",
        "      <td>...</td>\n",
        "    </tr>\n",
        "    <tr>\n",
        "      <th>1.707071</th>\n",
        "      <td> 1.694467</td>\n",
        "      <td> 0.971475</td>\n",
        "      <td> 0.777619</td>\n",
        "      <td> 0.923313</td>\n",
        "    </tr>\n",
        "    <tr>\n",
        "      <th>1.717172</th>\n",
        "      <td> 1.704869</td>\n",
        "      <td> 0.970515</td>\n",
        "      <td> 0.782733</td>\n",
        "      <td> 0.928466</td>\n",
        "    </tr>\n",
        "    <tr>\n",
        "      <th>1.727273</th>\n",
        "      <td> 1.715282</td>\n",
        "      <td> 0.969566</td>\n",
        "      <td> 0.787849</td>\n",
        "      <td> 0.933621</td>\n",
        "    </tr>\n",
        "    <tr>\n",
        "      <th>1.737374</th>\n",
        "      <td> 1.725706</td>\n",
        "      <td> 0.968626</td>\n",
        "      <td> 0.792969</td>\n",
        "      <td> 0.938778</td>\n",
        "    </tr>\n",
        "    <tr>\n",
        "      <th>1.747475</th>\n",
        "      <td> 1.736139</td>\n",
        "      <td> 0.967697</td>\n",
        "      <td> 0.798093</td>\n",
        "      <td> 0.943937</td>\n",
        "    </tr>\n",
        "    <tr>\n",
        "      <th>1.757576</th>\n",
        "      <td> 1.746582</td>\n",
        "      <td> 0.966778</td>\n",
        "      <td> 0.803219</td>\n",
        "      <td> 0.949098</td>\n",
        "    </tr>\n",
        "    <tr>\n",
        "      <th>1.767677</th>\n",
        "      <td> 1.757035</td>\n",
        "      <td> 0.965869</td>\n",
        "      <td> 0.808349</td>\n",
        "      <td> 0.954262</td>\n",
        "    </tr>\n",
        "    <tr>\n",
        "      <th>1.777778</th>\n",
        "      <td> 1.767498</td>\n",
        "      <td> 0.964970</td>\n",
        "      <td> 0.813482</td>\n",
        "      <td> 0.959427</td>\n",
        "    </tr>\n",
        "    <tr>\n",
        "      <th>1.787879</th>\n",
        "      <td> 1.777970</td>\n",
        "      <td> 0.964079</td>\n",
        "      <td> 0.818619</td>\n",
        "      <td> 0.964594</td>\n",
        "    </tr>\n",
        "    <tr>\n",
        "      <th>1.797980</th>\n",
        "      <td> 1.788453</td>\n",
        "      <td> 0.963198</td>\n",
        "      <td> 0.823759</td>\n",
        "      <td> 0.969763</td>\n",
        "    </tr>\n",
        "    <tr>\n",
        "      <th>1.808081</th>\n",
        "      <td> 1.798944</td>\n",
        "      <td> 0.962326</td>\n",
        "      <td> 0.828901</td>\n",
        "      <td> 0.974934</td>\n",
        "    </tr>\n",
        "    <tr>\n",
        "      <th>1.818182</th>\n",
        "      <td> 1.809445</td>\n",
        "      <td> 0.961463</td>\n",
        "      <td> 0.834048</td>\n",
        "      <td> 0.980108</td>\n",
        "    </tr>\n",
        "    <tr>\n",
        "      <th>1.828283</th>\n",
        "      <td> 1.819956</td>\n",
        "      <td> 0.960609</td>\n",
        "      <td> 0.839197</td>\n",
        "      <td> 0.985282</td>\n",
        "    </tr>\n",
        "    <tr>\n",
        "      <th>1.838384</th>\n",
        "      <td> 1.830476</td>\n",
        "      <td> 0.959763</td>\n",
        "      <td> 0.844350</td>\n",
        "      <td> 0.990459</td>\n",
        "    </tr>\n",
        "    <tr>\n",
        "      <th>1.848485</th>\n",
        "      <td> 1.841005</td>\n",
        "      <td> 0.958926</td>\n",
        "      <td> 0.849505</td>\n",
        "      <td> 0.995638</td>\n",
        "    </tr>\n",
        "    <tr>\n",
        "      <th>1.858586</th>\n",
        "      <td> 1.851543</td>\n",
        "      <td> 0.958097</td>\n",
        "      <td> 0.854664</td>\n",
        "      <td> 1.000818</td>\n",
        "    </tr>\n",
        "    <tr>\n",
        "      <th>1.868687</th>\n",
        "      <td> 1.862090</td>\n",
        "      <td> 0.957276</td>\n",
        "      <td> 0.859826</td>\n",
        "      <td> 1.006000</td>\n",
        "    </tr>\n",
        "    <tr>\n",
        "      <th>1.878788</th>\n",
        "      <td> 1.872647</td>\n",
        "      <td> 0.956463</td>\n",
        "      <td> 0.864992</td>\n",
        "      <td> 1.011184</td>\n",
        "    </tr>\n",
        "    <tr>\n",
        "      <th>1.888889</th>\n",
        "      <td> 1.883212</td>\n",
        "      <td> 0.955657</td>\n",
        "      <td> 0.870160</td>\n",
        "      <td> 1.016369</td>\n",
        "    </tr>\n",
        "    <tr>\n",
        "      <th>1.898990</th>\n",
        "      <td> 1.893786</td>\n",
        "      <td> 0.954860</td>\n",
        "      <td> 0.875331</td>\n",
        "      <td> 1.021556</td>\n",
        "    </tr>\n",
        "    <tr>\n",
        "      <th>1.909091</th>\n",
        "      <td> 1.904369</td>\n",
        "      <td> 0.954070</td>\n",
        "      <td> 0.880506</td>\n",
        "      <td> 1.026745</td>\n",
        "    </tr>\n",
        "    <tr>\n",
        "      <th>1.919192</th>\n",
        "      <td> 1.914961</td>\n",
        "      <td> 0.953287</td>\n",
        "      <td> 0.885683</td>\n",
        "      <td> 1.031935</td>\n",
        "    </tr>\n",
        "    <tr>\n",
        "      <th>1.929293</th>\n",
        "      <td> 1.925561</td>\n",
        "      <td> 0.952512</td>\n",
        "      <td> 0.890864</td>\n",
        "      <td> 1.037127</td>\n",
        "    </tr>\n",
        "    <tr>\n",
        "      <th>1.939394</th>\n",
        "      <td> 1.936170</td>\n",
        "      <td> 0.951744</td>\n",
        "      <td> 0.896048</td>\n",
        "      <td> 1.042321</td>\n",
        "    </tr>\n",
        "    <tr>\n",
        "      <th>1.949495</th>\n",
        "      <td> 1.946787</td>\n",
        "      <td> 0.950983</td>\n",
        "      <td> 0.901235</td>\n",
        "      <td> 1.047516</td>\n",
        "    </tr>\n",
        "    <tr>\n",
        "      <th>1.959596</th>\n",
        "      <td> 1.957413</td>\n",
        "      <td> 0.950229</td>\n",
        "      <td> 0.906424</td>\n",
        "      <td> 1.052713</td>\n",
        "    </tr>\n",
        "    <tr>\n",
        "      <th>1.969697</th>\n",
        "      <td> 1.968047</td>\n",
        "      <td> 0.949481</td>\n",
        "      <td> 0.911617</td>\n",
        "      <td> 1.057911</td>\n",
        "    </tr>\n",
        "    <tr>\n",
        "      <th>1.979798</th>\n",
        "      <td> 1.978690</td>\n",
        "      <td> 0.948740</td>\n",
        "      <td> 0.916813</td>\n",
        "      <td> 1.063110</td>\n",
        "    </tr>\n",
        "    <tr>\n",
        "      <th>1.989899</th>\n",
        "      <td> 1.989341</td>\n",
        "      <td> 0.948006</td>\n",
        "      <td> 0.922012</td>\n",
        "      <td> 1.068311</td>\n",
        "    </tr>\n",
        "    <tr>\n",
        "      <th>2.000000</th>\n",
        "      <td> 2.000000</td>\n",
        "      <td> 0.947279</td>\n",
        "      <td> 0.927213</td>\n",
        "      <td> 1.073514</td>\n",
        "    </tr>\n",
        "  </tbody>\n",
        "</table>\n",
        "<p>100 rows \u00d7 4 columns</p>\n",
        "</div>"
       ],
       "metadata": {},
       "output_type": "pyout",
       "prompt_number": 9,
       "text": [
        "          firm productivity  firm size      wage    profit\n",
        "x                                                         \n",
        "1.000000           0.999999   1.089348  0.429310  0.571594\n",
        "1.010101           1.009285   1.086340  0.434131  0.576417\n",
        "1.020202           1.018595   1.083403  0.438957  0.581249\n",
        "1.030303           1.027931   1.080534  0.443788  0.586090\n",
        "1.040404           1.037292   1.077730  0.448625  0.590940\n",
        "1.050505           1.046676   1.074990  0.453467  0.595799\n",
        "1.060606           1.056084   1.072310  0.458313  0.600666\n",
        "1.070707           1.065516   1.069689  0.463165  0.605541\n",
        "1.080808           1.074970   1.067126  0.468022  0.610425\n",
        "1.090909           1.084447   1.064617  0.472884  0.615316\n",
        "1.101010           1.093946   1.062161  0.477751  0.620214\n",
        "1.111111           1.103466   1.059756  0.482622  0.625120\n",
        "1.121212           1.113009   1.057401  0.487499  0.630033\n",
        "1.131313           1.122572   1.055094  0.492380  0.634954\n",
        "1.141414           1.132156   1.052834  0.497266  0.639881\n",
        "1.151515           1.141760   1.050619  0.502157  0.644815\n",
        "1.161616           1.151384   1.048447  0.507053  0.649755\n",
        "1.171717           1.161028   1.046318  0.511953  0.654702\n",
        "1.181818           1.170692   1.044229  0.516858  0.659656\n",
        "1.191919           1.180374   1.042180  0.521767  0.664615\n",
        "1.202020           1.190076   1.040170  0.526681  0.669580\n",
        "1.212121           1.199796   1.038197  0.531600  0.674551\n",
        "1.222222           1.209535   1.036260  0.536523  0.679528\n",
        "1.232323           1.219291   1.034359  0.541451  0.684511\n",
        "1.242424           1.229066   1.032491  0.546383  0.689499\n",
        "1.252525           1.238857   1.030657  0.551320  0.694493\n",
        "1.262626           1.248667   1.028854  0.556260  0.699491\n",
        "1.272727           1.258493   1.027083  0.561206  0.704495\n",
        "1.282828           1.268336   1.025343  0.566155  0.709504\n",
        "1.292929           1.278195   1.023632  0.571109  0.714518\n",
        "...                     ...        ...       ...       ...\n",
        "1.707071           1.694467   0.971475  0.777619  0.923313\n",
        "1.717172           1.704869   0.970515  0.782733  0.928466\n",
        "1.727273           1.715282   0.969566  0.787849  0.933621\n",
        "1.737374           1.725706   0.968626  0.792969  0.938778\n",
        "1.747475           1.736139   0.967697  0.798093  0.943937\n",
        "1.757576           1.746582   0.966778  0.803219  0.949098\n",
        "1.767677           1.757035   0.965869  0.808349  0.954262\n",
        "1.777778           1.767498   0.964970  0.813482  0.959427\n",
        "1.787879           1.777970   0.964079  0.818619  0.964594\n",
        "1.797980           1.788453   0.963198  0.823759  0.969763\n",
        "1.808081           1.798944   0.962326  0.828901  0.974934\n",
        "1.818182           1.809445   0.961463  0.834048  0.980108\n",
        "1.828283           1.819956   0.960609  0.839197  0.985282\n",
        "1.838384           1.830476   0.959763  0.844350  0.990459\n",
        "1.848485           1.841005   0.958926  0.849505  0.995638\n",
        "1.858586           1.851543   0.958097  0.854664  1.000818\n",
        "1.868687           1.862090   0.957276  0.859826  1.006000\n",
        "1.878788           1.872647   0.956463  0.864992  1.011184\n",
        "1.888889           1.883212   0.955657  0.870160  1.016369\n",
        "1.898990           1.893786   0.954860  0.875331  1.021556\n",
        "1.909091           1.904369   0.954070  0.880506  1.026745\n",
        "1.919192           1.914961   0.953287  0.885683  1.031935\n",
        "1.929293           1.925561   0.952512  0.890864  1.037127\n",
        "1.939394           1.936170   0.951744  0.896048  1.042321\n",
        "1.949495           1.946787   0.950983  0.901235  1.047516\n",
        "1.959596           1.957413   0.950229  0.906424  1.052713\n",
        "1.969697           1.968047   0.949481  0.911617  1.057911\n",
        "1.979798           1.978690   0.948740  0.916813  1.063110\n",
        "1.989899           1.989341   0.948006  0.922012  1.068311\n",
        "2.000000           2.000000   0.947279  0.927213  1.073514\n",
        "\n",
        "[100 rows x 4 columns]"
       ]
      }
     ],
     "prompt_number": 9
    },
    {
     "cell_type": "markdown",
     "metadata": {},
     "source": [
      "### Negative assortative matching"
     ]
    },
    {
     "cell_type": "code",
     "collapsed": false,
     "input": [
      "# negative assortativity requires that sigma_A * sigma_B > 1\n",
      "F_params = {'omega_A':0.25, 'omega_B':0.5, 'sigma_A':1.5, 'sigma_B':1.0}"
     ],
     "language": "python",
     "metadata": {},
     "outputs": [],
     "prompt_number": 10
    },
    {
     "cell_type": "code",
     "collapsed": false,
     "input": [
      "model = models.Model(assortativity='negative',\n",
      "                     workers=workers,\n",
      "                     firms=firms,\n",
      "                     production=F,\n",
      "                     params=F_params)\n",
      "\n",
      "solver = solvers.ShootingSolver(model=model)"
     ],
     "language": "python",
     "metadata": {},
     "outputs": [],
     "prompt_number": 11
    },
    {
     "cell_type": "code",
     "collapsed": false,
     "input": [
      "solver.solve(2e0, tol=1e-6, number_knots=100, atol=1e-15, rtol=1e-12)"
     ],
     "language": "python",
     "metadata": {},
     "outputs": [
      {
       "output_type": "stream",
       "stream": "stdout",
       "text": [
        "Exhausted firms: initial guess of 1.0 for firm size is too low.\n",
        "Exhausted firms: initial guess of 1.5 for firm size is too low.\n",
        "Exhausted firms: initial guess of 1.75 for firm size is too low.\n",
        "Exhausted workers: initial guess of 1.875 for firm size is too high!"
       ]
      },
      {
       "output_type": "stream",
       "stream": "stdout",
       "text": [
        "\n",
        "Exhausted firms: Initial guess of 1.8125 for firm size was too low!\n",
        "Exhausted workers: initial guess of 1.84375 for firm size is too high!"
       ]
      },
      {
       "output_type": "stream",
       "stream": "stdout",
       "text": [
        "\n",
        "Exhausted firms: Initial guess of 1.828125 for firm size was too low!\n",
        "Exhausted workers: initial guess of 1.8359375 for firm size is too high!"
       ]
      },
      {
       "output_type": "stream",
       "stream": "stdout",
       "text": [
        "\n",
        "Exhausted workers: initial guess of 1.83203125 for firm size is too high!\n",
        "Exhausted workers: initial guess of 1.830078125 for firm size is too high!"
       ]
      },
      {
       "output_type": "stream",
       "stream": "stdout",
       "text": [
        "\n",
        "Exhausted firms: Initial guess of 1.8291015625 for firm size was too low!\n",
        "Exhausted firms: Initial guess of 1.82958984375 for firm size was too low!"
       ]
      },
      {
       "output_type": "stream",
       "stream": "stdout",
       "text": [
        "\n",
        "Exhausted workers: initial guess of 1.82983398438 for firm size is too high!\n",
        "Exhausted workers: initial guess of 1.82971191406 for firm size is too high!"
       ]
      },
      {
       "output_type": "stream",
       "stream": "stdout",
       "text": [
        "\n",
        "Exhausted workers: initial guess of 1.82965087891 for firm size is too high!\n",
        "Exhausted firms: Initial guess of 1.82962036133 for firm size was too low!"
       ]
      },
      {
       "output_type": "stream",
       "stream": "stdout",
       "text": [
        "\n",
        "Exhausted firms: Initial guess of 1.82963562012 for firm size was too low!"
       ]
      },
      {
       "output_type": "stream",
       "stream": "stdout",
       "text": [
        "\n",
        "Exhausted workers: initial guess of 1.82964324951 for firm size is too high!\n",
        "Success! All workers and firms are matched"
       ]
      },
      {
       "output_type": "stream",
       "stream": "stdout",
       "text": [
        "\n"
       ]
      }
     ],
     "prompt_number": 12
    },
    {
     "cell_type": "code",
     "collapsed": false,
     "input": [
      "solver.solution"
     ],
     "language": "python",
     "metadata": {},
     "outputs": [
      {
       "html": [
        "<div style=\"max-height:1000px;max-width:1500px;overflow:auto;\">\n",
        "<table border=\"1\" class=\"dataframe\">\n",
        "  <thead>\n",
        "    <tr style=\"text-align: right;\">\n",
        "      <th></th>\n",
        "      <th>firm productivity</th>\n",
        "      <th>firm size</th>\n",
        "      <th>wage</th>\n",
        "      <th>profit</th>\n",
        "    </tr>\n",
        "    <tr>\n",
        "      <th>x</th>\n",
        "      <th></th>\n",
        "      <th></th>\n",
        "      <th></th>\n",
        "      <th></th>\n",
        "    </tr>\n",
        "  </thead>\n",
        "  <tbody>\n",
        "    <tr>\n",
        "      <th>1.000000</th>\n",
        "      <td> 2.000000</td>\n",
        "      <td> 1.829639</td>\n",
        "      <td> 0.630705</td>\n",
        "      <td> 1.153963</td>\n",
        "    </tr>\n",
        "    <tr>\n",
        "      <th>1.010101</th>\n",
        "      <td> 1.994455</td>\n",
        "      <td> 1.813970</td>\n",
        "      <td> 0.633368</td>\n",
        "      <td> 1.148910</td>\n",
        "    </tr>\n",
        "    <tr>\n",
        "      <th>1.020202</th>\n",
        "      <td> 1.988863</td>\n",
        "      <td> 1.798401</td>\n",
        "      <td> 0.636024</td>\n",
        "      <td> 1.143826</td>\n",
        "    </tr>\n",
        "    <tr>\n",
        "      <th>1.030303</th>\n",
        "      <td> 1.983222</td>\n",
        "      <td> 1.782931</td>\n",
        "      <td> 0.638673</td>\n",
        "      <td> 1.138710</td>\n",
        "    </tr>\n",
        "    <tr>\n",
        "      <th>1.040404</th>\n",
        "      <td> 1.977532</td>\n",
        "      <td> 1.767557</td>\n",
        "      <td> 0.641317</td>\n",
        "      <td> 1.133564</td>\n",
        "    </tr>\n",
        "    <tr>\n",
        "      <th>1.050505</th>\n",
        "      <td> 1.971792</td>\n",
        "      <td> 1.752276</td>\n",
        "      <td> 0.643954</td>\n",
        "      <td> 1.128386</td>\n",
        "    </tr>\n",
        "    <tr>\n",
        "      <th>1.060606</th>\n",
        "      <td> 1.966003</td>\n",
        "      <td> 1.737087</td>\n",
        "      <td> 0.646586</td>\n",
        "      <td> 1.123175</td>\n",
        "    </tr>\n",
        "    <tr>\n",
        "      <th>1.070707</th>\n",
        "      <td> 1.960162</td>\n",
        "      <td> 1.721986</td>\n",
        "      <td> 0.649212</td>\n",
        "      <td> 1.117933</td>\n",
        "    </tr>\n",
        "    <tr>\n",
        "      <th>1.080808</th>\n",
        "      <td> 1.954271</td>\n",
        "      <td> 1.706973</td>\n",
        "      <td> 0.651832</td>\n",
        "      <td> 1.112659</td>\n",
        "    </tr>\n",
        "    <tr>\n",
        "      <th>1.090909</th>\n",
        "      <td> 1.948327</td>\n",
        "      <td> 1.692044</td>\n",
        "      <td> 0.654446</td>\n",
        "      <td> 1.107352</td>\n",
        "    </tr>\n",
        "    <tr>\n",
        "      <th>1.101010</th>\n",
        "      <td> 1.942331</td>\n",
        "      <td> 1.677197</td>\n",
        "      <td> 0.657056</td>\n",
        "      <td> 1.102012</td>\n",
        "    </tr>\n",
        "    <tr>\n",
        "      <th>1.111111</th>\n",
        "      <td> 1.936282</td>\n",
        "      <td> 1.662431</td>\n",
        "      <td> 0.659660</td>\n",
        "      <td> 1.096639</td>\n",
        "    </tr>\n",
        "    <tr>\n",
        "      <th>1.121212</th>\n",
        "      <td> 1.930179</td>\n",
        "      <td> 1.647743</td>\n",
        "      <td> 0.662259</td>\n",
        "      <td> 1.091233</td>\n",
        "    </tr>\n",
        "    <tr>\n",
        "      <th>1.131313</th>\n",
        "      <td> 1.924021</td>\n",
        "      <td> 1.633132</td>\n",
        "      <td> 0.664853</td>\n",
        "      <td> 1.085793</td>\n",
        "    </tr>\n",
        "    <tr>\n",
        "      <th>1.141414</th>\n",
        "      <td> 1.917808</td>\n",
        "      <td> 1.618594</td>\n",
        "      <td> 0.667443</td>\n",
        "      <td> 1.080319</td>\n",
        "    </tr>\n",
        "    <tr>\n",
        "      <th>1.151515</th>\n",
        "      <td> 1.911540</td>\n",
        "      <td> 1.604130</td>\n",
        "      <td> 0.670027</td>\n",
        "      <td> 1.074810</td>\n",
        "    </tr>\n",
        "    <tr>\n",
        "      <th>1.161616</th>\n",
        "      <td> 1.905214</td>\n",
        "      <td> 1.589736</td>\n",
        "      <td> 0.672607</td>\n",
        "      <td> 1.069268</td>\n",
        "    </tr>\n",
        "    <tr>\n",
        "      <th>1.171717</th>\n",
        "      <td> 1.898832</td>\n",
        "      <td> 1.575410</td>\n",
        "      <td> 0.675183</td>\n",
        "      <td> 1.063690</td>\n",
        "    </tr>\n",
        "    <tr>\n",
        "      <th>1.181818</th>\n",
        "      <td> 1.892391</td>\n",
        "      <td> 1.561152</td>\n",
        "      <td> 0.677754</td>\n",
        "      <td> 1.058076</td>\n",
        "    </tr>\n",
        "    <tr>\n",
        "      <th>1.191919</th>\n",
        "      <td> 1.885891</td>\n",
        "      <td> 1.546958</td>\n",
        "      <td> 0.680321</td>\n",
        "      <td> 1.052428</td>\n",
        "    </tr>\n",
        "    <tr>\n",
        "      <th>1.202020</th>\n",
        "      <td> 1.879331</td>\n",
        "      <td> 1.532828</td>\n",
        "      <td> 0.682883</td>\n",
        "      <td> 1.046743</td>\n",
        "    </tr>\n",
        "    <tr>\n",
        "      <th>1.212121</th>\n",
        "      <td> 1.872711</td>\n",
        "      <td> 1.518759</td>\n",
        "      <td> 0.685442</td>\n",
        "      <td> 1.041022</td>\n",
        "    </tr>\n",
        "    <tr>\n",
        "      <th>1.222222</th>\n",
        "      <td> 1.866029</td>\n",
        "      <td> 1.504751</td>\n",
        "      <td> 0.687997</td>\n",
        "      <td> 1.035264</td>\n",
        "    </tr>\n",
        "    <tr>\n",
        "      <th>1.232323</th>\n",
        "      <td> 1.859285</td>\n",
        "      <td> 1.490800</td>\n",
        "      <td> 0.690548</td>\n",
        "      <td> 1.029469</td>\n",
        "    </tr>\n",
        "    <tr>\n",
        "      <th>1.242424</th>\n",
        "      <td> 1.852478</td>\n",
        "      <td> 1.476906</td>\n",
        "      <td> 0.693095</td>\n",
        "      <td> 1.023637</td>\n",
        "    </tr>\n",
        "    <tr>\n",
        "      <th>1.252525</th>\n",
        "      <td> 1.845606</td>\n",
        "      <td> 1.463067</td>\n",
        "      <td> 0.695639</td>\n",
        "      <td> 1.017767</td>\n",
        "    </tr>\n",
        "    <tr>\n",
        "      <th>1.262626</th>\n",
        "      <td> 1.838670</td>\n",
        "      <td> 1.449281</td>\n",
        "      <td> 0.698180</td>\n",
        "      <td> 1.011858</td>\n",
        "    </tr>\n",
        "    <tr>\n",
        "      <th>1.272727</th>\n",
        "      <td> 1.831667</td>\n",
        "      <td> 1.435546</td>\n",
        "      <td> 0.700716</td>\n",
        "      <td> 1.005911</td>\n",
        "    </tr>\n",
        "    <tr>\n",
        "      <th>1.282828</th>\n",
        "      <td> 1.824597</td>\n",
        "      <td> 1.421862</td>\n",
        "      <td> 0.703250</td>\n",
        "      <td> 0.999924</td>\n",
        "    </tr>\n",
        "    <tr>\n",
        "      <th>1.292929</th>\n",
        "      <td> 1.817458</td>\n",
        "      <td> 1.408225</td>\n",
        "      <td> 0.705781</td>\n",
        "      <td> 0.993898</td>\n",
        "    </tr>\n",
        "    <tr>\n",
        "      <th>...</th>\n",
        "      <td>...</td>\n",
        "      <td>...</td>\n",
        "      <td>...</td>\n",
        "      <td>...</td>\n",
        "    </tr>\n",
        "    <tr>\n",
        "      <th>1.707071</th>\n",
        "      <td> 1.446606</td>\n",
        "      <td> 0.871852</td>\n",
        "      <td> 0.808071</td>\n",
        "      <td> 0.704518</td>\n",
        "    </tr>\n",
        "    <tr>\n",
        "      <th>1.717172</th>\n",
        "      <td> 1.434933</td>\n",
        "      <td> 0.858825</td>\n",
        "      <td> 0.810563</td>\n",
        "      <td> 0.696132</td>\n",
        "    </tr>\n",
        "    <tr>\n",
        "      <th>1.727273</th>\n",
        "      <td> 1.423081</td>\n",
        "      <td> 0.845771</td>\n",
        "      <td> 0.813056</td>\n",
        "      <td> 0.687660</td>\n",
        "    </tr>\n",
        "    <tr>\n",
        "      <th>1.737374</th>\n",
        "      <td> 1.411045</td>\n",
        "      <td> 0.832690</td>\n",
        "      <td> 0.815552</td>\n",
        "      <td> 0.679102</td>\n",
        "    </tr>\n",
        "    <tr>\n",
        "      <th>1.747475</th>\n",
        "      <td> 1.398818</td>\n",
        "      <td> 0.819576</td>\n",
        "      <td> 0.818049</td>\n",
        "      <td> 0.670454</td>\n",
        "    </tr>\n",
        "    <tr>\n",
        "      <th>1.757576</th>\n",
        "      <td> 1.386393</td>\n",
        "      <td> 0.806429</td>\n",
        "      <td> 0.820548</td>\n",
        "      <td> 0.661714</td>\n",
        "    </tr>\n",
        "    <tr>\n",
        "      <th>1.767677</th>\n",
        "      <td> 1.373764</td>\n",
        "      <td> 0.793244</td>\n",
        "      <td> 0.823050</td>\n",
        "      <td> 0.652879</td>\n",
        "    </tr>\n",
        "    <tr>\n",
        "      <th>1.777778</th>\n",
        "      <td> 1.360923</td>\n",
        "      <td> 0.780018</td>\n",
        "      <td> 0.825554</td>\n",
        "      <td> 0.643947</td>\n",
        "    </tr>\n",
        "    <tr>\n",
        "      <th>1.787879</th>\n",
        "      <td> 1.347862</td>\n",
        "      <td> 0.766748</td>\n",
        "      <td> 0.828061</td>\n",
        "      <td> 0.634914</td>\n",
        "    </tr>\n",
        "    <tr>\n",
        "      <th>1.797980</th>\n",
        "      <td> 1.334573</td>\n",
        "      <td> 0.753431</td>\n",
        "      <td> 0.830571</td>\n",
        "      <td> 0.625778</td>\n",
        "    </tr>\n",
        "    <tr>\n",
        "      <th>1.808081</th>\n",
        "      <td> 1.321046</td>\n",
        "      <td> 0.740063</td>\n",
        "      <td> 0.833083</td>\n",
        "      <td> 0.616534</td>\n",
        "    </tr>\n",
        "    <tr>\n",
        "      <th>1.818182</th>\n",
        "      <td> 1.307271</td>\n",
        "      <td> 0.726639</td>\n",
        "      <td> 0.835599</td>\n",
        "      <td> 0.607179</td>\n",
        "    </tr>\n",
        "    <tr>\n",
        "      <th>1.828283</th>\n",
        "      <td> 1.293240</td>\n",
        "      <td> 0.713157</td>\n",
        "      <td> 0.838119</td>\n",
        "      <td> 0.597710</td>\n",
        "    </tr>\n",
        "    <tr>\n",
        "      <th>1.838384</th>\n",
        "      <td> 1.278940</td>\n",
        "      <td> 0.699610</td>\n",
        "      <td> 0.840642</td>\n",
        "      <td> 0.588122</td>\n",
        "    </tr>\n",
        "    <tr>\n",
        "      <th>1.848485</th>\n",
        "      <td> 1.264360</td>\n",
        "      <td> 0.685996</td>\n",
        "      <td> 0.843170</td>\n",
        "      <td> 0.578411</td>\n",
        "    </tr>\n",
        "    <tr>\n",
        "      <th>1.858586</th>\n",
        "      <td> 1.249486</td>\n",
        "      <td> 0.672308</td>\n",
        "      <td> 0.845701</td>\n",
        "      <td> 0.568572</td>\n",
        "    </tr>\n",
        "    <tr>\n",
        "      <th>1.868687</th>\n",
        "      <td> 1.234306</td>\n",
        "      <td> 0.658542</td>\n",
        "      <td> 0.848237</td>\n",
        "      <td> 0.558600</td>\n",
        "    </tr>\n",
        "    <tr>\n",
        "      <th>1.878788</th>\n",
        "      <td> 1.218804</td>\n",
        "      <td> 0.644692</td>\n",
        "      <td> 0.850778</td>\n",
        "      <td> 0.548489</td>\n",
        "    </tr>\n",
        "    <tr>\n",
        "      <th>1.888889</th>\n",
        "      <td> 1.202965</td>\n",
        "      <td> 0.630751</td>\n",
        "      <td> 0.853324</td>\n",
        "      <td> 0.538235</td>\n",
        "    </tr>\n",
        "    <tr>\n",
        "      <th>1.898990</th>\n",
        "      <td> 1.186770</td>\n",
        "      <td> 0.616714</td>\n",
        "      <td> 0.855875</td>\n",
        "      <td> 0.527830</td>\n",
        "    </tr>\n",
        "    <tr>\n",
        "      <th>1.909091</th>\n",
        "      <td> 1.170201</td>\n",
        "      <td> 0.602573</td>\n",
        "      <td> 0.858432</td>\n",
        "      <td> 0.517268</td>\n",
        "    </tr>\n",
        "    <tr>\n",
        "      <th>1.919192</th>\n",
        "      <td> 1.153236</td>\n",
        "      <td> 0.588320</td>\n",
        "      <td> 0.860995</td>\n",
        "      <td> 0.506541</td>\n",
        "    </tr>\n",
        "    <tr>\n",
        "      <th>1.929293</th>\n",
        "      <td> 1.135854</td>\n",
        "      <td> 0.573948</td>\n",
        "      <td> 0.863565</td>\n",
        "      <td> 0.495641</td>\n",
        "    </tr>\n",
        "    <tr>\n",
        "      <th>1.939394</th>\n",
        "      <td> 1.118029</td>\n",
        "      <td> 0.559447</td>\n",
        "      <td> 0.866141</td>\n",
        "      <td> 0.484560</td>\n",
        "    </tr>\n",
        "    <tr>\n",
        "      <th>1.949495</th>\n",
        "      <td> 1.099734</td>\n",
        "      <td> 0.544807</td>\n",
        "      <td> 0.868725</td>\n",
        "      <td> 0.473288</td>\n",
        "    </tr>\n",
        "    <tr>\n",
        "      <th>1.959596</th>\n",
        "      <td> 1.080937</td>\n",
        "      <td> 0.530019</td>\n",
        "      <td> 0.871317</td>\n",
        "      <td> 0.461814</td>\n",
        "    </tr>\n",
        "    <tr>\n",
        "      <th>1.969697</th>\n",
        "      <td> 1.061606</td>\n",
        "      <td> 0.515068</td>\n",
        "      <td> 0.873917</td>\n",
        "      <td> 0.450127</td>\n",
        "    </tr>\n",
        "    <tr>\n",
        "      <th>1.979798</th>\n",
        "      <td> 1.041702</td>\n",
        "      <td> 0.499944</td>\n",
        "      <td> 0.876526</td>\n",
        "      <td> 0.438214</td>\n",
        "    </tr>\n",
        "    <tr>\n",
        "      <th>1.989899</th>\n",
        "      <td> 1.021183</td>\n",
        "      <td> 0.484630</td>\n",
        "      <td> 0.879145</td>\n",
        "      <td> 0.426060</td>\n",
        "    </tr>\n",
        "    <tr>\n",
        "      <th>2.000000</th>\n",
        "      <td> 1.000000</td>\n",
        "      <td> 0.469110</td>\n",
        "      <td> 0.881774</td>\n",
        "      <td> 0.413649</td>\n",
        "    </tr>\n",
        "  </tbody>\n",
        "</table>\n",
        "<p>100 rows \u00d7 4 columns</p>\n",
        "</div>"
       ],
       "metadata": {},
       "output_type": "pyout",
       "prompt_number": 13,
       "text": [
        "          firm productivity  firm size      wage    profit\n",
        "x                                                         \n",
        "1.000000           2.000000   1.829639  0.630705  1.153963\n",
        "1.010101           1.994455   1.813970  0.633368  1.148910\n",
        "1.020202           1.988863   1.798401  0.636024  1.143826\n",
        "1.030303           1.983222   1.782931  0.638673  1.138710\n",
        "1.040404           1.977532   1.767557  0.641317  1.133564\n",
        "1.050505           1.971792   1.752276  0.643954  1.128386\n",
        "1.060606           1.966003   1.737087  0.646586  1.123175\n",
        "1.070707           1.960162   1.721986  0.649212  1.117933\n",
        "1.080808           1.954271   1.706973  0.651832  1.112659\n",
        "1.090909           1.948327   1.692044  0.654446  1.107352\n",
        "1.101010           1.942331   1.677197  0.657056  1.102012\n",
        "1.111111           1.936282   1.662431  0.659660  1.096639\n",
        "1.121212           1.930179   1.647743  0.662259  1.091233\n",
        "1.131313           1.924021   1.633132  0.664853  1.085793\n",
        "1.141414           1.917808   1.618594  0.667443  1.080319\n",
        "1.151515           1.911540   1.604130  0.670027  1.074810\n",
        "1.161616           1.905214   1.589736  0.672607  1.069268\n",
        "1.171717           1.898832   1.575410  0.675183  1.063690\n",
        "1.181818           1.892391   1.561152  0.677754  1.058076\n",
        "1.191919           1.885891   1.546958  0.680321  1.052428\n",
        "1.202020           1.879331   1.532828  0.682883  1.046743\n",
        "1.212121           1.872711   1.518759  0.685442  1.041022\n",
        "1.222222           1.866029   1.504751  0.687997  1.035264\n",
        "1.232323           1.859285   1.490800  0.690548  1.029469\n",
        "1.242424           1.852478   1.476906  0.693095  1.023637\n",
        "1.252525           1.845606   1.463067  0.695639  1.017767\n",
        "1.262626           1.838670   1.449281  0.698180  1.011858\n",
        "1.272727           1.831667   1.435546  0.700716  1.005911\n",
        "1.282828           1.824597   1.421862  0.703250  0.999924\n",
        "1.292929           1.817458   1.408225  0.705781  0.993898\n",
        "...                     ...        ...       ...       ...\n",
        "1.707071           1.446606   0.871852  0.808071  0.704518\n",
        "1.717172           1.434933   0.858825  0.810563  0.696132\n",
        "1.727273           1.423081   0.845771  0.813056  0.687660\n",
        "1.737374           1.411045   0.832690  0.815552  0.679102\n",
        "1.747475           1.398818   0.819576  0.818049  0.670454\n",
        "1.757576           1.386393   0.806429  0.820548  0.661714\n",
        "1.767677           1.373764   0.793244  0.823050  0.652879\n",
        "1.777778           1.360923   0.780018  0.825554  0.643947\n",
        "1.787879           1.347862   0.766748  0.828061  0.634914\n",
        "1.797980           1.334573   0.753431  0.830571  0.625778\n",
        "1.808081           1.321046   0.740063  0.833083  0.616534\n",
        "1.818182           1.307271   0.726639  0.835599  0.607179\n",
        "1.828283           1.293240   0.713157  0.838119  0.597710\n",
        "1.838384           1.278940   0.699610  0.840642  0.588122\n",
        "1.848485           1.264360   0.685996  0.843170  0.578411\n",
        "1.858586           1.249486   0.672308  0.845701  0.568572\n",
        "1.868687           1.234306   0.658542  0.848237  0.558600\n",
        "1.878788           1.218804   0.644692  0.850778  0.548489\n",
        "1.888889           1.202965   0.630751  0.853324  0.538235\n",
        "1.898990           1.186770   0.616714  0.855875  0.527830\n",
        "1.909091           1.170201   0.602573  0.858432  0.517268\n",
        "1.919192           1.153236   0.588320  0.860995  0.506541\n",
        "1.929293           1.135854   0.573948  0.863565  0.495641\n",
        "1.939394           1.118029   0.559447  0.866141  0.484560\n",
        "1.949495           1.099734   0.544807  0.868725  0.473288\n",
        "1.959596           1.080937   0.530019  0.871317  0.461814\n",
        "1.969697           1.061606   0.515068  0.873917  0.450127\n",
        "1.979798           1.041702   0.499944  0.876526  0.438214\n",
        "1.989899           1.021183   0.484630  0.879145  0.426060\n",
        "2.000000           1.000000   0.469110  0.881774  0.413649\n",
        "\n",
        "[100 rows x 4 columns]"
       ]
      }
     ],
     "prompt_number": 13
    },
    {
     "cell_type": "markdown",
     "metadata": {},
     "source": [
      "Now we can do all the cool things that one can do with Pandas..."
     ]
    },
    {
     "cell_type": "code",
     "collapsed": false,
     "input": [
      "solver.solution['firm size'].plot()"
     ],
     "language": "python",
     "metadata": {},
     "outputs": [
      {
       "metadata": {},
       "output_type": "pyout",
       "prompt_number": 16,
       "text": [
        "<matplotlib.axes._subplots.AxesSubplot at 0x111c78a90>"
       ]
      },
      {
       "metadata": {},
       "output_type": "display_data",
       "png": "[encoded data removed]",
       "text": [
        "<matplotlib.figure.Figure at 0x109f3b190>"
       ]
      }
     ],
     "prompt_number": 16
    },
    {
     "cell_type": "code",
     "collapsed": false,
     "input": [],
     "language": "python",
     "metadata": {},
     "outputs": []
    },
    {
     "cell_type": "markdown",
     "metadata": {},
     "source": [
      "# Example:\n",
      "\n",
      "Multiplicative separability with log-normal worker skill and firm productivity distributions..."
     ]
    },
    {
     "cell_type": "code",
     "collapsed": false,
     "input": [
      "# define some workers skill\n",
      "mu1, sigma1 = sym.var('mu1, sigma1')\n",
      "skill_cdf = 0.5 + 0.5 * sym.erf((sym.log(x) - mu1) / sym.sqrt(2 * sigma1**2))\n",
      "skill_params = {'mu1': 0.0, 'sigma1': 1.0}\n",
      "skill_bounds = [1e-3, 5e1]\n",
      "\n",
      "workers = inputs.Input(var=x,\n",
      "                       cdf=skill_cdf,\n",
      "                       params=skill_params,\n",
      "                       bounds=skill_bounds,\n",
      "                       )\n",
      "\n",
      "# define some firms\n",
      "mu2, sigma2 = sym.var('mu2, sigma2')\n",
      "productivity_cdf = 0.5 + 0.5 * sym.erf((sym.log(y) - mu2) / sym.sqrt(2 * sigma2**2))\n",
      "productivity_params = {'mu2': 0.0, 'sigma2': 1.0}\n",
      "productivity_bounds = [1e-3, 5e1]\n",
      "\n",
      "firms = inputs.Input(var=y,\n",
      "                     cdf=productivity_cdf,\n",
      "                     params=productivity_params,\n",
      "                     bounds=productivity_bounds,\n",
      "                     )"
     ],
     "language": "python",
     "metadata": {},
     "outputs": [],
     "prompt_number": 14
    },
    {
     "cell_type": "markdown",
     "metadata": {},
     "source": [
      "### Positive assortative matching"
     ]
    },
    {
     "cell_type": "code",
     "collapsed": false,
     "input": [
      "# define symbolic expression for CES between x and y\n",
      "omega_A, sigma_A = sym.var('omega_A, sigma_A')\n",
      "A = ((omega_A * x**((sigma_A - 1) / sigma_A) + \n",
      "     (1 - omega_A) * y**((sigma_A - 1) / sigma_A))**(sigma_A / (sigma_A - 1))) \n",
      "\n",
      "# define symbolic expression for Cobb-Douglas between l and r\n",
      "l, r, omega_B, sigma_B = sym.var('l, r, omega_B, sigma_B')\n",
      "B = l**omega_B * r**(1 - omega_B)\n",
      "\n",
      "F = A * B\n",
      "\n",
      "F_params = {'omega_A':0.5, 'omega_B':0.45, 'sigma_A':0.5, 'sigma_B':1.0}\n",
      "\n",
      "model = models.Model('positive',\n",
      "                     workers=workers,\n",
      "                     firms=firms,\n",
      "                     production=F,\n",
      "                     params=F_params)\n",
      "\n",
      "solver = solvers.ShootingSolver(model=model)"
     ],
     "language": "python",
     "metadata": {},
     "outputs": [],
     "prompt_number": 15
    },
    {
     "cell_type": "code",
     "collapsed": false,
     "input": [
      "solver.solve(5e-1, tol=1e-6, number_knots=5000, integrator='lsoda',\n",
      "             with_jacobian=True, atol=1e-12, rtol=1e-9)"
     ],
     "language": "python",
     "metadata": {},
     "outputs": [
      {
       "output_type": "stream",
       "stream": "stdout",
       "text": [
        "Exhausted firms: initial guess of 0.25 for firm size is too low.\n",
        "Exhausted firms: initial guess of 0.375 for firm size is too low."
       ]
      },
      {
       "output_type": "stream",
       "stream": "stdout",
       "text": [
        "\n"
       ]
      },
      {
       "output_type": "stream",
       "stream": "stderr",
       "text": [
        "/Users/drpugh/anaconda/lib/python2.7/site-packages/scipy/integrate/_ode.py:1127: UserWarning: lsoda: Excess work done on this call (perhaps wrong Dfun type).\n",
        "  'Unexpected istate=%s' % istate))\n"
       ]
      }
     ],
     "prompt_number": 16
    },
    {
     "cell_type": "code",
     "collapsed": false,
     "input": [
      "solver.solution"
     ],
     "language": "python",
     "metadata": {},
     "outputs": [
      {
       "html": [
        "<div style=\"max-height:1000px;max-width:1500px;overflow:auto;\">\n",
        "<table border=\"1\" class=\"dataframe\">\n",
        "  <thead>\n",
        "    <tr style=\"text-align: right;\">\n",
        "      <th></th>\n",
        "      <th>firm productivity</th>\n",
        "      <th>firm size</th>\n",
        "      <th>wage</th>\n",
        "      <th>profit</th>\n",
        "    </tr>\n",
        "    <tr>\n",
        "      <th>x</th>\n",
        "      <th></th>\n",
        "      <th></th>\n",
        "      <th></th>\n",
        "      <th></th>\n",
        "    </tr>\n",
        "  </thead>\n",
        "  <tbody>\n",
        "    <tr>\n",
        "      <th>0.001000 </th>\n",
        "      <td>  0.001067</td>\n",
        "      <td> 3.549875</td>\n",
        "      <td>  0.000232</td>\n",
        "      <td>  0.001005</td>\n",
        "    </tr>\n",
        "    <tr>\n",
        "      <th>0.051049 </th>\n",
        "      <td>  0.043892</td>\n",
        "      <td> 1.585344</td>\n",
        "      <td>  0.016516</td>\n",
        "      <td>  0.032003</td>\n",
        "    </tr>\n",
        "    <tr>\n",
        "      <th>0.101098 </th>\n",
        "      <td>  0.086925</td>\n",
        "      <td> 1.429779</td>\n",
        "      <td>  0.034621</td>\n",
        "      <td>  0.060501</td>\n",
        "    </tr>\n",
        "    <tr>\n",
        "      <th>0.151147 </th>\n",
        "      <td>  0.129960</td>\n",
        "      <td> 1.345459</td>\n",
        "      <td>  0.053521</td>\n",
        "      <td>  0.088013</td>\n",
        "    </tr>\n",
        "    <tr>\n",
        "      <th>0.201196 </th>\n",
        "      <td>  0.172995</td>\n",
        "      <td> 1.288533</td>\n",
        "      <td>  0.072958</td>\n",
        "      <td>  0.114900</td>\n",
        "    </tr>\n",
        "    <tr>\n",
        "      <th>0.251245 </th>\n",
        "      <td>  0.216032</td>\n",
        "      <td> 1.245988</td>\n",
        "      <td>  0.092806</td>\n",
        "      <td>  0.141332</td>\n",
        "    </tr>\n",
        "    <tr>\n",
        "      <th>0.301294 </th>\n",
        "      <td>  0.259069</td>\n",
        "      <td> 1.212244</td>\n",
        "      <td>  0.112987</td>\n",
        "      <td>  0.167405</td>\n",
        "    </tr>\n",
        "    <tr>\n",
        "      <th>0.351343 </th>\n",
        "      <td>  0.302107</td>\n",
        "      <td> 1.184414</td>\n",
        "      <td>  0.133450</td>\n",
        "      <td>  0.193185</td>\n",
        "    </tr>\n",
        "    <tr>\n",
        "      <th>0.401392 </th>\n",
        "      <td>  0.345146</td>\n",
        "      <td> 1.160814</td>\n",
        "      <td>  0.154158</td>\n",
        "      <td>  0.218716</td>\n",
        "    </tr>\n",
        "    <tr>\n",
        "      <th>0.451441 </th>\n",
        "      <td>  0.388186</td>\n",
        "      <td> 1.140382</td>\n",
        "      <td>  0.175083</td>\n",
        "      <td>  0.244030</td>\n",
        "    </tr>\n",
        "    <tr>\n",
        "      <th>0.501490 </th>\n",
        "      <td>  0.431227</td>\n",
        "      <td> 1.122406</td>\n",
        "      <td>  0.196201</td>\n",
        "      <td>  0.269155</td>\n",
        "    </tr>\n",
        "    <tr>\n",
        "      <th>0.551540 </th>\n",
        "      <td>  0.474268</td>\n",
        "      <td> 1.106387</td>\n",
        "      <td>  0.217496</td>\n",
        "      <td>  0.294109</td>\n",
        "    </tr>\n",
        "    <tr>\n",
        "      <th>0.601589 </th>\n",
        "      <td>  0.517310</td>\n",
        "      <td> 1.091959</td>\n",
        "      <td>  0.238953</td>\n",
        "      <td>  0.318910</td>\n",
        "    </tr>\n",
        "    <tr>\n",
        "      <th>0.651638 </th>\n",
        "      <td>  0.560353</td>\n",
        "      <td> 1.078853</td>\n",
        "      <td>  0.260558</td>\n",
        "      <td>  0.343572</td>\n",
        "    </tr>\n",
        "    <tr>\n",
        "      <th>0.701687 </th>\n",
        "      <td>  0.603397</td>\n",
        "      <td> 1.066857</td>\n",
        "      <td>  0.282303</td>\n",
        "      <td>  0.368105</td>\n",
        "    </tr>\n",
        "    <tr>\n",
        "      <th>0.751736 </th>\n",
        "      <td>  0.646441</td>\n",
        "      <td> 1.055808</td>\n",
        "      <td>  0.304177</td>\n",
        "      <td>  0.392519</td>\n",
        "    </tr>\n",
        "    <tr>\n",
        "      <th>0.801785 </th>\n",
        "      <td>  0.689487</td>\n",
        "      <td> 1.045576</td>\n",
        "      <td>  0.326172</td>\n",
        "      <td>  0.416824</td>\n",
        "    </tr>\n",
        "    <tr>\n",
        "      <th>0.851834 </th>\n",
        "      <td>  0.732533</td>\n",
        "      <td> 1.036054</td>\n",
        "      <td>  0.348282</td>\n",
        "      <td>  0.441026</td>\n",
        "    </tr>\n",
        "    <tr>\n",
        "      <th>0.901883 </th>\n",
        "      <td>  0.775580</td>\n",
        "      <td> 1.027156</td>\n",
        "      <td>  0.370501</td>\n",
        "      <td>  0.465131</td>\n",
        "    </tr>\n",
        "    <tr>\n",
        "      <th>0.951932 </th>\n",
        "      <td>  0.818627</td>\n",
        "      <td> 1.018809</td>\n",
        "      <td>  0.392822</td>\n",
        "      <td>  0.489146</td>\n",
        "    </tr>\n",
        "    <tr>\n",
        "      <th>1.001981 </th>\n",
        "      <td>  0.861676</td>\n",
        "      <td> 1.010952</td>\n",
        "      <td>  0.415241</td>\n",
        "      <td>  0.513076</td>\n",
        "    </tr>\n",
        "    <tr>\n",
        "      <th>1.052030 </th>\n",
        "      <td>  0.904725</td>\n",
        "      <td> 1.003536</td>\n",
        "      <td>  0.437754</td>\n",
        "      <td>  0.536924</td>\n",
        "    </tr>\n",
        "    <tr>\n",
        "      <th>1.102079 </th>\n",
        "      <td>  0.947775</td>\n",
        "      <td> 0.996515</td>\n",
        "      <td>  0.460356</td>\n",
        "      <td>  0.560696</td>\n",
        "    </tr>\n",
        "    <tr>\n",
        "      <th>1.152128 </th>\n",
        "      <td>  0.990826</td>\n",
        "      <td> 0.989852</td>\n",
        "      <td>  0.483043</td>\n",
        "      <td>  0.584395</td>\n",
        "    </tr>\n",
        "    <tr>\n",
        "      <th>1.202177 </th>\n",
        "      <td>  1.033878</td>\n",
        "      <td> 0.983515</td>\n",
        "      <td>  0.505813</td>\n",
        "      <td>  0.608025</td>\n",
        "    </tr>\n",
        "    <tr>\n",
        "      <th>1.252226 </th>\n",
        "      <td>  1.076930</td>\n",
        "      <td> 0.977474</td>\n",
        "      <td>  0.528662</td>\n",
        "      <td>  0.631588</td>\n",
        "    </tr>\n",
        "    <tr>\n",
        "      <th>1.302275 </th>\n",
        "      <td>  1.119983</td>\n",
        "      <td> 0.971705</td>\n",
        "      <td>  0.551587</td>\n",
        "      <td>  0.655087</td>\n",
        "    </tr>\n",
        "    <tr>\n",
        "      <th>1.352324 </th>\n",
        "      <td>  1.163038</td>\n",
        "      <td> 0.966186</td>\n",
        "      <td>  0.574586</td>\n",
        "      <td>  0.678525</td>\n",
        "    </tr>\n",
        "    <tr>\n",
        "      <th>1.402373 </th>\n",
        "      <td>  1.206093</td>\n",
        "      <td> 0.960898</td>\n",
        "      <td>  0.597655</td>\n",
        "      <td>  0.701905</td>\n",
        "    </tr>\n",
        "    <tr>\n",
        "      <th>1.452422 </th>\n",
        "      <td>  1.249148</td>\n",
        "      <td> 0.955823</td>\n",
        "      <td>  0.620793</td>\n",
        "      <td>  0.725228</td>\n",
        "    </tr>\n",
        "    <tr>\n",
        "      <th>...</th>\n",
        "      <td>...</td>\n",
        "      <td>...</td>\n",
        "      <td>...</td>\n",
        "      <td>...</td>\n",
        "    </tr>\n",
        "    <tr>\n",
        "      <th>48.548578</th>\n",
        "      <td> 47.782881</td>\n",
        "      <td> 0.626701</td>\n",
        "      <td> 28.025228</td>\n",
        "      <td> 21.466424</td>\n",
        "    </tr>\n",
        "    <tr>\n",
        "      <th>48.598627</th>\n",
        "      <td> 47.856867</td>\n",
        "      <td> 0.626869</td>\n",
        "      <td> 28.057248</td>\n",
        "      <td> 21.496718</td>\n",
        "    </tr>\n",
        "    <tr>\n",
        "      <th>48.648676</th>\n",
        "      <td> 47.931017</td>\n",
        "      <td> 0.627039</td>\n",
        "      <td> 28.089273</td>\n",
        "      <td> 21.527071</td>\n",
        "    </tr>\n",
        "    <tr>\n",
        "      <th>48.698725</th>\n",
        "      <td> 48.005333</td>\n",
        "      <td> 0.627209</td>\n",
        "      <td> 28.121305</td>\n",
        "      <td> 21.557486</td>\n",
        "    </tr>\n",
        "    <tr>\n",
        "      <th>48.748774</th>\n",
        "      <td> 48.079815</td>\n",
        "      <td> 0.627381</td>\n",
        "      <td> 28.153343</td>\n",
        "      <td> 21.587963</td>\n",
        "    </tr>\n",
        "    <tr>\n",
        "      <th>48.798823</th>\n",
        "      <td> 48.154466</td>\n",
        "      <td> 0.627554</td>\n",
        "      <td> 28.185387</td>\n",
        "      <td> 21.618502</td>\n",
        "    </tr>\n",
        "    <tr>\n",
        "      <th>48.848872</th>\n",
        "      <td> 48.229287</td>\n",
        "      <td> 0.627729</td>\n",
        "      <td> 28.217437</td>\n",
        "      <td> 21.649103</td>\n",
        "    </tr>\n",
        "    <tr>\n",
        "      <th>48.898921</th>\n",
        "      <td> 48.304279</td>\n",
        "      <td> 0.627905</td>\n",
        "      <td> 28.249494</td>\n",
        "      <td> 21.679767</td>\n",
        "    </tr>\n",
        "    <tr>\n",
        "      <th>48.948970</th>\n",
        "      <td> 48.379445</td>\n",
        "      <td> 0.628082</td>\n",
        "      <td> 28.281558</td>\n",
        "      <td> 21.710495</td>\n",
        "    </tr>\n",
        "    <tr>\n",
        "      <th>48.999019</th>\n",
        "      <td> 48.454784</td>\n",
        "      <td> 0.628260</td>\n",
        "      <td> 28.313628</td>\n",
        "      <td> 21.741288</td>\n",
        "    </tr>\n",
        "    <tr>\n",
        "      <th>49.049068</th>\n",
        "      <td> 48.530300</td>\n",
        "      <td> 0.628440</td>\n",
        "      <td> 28.345705</td>\n",
        "      <td> 21.772145</td>\n",
        "    </tr>\n",
        "    <tr>\n",
        "      <th>49.099117</th>\n",
        "      <td> 48.605993</td>\n",
        "      <td> 0.628621</td>\n",
        "      <td> 28.377788</td>\n",
        "      <td> 21.803067</td>\n",
        "    </tr>\n",
        "    <tr>\n",
        "      <th>49.149166</th>\n",
        "      <td> 48.681864</td>\n",
        "      <td> 0.628803</td>\n",
        "      <td> 28.409878</td>\n",
        "      <td> 21.834055</td>\n",
        "    </tr>\n",
        "    <tr>\n",
        "      <th>49.199215</th>\n",
        "      <td> 48.757917</td>\n",
        "      <td> 0.628987</td>\n",
        "      <td> 28.441975</td>\n",
        "      <td> 21.865110</td>\n",
        "    </tr>\n",
        "    <tr>\n",
        "      <th>49.249264</th>\n",
        "      <td> 48.834153</td>\n",
        "      <td> 0.629172</td>\n",
        "      <td> 28.474079</td>\n",
        "      <td> 21.896232</td>\n",
        "    </tr>\n",
        "    <tr>\n",
        "      <th>49.299313</th>\n",
        "      <td> 48.910573</td>\n",
        "      <td> 0.629359</td>\n",
        "      <td> 28.506189</td>\n",
        "      <td> 21.927422</td>\n",
        "    </tr>\n",
        "    <tr>\n",
        "      <th>49.349362</th>\n",
        "      <td> 48.987179</td>\n",
        "      <td> 0.629547</td>\n",
        "      <td> 28.538307</td>\n",
        "      <td> 21.958680</td>\n",
        "    </tr>\n",
        "    <tr>\n",
        "      <th>49.399411</th>\n",
        "      <td> 49.063971</td>\n",
        "      <td> 0.629736</td>\n",
        "      <td> 28.570432</td>\n",
        "      <td> 21.990006</td>\n",
        "    </tr>\n",
        "    <tr>\n",
        "      <th>49.449460</th>\n",
        "      <td> 49.140903</td>\n",
        "      <td> 0.629926</td>\n",
        "      <td> 28.602557</td>\n",
        "      <td> 22.021386</td>\n",
        "    </tr>\n",
        "    <tr>\n",
        "      <th>49.499510</th>\n",
        "      <td> 49.218053</td>\n",
        "      <td> 0.630118</td>\n",
        "      <td> 28.634693</td>\n",
        "      <td> 22.052845</td>\n",
        "    </tr>\n",
        "    <tr>\n",
        "      <th>49.549559</th>\n",
        "      <td> 49.295391</td>\n",
        "      <td> 0.630311</td>\n",
        "      <td> 28.666836</td>\n",
        "      <td> 22.084373</td>\n",
        "    </tr>\n",
        "    <tr>\n",
        "      <th>49.599608</th>\n",
        "      <td> 49.372918</td>\n",
        "      <td> 0.630506</td>\n",
        "      <td> 28.698986</td>\n",
        "      <td> 22.115971</td>\n",
        "    </tr>\n",
        "    <tr>\n",
        "      <th>49.649657</th>\n",
        "      <td> 49.450632</td>\n",
        "      <td> 0.630702</td>\n",
        "      <td> 28.731141</td>\n",
        "      <td> 22.147637</td>\n",
        "    </tr>\n",
        "    <tr>\n",
        "      <th>49.699706</th>\n",
        "      <td> 49.528536</td>\n",
        "      <td> 0.630900</td>\n",
        "      <td> 28.763304</td>\n",
        "      <td> 22.179374</td>\n",
        "    </tr>\n",
        "    <tr>\n",
        "      <th>49.749755</th>\n",
        "      <td> 49.606634</td>\n",
        "      <td> 0.631099</td>\n",
        "      <td> 28.795473</td>\n",
        "      <td> 22.211182</td>\n",
        "    </tr>\n",
        "    <tr>\n",
        "      <th>49.799804</th>\n",
        "      <td> 49.684927</td>\n",
        "      <td> 0.631299</td>\n",
        "      <td> 28.827648</td>\n",
        "      <td> 22.243062</td>\n",
        "    </tr>\n",
        "    <tr>\n",
        "      <th>49.849853</th>\n",
        "      <td> 49.763416</td>\n",
        "      <td> 0.631501</td>\n",
        "      <td> 28.859831</td>\n",
        "      <td> 22.275013</td>\n",
        "    </tr>\n",
        "    <tr>\n",
        "      <th>49.899902</th>\n",
        "      <td> 49.842100</td>\n",
        "      <td> 0.631704</td>\n",
        "      <td> 28.892020</td>\n",
        "      <td> 22.307037</td>\n",
        "    </tr>\n",
        "    <tr>\n",
        "      <th>49.949951</th>\n",
        "      <td> 49.920980</td>\n",
        "      <td> 0.631909</td>\n",
        "      <td> 28.924216</td>\n",
        "      <td> 22.339133</td>\n",
        "    </tr>\n",
        "    <tr>\n",
        "      <th>50.000000</th>\n",
        "      <td> 50.000000</td>\n",
        "      <td> 0.632115</td>\n",
        "      <td> 28.956412</td>\n",
        "      <td> 22.371282</td>\n",
        "    </tr>\n",
        "  </tbody>\n",
        "</table>\n",
        "<p>1000 rows \u00d7 4 columns</p>\n",
        "</div>"
       ],
       "metadata": {},
       "output_type": "pyout",
       "prompt_number": 43,
       "text": [
        "           firm productivity  firm size       wage     profit\n",
        "x                                                            \n",
        "0.001000            0.001067   3.549875   0.000232   0.001005\n",
        "0.051049            0.043892   1.585344   0.016516   0.032003\n",
        "0.101098            0.086925   1.429779   0.034621   0.060501\n",
        "0.151147            0.129960   1.345459   0.053521   0.088013\n",
        "0.201196            0.172995   1.288533   0.072958   0.114900\n",
        "0.251245            0.216032   1.245988   0.092806   0.141332\n",
        "0.301294            0.259069   1.212244   0.112987   0.167405\n",
        "0.351343            0.302107   1.184414   0.133450   0.193185\n",
        "0.401392            0.345146   1.160814   0.154158   0.218716\n",
        "0.451441            0.388186   1.140382   0.175083   0.244030\n",
        "0.501490            0.431227   1.122406   0.196201   0.269155\n",
        "0.551540            0.474268   1.106387   0.217496   0.294109\n",
        "0.601589            0.517310   1.091959   0.238953   0.318910\n",
        "0.651638            0.560353   1.078853   0.260558   0.343572\n",
        "0.701687            0.603397   1.066857   0.282303   0.368105\n",
        "0.751736            0.646441   1.055808   0.304177   0.392519\n",
        "0.801785            0.689487   1.045576   0.326172   0.416824\n",
        "0.851834            0.732533   1.036054   0.348282   0.441026\n",
        "0.901883            0.775580   1.027156   0.370501   0.465131\n",
        "0.951932            0.818627   1.018809   0.392822   0.489146\n",
        "1.001981            0.861676   1.010952   0.415241   0.513076\n",
        "1.052030            0.904725   1.003536   0.437754   0.536924\n",
        "1.102079            0.947775   0.996515   0.460356   0.560696\n",
        "1.152128            0.990826   0.989852   0.483043   0.584395\n",
        "1.202177            1.033878   0.983515   0.505813   0.608025\n",
        "1.252226            1.076930   0.977474   0.528662   0.631588\n",
        "1.302275            1.119983   0.971705   0.551587   0.655087\n",
        "1.352324            1.163038   0.966186   0.574586   0.678525\n",
        "1.402373            1.206093   0.960898   0.597655   0.701905\n",
        "1.452422            1.249148   0.955823   0.620793   0.725228\n",
        "...                      ...        ...        ...        ...\n",
        "48.548578          47.782881   0.626701  28.025228  21.466424\n",
        "48.598627          47.856867   0.626869  28.057248  21.496718\n",
        "48.648676          47.931017   0.627039  28.089273  21.527071\n",
        "48.698725          48.005333   0.627209  28.121305  21.557486\n",
        "48.748774          48.079815   0.627381  28.153343  21.587963\n",
        "48.798823          48.154466   0.627554  28.185387  21.618502\n",
        "48.848872          48.229287   0.627729  28.217437  21.649103\n",
        "48.898921          48.304279   0.627905  28.249494  21.679767\n",
        "48.948970          48.379445   0.628082  28.281558  21.710495\n",
        "48.999019          48.454784   0.628260  28.313628  21.741288\n",
        "49.049068          48.530300   0.628440  28.345705  21.772145\n",
        "49.099117          48.605993   0.628621  28.377788  21.803067\n",
        "49.149166          48.681864   0.628803  28.409878  21.834055\n",
        "49.199215          48.757917   0.628987  28.441975  21.865110\n",
        "49.249264          48.834153   0.629172  28.474079  21.896232\n",
        "49.299313          48.910573   0.629359  28.506189  21.927422\n",
        "49.349362          48.987179   0.629547  28.538307  21.958680\n",
        "49.399411          49.063971   0.629736  28.570432  21.990006\n",
        "49.449460          49.140903   0.629926  28.602557  22.021386\n",
        "49.499510          49.218053   0.630118  28.634693  22.052845\n",
        "49.549559          49.295391   0.630311  28.666836  22.084373\n",
        "49.599608          49.372918   0.630506  28.698986  22.115971\n",
        "49.649657          49.450632   0.630702  28.731141  22.147637\n",
        "49.699706          49.528536   0.630900  28.763304  22.179374\n",
        "49.749755          49.606634   0.631099  28.795473  22.211182\n",
        "49.799804          49.684927   0.631299  28.827648  22.243062\n",
        "49.849853          49.763416   0.631501  28.859831  22.275013\n",
        "49.899902          49.842100   0.631704  28.892020  22.307037\n",
        "49.949951          49.920980   0.631909  28.924216  22.339133\n",
        "50.000000          50.000000   0.632115  28.956412  22.371282\n",
        "\n",
        "[1000 rows x 4 columns]"
       ]
      }
     ],
     "prompt_number": 43
    },
    {
     "cell_type": "code",
     "collapsed": false,
     "input": [
      "solver.solution['firm size'].plot()"
     ],
     "language": "python",
     "metadata": {},
     "outputs": [
      {
       "metadata": {},
       "output_type": "pyout",
       "prompt_number": 45,
       "text": [
        "<matplotlib.axes._subplots.AxesSubplot at 0x113f3a490>"
       ]
      },
      {
       "metadata": {},
       "output_type": "display_data",
       "png": "[encoded data removed]",
       "text": [
        "<matplotlib.figure.Figure at 0x1141375d0>"
       ]
      }
     ],
     "prompt_number": 45
    },
    {
     "cell_type": "markdown",
     "metadata": {},
     "source": [
      "### Negative assortative matching"
     ]
    },
    {
     "cell_type": "code",
     "collapsed": false,
     "input": [
      "F_params = {'omega_A':0.5, 'omega_B':0.45, 'sigma_A':1.5, 'sigma_B':1.0}\n",
      "\n",
      "model = models.Model('negative',\n",
      "                     workers=workers,\n",
      "                     firms=firms,\n",
      "                     production=F,\n",
      "                     params=F_params)\n",
      "\n",
      "solver = solvers.ShootingSolver(model=model)"
     ],
     "language": "python",
     "metadata": {},
     "outputs": [],
     "prompt_number": 197
    },
    {
     "cell_type": "code",
     "collapsed": false,
     "input": [
      "solver.solve(1e3, tol=1e-6, number_knots=1000, atol=1e-12, rtol=1e-9)"
     ],
     "language": "python",
     "metadata": {},
     "outputs": [
      {
       "output_type": "stream",
       "stream": "stdout",
       "text": [
        "Exhausted firms: initial guess of 500.0 for firm size is too low.\n",
        "Exhausted workers: initial guess of 750.0 for firm size is too high!"
       ]
      },
      {
       "output_type": "stream",
       "stream": "stdout",
       "text": [
        "\n",
        "Exhausted firms: initial guess of 625.0 for firm size is too low."
       ]
      },
      {
       "output_type": "stream",
       "stream": "stdout",
       "text": [
        "\n",
        "Exhausted firms: initial guess of 687.5 for firm size is too low."
       ]
      },
      {
       "output_type": "stream",
       "stream": "stdout",
       "text": [
        "\n",
        "Exhausted workers: initial guess of 718.75 for firm size is too high!"
       ]
      },
      {
       "output_type": "stream",
       "stream": "stdout",
       "text": [
        "\n",
        "Exhausted workers: initial guess of 703.125 for firm size is too high!"
       ]
      },
      {
       "output_type": "stream",
       "stream": "stdout",
       "text": [
        "\n",
        "Exhausted firms: initial guess of 695.3125 for firm size is too low."
       ]
      },
      {
       "output_type": "stream",
       "stream": "stdout",
       "text": [
        "\n",
        "Exhausted workers: initial guess of 699.21875 for firm size is too high!"
       ]
      },
      {
       "output_type": "stream",
       "stream": "stdout",
       "text": [
        "\n",
        "Exhausted firms: initial guess of 697.265625 for firm size is too low."
       ]
      },
      {
       "output_type": "stream",
       "stream": "stdout",
       "text": [
        "\n",
        "Exhausted workers: initial guess of 698.2421875 for firm size is too high!"
       ]
      },
      {
       "output_type": "stream",
       "stream": "stdout",
       "text": [
        "\n",
        "Exhausted workers: initial guess of 697.75390625 for firm size is too high!"
       ]
      },
      {
       "output_type": "stream",
       "stream": "stdout",
       "text": [
        "\n",
        "Exhausted firms: initial guess of 697.509765625 for firm size is too low."
       ]
      },
      {
       "output_type": "stream",
       "stream": "stdout",
       "text": [
        "\n",
        "Exhausted workers: initial guess of 697.631835938 for firm size is too high!"
       ]
      },
      {
       "output_type": "stream",
       "stream": "stdout",
       "text": [
        "\n",
        "Exhausted workers: initial guess of 697.570800781 for firm size is too high!"
       ]
      },
      {
       "output_type": "stream",
       "stream": "stdout",
       "text": [
        "\n",
        "Exhausted workers: initial guess of 697.540283203 for firm size is too high!"
       ]
      },
      {
       "output_type": "stream",
       "stream": "stdout",
       "text": [
        "\n",
        "Exhausted workers: initial guess of 697.525024414 for firm size is too high!"
       ]
      },
      {
       "output_type": "stream",
       "stream": "stdout",
       "text": [
        "\n",
        "Exhausted firms: initial guess of 697.51739502 for firm size is too low."
       ]
      },
      {
       "output_type": "stream",
       "stream": "stdout",
       "text": [
        "\n",
        "Exhausted workers: initial guess of 697.521209717 for firm size is too high!"
       ]
      },
      {
       "output_type": "stream",
       "stream": "stdout",
       "text": [
        "\n",
        "Exhausted firms: initial guess of 697.519302368 for firm size is too low."
       ]
      },
      {
       "output_type": "stream",
       "stream": "stdout",
       "text": [
        "\n",
        "Exhausted firms: initial guess of 697.520256042 for firm size is too low."
       ]
      },
      {
       "output_type": "stream",
       "stream": "stdout",
       "text": [
        "\n",
        "Exhausted firms: initial guess of 697.52073288 for firm size is too low."
       ]
      },
      {
       "output_type": "stream",
       "stream": "stdout",
       "text": [
        "\n",
        "Exhausted workers: initial guess of 697.520971298 for firm size is too high!"
       ]
      },
      {
       "output_type": "stream",
       "stream": "stdout",
       "text": [
        "\n",
        "Exhausted firms: initial guess of 697.520852089 for firm size is too low."
       ]
      },
      {
       "output_type": "stream",
       "stream": "stdout",
       "text": [
        "\n",
        "Exhausted workers: initial guess of 697.520911694 for firm size is too high!"
       ]
      },
      {
       "output_type": "stream",
       "stream": "stdout",
       "text": [
        "\n",
        "Exhausted workers: initial guess of 697.520881891 for firm size is too high!"
       ]
      },
      {
       "output_type": "stream",
       "stream": "stdout",
       "text": [
        "\n",
        "Exhausted firms: initial guess of 697.52086699 for firm size is too low."
       ]
      },
      {
       "output_type": "stream",
       "stream": "stdout",
       "text": [
        "\n",
        "Exhausted workers: initial guess of 697.520874441 for firm size is too high!"
       ]
      },
      {
       "output_type": "stream",
       "stream": "stdout",
       "text": [
        "\n",
        "Exhausted firms: initial guess of 697.520870715 for firm size is too low."
       ]
      },
      {
       "output_type": "stream",
       "stream": "stdout",
       "text": [
        "\n",
        "Exhausted firms: initial guess of 697.520872578 for firm size is too low."
       ]
      },
      {
       "output_type": "stream",
       "stream": "stdout",
       "text": [
        "\n",
        "Exhausted workers: initial guess of 697.520873509 for firm size is too high!"
       ]
      },
      {
       "output_type": "stream",
       "stream": "stdout",
       "text": [
        "\n",
        "Exhausted firms: initial guess of 697.520873044 for firm size is too low."
       ]
      },
      {
       "output_type": "stream",
       "stream": "stdout",
       "text": [
        "\n",
        "Exhausted workers: initial guess of 697.520873277 for firm size is too high!"
       ]
      },
      {
       "output_type": "stream",
       "stream": "stdout",
       "text": [
        "\n",
        "Exhausted firms: initial guess of 697.52087316 for firm size is too low."
       ]
      },
      {
       "output_type": "stream",
       "stream": "stdout",
       "text": [
        "\n",
        "Exhausted firms: initial guess of 697.520873218 for firm size is too low."
       ]
      },
      {
       "output_type": "stream",
       "stream": "stdout",
       "text": [
        "\n",
        "Exhausted firms: initial guess of 697.520873247 for firm size is too low."
       ]
      },
      {
       "output_type": "stream",
       "stream": "stdout",
       "text": [
        "\n",
        "Exhausted firms: Initial guess of 697.520873262 for firm size was too low!"
       ]
      },
      {
       "output_type": "stream",
       "stream": "stdout",
       "text": [
        "\n",
        "Exhausted firms: Initial guess of 697.520873269 for firm size was too low!"
       ]
      },
      {
       "output_type": "stream",
       "stream": "stdout",
       "text": [
        "\n",
        "Exhausted workers: initial guess of 697.520873273 for firm size is too high!"
       ]
      },
      {
       "output_type": "stream",
       "stream": "stdout",
       "text": [
        "\n",
        "Exhausted firms: Initial guess of 697.520873271 for firm size was too low!"
       ]
      },
      {
       "output_type": "stream",
       "stream": "stdout",
       "text": [
        "\n",
        "Exhausted firms: Initial guess of 697.520873272 for firm size was too low!"
       ]
      },
      {
       "output_type": "stream",
       "stream": "stdout",
       "text": [
        "\n",
        "Exhausted firms: Initial guess of 697.520873272 for firm size was too low!"
       ]
      },
      {
       "output_type": "stream",
       "stream": "stdout",
       "text": [
        "\n",
        "Exhausted workers: initial guess of 697.520873273 for firm size is too high!"
       ]
      },
      {
       "output_type": "stream",
       "stream": "stdout",
       "text": [
        "\n",
        "Exhausted firms: Initial guess of 697.520873273 for firm size was too low!"
       ]
      },
      {
       "output_type": "stream",
       "stream": "stdout",
       "text": [
        "\n",
        "Exhausted firms: Initial guess of 697.520873273 for firm size was too low!"
       ]
      },
      {
       "output_type": "stream",
       "stream": "stdout",
       "text": [
        "\n",
        "Success! All workers and firms are matched"
       ]
      },
      {
       "output_type": "stream",
       "stream": "stdout",
       "text": [
        "\n"
       ]
      }
     ],
     "prompt_number": 198
    },
    {
     "cell_type": "code",
     "collapsed": false,
     "input": [
      "solver.solution"
     ],
     "language": "python",
     "metadata": {},
     "outputs": [
      {
       "metadata": {},
       "output_type": "pyout",
       "prompt_number": 199,
       "text": [
        "array([[  1.00000000e-04,   5.00000000e+01,   6.97520873e+02,\n",
        "          7.96982563e-02,   6.79447968e+01],\n",
        "       [  1.00200000e-01,   4.38421936e+01,   2.76462641e+02,\n",
        "          1.62305818e-01,   5.48429383e+01],\n",
        "       [  2.00300000e-01,   3.01915720e+01,   1.25086665e+02,\n",
        "          1.99932868e-01,   3.05664771e+01],\n",
        "       ..., \n",
        "       [  9.97998000e+01,   2.00562063e-02,   4.40863126e-04,\n",
        "          4.66712075e+02,   2.51479732e-01],\n",
        "       [  9.98999000e+01,   1.70657087e-02,   4.33023425e-04,\n",
        "          4.67696609e+02,   2.47528829e-01],\n",
        "       [  1.00000000e+02,   9.99753364e-04,   3.61574332e-04,\n",
        "          4.68687387e+02,   2.07124291e-01]])"
       ]
      }
     ],
     "prompt_number": 199
    },
    {
     "cell_type": "code",
     "collapsed": false,
     "input": [
      "plt.plot(solver.solution[:, 0], solver.solution[:, 2])\n",
      "plt.xscale('log')\n",
      "plt.yscale('log')\n",
      "plt.show()"
     ],
     "language": "python",
     "metadata": {},
     "outputs": [
      {
       "metadata": {},
       "output_type": "display_data",
       "png": "[encoded data removed]",
       "text": [
        "<matplotlib.figure.Figure at 0x10de21b10>"
       ]
      }
     ],
     "prompt_number": 200
    },
    {
     "cell_type": "markdown",
     "metadata": {},
     "source": [
      "# Example:\n",
      "\n",
      "More sophisticated production function that is not multiplicatively separable..."
     ]
    },
    {
     "cell_type": "code",
     "collapsed": false,
     "input": [
      "# define some workers skill\n",
      "x, mu1, sigma1 = sym.var('x, mu1, sigma1')\n",
      "skill_cdf = 0.5 + 0.5 * sym.erf((sym.log(x) - mu1) / sym.sqrt(2 * sigma1**2))\n",
      "skill_params = {'mu1': 0.0, 'sigma1': 1e0}\n",
      "skill_bounds = [1e-3, 50.0]\n",
      "\n",
      "workers = inputs.Input(var=x,\n",
      "                       cdf=skill_cdf,\n",
      "                       params=skill_params,\n",
      "                       bounds=skill_bounds,\n",
      "                       )\n",
      "\n",
      "# define some firms\n",
      "y, mu2, sigma2 = sym.var('y, mu2, sigma2')\n",
      "productivity_cdf = 0.5 + 0.5 * sym.erf((sym.log(y) - mu2) / sym.sqrt(2 * sigma2**2))\n",
      "productivity_params = {'mu2': 0.0, 'sigma2': 1e0}\n",
      "productivity_bounds = [1e-3, 50.0]\n",
      "\n",
      "firms = inputs.Input(var=y,\n",
      "                     cdf=productivity_cdf,\n",
      "                     params=productivity_params,\n",
      "                     bounds=productivity_bounds,\n",
      "                     )\n",
      "\n",
      "# define some valid model params\n",
      "F_params = {'eta': 0.89, 'kappa': 1.0, 'gamma': 0.54, 'rho': 0.24, 'A': 1.0, 'k': 1.0}\n",
      "\n",
      "# define a valid production function\n",
      "A, k, kappa, eta, rho, l, gamma, r = sym.var('A, k, kappa, eta, rho, l, gamma, r')\n",
      "F = r * A * kappa * eta * ((k * x)**rho + (1 - eta) * (y * (l / r))**rho)**(gamma / rho)\n",
      "\n",
      "model = models.Model('negative',\n",
      "                     workers=workers,\n",
      "                     firms=firms,\n",
      "                     production=F,\n",
      "                     params=F_params)"
     ],
     "language": "python",
     "metadata": {},
     "outputs": [],
     "prompt_number": 106
    },
    {
     "cell_type": "code",
     "collapsed": false,
     "input": [
      "solver = solvers.ShootingSolver(model=model)"
     ],
     "language": "python",
     "metadata": {},
     "outputs": [],
     "prompt_number": 108
    },
    {
     "cell_type": "code",
     "collapsed": false,
     "input": [
      "solver.solve(1e0, tol=1e-4, number_knots=10000, integrator='vode',\n",
      "             atol=1e-9, rtol=1e-6, check=True)"
     ],
     "language": "python",
     "metadata": {},
     "outputs": [
      {
       "output_type": "stream",
       "stream": "stdout",
       "text": [
        "Exhausted firms: initial guess of 0.5 for firm size is too low.\n"
       ]
      }
     ],
     "prompt_number": 109
    },
    {
     "cell_type": "code",
     "collapsed": false,
     "input": [
      "solver.integrator.successful()"
     ],
     "language": "python",
     "metadata": {},
     "outputs": [
      {
       "metadata": {},
       "output_type": "pyout",
       "prompt_number": 110,
       "text": [
        "False"
       ]
      }
     ],
     "prompt_number": 110
    },
    {
     "cell_type": "code",
     "collapsed": false,
     "input": [
      "solver._solution"
     ],
     "language": "python",
     "metadata": {},
     "outputs": [
      {
       "metadata": {},
       "output_type": "pyout",
       "prompt_number": 111,
       "text": [
        "array([[  1.00000000e-03,   5.00000000e+01,   7.50000000e-01,\n",
        "          6.25292214e-02,   1.02985470e-01],\n",
        "       [  6.00040004e-03,   4.91355141e+01,   2.93698995e-02,\n",
        "          6.50895813e-01,   1.02614135e-01],\n",
        "       [  1.10008001e-02,   1.87728995e+01,   6.10881218e-04,\n",
        "          8.73207163e+00,   9.34543423e-02],\n",
        "       [  1.34286568e-02,   2.61227847e+06,   1.98653860e+04,\n",
        "          1.04151668e-01,   1.79568793e+03]])"
       ]
      }
     ],
     "prompt_number": 111
    },
    {
     "cell_type": "code",
     "collapsed": false,
     "input": [
      "integrat"
     ],
     "language": "python",
     "metadata": {},
     "outputs": [
      {
       "metadata": {},
       "output_type": "pyout",
       "prompt_number": 46,
       "text": [
        "50.0"
       ]
      }
     ],
     "prompt_number": 46
    },
    {
     "cell_type": "code",
     "collapsed": false,
     "input": [],
     "language": "python",
     "metadata": {},
     "outputs": []
    }
   ],
   "metadata": {}
  }
 ]
}